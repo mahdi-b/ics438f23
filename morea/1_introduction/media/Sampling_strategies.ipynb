{
 "cells": [
  {
   "cell_type": "markdown",
   "id": "d59d3905",
   "metadata": {},
   "source": [
    "### Sampling\n",
    "\n",
    "* There are instances where using the entire dataset is unfeasible, unpractical or costly\n",
    "\n",
    "* It's often possible to explore or work on a subset of the data and run only once, if needed, on the complete dataset.\n",
    "\n",
    "* Sampling consists of selecting a subset of the instances in a dataset as a proxy for the whole dataset\n",
    "* In statistical terms, the original data set is known as the population, while the subset is known as a sample. \n",
    "\n",
    "* Sampling comes in several flavors and produces a smaller representation of the data that can be processed more efficiently\n"
   ]
  },
  {
   "cell_type": "markdown",
   "id": "653af2f3",
   "metadata": {},
   "source": [
    "### Sampling\n",
    "\n",
    "![](https://www.dropbox.com/s/vzr0w2cvx6b5bm0/sampling.png?dl=1)\n",
    "\n"
   ]
  },
  {
   "cell_type": "markdown",
   "id": "42b2552e",
   "metadata": {},
   "source": [
    "### Representing Data \n",
    "\n",
    "* When working with data, a unit of observation, or simply observation, is the unit described by the data to be analyzed\n",
    "  * Observations are often referred to as data points (or simply points), instances, or simply instances.\n",
    "    \n",
    "* Given a dataset with D-variables, a data point is often viewed as points in a D-dimensional Euclidean space\n",
    "  * Example, data with two variables is data in two dimensions.\n",
    "\n",
    "\n",
    "<img src=\"https://www.dropbox.com/s/t0ca5t1qzkr635b/2d-data.png?dl=1\" alt=\"Drawing\" width=\"700px;\"/>\n"
   ]
  },
  {
   "cell_type": "markdown",
   "id": "20ef0135",
   "metadata": {},
   "source": [
    "### Representing Data  -- Example\n",
    "<img src=\"https://www.dropbox.com/s/sy00s9t8bq0wbxb/data_2d.png?dl=1\" alt=\"Drawing\" width=\"900px;\"/>\n"
   ]
  },
  {
   "cell_type": "markdown",
   "id": "725ef807",
   "metadata": {},
   "source": [
    "### Representing Data  -- Higher Dimensional Space\n",
    "\n",
    "<img src=\"https://www.dropbox.com/s/4flfaojlfb2a101/3d-data.png?dl=1\" alt=\"Drawing\" style=\"width: 700px;\"/>"
   ]
  },
  {
   "cell_type": "markdown",
   "id": "3dcfaed9",
   "metadata": {},
   "source": [
    "### Sampling Strategies\n",
    "\n",
    "* Various ideas can be used for samples. \n",
    "  * Ex. By selecting the first half of the data and discarding the second half\n",
    "    * Replace half with any fraction\n",
    "      * Clearly not a wise idea, especially if the data is organized according to some attribute\n",
    "       * e.g.: the first half consists of males and the second half of females\n",
    "  * The above is a poor strategy because it uses something arbitrary\n",
    "   * position in a list\n",
    "\n",
    "* The following introduces a non-exhaustive list of sampling strategies commonly used to reduce the size of a dataset\n",
    "   * Those are used exclusively with tall data"
   ]
  },
  {
   "cell_type": "markdown",
   "id": "d8b10dfd",
   "metadata": {},
   "source": [
    "### Random Subsample\n",
    "\n",
    "* Takes in a list/collection and returns random sub-samples\n",
    "* Each item has an equal probability of being picked\n",
    "* Ideal when data is:\n",
    "  * Balanced relatively equal category proportions\n",
    "  * We don't care about missing edge cases"
   ]
  },
  {
   "cell_type": "code",
   "execution_count": 15,
   "id": "3c5e3c57",
   "metadata": {},
   "outputs": [
    {
     "data": {
      "text/plain": [
       "[4, 1]"
      ]
     },
     "execution_count": 15,
     "metadata": {},
     "output_type": "execute_result"
    }
   ],
   "source": [
    "import random\n",
    "random.sample([1,2,3,4,5], 2)"
   ]
  },
  {
   "cell_type": "markdown",
   "id": "3ff80728",
   "metadata": {},
   "source": [
    "### Subsampling \n",
    "\n",
    "* In some cases, we may want to explicitly select samples from all categories\n",
    "\n",
    "![](https://www.dropbox.com/s/ld7kps6aq47jq8p/airport_obs.png?dl=1)\n",
    "\n",
    "* Example, the objective is to carry out some analysis on a certain number of cities\n",
    "\n",
    "* Other examples?"
   ]
  },
  {
   "cell_type": "markdown",
   "id": "8bcd07a0",
   "metadata": {},
   "source": [
    "### Stratified Random Sampling\n",
    "\n",
    "* The previous idea is referred to as stratified random sampling\n",
    "  * Used when data can clearly be associated with a subgroup.  \n",
    "  * Ensures that the \"distribution\" of values for a particular feature within the sample matches the distribution of values for the same feature in the overall population. \n",
    "\n",
    "* Allows you to: \n",
    "    * maintains the structure of the population\n",
    "\n",
    "\n",
    "![](https://www.dropbox.com/s/dq2wkc2l844857m/Screen%20Shot%202022-08-24%20at%204.19.11%20PM.png?dl=1)"
   ]
  },
  {
   "cell_type": "markdown",
   "id": "65edd13c",
   "metadata": {},
   "source": [
    "### Stratified Random Sampling - Cont'd\n",
    "\n",
    "* Instances in the population are first divided into homogenous subgroups known as strata\n",
    "* The number of elements selected in each stratum is proportional to the size of the stratum\n",
    "  * Thus maintaining the structure\n"
   ]
  },
  {
   "cell_type": "markdown",
   "id": "f90a2aa5",
   "metadata": {},
   "source": [
    "### Subsampling \n",
    "\n",
    "* The previous approach required each instance to fall into predetermined strata\n",
    "\n",
    "* What if strata information is not readily available?\n",
    "\n",
    "* We could assign the data to hypothetical trata\n",
    "   * This is called clustering and will be covered later in the course\n",
    "   * Clustering identified clusters (lumps) of data where data points are very similar and where \n",
    "     * Ideally points are very dissimilar across clusters."
   ]
  },
  {
   "cell_type": "markdown",
   "id": "80c3d083",
   "metadata": {},
   "source": [
    "### Representation of an Observation\n",
    "\n",
    "* Recall that data points can be represented as a point in high-dimensional space\n",
    "\n",
    "<img src=\"https://www.dropbox.com/s/jbriqx9i7jyloyl/data_clusts_1.png?dl=1\" alt=\"drawing\" width=\"500\"/>\n",
    "\n"
   ]
  },
  {
   "cell_type": "markdown",
   "id": "83ad6fc4",
   "metadata": {},
   "source": [
    "### Identifying Clusters\n",
    "\n",
    "<img src=\"https://www.dropbox.com/s/jb81jew9hyf44pp/data_clusts_2.png?dl=1\" alt=\"drawing\" width=\"500\"/>\n",
    "\n",
    "\n"
   ]
  },
  {
   "cell_type": "markdown",
   "id": "f0efdd94",
   "metadata": {},
   "source": [
    "### Cluster-Based Sampling \n",
    "\n",
    "<img src=\"https://www.dropbox.com/s/bkd32khr1q8dfhx/before_after.png?dl=1\" alt=\"drawing\" width=\"500\"/>\n"
   ]
  },
  {
   "cell_type": "markdown",
   "id": "45f76f2b",
   "metadata": {},
   "source": [
    "### Cluster-Based Sampling\n",
    "\n",
    "* Pros\n",
    "  * Computationally efficient once clusters are established\n",
    "  * Can be used to retain points close to centers or edge cases\n",
    "\n",
    "* Cons\n",
    "  * Number of strata can be difficult to guess\n",
    "  * Big data can contain noisy observations and outliers that can affect the algorithm\n",
    "  * Can result in loss of cluster shape\n",
    "    * may make further data analysis complex (e.g., difficult to cluster)\n"
   ]
  },
  {
   "cell_type": "markdown",
   "id": "9f32206c",
   "metadata": {},
   "source": [
    "### Kernel-Based Importance Sampling \n",
    "\n",
    "* Select with probability inversely proportional to the cluster center\n",
    "\n",
    "<img src=\"https://www.dropbox.com/s/ncrusv71mylkat8/dist_to_center.png?dl=1\" alt=\"drawing\" width=\"700\"/>\n"
   ]
  },
  {
   "cell_type": "markdown",
   "id": "7cf6e72d",
   "metadata": {},
   "source": [
    "### Weighted Density Sampling\n",
    "\n",
    "* Weighted density sampling is a method to discard events based on their local density. \n",
    "\n",
    "* The probability that a data point will be sampled is based on the local density; i.e., density around that data point.\n",
    "\n",
    "* Local density is defined as the number of data points within a given radius of the point. \n",
    "\n",
    "  * The radius used is typically a user-defined parameter  \n",
    "\n",
    "* Some memory-efficient algorithm can approximate the local density using a single scan of the data"
   ]
  },
  {
   "cell_type": "markdown",
   "id": "02e14162",
   "metadata": {},
   "source": [
    "### Hash-Based (Projection-Based) Sampling\n",
    "\n",
    "* Divide the data into grid cells and select a number of points per cell\n",
    "  It is possible to choose a fixed number of points or to select points based on some cell-specific criteria\n",
    "\n",
    "\n",
    "![](https://www.dropbox.com/s/nijshpr93rth8fn/grid.png?dl=1)"
   ]
  },
  {
   "cell_type": "markdown",
   "id": "3811c3a2",
   "metadata": {},
   "source": [
    "### Random Projections: An intuition\n",
    "\n",
    "* Given some randomly selected line, project a point so that the projection is perpendicular to that line\n",
    "\n",
    "* Two points that are close in higher dimensional space will also be close on the line with high probability\n",
    "\n",
    "\n"
   ]
  },
  {
   "cell_type": "markdown",
   "id": "53920acf",
   "metadata": {},
   "source": [
    "### Projecting Onto Vector\n",
    "\n",
    "<img src=\"https://www.dropbox.com/s/wdiqdrphg0wzhmi/a_b_projected.png?dl=1\" alt=\"drawing\" width=\"600\"/>\n"
   ]
  },
  {
   "cell_type": "markdown",
   "id": "b028eecc",
   "metadata": {},
   "source": [
    "### Normalizing by the Vector Size\n",
    "<img src=\"https://www.dropbox.com/s/bqaeehgtvm9c9ga/a_b_line.png?dl=1\" alt=\"drawing\" width=\"800\"/>\n"
   ]
  },
  {
   "cell_type": "markdown",
   "id": "debbbc3c",
   "metadata": {},
   "source": [
    "### Project on New Orthogonal Vectors\n",
    "\n",
    "<img src=\"https://www.dropbox.com/s/wf0nh45do2193i8/a_b_vec_2.png?dl=1\" alt=\"drawing\" width=\"800\"/>\n"
   ]
  },
  {
   "cell_type": "markdown",
   "id": "ef8366c1",
   "metadata": {},
   "source": [
    "### Convert to New Space (Grid)\n",
    "\n",
    "\n",
    "<img src=\"https://www.dropbox.com/s/ggohljkopdi6l6n/a_b_new_space.png?dl=1\" alt=\"drawing\" width=\"800\"/>\n",
    "\n"
   ]
  },
  {
   "cell_type": "markdown",
   "id": "0010ae54",
   "metadata": {},
   "source": [
    "## Similarity Preserving Projection Based Approach\n",
    "\n",
    "Pros: \n",
    "* Some theoretical guarantees that pointly close in high dimensional space will be assigned to the same grid elements (buckets)\n",
    "  * [See](https://en.wikipedia.org/wiki/Johnson%E2%80%93Lindenstrauss_lemma)\n",
    "  * Approach similar to locality sensitive hashing or locating preserving hashing\n",
    "    [See](https://en.wikipedia.org/wiki/Locality-sensitive_hashing)\n",
    "\n",
    "* Computationally efficient\n",
    "  * Can be easily/quickly computed on GPUs\n",
    "* Works well with wide data\n",
    "\n",
    "Cons:\n",
    "  * Probabilistic in nature: infinite number of possible grids to choose from\n",
    "  * While we select a 2-D grid, depending on the dimension of the data, grids in much higher dimensional space need to be used\n",
    "  * Labor intensive to assess quality of resulting bins.\n",
    "\n",
    "  \n"
   ]
  },
  {
   "cell_type": "markdown",
   "id": "411aa67c",
   "metadata": {},
   "source": [
    "### Projection as a Dot Product\n",
    "\n",
    "\n",
    "* How do you project a point onto a new axis?\n",
    " \n",
    "* The dot product (or inner product) of two vectors is the projection of one onto the line spanned by the other.\n",
    "\n",
    "* It describes the projected vector in terms of the reference vector\n",
    "  * After normalizing, we get a quantity that represents the magnitude of the projected vector in terms of the reference vector\n",
    "\n",
    "$$\n",
    "Proj_B~A = \\frac{A \\cdot B}{|B|},\n",
    "$$\n",
    "where $A \\cdot B$ is simply the dot product of A and B.\n",
    "\n",
    "\n",
    "$$\n",
    "A \\cdot B = \\sum_i^n{A_i \\times B_i },\n",
    "$$\n",
    "\n",
    "\n",
    "where $n$ is the dimension of $A$ and $B$ and $|B|$ is the magniture of $B$ and computed as: \n",
    "\n",
    "  * $|B| = \\sqrt{\\sum{B_i^2}}$\n",
    "\n",
    "* The numerator is needed to normalize the resulting quantity (express it in terms of vector B)\n"
   ]
  },
  {
   "cell_type": "code",
   "execution_count": 12,
   "id": "467aa56f",
   "metadata": {},
   "outputs": [
    {
     "name": "stdout",
     "output_type": "stream",
     "text": [
      "The magnitude of B is: 5.385164807134504\n",
      "The magnitude of the projection  4.270992778072193\n",
      "The ratio of the projection in terms of B is 0.7931034482758621\n"
     ]
    }
   ],
   "source": [
    "import math\n",
    "\n",
    "# compute the normalized projection of A onto B.\n",
    "A = (3,4)\n",
    "B = (5,2)\n",
    "\n",
    "A_dot_B = A[0]*B[0] + A[1]*B[1]\n",
    "amp_B = math.sqrt(B[0]**2 + B[1]**2)\n",
    "print(f\"The magnitude of B is: {amp_B}\")\n",
    "proj = A_dot_B / amp_B\n",
    "print (f\"The magnitude of the projection  {proj}\")\n",
    "\n",
    "print(f\"The ratio of the projection in terms of B is {proj/amp_B}\")"
   ]
  },
  {
   "cell_type": "markdown",
   "id": "15ba1d4f",
   "metadata": {},
   "source": [
    "\n",
    "<img src=\"https://www.dropbox.com/s/ggohljkopdi6l6n/a_b_new_space.png?dl=1\" alt=\"drawing\" width=\"800\"/>\n"
   ]
  },
  {
   "cell_type": "code",
   "execution_count": 13,
   "id": "129d89a7",
   "metadata": {},
   "outputs": [
    {
     "name": "stdout",
     "output_type": "stream",
     "text": [
      "The magnitude of D is: 4.47213595499958\n",
      "\n",
      "The magnitude of the projection  4.427414595449584\n",
      "The ratio of the projection in terms of D is 0.99\n",
      "Projection occurs in bin 1 \n",
      "\n",
      "The magnitude of the projection  7.602631123499284\n",
      "The ratio of the projection in terms of D is 1.6999999999999997\n",
      "Projection occurs in bin 2 \n",
      "\n",
      "The magnitude of the projection  8.497058314499201\n",
      "The ratio of the projection in terms of D is 1.9\n",
      "Projection occurs in bin 2 \n",
      "\n"
     ]
    }
   ],
   "source": [
    "### Projection as a Dot Product\n",
    "\n",
    "A = (0.95, 8)\n",
    "B = (5,7)\n",
    "C = (6,5)\n",
    "D = (4,2)\n",
    "\n",
    "amp_D = math.sqrt(D[0]**2 + D[1]**2)\n",
    "print(f\"The magnitude of D is: {amp_D}\\n\")\n",
    "\n",
    "\n",
    "A_dot_D = A[0]*D[0] + A[1]*D[1]\n",
    "proj_A = A_dot_D / amp_D\n",
    "print (f\"The magnitude of the projection  {proj_A}\")\n",
    "print(f\"The ratio of the projection in terms of D is {proj_A/amp_D}\")\n",
    "print(f\"Projection occurs in bin {math.ceil(proj_A/amp_D)} \\n\")\n",
    "\n",
    "\n",
    "B_dot_D = B[0]*D[0] + B[1]*D[1]\n",
    "proj_B = B_dot_D / amp_D\n",
    "print (f\"The magnitude of the projection  {proj_B}\")\n",
    "print(f\"The ratio of the projection in terms of D is {proj_B/amp_D}\")\n",
    "print(f\"Projection occurs in bin {math.ceil(proj_B/amp_D)} \\n\")\n",
    "\n",
    "\n",
    "C_dot_D = C[0]*D[0] + B[1]*D[1]\n",
    "proj_C = C_dot_D / amp_D\n",
    "print (f\"The magnitude of the projection  {proj_C}\")\n",
    "print(f\"The ratio of the projection in terms of D is {proj_C/amp_D}\")\n",
    "print(f\"Projection occurs in bin {math.ceil(proj_C/amp_D)} \\n\")\n"
   ]
  },
  {
   "cell_type": "markdown",
   "id": "ff3cb29a",
   "metadata": {},
   "source": [
    "### Time Series\n",
    "\n",
    "* A time series is a collection of data points indexed in a time order. \n",
    "* A great deal of big data is available in the form of time series\n",
    "\n",
    "<img src=\"https://www.dropbox.com/s/2lv0jdplyv6tyfa/stock_value.png?dl=1\" alt=\"drawing\" width=\"800\"/>\n",
    "\n"
   ]
  },
  {
   "cell_type": "markdown",
   "id": "8e8d3fcf",
   "metadata": {},
   "source": [
    "### Sampling from Time Series\n",
    "\n",
    "* Some commonly used strategies\n",
    "  * Random: select every x (random) time point\n",
    "  * Subsample ever k records\n",
    "  * Splits time series data into sections or \"buckets\", then takes equal samples from each bucket.\n",
    "    * bucket is hourly or daily, for example\n",
    "  * Use a sliding window and use strategy to pick points. For example:\n",
    "    * Select points randomly using distance from the mean in the window\n",
    "    * Select a fixed number of points per window,\n",
    "    * etc."
   ]
  }
 ],
 "metadata": {
  "kernelspec": {
   "display_name": "Python 3 (ipykernel)",
   "language": "python",
   "name": "python3"
  },
  "language_info": {
   "codemirror_mode": {
    "name": "ipython",
    "version": 3
   },
   "file_extension": ".py",
   "mimetype": "text/x-python",
   "name": "python",
   "nbconvert_exporter": "python",
   "pygments_lexer": "ipython3",
   "version": "3.8.13"
  }
 },
 "nbformat": 4,
 "nbformat_minor": 5
}
