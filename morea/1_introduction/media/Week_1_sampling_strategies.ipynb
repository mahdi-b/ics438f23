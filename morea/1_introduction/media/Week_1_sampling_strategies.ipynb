{
 "cells": [
  {
   "cell_type": "markdown",
   "id": "d59d3905",
   "metadata": {},
   "source": [
    "### Sampling\n",
    "\n",
    "* Sometimes using the entire dataset is infeasible, impractical, or expensive.\n",
    "* Often, it's possible to work with a subset of the data and only process the complete dataset if necessary.\n",
    "* Sampling involves selecting a subset of instances from a dataset as a representation of the entire dataset.\n",
    "* In statistical language, the full dataset is termed the **population**, while the subset is called a **sample**.\n",
    "* There are various methods and strategies for sampling.\n",
    "    *  provide a condensed version of the data for efficient processing.\n",
    "\n"
   ]
  },
  {
   "cell_type": "markdown",
   "id": "653af2f3",
   "metadata": {},
   "source": [
    "### Sampling\n",
    "\n",
    "<div align=\"center\">\n",
    "    <img src=\"https://www.dropbox.com/s/vzr0w2cvx6b5bm0/sampling.png?dl=1\" width=\"700\" alt=\"Sampling Image\">\n",
    "</div>\n"
   ]
  },
  {
   "cell_type": "markdown",
   "id": "42b2552e",
   "metadata": {},
   "source": [
    "### Representing Data \n",
    "\n",
    "* A unit of observation, also termed as an \"observation\", is the individual entity described by the data.\n",
    "* Such observations are also called data points, instances, or simply points.\n",
    "* For a dataset with D variables, a data point can be visualized as a point in a D-dimensional Euclidean space.\n",
    "  * For instance, a dataset with two variables can be represented in two dimensions.\n",
    "<div align=\"center\">\n",
    "<img src=\"https://www.dropbox.com/s/t0ca5t1qzkr635b/2d-data.png?dl=1\" alt=\"Drawing\" width=\"700px;\"/>\n",
    "</div>\n",
    "\n"
   ]
  },
  {
   "cell_type": "markdown",
   "id": "20ef0135",
   "metadata": {},
   "source": [
    "### Representing Data  -- Example\n",
    "\n",
    "<div align=\"center\">\n",
    "    <img src=\"https://www.dropbox.com/s/sy00s9t8bq0wbxb/data_2d.png?dl=1\" alt=\"Drawing\" width=\"900px;\"/>\n",
    "</div>"
   ]
  },
  {
   "cell_type": "markdown",
   "id": "725ef807",
   "metadata": {},
   "source": [
    "### Representing Data  -- Higher Dimensional Space\n",
    "<div align=\"center\">\n",
    "<img src=\"https://www.dropbox.com/s/4flfaojlfb2a101/3d-data.png?dl=1\" alt=\"Drawing\" style=\"width: 700px;\"/>\n",
    "</div>"
   ]
  },
  {
   "cell_type": "markdown",
   "id": "3dcfaed9",
   "metadata": {},
   "source": [
    "### Sampling Strategies\n",
    "\n",
    "* Different methods can be employed to draw samples.\n",
    "  * A simple method might involve selecting the first half of the data and discarding the rest.\n",
    "    * This is not always effective, especially if the data is organized based on specific attributes, such as gender.\n",
    "  * Using position in a list as a strategy is arbitrary and not always effective.\n",
    "* Several more sophisticated sampling strategies exist to efficiently reduce dataset size, especially for extensive datasets.\n"
   ]
  },
  {
   "cell_type": "markdown",
   "id": "d8b10dfd",
   "metadata": {},
   "source": [
    "### Random Subsample\n",
    "* Random subsampling is a method returns random sub-samples from a collection.\n",
    "* Each item has an equal chance of being selected.\n",
    "* Best suited for datasets that:\n",
    "  * Have relatively balanced category proportions.\n",
    "  * don't need to specifically account for or analyze the edge cases or outliers in the dataset"
   ]
  },
  {
   "cell_type": "code",
   "execution_count": 15,
   "id": "3c5e3c57",
   "metadata": {},
   "outputs": [
    {
     "data": {
      "text/plain": [
       "[4, 1]"
      ]
     },
     "execution_count": 15,
     "metadata": {},
     "output_type": "execute_result"
    }
   ],
   "source": [
    "import random\n",
    "random.sample([1,2,3,4,5], 2)"
   ]
  },
  {
   "cell_type": "markdown",
   "id": "ee3ff7d3-af15-4545-93d1-663e6e9defa6",
   "metadata": {},
   "source": [
    "### Special Cases\n",
    "\n",
    "* While random subsampling treats every data point equally, there are scenarios where our data has more complex structures or patterns.\n",
    "  * For exakple, We might want our sample to mirror certain characteristics of the full dataset or ensure specific segments are represented.\n",
    "* For this, we turn to subsampling, a broader umbrella term that encompasses various methods including random and stratified subsampling."
   ]
  },
  {
   "cell_type": "markdown",
   "id": "3ff80728",
   "metadata": {},
   "source": [
    "### Subsampling \n",
    "\n",
    "\n",
    "### Subsampling \n",
    "\n",
    "* Unstructured Data: If data doesn't have predefined categories or strata, how do you ensure a representative sample?\n",
    "\n",
    "* Clustering: For such data, we can create 'hypothetical' groups or strata using clustering.\n",
    "\n",
    "* Clustering works by grouping data points based on how similar they are, ensuring that members of one group are more alike than those in other groups.\n",
    "  * Explicit Selection: Sometimes, we need a sample from each category or group.\n",
    "\n",
    "* For instance, if we're analyzing cities, we might want to make sure we have samples from each city in our study.\n",
    "\n",
    "<div align=\"center\">\n",
    "    <img src=\"https://www.dropbox.com/s/ld7kps6aq47jq8p/airport_obs.png?dl=1\" width=\"700px\">\n",
    "</div>\n",
    "\n",
    "\n",
    "* Your Turn: Can you think of other scenarios where specific subsampling methods might be useful?\n",
    "\n",
    "\n",
    "\n",
    "\n"
   ]
  },
  {
   "cell_type": "markdown",
   "id": "8bcd07a0",
   "metadata": {},
   "source": [
    "### Stratified Random Sampling\n",
    "\n",
    "* Utilized when data can be associated with specific subgroups.\n",
    "* It ensures that the sample retains the distribution of values for specific features present in the entire population.\n",
    "* This approach:\n",
    "  * Maintains the population's structure.\n",
    "  * Divides the population into homogeneous subgroups or strata.\n",
    "  * Selects elements from each stratum in proportion to the stratum's size.\n",
    "\n",
    "![](https://www.dropbox.com/s/dq2wkc2l844857m/Screen%20Shot%202022-08-24%20at%204.19.11%20PM.png?dl=1)"
   ]
  },
  {
   "cell_type": "markdown",
   "id": "65edd13c",
   "metadata": {},
   "source": [
    "### Stratified Random Sampling - Cont'd\n",
    "\n",
    "* Instances in the population are first divided into homogenous subgroups known as strata\n",
    "* The number of elements selected in each stratum is proportional to the size of the stratum\n",
    "  * Thus maintaining the structure\n"
   ]
  },
  {
   "cell_type": "markdown",
   "id": "f90a2aa5",
   "metadata": {},
   "source": [
    "### Stratified Random Sampling - Cont'd\n",
    "\n",
    "* Sometimes, data doesn't come with predefined strata.\n",
    "* In such cases, data can be assigned to hypothetical strata, a process known as clustering.\n",
    "* Clustering groups data points based on similarity, ideally ensuring that data points in one cluster are more similar to each other than to those in other clusters."
   ]
  },
  {
   "cell_type": "markdown",
   "id": "80c3d083",
   "metadata": {},
   "source": [
    "### Representation of an Observation\n",
    "\n",
    "* Recall that data points can be represented as a point in high-dimensional space\n",
    "\n",
    "<div align=\"center\">\n",
    "<img src=\"https://www.dropbox.com/s/jbriqx9i7jyloyl/data_clusts_1.png?dl=1\" alt=\"drawing\" width=\"500\"/>\n",
    "</div>\n",
    "\n"
   ]
  },
  {
   "cell_type": "markdown",
   "id": "83ad6fc4",
   "metadata": {},
   "source": [
    "### Identifying Clusters\n",
    "<div align=\"center\">\n",
    "<img src=\"https://www.dropbox.com/s/jb81jew9hyf44pp/data_clusts_2.png?dl=1\" alt=\"drawing\" width=\"500\"/>\n",
    "</div>\n",
    "\n"
   ]
  },
  {
   "cell_type": "markdown",
   "id": "f0efdd94",
   "metadata": {},
   "source": [
    "### Cluster-Based Sampling \n",
    "* Cluster before vs. Cluster after Sampling.\n",
    "<div align=\"center\">\n",
    "    <img src=\"https://www.dropbox.com/s/bkd32khr1q8dfhx/before_after.png?dl=1\" alt=\"drawing\" width=\"500\"/>\n",
    "</div>"
   ]
  },
  {
   "cell_type": "markdown",
   "id": "45f76f2b",
   "metadata": {},
   "source": [
    "### Cluster-Based Sampling\n",
    "\n",
    "* Advantages:\n",
    "  * Efficient once clusters are defined.\n",
    "  * Can include central points or edge cases.\n",
    "\n",
    "* Limitations:\n",
    "  * Determining the number of strata can be challenging.\n",
    "  * The presence of outliers or noisy observations can skew clustering.\n",
    "  * Might distort the shape of clusters, complicating subsequent analysis."
   ]
  },
  {
   "cell_type": "markdown",
   "id": "9f32206c",
   "metadata": {},
   "source": [
    "### Kernel-Based Importance Sampling \n",
    "\n",
    "* Select with probability inversely proportional to the distance of the cluster center\n",
    "\n",
    "<div align=\"center\">\n",
    "<img src=\"https://www.dropbox.com/s/ncrusv71mylkat8/dist_to_center.png?dl=1\" alt=\"drawing\" width=\"700\"/>\n",
    "</div>"
   ]
  },
  {
   "cell_type": "markdown",
   "id": "7cf6e72d",
   "metadata": {},
   "source": [
    "### Weighted Density Sampling\n",
    "\n",
    "* Weighted density sampling is a method used to select (or discard) events based on their local density.\n",
    "  * The probability that a data point will be sampled is determined by its local density; that is, the density around that specific data point.\n",
    "* Local density is defined as the number of data points within a given radius of that point.\n",
    "* The radius used is typically defined by the user.\n"
   ]
  },
  {
   "cell_type": "markdown",
   "id": "02e14162",
   "metadata": {},
   "source": [
    "### Grid-based Sampling\n",
    "\n",
    "* Divide the data into grid cells and select a number of points per cell\n",
    "  * It is possible to choose a fixed number of points or to select points based on some cell-specific criteria\n",
    "\n",
    "* Provides an organized way of ensuring that samples are spread out across the data space\n",
    "  * Especially important when the distribution of data points is uneven.\n",
    "\n",
    "* Ideal for spatial and Geospatial Data\n",
    "![](https://www.dropbox.com/s/nijshpr93rth8fn/grid.png?dl=1)"
   ]
  },
  {
   "cell_type": "markdown",
   "id": "1793b282-b776-4f75-b17f-7daae79d9277",
   "metadata": {},
   "source": [
    "###  Grid-based Sampling\n",
    "* Advantages:\n",
    "  * Uniform Coverage: ensures that the entire data space is uniformly represented.\n",
    "    * Mitigate the risk of sampling bias, especially in areas of sparse data,   \n",
    "  * Flexibility: either fixed number of points from each cell or use cell-specific criterion\n",
    "  * The grid is natural stratification of the data space\n",
    "    \n",
    "* Limitations:  \n",
    "  * The size and shape of the grid cells can influence the sampling results.\n",
    "    * Too large a grid might miss localized patterns, while too small a grid might lead to over-representation of noisy patterns.\n",
    "  * Computationally Intensive: Especially for high-dimensional data, creating and managing grid cells can be computationally challenging.\n",
    "\n"
   ]
  },
  {
   "cell_type": "markdown",
   "id": "3811c3a2",
   "metadata": {},
   "source": [
    "### Grid-based Sampling Using Random Projections: An intuition\n",
    "\n",
    "* Given some randomly selected line, project a point so that the projection is perpendicular to that line\n",
    "\n",
    "* Two points that are close in higher dimensional space will also be close on the line with high probability\n",
    "\n",
    "\n"
   ]
  },
  {
   "cell_type": "markdown",
   "id": "53920acf",
   "metadata": {},
   "source": [
    "### Projecting Onto Vector\n",
    "<div align=\"center\">\n",
    "    <img src=\"https://www.dropbox.com/s/wdiqdrphg0wzhmi/a_b_projected.png?dl=1\" alt=\"drawing\" width=\"600\"/>\n",
    "</div>"
   ]
  },
  {
   "cell_type": "markdown",
   "id": "b028eecc",
   "metadata": {},
   "source": [
    "### Normalizing by the Vector Size\n",
    "<img src=\"https://www.dropbox.com/s/bqaeehgtvm9c9ga/a_b_line.png?dl=1\" alt=\"drawing\" width=\"800\"/>\n"
   ]
  },
  {
   "cell_type": "markdown",
   "id": "d586d272-2b5e-43fe-b18a-7118e8d104fe",
   "metadata": {},
   "source": [
    "### Finding Orthogonal Vectors\n",
    "\n",
    "* To find a vector that is orthogonal (or perpendicular) to a given vector, you need a vector whose dot product with the given vector is zero.\n",
    "\n",
    "* Given vector $ \\mathbf{v} = \\begin{bmatrix} 5 \\\\ 2 \\end{bmatrix} $.\n",
    "\n",
    "To find a vector $ \\mathbf{u} = \\begin{bmatrix} x \\\\ y \\end{bmatrix} $ that is orthogonal to $ \\mathbf{v} $, the dot product $ \\mathbf{u} \\cdot \\mathbf{v} $ must be zero:\n",
    "\n",
    "$$ \n",
    "\\mathbf{u} \\cdot \\mathbf{v} = 5x + 2y = 0 \n",
    "$$\n",
    "\n"
   ]
  },
  {
   "cell_type": "markdown",
   "id": "39e21125-cbc0-4463-a801-f98ec71fe2e8",
   "metadata": {},
   "source": [
    "### Finding Orthogonal Vectors -- cont'd\n",
    "\n",
    "* One way to find an orthogonal vector is to swap the components and negate one of them. Using this method:\n",
    "\n",
    "* If $ \\mathbf{v} = \\begin{bmatrix} a \\\\ b \\end{bmatrix} $, Then an orthogonal $ \\mathbf{u} $ can be $ \\begin{bmatrix} -b \\\\ a \\end{bmatrix} $.\n",
    "\n",
    "\n",
    "* There are infinitely many vectors orthogonal to $ \\mathbf{v} $, but $ \\begin{bmatrix} -2 \\\\ 5 \\end{bmatrix} $ is one of the simplest ones.   * You could scale this vector by any scalar, and it would still be orthogonal to $ \\mathbf{v} $.\n"
   ]
  },
  {
   "cell_type": "markdown",
   "id": "debbbc3c",
   "metadata": {},
   "source": [
    "### Project on New Orthogonal Vectors\n",
    "\n",
    "<img src=\"https://www.dropbox.com/s/wf0nh45do2193i8/a_b_vec_2.png?dl=1\" alt=\"drawing\" width=\"800\"/>\n"
   ]
  },
  {
   "cell_type": "markdown",
   "id": "ef8366c1",
   "metadata": {},
   "source": [
    "### Convert to New Space (Grid)\n",
    "\n",
    "\n",
    "<img src=\"https://www.dropbox.com/s/ggohljkopdi6l6n/a_b_new_space.png?dl=1\" alt=\"drawing\" width=\"800\"/>\n",
    "\n"
   ]
  },
  {
   "cell_type": "markdown",
   "id": "0010ae54",
   "metadata": {},
   "source": [
    "## Similarity Preserving Projection Based Approach\n",
    "\n",
    "* Pros:\n",
    "  * Offers theoretical guarantees that points close in high-dimensional space will be assigned to the same grid elements (buckets).\n",
    "    * Reference: Johnson–Lindenstrauss lemma\n",
    "  * Computationally efficient.\n",
    "  * Easily and swiftly computed on GPUs.\n",
    "  * Effective with wide data sets.\n",
    "\n",
    "Cons:\n",
    "  * Probabilistic nature results in an infinite number of potential grids to select from.\n",
    "  * Although a 2-D grid is chosen, grids in a much higher-dimensional space may be required based on the data's dimensionality.\n",
    "  * Assessing the quality of resulting bins can be labor-intensive."
   ]
  },
  {
   "cell_type": "markdown",
   "id": "411aa67c",
   "metadata": {},
   "source": [
    "### Projection as a Dot Product\n",
    "\n",
    "* How do you project a point onto a new axis?\n",
    " \n",
    "* The dot product (or inner product) of two vectors provides the projection of one vector onto the line spanned by the other.\n",
    "\n",
    "* This projection describes the vector in terms of the reference vector.\n",
    "  * After normalization, the quantity represents the magnitude of the projected vector relative to the reference vector.\n",
    "\n",
    "$$\n",
    "\\text{Proj}_{B}A = \\frac{A \\cdot B}{|B|}\n",
    "$$\n",
    "where $A \\cdot B$ is the dot product of vectors A and B.\n",
    "\n",
    "$$\n",
    "A \\cdot B = \\sum_{i=1}^{n} A_i \\times B_i \n",
    "$$\n",
    "\n",
    "Here, $n$ is the dimension of vectors $A$ and $B$. $|B|$ denotes the magnitude of vector $B$, and it's computed as:\n",
    "\n",
    "$$\n",
    "|B| = \\sqrt{\\sum B_i^2}\n",
    "$$\n",
    "\n",
    "The numerator is used to normalize the resulting quantity, expressing it in terms of vector B.\n",
    "\n"
   ]
  },
  {
   "cell_type": "code",
   "execution_count": 12,
   "id": "467aa56f",
   "metadata": {},
   "outputs": [
    {
     "name": "stdout",
     "output_type": "stream",
     "text": [
      "The magnitude of B is: 5.385164807134504\n",
      "The magnitude of the projection  4.270992778072193\n",
      "The ratio of the projection in terms of B is 0.7931034482758621\n"
     ]
    }
   ],
   "source": [
    "import math\n",
    "\n",
    "# compute the normalized projection of A onto B.\n",
    "A = (3,4)\n",
    "B = (5,2)\n",
    "\n",
    "A_dot_B = A[0]*B[0] + A[1]*B[1]\n",
    "amp_B = math.sqrt(B[0]**2 + B[1]**2)\n",
    "print(f\"The magnitude of B is: {amp_B}\")\n",
    "proj = A_dot_B / amp_B\n",
    "print (f\"The magnitude of the projection  {proj}\")\n",
    "\n",
    "print(f\"The ratio of the projection in terms of B is {proj/amp_B}\")"
   ]
  },
  {
   "cell_type": "markdown",
   "id": "15ba1d4f",
   "metadata": {},
   "source": [
    "\n",
    "<img src=\"https://www.dropbox.com/s/ggohljkopdi6l6n/a_b_new_space.png?dl=1\" alt=\"drawing\" width=\"800\"/>\n"
   ]
  },
  {
   "cell_type": "code",
   "execution_count": 13,
   "id": "129d89a7",
   "metadata": {},
   "outputs": [
    {
     "name": "stdout",
     "output_type": "stream",
     "text": [
      "The magnitude of D is: 4.47213595499958\n",
      "\n",
      "The magnitude of the projection  4.427414595449584\n",
      "The ratio of the projection in terms of D is 0.99\n",
      "Projection occurs in bin 1 \n",
      "\n",
      "The magnitude of the projection  7.602631123499284\n",
      "The ratio of the projection in terms of D is 1.6999999999999997\n",
      "Projection occurs in bin 2 \n",
      "\n",
      "The magnitude of the projection  8.497058314499201\n",
      "The ratio of the projection in terms of D is 1.9\n",
      "Projection occurs in bin 2 \n",
      "\n"
     ]
    }
   ],
   "source": [
    "### Projection as a Dot Product\n",
    "\n",
    "A = (0.95, 8)\n",
    "B = (5,7)\n",
    "C = (6,5)\n",
    "D = (4,2)\n",
    "\n",
    "amp_D = math.sqrt(D[0]**2 + D[1]**2)\n",
    "print(f\"The magnitude of D is: {amp_D}\\n\")\n",
    "\n",
    "\n",
    "A_dot_D = A[0]*D[0] + A[1]*D[1]\n",
    "proj_A = A_dot_D / amp_D\n",
    "print (f\"The magnitude of the projection  {proj_A}\")\n",
    "print(f\"The ratio of the projection in terms of D is {proj_A/amp_D}\")\n",
    "print(f\"Projection occurs in bin {math.ceil(proj_A/amp_D)} \\n\")\n",
    "\n",
    "\n",
    "B_dot_D = B[0]*D[0] + B[1]*D[1]\n",
    "proj_B = B_dot_D / amp_D\n",
    "print (f\"The magnitude of the projection  {proj_B}\")\n",
    "print(f\"The ratio of the projection in terms of D is {proj_B/amp_D}\")\n",
    "print(f\"Projection occurs in bin {math.ceil(proj_B/amp_D)} \\n\")\n",
    "\n",
    "\n",
    "C_dot_D = C[0]*D[0] + B[1]*D[1]\n",
    "proj_C = C_dot_D / amp_D\n",
    "print (f\"The magnitude of the projection  {proj_C}\")\n",
    "print(f\"The ratio of the projection in terms of D is {proj_C/amp_D}\")\n",
    "print(f\"Projection occurs in bin {math.ceil(proj_C/amp_D)} \\n\")\n"
   ]
  },
  {
   "cell_type": "markdown",
   "id": "ff3cb29a",
   "metadata": {},
   "source": [
    "### Time Series\n",
    "\n",
    "* A time series is essentially a sequence of data points, each associated with a specific moment in time.\n",
    "* These data points are organized chronologically, providing a way to analyze changes over a designated period.\n",
    "* An enormous amount of big data exists in time series format.\n",
    "* This is particularly common in sectors like finance, healthcare, and meteorology, where tracking changes over time is crucial for analysis and decision-making.\n"
   ]
  },
  {
   "cell_type": "markdown",
   "id": "9223b76a-1689-4309-88a2-c949e11bfeec",
   "metadata": {},
   "source": [
    "### Time Series\n",
    "\n",
    "<img src=\"https://www.dropbox.com/s/2lv0jdplyv6tyfa/stock_value.png?dl=1\" alt=\"drawing\" width=\"800\"/>\n"
   ]
  },
  {
   "cell_type": "markdown",
   "id": "8e8d3fcf",
   "metadata": {},
   "source": [
    "### Sampling from Time Series\n",
    "\n",
    "Common Strategies for Sampling:\n",
    "\n",
    "  * Subsampling: Here, you pick every k-th record from the time series data. For example, if k=5, you'd select every 5th data point. This strategy is simple but can risk missing out on important variations in the data.\n",
    "\n",
    "  * Bucket-Based Sampling: This method involves dividing the time series data into discrete sections or \"buckets\" based on a time unit like an hour or a day. You then select an equal number of samples from each bucket. This approach ensures that the sample is evenly distributed across the time range of interest.\n",
    "\n",
    "  * Adaptive Sampling: This technique adjusts the sampling rate based on the variability or importance of the data points. For example, if the time series shows rapid changes, the sampling rate increases, and it decreases during periods of little to no change.\n"
   ]
  }
 ],
 "metadata": {
  "kernelspec": {
   "display_name": "Python 3 (ipykernel)",
   "language": "python",
   "name": "python3"
  },
  "language_info": {
   "codemirror_mode": {
    "name": "ipython",
    "version": 3
   },
   "file_extension": ".py",
   "mimetype": "text/x-python",
   "name": "python",
   "nbconvert_exporter": "python",
   "pygments_lexer": "ipython3",
   "version": "3.8.11"
  }
 },
 "nbformat": 4,
 "nbformat_minor": 5
}
