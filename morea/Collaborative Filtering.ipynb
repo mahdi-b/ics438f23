{
 "cells": [
  {
   "cell_type": "code",
   "execution_count": 57,
   "id": "1c8934fe",
   "metadata": {},
   "outputs": [],
   "source": [
    "import matplotlib.pyplot as plt"
   ]
  },
  {
   "cell_type": "markdown",
   "id": "4644d9d6",
   "metadata": {
    "pycharm": {
     "name": "#%% md\n"
    }
   },
   "source": [
    "### Collaborative Filtering\n",
    "\n",
    "* Online offerings are growing at such a rapid rate that it is very difficult to find relevant content or products\n",
    "\n",
    "* Non personalized recommendations are a common way to filter through a large offerings\n",
    "  * ex. Amazon bestseller in category X.\n",
    "  * News you should know this week\n",
    "  * Top 50 songs \n",
    "  * ....\n",
    "\n",
    "* Based on slides from the [Mining Massive Datasets](mmds.org)\n",
    "* Can we suggest items or users based on similarities?\n",
    "  * Users A and B have similar tastes in movies. If user A likes Movie X, then user B might like it as well. Therefore, X is a good movie recommendation for user B.\n",
    "  * Movies X and Y share similar elements (same characters, plots, etc.). Users A enjoys movie X, so suggesting movie Y may be relevant.\n",
    "\n",
    "\n"
   ]
  },
  {
   "cell_type": "markdown",
   "id": "fbd389ef",
   "metadata": {
    "pycharm": {
     "name": "#%% md\n"
    }
   },
   "source": [
    "### Collaborative FIltering Example\n",
    "\n",
    "<img src=\"https://www.dropbox.com/s/zl8vxnxmaji3bfb/cf_example.png?dl=1\">\n"
   ]
  },
  {
   "cell_type": "markdown",
   "id": "9f62371b",
   "metadata": {
    "pycharm": {
     "name": "#%% md\n"
    }
   },
   "source": [
    "### Collaborative FIltering Example\n",
    "\n",
    "* This problem is referred to as collaborative filtering:\n",
    "  * Collaborative filtering is a method of making automatic predictions (filtering) about the interests of a user by collecting preferences or taste information from many users (collaborating) or items.\n",
    "<img src=\"https://www.dropbox.com/s/zl8vxnxmaji3bfb/cf_example.png?dl=1\" width=200>\n",
    "\n",
    "\n",
    "* Premise: Users with \"similar\" feedback for a number of items have similar tastes."
   ]
  },
  {
   "cell_type": "markdown",
   "id": "4c0249c5",
   "metadata": {
    "pycharm": {
     "name": "#%% md\n"
    }
   },
   "source": [
    "### Feedback About Products\n",
    "\n",
    "* The feedback about movies falls into one of two categories:\n",
    "\n",
    "  1. Explicitly provided through a (typically numerical) rating scheme (e.g.: thumbs up or stars)\n",
    "  \n",
    "  2. Implicit\n",
    "    * User finished or didn't finish a movie\n",
    "    * Read a book in less time than his avg reading time\n",
    "    * Played a song multiple imes\n",
    "    * Multiple users in the same household watched the movie\n",
    "    * Bought an item at time t and gifted another one.\n"
   ]
  },
  {
   "cell_type": "markdown",
   "id": "2b203c7d",
   "metadata": {
    "pycharm": {
     "name": "#%% md\n"
    }
   },
   "source": [
    "### Utility Matrix\n",
    "\n",
    "* There are two classes of entities\n",
    "  * `users`: have preferences that they express either implicitely or explicitely. \n",
    "  * `items`: content or products that users express interest in.\n",
    "  \n",
    "* The `users` preferences for `items` is stored in a utility marix.\n",
    "\n",
    "* We assume that the matrix is sparse\n",
    "  * Most entries are “null” as users predominantly do not rate products"
   ]
  },
  {
   "cell_type": "markdown",
   "id": "44781d31",
   "metadata": {
    "pycharm": {
     "name": "#%% md\n"
    }
   },
   "source": [
    "### Problems Relavant to Collaborative Filtering\n",
    "\n",
    "1. Gathering “known” ratings for matrix\n",
    "  * How to collect the data in the utility matrix? \n",
    "    * Explicit is easy and accurate but leads to more sparse data\n",
    "    * Implict can be more helfpul but may be harder ro\n",
    "    \n",
    "2. Extrapolating unknown ratings from the known ones\n",
    "  * Mainly interested in unknown ratings whose prediction we blieve is high\n",
    "    * Collaborative filtering is not interested in knowing what you don’t like\n",
    "    \n",
    "3. Evaluating extrapolation methods: \n",
    "  * How can we measure the performance of recommendation methods?"
   ]
  },
  {
   "cell_type": "markdown",
   "id": "2e6e686f",
   "metadata": {
    "pycharm": {
     "name": "#%% md\n"
    }
   },
   "source": [
    "### Extrapolating unknown ratings: Intuition\n",
    "\n",
    "<img src=\"https://www.dropbox.com/s/8hx5swosjdb7vqs/correlation.png?dl=1\" width=500>"
   ]
  },
  {
   "cell_type": "markdown",
   "id": "b6703088",
   "metadata": {
    "pycharm": {
     "name": "#%% md\n"
    }
   },
   "source": [
    "### Extrapolating unknown ratings: Intuition - Cont'd\n",
    "\n",
    "* Uncertainty in finding overlap with a single user can be mitigated by considering ratings from multiple users\n",
    "  * Information is weighted by users similarity (proximity)\n",
    "  \n",
    "<img src=\"https://www.dropbox.com/s/gplfgbymxjb8vm0/distance.png?dl=1\" >\n",
    "\n",
    "* We'll start by finding the similarity between users as described above.\n"
   ]
  },
  {
   "cell_type": "markdown",
   "id": "11482c13",
   "metadata": {},
   "source": [
    "### Measure of Similarity: Jaccard Similarity\n",
    "\n",
    "* Given a user `x`, find `N` other users whose ratings are “similar” to `x`’s ratings for some given products\n",
    "\n",
    "* For simplicity, we can consider a simple \"like\" vs. \"dislike\" emoji\n",
    "  * 👍 vs. 👎 scheme\n",
    "    * 1 for like and 0 for dislike.\n",
    "  * Numerical values can be converted to binary \"vote\" using a threshold\n",
    "\n",
    "* Jaccard similarity (Jaccard Index) is a common way to access who similar sets are.\n",
    "$$\n",
    "J(X, Y) = \\frac{|X \\cap Y|}{|X \\cup Y|},\n",
    "$\n",
    "where X is the set of ratings for user x and Y is the set of ratings for user y"
   ]
  },
  {
   "cell_type": "code",
   "execution_count": 33,
   "id": "192fbc9e",
   "metadata": {},
   "outputs": [
    {
     "data": {
      "text/plain": [
       "array(['RHq02t', 'Cvcq8V', 'iQIshQ', 'b9mRaD', 'VSAkXZ', 'n2MtnJ',\n",
       "       '6EHqgJ', '1OKXXg', 'akEOrn', 'Vc8PC1', 'edOUe4', 'UiZ2zl',\n",
       "       '9zAW9L', 'OUOpqM', '967RBc', '7Ep8Qb', 'wli5IC', 'Ny4B6m',\n",
       "       'qnLpZx', '61XGFa'], dtype=object)"
      ]
     },
     "execution_count": 33,
     "metadata": {},
     "output_type": "execute_result"
    }
   ],
   "source": [
    "import pandas as pd\n",
    "movies = [\"M1\", \"M2\", \"M3\",\"M4\",\"M5\",\"M6\",\"M7\",\"M8\",\"M9\",\"M10\",\"M11\",\"M12\",\"M13\",\"M14\",\"M15\",\"M16\",\"M17\"]\n",
    "\n",
    "viewers_ids =  pd.util.testing.rands_array(6, 20)\n",
    "viewers_ids"
   ]
  },
  {
   "cell_type": "code",
   "execution_count": 45,
   "id": "9630ae27",
   "metadata": {},
   "outputs": [
    {
     "data": {
      "text/plain": [
       "array([ 1, -1,  0, -1,  0,  1, -1,  1,  1,  1,  0,  0,  1, -1, -1,  0,  1])"
      ]
     },
     "execution_count": 45,
     "metadata": {},
     "output_type": "execute_result"
    }
   ],
   "source": [
    "import numpy as np\n",
    "viewers_ratings = np.random.choice([-1, 0, 1], size=(len(symptoms)))            \n",
    "viewers_ratings"
   ]
  },
  {
   "cell_type": "code",
   "execution_count": 47,
   "id": "5124c734",
   "metadata": {},
   "outputs": [
    {
     "data": {
      "text/plain": [
       "[array([ 1,  0,  0, -1, -1, -1,  0,  0,  0,  0,  0, -1,  1,  1,  0, -1, -1]),\n",
       " array([ 0,  1,  0,  0, -1,  1, -1, -1,  0,  1,  1,  1, -1,  0,  0,  1,  0]),\n",
       " array([-1,  1,  0,  0,  0,  0,  0,  0,  0, -1, -1, -1,  0,  0, -1,  1,  1]),\n",
       " array([-1,  1, -1,  1,  0, -1, -1,  1, -1,  1,  0, -1, -1,  1, -1,  0,  1]),\n",
       " array([-1, -1,  0,  0, -1,  0,  1, -1,  1,  1,  1,  0,  1, -1,  0, -1, -1]),\n",
       " array([ 1,  1,  1, -1,  1,  1,  0,  1,  1,  0, -1, -1, -1,  1,  0,  1, -1]),\n",
       " array([ 1,  1,  0,  1,  1, -1, -1, -1, -1,  0,  0,  0, -1, -1, -1, -1, -1]),\n",
       " array([ 1, -1,  0, -1,  1, -1, -1,  0,  0,  1,  0,  0, -1,  1,  0,  1, -1]),\n",
       " array([ 0,  0,  0, -1,  1, -1, -1,  0,  1, -1,  1,  0, -1, -1,  0,  1,  0]),\n",
       " array([ 0,  0,  0,  1,  0,  1,  1,  0,  0,  1,  1,  1, -1, -1, -1, -1, -1]),\n",
       " array([ 1,  1,  1,  0, -1,  1, -1,  0,  0,  0,  0,  0, -1,  0,  1,  1,  0]),\n",
       " array([-1,  0,  0,  0,  0,  1, -1, -1,  1,  0, -1,  0,  0,  0,  0,  1, -1]),\n",
       " array([ 0,  1, -1,  0,  1, -1, -1, -1,  1,  1,  1, -1,  0, -1,  1,  0, -1]),\n",
       " array([-1, -1, -1,  1,  1,  1,  0,  0,  0, -1, -1, -1,  1,  1, -1,  0,  1]),\n",
       " array([ 0, -1,  0,  1,  1,  1, -1,  1, -1, -1, -1, -1,  0, -1, -1, -1, -1]),\n",
       " array([ 0,  0, -1,  1,  0,  0,  0,  0,  1, -1,  1,  0,  1, -1,  1,  0,  0]),\n",
       " array([-1,  0,  0,  1, -1, -1, -1,  1,  1,  0, -1, -1,  1, -1,  1,  1, -1]),\n",
       " array([ 0,  1,  1, -1, -1,  0,  0,  1,  1,  1, -1,  0,  1, -1,  1, -1,  0]),\n",
       " array([ 0,  1, -1,  0,  1,  1,  1,  1,  1, -1,  0,  1,  1,  0,  0,  1,  0]),\n",
       " array([ 0, -1,  1,  1,  1, -1, -1, -1,  1,  0, -1, -1,  0, -1,  0, -1, -1])]"
      ]
     },
     "execution_count": 47,
     "metadata": {},
     "output_type": "execute_result"
    }
   ],
   "source": [
    "data = [np.random.choice([-1, 0, 1], size=(len(symptoms)))  for _ in range(len(viewers_ids))]\n",
    "data"
   ]
  },
  {
   "cell_type": "code",
   "execution_count": 48,
   "id": "6e90d2ea",
   "metadata": {},
   "outputs": [
    {
     "data": {
      "text/html": [
       "<div>\n",
       "<style scoped>\n",
       "    .dataframe tbody tr th:only-of-type {\n",
       "        vertical-align: middle;\n",
       "    }\n",
       "\n",
       "    .dataframe tbody tr th {\n",
       "        vertical-align: top;\n",
       "    }\n",
       "\n",
       "    .dataframe thead th {\n",
       "        text-align: right;\n",
       "    }\n",
       "</style>\n",
       "<table border=\"1\" class=\"dataframe\">\n",
       "  <thead>\n",
       "    <tr style=\"text-align: right;\">\n",
       "      <th></th>\n",
       "      <th>M1</th>\n",
       "      <th>M2</th>\n",
       "      <th>M3</th>\n",
       "      <th>M4</th>\n",
       "      <th>M5</th>\n",
       "      <th>M6</th>\n",
       "      <th>M7</th>\n",
       "      <th>M8</th>\n",
       "      <th>M9</th>\n",
       "      <th>M10</th>\n",
       "      <th>M11</th>\n",
       "      <th>M12</th>\n",
       "      <th>M13</th>\n",
       "      <th>M14</th>\n",
       "      <th>M15</th>\n",
       "      <th>M16</th>\n",
       "      <th>M17</th>\n",
       "    </tr>\n",
       "  </thead>\n",
       "  <tbody>\n",
       "    <tr>\n",
       "      <th>RHq02t</th>\n",
       "      <td>1</td>\n",
       "      <td>0</td>\n",
       "      <td>0</td>\n",
       "      <td>-1</td>\n",
       "      <td>-1</td>\n",
       "      <td>-1</td>\n",
       "      <td>0</td>\n",
       "      <td>0</td>\n",
       "      <td>0</td>\n",
       "      <td>0</td>\n",
       "      <td>0</td>\n",
       "      <td>-1</td>\n",
       "      <td>1</td>\n",
       "      <td>1</td>\n",
       "      <td>0</td>\n",
       "      <td>-1</td>\n",
       "      <td>-1</td>\n",
       "    </tr>\n",
       "    <tr>\n",
       "      <th>Cvcq8V</th>\n",
       "      <td>0</td>\n",
       "      <td>1</td>\n",
       "      <td>0</td>\n",
       "      <td>0</td>\n",
       "      <td>-1</td>\n",
       "      <td>1</td>\n",
       "      <td>-1</td>\n",
       "      <td>-1</td>\n",
       "      <td>0</td>\n",
       "      <td>1</td>\n",
       "      <td>1</td>\n",
       "      <td>1</td>\n",
       "      <td>-1</td>\n",
       "      <td>0</td>\n",
       "      <td>0</td>\n",
       "      <td>1</td>\n",
       "      <td>0</td>\n",
       "    </tr>\n",
       "    <tr>\n",
       "      <th>iQIshQ</th>\n",
       "      <td>-1</td>\n",
       "      <td>1</td>\n",
       "      <td>0</td>\n",
       "      <td>0</td>\n",
       "      <td>0</td>\n",
       "      <td>0</td>\n",
       "      <td>0</td>\n",
       "      <td>0</td>\n",
       "      <td>0</td>\n",
       "      <td>-1</td>\n",
       "      <td>-1</td>\n",
       "      <td>-1</td>\n",
       "      <td>0</td>\n",
       "      <td>0</td>\n",
       "      <td>-1</td>\n",
       "      <td>1</td>\n",
       "      <td>1</td>\n",
       "    </tr>\n",
       "    <tr>\n",
       "      <th>b9mRaD</th>\n",
       "      <td>-1</td>\n",
       "      <td>1</td>\n",
       "      <td>-1</td>\n",
       "      <td>1</td>\n",
       "      <td>0</td>\n",
       "      <td>-1</td>\n",
       "      <td>-1</td>\n",
       "      <td>1</td>\n",
       "      <td>-1</td>\n",
       "      <td>1</td>\n",
       "      <td>0</td>\n",
       "      <td>-1</td>\n",
       "      <td>-1</td>\n",
       "      <td>1</td>\n",
       "      <td>-1</td>\n",
       "      <td>0</td>\n",
       "      <td>1</td>\n",
       "    </tr>\n",
       "    <tr>\n",
       "      <th>VSAkXZ</th>\n",
       "      <td>-1</td>\n",
       "      <td>-1</td>\n",
       "      <td>0</td>\n",
       "      <td>0</td>\n",
       "      <td>-1</td>\n",
       "      <td>0</td>\n",
       "      <td>1</td>\n",
       "      <td>-1</td>\n",
       "      <td>1</td>\n",
       "      <td>1</td>\n",
       "      <td>1</td>\n",
       "      <td>0</td>\n",
       "      <td>1</td>\n",
       "      <td>-1</td>\n",
       "      <td>0</td>\n",
       "      <td>-1</td>\n",
       "      <td>-1</td>\n",
       "    </tr>\n",
       "  </tbody>\n",
       "</table>\n",
       "</div>"
      ],
      "text/plain": [
       "        M1  M2  M3  M4  M5  M6  M7  M8  M9  M10  M11  M12  M13  M14  M15  M16  \\\n",
       "RHq02t   1   0   0  -1  -1  -1   0   0   0    0    0   -1    1    1    0   -1   \n",
       "Cvcq8V   0   1   0   0  -1   1  -1  -1   0    1    1    1   -1    0    0    1   \n",
       "iQIshQ  -1   1   0   0   0   0   0   0   0   -1   -1   -1    0    0   -1    1   \n",
       "b9mRaD  -1   1  -1   1   0  -1  -1   1  -1    1    0   -1   -1    1   -1    0   \n",
       "VSAkXZ  -1  -1   0   0  -1   0   1  -1   1    1    1    0    1   -1    0   -1   \n",
       "\n",
       "        M17  \n",
       "RHq02t   -1  \n",
       "Cvcq8V    0  \n",
       "iQIshQ    1  \n",
       "b9mRaD    1  \n",
       "VSAkXZ   -1  "
      ]
     },
     "execution_count": 48,
     "metadata": {},
     "output_type": "execute_result"
    }
   ],
   "source": [
    "viewers_data = pd.DataFrame(columns=movies, data=data, index=viewers_ids)\n",
    "viewers_data.head()"
   ]
  },
  {
   "cell_type": "code",
   "execution_count": 49,
   "id": "0588d32a",
   "metadata": {},
   "outputs": [
    {
     "data": {
      "text/plain": [
       "array([ True,  True, False,  True,  True])"
      ]
     },
     "execution_count": 49,
     "metadata": {},
     "output_type": "execute_result"
    }
   ],
   "source": [
    "vec_1 = np.array([1, 0, 1, 1, 1])\n",
    "vec_2 = np.array([1, 0, 0, 1, 1])\n",
    "\n",
    "\n",
    "(vec_1 == vec_2) "
   ]
  },
  {
   "cell_type": "code",
   "execution_count": 50,
   "id": "5c68c720",
   "metadata": {},
   "outputs": [
    {
     "data": {
      "text/plain": [
       "array([ True, False, False])"
      ]
     },
     "execution_count": 50,
     "metadata": {},
     "output_type": "execute_result"
    }
   ],
   "source": [
    "x = np.array([ True,  True,  False])\n",
    "y = np.array([ True,  False, True])\n",
    "\n",
    "x & y"
   ]
  },
  {
   "cell_type": "code",
   "execution_count": 51,
   "id": "ed8c5561",
   "metadata": {},
   "outputs": [
    {
     "data": {
      "text/plain": [
       "3"
      ]
     },
     "execution_count": 51,
     "metadata": {},
     "output_type": "execute_result"
    }
   ],
   "source": [
    "vec_1 = np.array([1, 0, 1, 1, 1])\n",
    "vec_2 = np.array([1, 0, 0, 1, 1])\n",
    "\n",
    "\n",
    "sum((vec_1 == vec_2) & (vec_1 == 1))"
   ]
  },
  {
   "cell_type": "code",
   "execution_count": 52,
   "id": "d2df5914",
   "metadata": {},
   "outputs": [
    {
     "data": {
      "text/plain": [
       "4"
      ]
     },
     "execution_count": 52,
     "metadata": {},
     "output_type": "execute_result"
    }
   ],
   "source": [
    "vec_1 = np.array([1, 0, 1, 1, 1])\n",
    "vec_2 = np.array([1, 0, 0, 1, 1])\n",
    "\n",
    "\n",
    "sum((vec_1 == 1) | (vec_2 == 1))"
   ]
  },
  {
   "cell_type": "code",
   "execution_count": 82,
   "id": "c0a91d06",
   "metadata": {},
   "outputs": [],
   "source": [
    "def compute_Jaccard_sim(vec_1, vec_2):\n",
    "    \n",
    "    # All the symptoms shared by both\n",
    "    intersection = sum((vec_1 == vec_2) & (vec_1 == 1))\n",
    "    # All the symptoms that either one has\n",
    "    union = sum((vec_1 == 1) | (vec_2 == 1))\n",
    "    return 1 -  intersection / union"
   ]
  },
  {
   "cell_type": "code",
   "execution_count": 83,
   "id": "dc71961f",
   "metadata": {},
   "outputs": [
    {
     "name": "stdout",
     "output_type": "stream",
     "text": [
      "0.25\n"
     ]
    }
   ],
   "source": [
    "vec_1 = np.array([1, 0, 1, 1, 1])\n",
    "vec_2 = np.array([1, 0, 0, 1, 1])\n",
    "\n",
    "\n",
    "print(compute_Jaccard_sim(vec_1, vec_2 ))"
   ]
  },
  {
   "cell_type": "code",
   "execution_count": 44,
   "id": "820f42c8",
   "metadata": {},
   "outputs": [
    {
     "data": {
      "text/html": [
       "<div>\n",
       "<style scoped>\n",
       "    .dataframe tbody tr th:only-of-type {\n",
       "        vertical-align: middle;\n",
       "    }\n",
       "\n",
       "    .dataframe tbody tr th {\n",
       "        vertical-align: top;\n",
       "    }\n",
       "\n",
       "    .dataframe thead th {\n",
       "        text-align: right;\n",
       "    }\n",
       "</style>\n",
       "<table border=\"1\" class=\"dataframe\">\n",
       "  <thead>\n",
       "    <tr style=\"text-align: right;\">\n",
       "      <th></th>\n",
       "      <th>M1</th>\n",
       "      <th>M2</th>\n",
       "      <th>M3</th>\n",
       "      <th>M4</th>\n",
       "      <th>M5</th>\n",
       "      <th>M6</th>\n",
       "      <th>M7</th>\n",
       "      <th>M8</th>\n",
       "      <th>M9</th>\n",
       "      <th>M10</th>\n",
       "      <th>M11</th>\n",
       "      <th>M12</th>\n",
       "      <th>M13</th>\n",
       "      <th>M14</th>\n",
       "      <th>M15</th>\n",
       "      <th>M16</th>\n",
       "      <th>M17</th>\n",
       "    </tr>\n",
       "  </thead>\n",
       "  <tbody>\n",
       "    <tr>\n",
       "      <th>RHq02t</th>\n",
       "      <td>0</td>\n",
       "      <td>1</td>\n",
       "      <td>0</td>\n",
       "      <td>1</td>\n",
       "      <td>1</td>\n",
       "      <td>0</td>\n",
       "      <td>0</td>\n",
       "      <td>0</td>\n",
       "      <td>0</td>\n",
       "      <td>0</td>\n",
       "      <td>0</td>\n",
       "      <td>0</td>\n",
       "      <td>1</td>\n",
       "      <td>0</td>\n",
       "      <td>1</td>\n",
       "      <td>0</td>\n",
       "      <td>0</td>\n",
       "    </tr>\n",
       "    <tr>\n",
       "      <th>Cvcq8V</th>\n",
       "      <td>0</td>\n",
       "      <td>1</td>\n",
       "      <td>1</td>\n",
       "      <td>0</td>\n",
       "      <td>0</td>\n",
       "      <td>1</td>\n",
       "      <td>1</td>\n",
       "      <td>0</td>\n",
       "      <td>1</td>\n",
       "      <td>0</td>\n",
       "      <td>0</td>\n",
       "      <td>1</td>\n",
       "      <td>1</td>\n",
       "      <td>1</td>\n",
       "      <td>1</td>\n",
       "      <td>1</td>\n",
       "      <td>0</td>\n",
       "    </tr>\n",
       "    <tr>\n",
       "      <th>iQIshQ</th>\n",
       "      <td>1</td>\n",
       "      <td>0</td>\n",
       "      <td>0</td>\n",
       "      <td>1</td>\n",
       "      <td>1</td>\n",
       "      <td>1</td>\n",
       "      <td>0</td>\n",
       "      <td>1</td>\n",
       "      <td>1</td>\n",
       "      <td>1</td>\n",
       "      <td>1</td>\n",
       "      <td>0</td>\n",
       "      <td>0</td>\n",
       "      <td>1</td>\n",
       "      <td>0</td>\n",
       "      <td>0</td>\n",
       "      <td>1</td>\n",
       "    </tr>\n",
       "    <tr>\n",
       "      <th>b9mRaD</th>\n",
       "      <td>0</td>\n",
       "      <td>1</td>\n",
       "      <td>1</td>\n",
       "      <td>0</td>\n",
       "      <td>0</td>\n",
       "      <td>0</td>\n",
       "      <td>1</td>\n",
       "      <td>0</td>\n",
       "      <td>1</td>\n",
       "      <td>0</td>\n",
       "      <td>0</td>\n",
       "      <td>1</td>\n",
       "      <td>0</td>\n",
       "      <td>0</td>\n",
       "      <td>0</td>\n",
       "      <td>0</td>\n",
       "      <td>0</td>\n",
       "    </tr>\n",
       "    <tr>\n",
       "      <th>VSAkXZ</th>\n",
       "      <td>0</td>\n",
       "      <td>1</td>\n",
       "      <td>0</td>\n",
       "      <td>0</td>\n",
       "      <td>1</td>\n",
       "      <td>0</td>\n",
       "      <td>1</td>\n",
       "      <td>0</td>\n",
       "      <td>0</td>\n",
       "      <td>1</td>\n",
       "      <td>0</td>\n",
       "      <td>1</td>\n",
       "      <td>0</td>\n",
       "      <td>0</td>\n",
       "      <td>0</td>\n",
       "      <td>0</td>\n",
       "      <td>1</td>\n",
       "    </tr>\n",
       "    <tr>\n",
       "      <th>n2MtnJ</th>\n",
       "      <td>1</td>\n",
       "      <td>0</td>\n",
       "      <td>0</td>\n",
       "      <td>0</td>\n",
       "      <td>1</td>\n",
       "      <td>1</td>\n",
       "      <td>0</td>\n",
       "      <td>0</td>\n",
       "      <td>0</td>\n",
       "      <td>0</td>\n",
       "      <td>0</td>\n",
       "      <td>0</td>\n",
       "      <td>1</td>\n",
       "      <td>1</td>\n",
       "      <td>1</td>\n",
       "      <td>1</td>\n",
       "      <td>0</td>\n",
       "    </tr>\n",
       "    <tr>\n",
       "      <th>6EHqgJ</th>\n",
       "      <td>1</td>\n",
       "      <td>1</td>\n",
       "      <td>1</td>\n",
       "      <td>0</td>\n",
       "      <td>1</td>\n",
       "      <td>0</td>\n",
       "      <td>0</td>\n",
       "      <td>0</td>\n",
       "      <td>0</td>\n",
       "      <td>1</td>\n",
       "      <td>1</td>\n",
       "      <td>1</td>\n",
       "      <td>1</td>\n",
       "      <td>0</td>\n",
       "      <td>1</td>\n",
       "      <td>0</td>\n",
       "      <td>0</td>\n",
       "    </tr>\n",
       "    <tr>\n",
       "      <th>1OKXXg</th>\n",
       "      <td>0</td>\n",
       "      <td>1</td>\n",
       "      <td>0</td>\n",
       "      <td>0</td>\n",
       "      <td>0</td>\n",
       "      <td>0</td>\n",
       "      <td>1</td>\n",
       "      <td>0</td>\n",
       "      <td>1</td>\n",
       "      <td>0</td>\n",
       "      <td>0</td>\n",
       "      <td>0</td>\n",
       "      <td>0</td>\n",
       "      <td>0</td>\n",
       "      <td>1</td>\n",
       "      <td>1</td>\n",
       "      <td>1</td>\n",
       "    </tr>\n",
       "    <tr>\n",
       "      <th>akEOrn</th>\n",
       "      <td>1</td>\n",
       "      <td>0</td>\n",
       "      <td>1</td>\n",
       "      <td>1</td>\n",
       "      <td>1</td>\n",
       "      <td>0</td>\n",
       "      <td>0</td>\n",
       "      <td>1</td>\n",
       "      <td>0</td>\n",
       "      <td>1</td>\n",
       "      <td>1</td>\n",
       "      <td>1</td>\n",
       "      <td>1</td>\n",
       "      <td>0</td>\n",
       "      <td>1</td>\n",
       "      <td>0</td>\n",
       "      <td>0</td>\n",
       "    </tr>\n",
       "    <tr>\n",
       "      <th>Vc8PC1</th>\n",
       "      <td>1</td>\n",
       "      <td>1</td>\n",
       "      <td>0</td>\n",
       "      <td>0</td>\n",
       "      <td>1</td>\n",
       "      <td>1</td>\n",
       "      <td>1</td>\n",
       "      <td>0</td>\n",
       "      <td>0</td>\n",
       "      <td>0</td>\n",
       "      <td>1</td>\n",
       "      <td>0</td>\n",
       "      <td>0</td>\n",
       "      <td>1</td>\n",
       "      <td>0</td>\n",
       "      <td>1</td>\n",
       "      <td>1</td>\n",
       "    </tr>\n",
       "    <tr>\n",
       "      <th>edOUe4</th>\n",
       "      <td>0</td>\n",
       "      <td>1</td>\n",
       "      <td>0</td>\n",
       "      <td>1</td>\n",
       "      <td>0</td>\n",
       "      <td>0</td>\n",
       "      <td>0</td>\n",
       "      <td>0</td>\n",
       "      <td>1</td>\n",
       "      <td>1</td>\n",
       "      <td>0</td>\n",
       "      <td>1</td>\n",
       "      <td>1</td>\n",
       "      <td>0</td>\n",
       "      <td>1</td>\n",
       "      <td>0</td>\n",
       "      <td>0</td>\n",
       "    </tr>\n",
       "    <tr>\n",
       "      <th>UiZ2zl</th>\n",
       "      <td>1</td>\n",
       "      <td>1</td>\n",
       "      <td>0</td>\n",
       "      <td>0</td>\n",
       "      <td>0</td>\n",
       "      <td>0</td>\n",
       "      <td>1</td>\n",
       "      <td>1</td>\n",
       "      <td>1</td>\n",
       "      <td>1</td>\n",
       "      <td>1</td>\n",
       "      <td>0</td>\n",
       "      <td>1</td>\n",
       "      <td>0</td>\n",
       "      <td>0</td>\n",
       "      <td>0</td>\n",
       "      <td>0</td>\n",
       "    </tr>\n",
       "    <tr>\n",
       "      <th>9zAW9L</th>\n",
       "      <td>0</td>\n",
       "      <td>0</td>\n",
       "      <td>1</td>\n",
       "      <td>0</td>\n",
       "      <td>0</td>\n",
       "      <td>0</td>\n",
       "      <td>1</td>\n",
       "      <td>1</td>\n",
       "      <td>1</td>\n",
       "      <td>1</td>\n",
       "      <td>1</td>\n",
       "      <td>1</td>\n",
       "      <td>0</td>\n",
       "      <td>1</td>\n",
       "      <td>1</td>\n",
       "      <td>1</td>\n",
       "      <td>1</td>\n",
       "    </tr>\n",
       "    <tr>\n",
       "      <th>OUOpqM</th>\n",
       "      <td>0</td>\n",
       "      <td>0</td>\n",
       "      <td>0</td>\n",
       "      <td>1</td>\n",
       "      <td>0</td>\n",
       "      <td>1</td>\n",
       "      <td>1</td>\n",
       "      <td>0</td>\n",
       "      <td>1</td>\n",
       "      <td>1</td>\n",
       "      <td>1</td>\n",
       "      <td>0</td>\n",
       "      <td>1</td>\n",
       "      <td>0</td>\n",
       "      <td>1</td>\n",
       "      <td>0</td>\n",
       "      <td>1</td>\n",
       "    </tr>\n",
       "    <tr>\n",
       "      <th>967RBc</th>\n",
       "      <td>0</td>\n",
       "      <td>1</td>\n",
       "      <td>0</td>\n",
       "      <td>1</td>\n",
       "      <td>0</td>\n",
       "      <td>1</td>\n",
       "      <td>0</td>\n",
       "      <td>1</td>\n",
       "      <td>1</td>\n",
       "      <td>0</td>\n",
       "      <td>1</td>\n",
       "      <td>0</td>\n",
       "      <td>0</td>\n",
       "      <td>0</td>\n",
       "      <td>0</td>\n",
       "      <td>0</td>\n",
       "      <td>0</td>\n",
       "    </tr>\n",
       "    <tr>\n",
       "      <th>7Ep8Qb</th>\n",
       "      <td>0</td>\n",
       "      <td>0</td>\n",
       "      <td>1</td>\n",
       "      <td>1</td>\n",
       "      <td>0</td>\n",
       "      <td>0</td>\n",
       "      <td>1</td>\n",
       "      <td>0</td>\n",
       "      <td>1</td>\n",
       "      <td>0</td>\n",
       "      <td>1</td>\n",
       "      <td>1</td>\n",
       "      <td>1</td>\n",
       "      <td>1</td>\n",
       "      <td>0</td>\n",
       "      <td>0</td>\n",
       "      <td>1</td>\n",
       "    </tr>\n",
       "    <tr>\n",
       "      <th>wli5IC</th>\n",
       "      <td>1</td>\n",
       "      <td>0</td>\n",
       "      <td>1</td>\n",
       "      <td>0</td>\n",
       "      <td>1</td>\n",
       "      <td>1</td>\n",
       "      <td>1</td>\n",
       "      <td>0</td>\n",
       "      <td>1</td>\n",
       "      <td>1</td>\n",
       "      <td>1</td>\n",
       "      <td>0</td>\n",
       "      <td>0</td>\n",
       "      <td>1</td>\n",
       "      <td>0</td>\n",
       "      <td>0</td>\n",
       "      <td>0</td>\n",
       "    </tr>\n",
       "    <tr>\n",
       "      <th>Ny4B6m</th>\n",
       "      <td>1</td>\n",
       "      <td>0</td>\n",
       "      <td>0</td>\n",
       "      <td>0</td>\n",
       "      <td>0</td>\n",
       "      <td>1</td>\n",
       "      <td>1</td>\n",
       "      <td>0</td>\n",
       "      <td>0</td>\n",
       "      <td>0</td>\n",
       "      <td>1</td>\n",
       "      <td>0</td>\n",
       "      <td>0</td>\n",
       "      <td>0</td>\n",
       "      <td>1</td>\n",
       "      <td>0</td>\n",
       "      <td>1</td>\n",
       "    </tr>\n",
       "    <tr>\n",
       "      <th>qnLpZx</th>\n",
       "      <td>1</td>\n",
       "      <td>0</td>\n",
       "      <td>0</td>\n",
       "      <td>0</td>\n",
       "      <td>1</td>\n",
       "      <td>0</td>\n",
       "      <td>0</td>\n",
       "      <td>0</td>\n",
       "      <td>1</td>\n",
       "      <td>0</td>\n",
       "      <td>0</td>\n",
       "      <td>1</td>\n",
       "      <td>1</td>\n",
       "      <td>1</td>\n",
       "      <td>1</td>\n",
       "      <td>1</td>\n",
       "      <td>1</td>\n",
       "    </tr>\n",
       "    <tr>\n",
       "      <th>61XGFa</th>\n",
       "      <td>1</td>\n",
       "      <td>1</td>\n",
       "      <td>1</td>\n",
       "      <td>0</td>\n",
       "      <td>0</td>\n",
       "      <td>0</td>\n",
       "      <td>1</td>\n",
       "      <td>1</td>\n",
       "      <td>0</td>\n",
       "      <td>0</td>\n",
       "      <td>1</td>\n",
       "      <td>1</td>\n",
       "      <td>0</td>\n",
       "      <td>0</td>\n",
       "      <td>1</td>\n",
       "      <td>0</td>\n",
       "      <td>1</td>\n",
       "    </tr>\n",
       "  </tbody>\n",
       "</table>\n",
       "</div>"
      ],
      "text/plain": [
       "        M1  M2  M3  M4  M5  M6  M7  M8  M9  M10  M11  M12  M13  M14  M15  M16  \\\n",
       "RHq02t   0   1   0   1   1   0   0   0   0    0    0    0    1    0    1    0   \n",
       "Cvcq8V   0   1   1   0   0   1   1   0   1    0    0    1    1    1    1    1   \n",
       "iQIshQ   1   0   0   1   1   1   0   1   1    1    1    0    0    1    0    0   \n",
       "b9mRaD   0   1   1   0   0   0   1   0   1    0    0    1    0    0    0    0   \n",
       "VSAkXZ   0   1   0   0   1   0   1   0   0    1    0    1    0    0    0    0   \n",
       "n2MtnJ   1   0   0   0   1   1   0   0   0    0    0    0    1    1    1    1   \n",
       "6EHqgJ   1   1   1   0   1   0   0   0   0    1    1    1    1    0    1    0   \n",
       "1OKXXg   0   1   0   0   0   0   1   0   1    0    0    0    0    0    1    1   \n",
       "akEOrn   1   0   1   1   1   0   0   1   0    1    1    1    1    0    1    0   \n",
       "Vc8PC1   1   1   0   0   1   1   1   0   0    0    1    0    0    1    0    1   \n",
       "edOUe4   0   1   0   1   0   0   0   0   1    1    0    1    1    0    1    0   \n",
       "UiZ2zl   1   1   0   0   0   0   1   1   1    1    1    0    1    0    0    0   \n",
       "9zAW9L   0   0   1   0   0   0   1   1   1    1    1    1    0    1    1    1   \n",
       "OUOpqM   0   0   0   1   0   1   1   0   1    1    1    0    1    0    1    0   \n",
       "967RBc   0   1   0   1   0   1   0   1   1    0    1    0    0    0    0    0   \n",
       "7Ep8Qb   0   0   1   1   0   0   1   0   1    0    1    1    1    1    0    0   \n",
       "wli5IC   1   0   1   0   1   1   1   0   1    1    1    0    0    1    0    0   \n",
       "Ny4B6m   1   0   0   0   0   1   1   0   0    0    1    0    0    0    1    0   \n",
       "qnLpZx   1   0   0   0   1   0   0   0   1    0    0    1    1    1    1    1   \n",
       "61XGFa   1   1   1   0   0   0   1   1   0    0    1    1    0    0    1    0   \n",
       "\n",
       "        M17  \n",
       "RHq02t    0  \n",
       "Cvcq8V    0  \n",
       "iQIshQ    1  \n",
       "b9mRaD    0  \n",
       "VSAkXZ    1  \n",
       "n2MtnJ    0  \n",
       "6EHqgJ    0  \n",
       "1OKXXg    1  \n",
       "akEOrn    0  \n",
       "Vc8PC1    1  \n",
       "edOUe4    0  \n",
       "UiZ2zl    0  \n",
       "9zAW9L    1  \n",
       "OUOpqM    1  \n",
       "967RBc    0  \n",
       "7Ep8Qb    1  \n",
       "wli5IC    0  \n",
       "Ny4B6m    1  \n",
       "qnLpZx    1  \n",
       "61XGFa    1  "
      ]
     },
     "execution_count": 44,
     "metadata": {},
     "output_type": "execute_result"
    }
   ],
   "source": [
    "viewers_data"
   ]
  },
  {
   "cell_type": "markdown",
   "id": "373c94e7",
   "metadata": {},
   "source": [
    "### Shortcomings of the Jaccard Distance\n",
    "\n",
    "* The distance would work if it weren't for the missing values\n",
    " * Missing values (-1) are movies that a viewer hasn't watched yet.\n",
    "  * Treating missing values as 0 means that the user didn't like them.\n",
    "\n",
    "* The binary rating is not as efficient as a numerical score which provides more distinctions.\n"
   ]
  },
  {
   "cell_type": "markdown",
   "id": "57f666f0",
   "metadata": {},
   "source": [
    "### Measure of Similarity: Pearson Correlation\n",
    "\n",
    "* Two variables are correlated if knowledge of one helps better predict the other\n",
    "\n",
    "  * In statistics, the strength of the relationship between the relative movements of two variables is often conveyed using the correlation coefficient.\n",
    "\n",
    "  * The values range between -1.0 (negatively correlated) and 1.0 (positively correlated) \n"
   ]
  },
  {
   "cell_type": "markdown",
   "id": "8153bf63",
   "metadata": {},
   "source": [
    "### Pearson Correlation\n",
    "\n",
    "![](https://www.dropbox.com/s/myshvo6b8qhcm6n/correlation_examples.png?dl=1)"
   ]
  },
  {
   "cell_type": "markdown",
   "id": "7ac5450b",
   "metadata": {},
   "source": [
    "### Linear Correlations\n",
    "\n",
    "* Linear correlation ranges from -1 (_anti-correlated_) to 1  (_fully_ _correlated_) through 0 (_uncorrelated_)\n",
    "* The most popular methods for computing linear correlation are:\n",
    "  * Pearson Correlation coefficient ($R$)\n",
    "  * Spearman Rank Correlation $(\\rho)$\n",
    "\n",
    "* Other methods can capture non-linear relationships and are more appropriate for a data science class."
   ]
  },
  {
   "cell_type": "markdown",
   "id": "e776cf2e",
   "metadata": {},
   "source": [
    "### Positive Correlation \n",
    "\n",
    "```\n",
    "X = [1,2,3,4,5,6,7,8,9,10]\n",
    "Y = [11,12,13,14,15,16,17,18,19,20]\n",
    "```\n",
    "\n",
    "* As $X$ increases, $Y$ increases \n",
    "\n",
    "<img src=\"https://www.dropbox.com/s/k37c1q5r6lweo46/correlation_distance_mean.png?dl=1\" alt=\"drawing\" style=\"width:500px;\"/>\n",
    "\n",
    "\n",
    "\n"
   ]
  },
  {
   "cell_type": "code",
   "execution_count": 58,
   "id": "3b064168",
   "metadata": {},
   "outputs": [
    {
     "data": {
      "text/plain": [
       "<matplotlib.legend.Legend at 0x124e3a310>"
      ]
     },
     "execution_count": 58,
     "metadata": {},
     "output_type": "execute_result"
    },
    {
     "data": {
      "image/png": "[encoded data removed]",
      "text/plain": [
       "<Figure size 576x576 with 1 Axes>"
      ]
     },
     "metadata": {
      "needs_background": "light"
     },
     "output_type": "display_data"
    }
   ],
   "source": [
    "plt.figure(figsize=(8,8))\n",
    "data = pd.DataFrame({\"X\":X, \"Y\":Y})\n",
    "plt.scatter(X, Y)\n",
    "plt.plot(X,Y, color ='r')\n",
    "plt.xlabel(\"X\", fontsize=18)\n",
    "plt.ylabel(\"Y\", fontsize=18)\n",
    "plt.axvline(data[\"X\"].mean(), linestyle='--', label=\"mean(X)\")\n",
    "plt.axhline(data[\"Y\"].mean(), linestyle=':', label=\"mean(Y)\", color='green')\n",
    "\n",
    "plt.legend()"
   ]
  },
  {
   "cell_type": "code",
   "execution_count": 61,
   "id": "f2a2b640",
   "metadata": {},
   "outputs": [
    {
     "data": {
      "text/plain": [
       "<matplotlib.lines.Line2D at 0x125028ee0>"
      ]
     },
     "execution_count": 61,
     "metadata": {},
     "output_type": "execute_result"
    },
    {
     "data": {
      "image/png": "[encoded data removed]",
      "text/plain": [
       "<Figure size 576x576 with 1 Axes>"
      ]
     },
     "metadata": {
      "needs_background": "light"
     },
     "output_type": "display_data"
    }
   ],
   "source": [
    "X = [1,2,3,4,5,6,7,8,9,10]\n",
    "Y = [10, 9, 8, 7, 6, 5, 4, 3, 2, 1]\n",
    "data = pd.DataFrame({\"X\": X, \"Y\": Y})\n",
    "data\n",
    "\n",
    "plt.figure(figsize=(8,8))\n",
    "\n",
    "plt.scatter(X, Y)\n",
    "plt.plot(X,Y, color ='r')\n",
    "\n",
    "plt.xlabel(\"X\", fontsize=18)\n",
    "plt.ylabel(\"Y\", fontsize=18)\n",
    "\n",
    "plt.axvline(data[\"X\"].mean(), linestyle='--', label=\"mean(X)\")\n",
    "plt.axhline(data[\"Y\"].mean(), linestyle=':', label=\"mean(Y)\", color='green')\n",
    "\n"
   ]
  },
  {
   "cell_type": "markdown",
   "id": "6ad3c7ca",
   "metadata": {},
   "source": [
    "### Negative Correlation\n",
    "\n",
    "* As $X$ descrases, $Y$ also descrases\n",
    "\n",
    "<img src=\"https://www.dropbox.com/s/swz04h533lfl2fg/neg_correlation.png?dl=1\" alt=\"drawing\" style=\"width:500px;\"/>"
   ]
  },
  {
   "cell_type": "code",
   "execution_count": 64,
   "id": "83357178",
   "metadata": {},
   "outputs": [
    {
     "data": {
      "text/html": [
       "<div>\n",
       "<style scoped>\n",
       "    .dataframe tbody tr th:only-of-type {\n",
       "        vertical-align: middle;\n",
       "    }\n",
       "\n",
       "    .dataframe tbody tr th {\n",
       "        vertical-align: top;\n",
       "    }\n",
       "\n",
       "    .dataframe thead th {\n",
       "        text-align: right;\n",
       "    }\n",
       "</style>\n",
       "<table border=\"1\" class=\"dataframe\">\n",
       "  <thead>\n",
       "    <tr style=\"text-align: right;\">\n",
       "      <th></th>\n",
       "      <th>X</th>\n",
       "      <th>Y</th>\n",
       "    </tr>\n",
       "  </thead>\n",
       "  <tbody>\n",
       "    <tr>\n",
       "      <th>0</th>\n",
       "      <td>1</td>\n",
       "      <td>3</td>\n",
       "    </tr>\n",
       "    <tr>\n",
       "      <th>1</th>\n",
       "      <td>2</td>\n",
       "      <td>8</td>\n",
       "    </tr>\n",
       "    <tr>\n",
       "      <th>2</th>\n",
       "      <td>3</td>\n",
       "      <td>2</td>\n",
       "    </tr>\n",
       "    <tr>\n",
       "      <th>3</th>\n",
       "      <td>4</td>\n",
       "      <td>5</td>\n",
       "    </tr>\n",
       "    <tr>\n",
       "      <th>4</th>\n",
       "      <td>5</td>\n",
       "      <td>3</td>\n",
       "    </tr>\n",
       "    <tr>\n",
       "      <th>5</th>\n",
       "      <td>6</td>\n",
       "      <td>6</td>\n",
       "    </tr>\n",
       "    <tr>\n",
       "      <th>6</th>\n",
       "      <td>7</td>\n",
       "      <td>4</td>\n",
       "    </tr>\n",
       "    <tr>\n",
       "      <th>7</th>\n",
       "      <td>8</td>\n",
       "      <td>1</td>\n",
       "    </tr>\n",
       "    <tr>\n",
       "      <th>8</th>\n",
       "      <td>9</td>\n",
       "      <td>7</td>\n",
       "    </tr>\n",
       "  </tbody>\n",
       "</table>\n",
       "</div>"
      ],
      "text/plain": [
       "   X  Y\n",
       "0  1  3\n",
       "1  2  8\n",
       "2  3  2\n",
       "3  4  5\n",
       "4  5  3\n",
       "5  6  6\n",
       "6  7  4\n",
       "7  8  1\n",
       "8  9  7"
      ]
     },
     "execution_count": 64,
     "metadata": {},
     "output_type": "execute_result"
    }
   ],
   "source": [
    "X = [1,2,3,4,5,6,7,8,9]\n",
    "Y = [3,8,2,5,3,6,4,1,7]\n",
    "\n",
    "data = pd.DataFrame({\"X\": X, \"Y\": Y})\n",
    "data"
   ]
  },
  {
   "cell_type": "markdown",
   "id": "011ab937",
   "metadata": {},
   "source": [
    "### Lack of Correlation\n",
    "\n",
    "* As $X$ increases, $Y$ sometimes increases and sometimes decreases\n",
    "\n",
    "<img src=\"https://www.dropbox.com/s/t4xzs88xkvs2m8z/no_corr_distance.png?dl=1\" alt=\"drawing\" style=\"width:600px;\"/>"
   ]
  },
  {
   "cell_type": "markdown",
   "id": "aedda9ce",
   "metadata": {},
   "source": [
    "### Computing The Correlation Coefficient\n",
    "\n",
    "* Positive correlation: when X's distance from its mean increases, Y's distance from its mean increases.\n",
    "  * The rates of increase are consistently similar\n",
    "* Negative correlation: when X's distance from its mean increases, Y's distance from its mean decreases or vice-versa\n",
    "  * The rates of decrease are consistently similar\n",
    "* In the absence of correlation the contributions of $X_i$ and $Y_i$ cancel out. Therefore, the correlation tends toward 0\n",
    " "
   ]
  },
  {
   "cell_type": "markdown",
   "id": "f36d2e0f",
   "metadata": {},
   "source": [
    "### Computing The Correlation Coefficient - Cont'd\n",
    "\n",
    "* Pearson Correlation Coefficient\n",
    "\n",
    "$$\n",
    "r = \\frac{\\sum_{i=1}^{n}{(X_i-\\overline{X})(Y_i-\\overline{Y})     }}{\\sqrt{\\sum_{i-1}^n{(X_i-\\overline{X})}} \\sqrt{\\sum_{i-1}^n{(Y_i-\\overline{Y})}} },\n",
    "$$\n",
    "\n",
    "  * where $i$ is a rating shared between `X` and `Y`.\n",
    "\n",
    "* Pearson correlation measures how **in sync** two variables $X$ and $Y$ are\n",
    "\n",
    "* It turns out that we can recompute correlation in a way that is computationally efficient\n",
    "\n"
   ]
  },
  {
   "cell_type": "markdown",
   "id": "7867a2a6",
   "metadata": {},
   "source": [
    "### Computing the Cosine Similarity\n",
    "\n",
    "* In real-life situations, the average rating for any movie will be ~0.\n",
    "  * Can you guess why? Hint, the matrix is sparse.\n",
    "\n",
    "$$\n",
    "r = \\frac{\\sum_{i=1}^{n}{(X_i-\\overline{X})(Y_i-\\overline{Y})     }}{\\sqrt{\\sum_{i-1}^n{(X_i-\\overline{X})^2}} \\sqrt{\\sum_{i-1}^n{(Y_i-\\overline{Y})^2}} } \\approx \\frac{\\sum_{i=1}^{n}{(X_i)(Y_i)     }}{\\sqrt{\\sum_{i-1}^n{X_i^2}} \\sqrt{\\sum_{i-1}^n{Y_i^2}} } = \\mbox{cos}(\\overrightarrow{X}, \\overrightarrow{Y})\n",
    "$$\n",
    "\n"
   ]
  },
  {
   "cell_type": "markdown",
   "id": "c879b1b1",
   "metadata": {},
   "source": [
    "### Computing the Cosine Similarity - Cont'd\n",
    "\n",
    "![](https://www.dropbox.com/s/e854l6o83hvtmpv/user_rating_example.png?dl=1)"
   ]
  },
  {
   "cell_type": "markdown",
   "id": "4bb16312",
   "metadata": {},
   "source": [
    "### Computing the Cosine Similarity - Cont'd\n",
    "![](https://www.dropbox.com/s/xln9uagok4e56z6/cosine_example.png?dl=1)"
   ]
  },
  {
   "attachments": {},
   "cell_type": "markdown",
   "id": "2f208c40",
   "metadata": {},
   "source": [
    "### From Similarity Score to Recommendations\n",
    "\n",
    "* Given a set of `N` users that are similar to user `x`, we could predict the rating for item `s` for user `x` as the scaled average of the ratings of the users of $N$ \n",
    "\n",
    "\n",
    "* Values a scaled by the similarity to `x`.\n",
    "\n",
    "<img src=\"https://www.dropbox.com/s/gplfgbymxjb8vm0/distance.png?dl=1\" >\n",
    "\n",
    "\n",
    "* There are many other options to do this but the concept remains the same.\n"
   ]
  },
  {
   "cell_type": "markdown",
   "id": "ecaad628",
   "metadata": {},
   "source": [
    "### From Similarity Score to Recommendations: Example\n",
    "\n",
    "\n",
    "$$\n",
    "\\mbox{ratings}_{xi}=\\frac{\\sum_{y \\in N} \\mbox{sim}(x,y)\\cdot \\mbox{ratings}_{yi}}{\\sum_{y\\in N}\\mbox{sim}(x,y)},\n",
    "$$\n"
   ]
  },
  {
   "cell_type": "markdown",
   "id": "95041015",
   "metadata": {},
   "source": [
    "### Collaboration filtering based on Items\n",
    "\n",
    "* The same approach can also be applied to items\n",
    "  * Inferring items that are similar can be used to generate ratings\n",
    "\n",
    "* Here, we consider the users as dimensions and the movies as the instances (points) in our high dimensional space.\n",
    "    \n",
    "    \n",
    "![](https://www.dropbox.com/s/nb9548nd6qdhlwr/movie_rating.png?dl=1)\n"
   ]
  },
  {
   "cell_type": "markdown",
   "id": "3363fa62",
   "metadata": {},
   "source": [
    "### Example  \n",
    "\n",
    "What is the most likely rating for movie 1 for user 5?\n",
    "\n",
    "<img src=\"https://www.dropbox.com/s/9b4616lupkrxrya/movie_rating_1.png?dl=1\">\n",
    "1. Neighbors selection. Which movies rated by user 5 are most similar to movie 1?\n",
    "2. Compute the rating scaled by the distance.\n"
   ]
  },
  {
   "attachments": {},
   "cell_type": "markdown",
   "id": "25367fbf",
   "metadata": {},
   "source": [
    "### Example: normalizing input\n",
    "\n",
    "* Given that ratings are typically subjective, it's common to normalize their values to assure some sort of comparability\n",
    "\n",
    "  * E.g., given two users, the first who gives a max rating of 8 and the second who gives a maximum rating of 5.\n",
    "    * The dissimilarity between the two vectors is due to subjectivity in rating\n",
    "    \n",
    "<img src=\"https://www.dropbox.com/s/voehxfm9a2osxj4/Difference_in_simiar_rating.png?dl=1\" width=450>\n"
   ]
  },
  {
   "cell_type": "markdown",
   "id": "a251e5e8",
   "metadata": {},
   "source": [
    "### Example: Normalizing The Ratings\n",
    "\n",
    "* A simple way to normalize data is to subtract the mean rating.\n",
    "* Resulting ratings are then centered around 0.\n",
    "\n",
    "<img src=\"https://www.dropbox.com/s/sofzoh44geyqe2b/normalized_vectors.png?dl=1\">\n"
   ]
  },
  {
   "cell_type": "code",
   "execution_count": 74,
   "id": "3683f725",
   "metadata": {},
   "outputs": [
    {
     "name": "stdout",
     "output_type": "stream",
     "text": [
      "Requirement already satisfied: scipy in /Users/mahdi/opt/anaconda3/lib/python3.9/site-packages (1.7.3)\r\n",
      "Requirement already satisfied: numpy<1.23.0,>=1.16.5 in /Users/mahdi/opt/anaconda3/lib/python3.9/site-packages (from scipy) (1.21.5)\r\n"
     ]
    }
   ],
   "source": [
    "!pip install scipy "
   ]
  },
  {
   "cell_type": "code",
   "execution_count": 78,
   "id": "35ec76f3",
   "metadata": {},
   "outputs": [
    {
     "ename": "ModuleNotFoundError",
     "evalue": "No module named 'scipy'",
     "output_type": "error",
     "traceback": [
      "\u001b[0;31m---------------------------------------------------------------------------\u001b[0m",
      "\u001b[0;31mModuleNotFoundError\u001b[0m                       Traceback (most recent call last)",
      "Input \u001b[0;32mIn [78]\u001b[0m, in \u001b[0;36m<cell line: 3>\u001b[0;34m()\u001b[0m\n\u001b[1;32m      1\u001b[0m \u001b[38;5;66;03m### Example: finding neighbors\u001b[39;00m\n\u001b[0;32m----> 3\u001b[0m \u001b[38;5;28;01mfrom\u001b[39;00m \u001b[38;5;21;01mscipy\u001b[39;00m \u001b[38;5;28;01mimport\u001b[39;00m spatial\n\u001b[1;32m      4\u001b[0m a_complete \u001b[38;5;241m=\u001b[39m [\u001b[38;5;241m1\u001b[39m, \u001b[38;5;241m3\u001b[39m, \u001b[38;5;241m5\u001b[39m, \u001b[38;5;241m5\u001b[39m, \u001b[38;5;241m4\u001b[39m]\n\u001b[1;32m      5\u001b[0m b_complete \u001b[38;5;241m=\u001b[39m [\u001b[38;5;241m2\u001b[39m, \u001b[38;5;241m4\u001b[39m, \u001b[38;5;241m1\u001b[39m, \u001b[38;5;241m2\u001b[39m, \u001b[38;5;241m3\u001b[39m, \u001b[38;5;241m4\u001b[39m, \u001b[38;5;241m3\u001b[39m, \u001b[38;5;241m5\u001b[39m]\n",
      "\u001b[0;31mModuleNotFoundError\u001b[0m: No module named 'scipy'"
     ]
    }
   ],
   "source": [
    "### Example: finding neighbors\n",
    "\n",
    "from scipy import spatial\n",
    "user_1_complete = [1, 3, 5, 5, 4]\n",
    "user_3_complete = [2, 4, 1, 2, 3, 4, 3, 5]\n",
    "user_1 = [1, 5, 4]\n",
    "user_3 = [2, 4, 5]\n",
    "\n",
    "user_1 = user_1 - np.mean(user_1_complete)\n",
    "user_3 = user_3 - np.mean(user_3_complete)\n",
    "\n",
    "1 - spatial.distance.cosine(user_1, user_3)"
   ]
  },
  {
   "cell_type": "code",
   "execution_count": 79,
   "id": "5c59d03c",
   "metadata": {},
   "outputs": [
    {
     "ename": "NameError",
     "evalue": "name 'a_complete' is not defined",
     "output_type": "error",
     "traceback": [
      "\u001b[0;31m---------------------------------------------------------------------------\u001b[0m",
      "\u001b[0;31mNameError\u001b[0m                                 Traceback (most recent call last)",
      "Input \u001b[0;32mIn [79]\u001b[0m, in \u001b[0;36m<cell line: 5>\u001b[0;34m()\u001b[0m\n\u001b[1;32m      2\u001b[0m a \u001b[38;5;241m=\u001b[39m [\u001b[38;5;241m1\u001b[39m, \u001b[38;5;241m5\u001b[39m, \u001b[38;5;241m4\u001b[39m]\n\u001b[1;32m      3\u001b[0m c \u001b[38;5;241m=\u001b[39m [\u001b[38;5;241m2\u001b[39m, \u001b[38;5;241m4\u001b[39m, \u001b[38;5;241m5\u001b[39m]\n\u001b[0;32m----> 5\u001b[0m a \u001b[38;5;241m=\u001b[39m a\u001b[38;5;241m-\u001b[39mnp\u001b[38;5;241m.\u001b[39mmean(\u001b[43ma_complete\u001b[49m)\n\u001b[1;32m      6\u001b[0m c \u001b[38;5;241m=\u001b[39m b\u001b[38;5;241m-\u001b[39mnp\u001b[38;5;241m.\u001b[39mmean(b_complete)\n\u001b[1;32m      8\u001b[0m \u001b[38;5;241m1\u001b[39m \u001b[38;5;241m-\u001b[39m spatial\u001b[38;5;241m.\u001b[39mdistance\u001b[38;5;241m.\u001b[39mcosine(a, b)\n",
      "\u001b[0;31mNameError\u001b[0m: name 'a_complete' is not defined"
     ]
    }
   ],
   "source": [
    "user_6_complete = [1, 3, 3, 2, 4]\n",
    "user_1 = [1, 3, 4]\n",
    "user_6 = [1, 3, 4]\n",
    "\n",
    "user_1 = user_1 - np.mean(user_1_complete)\n",
    "user_6 = user_6 - np.mean(user_6_complete)\n",
    "\n",
    "1 - spatial.distance.cosine(user_1, user_6)"
   ]
  },
  {
   "cell_type": "markdown",
   "id": "2608f332",
   "metadata": {},
   "source": [
    "### Example: Computing the Rating\n",
    "\n",
    "* We compute the rating for movie 5 for user `1` as the distance-scaled ratings of users `3` and `6` \n",
    "\n",
    "$$\n",
    "rating_{1,5} = ((0.65 * 2) + ( 0.76 * 3)) / (0.65 + 0.76) = 2.53\n",
    "$$\n"
   ]
  },
  {
   "cell_type": "markdown",
   "id": "b9202b3b",
   "metadata": {},
   "source": [
    "### Evaluating Inference\n",
    "\n",
    "- Given a partially filled matrix how can we evaluate the quality of our inference?\n",
    "\n",
    "<img src=\"https://www.dropbox.com/s/qa8vdt22k0sjuq8/missing.png?dl=0\">\n"
   ]
  },
  {
   "cell_type": "markdown",
   "id": "755adece",
   "metadata": {},
   "source": [
    "### Evaluating Inference: Approach\n",
    "\n",
    "* Randomly pick X% (typically 20%) of the data and turn it into missing values\n",
    "  * Some users may not contribute if they don't have many ratings.\n",
    "<img src=\"https://www.dropbox.com/s/qa8vdt22k0sjuq8/missing.png?dl=1\" width=500>\n",
    "* Predict ratings and use the ones masked to estimate how close the predictions were \n",
    "  * Use metrics such as the following to estimate how far off the predictions are:\n",
    "    * MAE (mean absolute error): $\\frac{1}{n}\\sum |p_i - r_i|$ \n",
    "    * RMSE (root mean squared error): $\\sqrt{\\frac{1}{n} \\sum(p_i - r_i)^2}$ \n",
    "    "
   ]
  },
  {
   "cell_type": "markdown",
   "id": "d3a8450e",
   "metadata": {},
   "source": [
    "### Evaluating Inference: Top-N Recommendations and Ranked Metrics\n",
    "\n",
    "* Typically, predicting an actual recommendation value is not required.\n",
    "  * We predicted ratings of 5 and 4.5 for two movies but the user rated them as 4.5 and 4. Our prediction is considered accurate since the order of preference is the same.\n",
    "    * We predicted that the user would like the first movie more than the second, which was correct\n",
    "  \n",
    "  * We predicted ratings of 5 and 4.5 for two movies but the user rated them as 4.5 and 5. This is problematic since the order of preference is different\n",
    "      * We predicted that the user would like the second movie more than the first, which was erroneous.\n",
    "      \n",
    "* In this regard, it is important to evaluate whether the ranking we have derived makes sense.       \n"
   ]
  },
  {
   "cell_type": "markdown",
   "id": "abc0b4b7",
   "metadata": {},
   "source": [
    "### Evaluating Inference: Top-N Recommendations and Ranked Metrics\n",
    "\n",
    "* This is typically solved nu computing rank-based metrics\n",
    "  * How similar to the ground truth is the predicted ranking over the top N recommendations \n",
    "    * We focus on top-n since the low-ranked value may be overlooked by the user.\n",
    "\n",
    "<img src=\"https://www.dropbox.com/s/0bnz6z6z6cb7vvr/ranked_results.png?dl=1\">\n",
    "\n",
    "* See definitions of rank-based metrics such as Normlized Discounted Cumulative Gain (NDCG) in the MMDS book"
   ]
  },
  {
   "attachments": {},
   "cell_type": "markdown",
   "id": "524a50f0",
   "metadata": {},
   "source": [
    "### Evaluating Inference \n",
    "\n",
    "\n",
    "* Other issues that need to be accounted for are:\n",
    "  * Recommendation diversity:\n",
    "    * Recommending only harry potter movies to some who like Harry Potter 1 (the Sorcerer's Stone) shows lack of diversity.\n",
    "  * Recommendation Context\n",
    "    * users selecting a documentary about the queen of England immedately after her death does not mean he is interested in all documentaries about the queen much later.\n",
    "\n"
   ]
  },
  {
   "cell_type": "markdown",
   "id": "e27468b2",
   "metadata": {},
   "source": [
    "### Concluding Remarks\n",
    "* There are many other approaches to collaborative filters.\n",
    "  * Some methods use linear algebra, while other users use dimensionality reduction of deep learning\n",
    "* From MMDS (based on students' experiences): Don’t try to reduce data size in an effort to make fancy algorithms work.\n",
    "    * Simple methods on large data do best\n",
    "    * Add more ancillary data\n",
    "      * e.g., add IMDB data on genres\n",
    "\n",
    "   * [More data beats better algorithms](http://anand.typepad.com/datawocky/2008/03/more-data-usual.html)"
   ]
  },
  {
   "cell_type": "code",
   "execution_count": null,
   "id": "d0f22203",
   "metadata": {},
   "outputs": [],
   "source": []
  }
 ],
 "metadata": {
  "kernelspec": {
   "display_name": "Python 3 (ipykernel)",
   "language": "python",
   "name": "python3"
  },
  "language_info": {
   "codemirror_mode": {
    "name": "ipython",
    "version": 3
   },
   "file_extension": ".py",
   "mimetype": "text/x-python",
   "name": "python",
   "nbconvert_exporter": "python",
   "pygments_lexer": "ipython3",
   "version": "3.8.13"
  }
 },
 "nbformat": 4,
 "nbformat_minor": 5
}
