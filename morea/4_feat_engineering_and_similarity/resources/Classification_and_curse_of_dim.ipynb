{
 "cells": [
  {
   "cell_type": "markdown",
   "id": "b769f13d",
   "metadata": {
    "slideshow": {
     "slide_type": "slide"
    }
   },
   "source": [
    "### Classification for Big Data\n",
    "\n",
    "* Similar to a regression, the objective of classification is to come up with a function that best describes (approximates) an output $y$.\n",
    "  * Unlike Regression, the objective is to model a categorical outcome, i.e., a label\n",
    "  \n",
    "* Estimate a function $f(x)$ so that $y = f(x)$\n",
    "\n",
    "* The data is labeled as pairs of $\\{(x_1, y_1), (x_2, y_2), .... (x_n, y_n)\\}$, where \n",
    "  * $x$ is an input feature vector \n",
    "  * $y$ is the category we would like to predict\n",
    "    * Also referred to as a class or label     \n",
    "\n",
    "* A very simple, yet efficient approach to achieve this is through the k-nearest neighbors algorithm"
   ]
  },
  {
   "cell_type": "markdown",
   "id": "4190ed11",
   "metadata": {
    "slideshow": {
     "slide_type": "slide"
    }
   },
   "source": [
    "### Nearest Neighbor Algorithm\n",
    "\n",
    "* A simple approach to classification consists simply of assigning new observations to the same class as the instances to which they are similar\n",
    "* Birds of a feather flock together\n",
    "\n",
    "* Classify a new $x^*$ by finding the training example (x_i, y_i) closest to it.\n",
    "\n",
    "The class $y^*$ for the new observation is $y_i$\n",
    "\n",
    "* The number of instances we can compare to can be set upfront.\n",
    "  * We can choose any $k$ number of instances to compare against\n",
    "  * Decide based on a consensus if there is a disagreement in the neighbors' classes.\n",
    "  * Hence the algorithm k-nearest instances (k-nearest neighbors)\n",
    " \n"
   ]
  },
  {
   "cell_type": "markdown",
   "id": "1bfb3a1d",
   "metadata": {
    "slideshow": {
     "slide_type": "slide"
    }
   },
   "source": [
    "### k-Nearest Neighbor Algorithm\n",
    "\n",
    "* The $k$-nearest neighbors algorithm\n",
    "\n",
    "* Distance metric:\n",
    "  * Euclidean distance, i.e., the length of the segment (straight line) that separate two points in Euclidean space.\n",
    "* How many neighbors to look at?\n",
    " $$k>=1$$ \n",
    "* Weighting function\n",
    "  * Optional, but typically takes distance into consideration\n",
    "* Consensus approach\n",
    " * Majority rule\n",
    " * weighted majority\n",
    " * etc."
   ]
  },
  {
   "cell_type": "markdown",
   "id": "f9f26798",
   "metadata": {
    "slideshow": {
     "slide_type": "slide"
    }
   },
   "source": [
    "### About the Euclidean distance\n",
    "\n",
    "Using the pythagorean theorem, we have\n",
    "\n",
    "<img src=\"https://www.dropbox.com/s/gpc2eg1umddhcsz/euclidean_distance.png?dl=1\" alt=\"drawing\" style=\"width:300px;\"/>\n",
    "\n",
    "$$\n",
    "d^2 = (x2-x1)^2 + (y2-y1)^2  \\Rightarrow  d = \\sqrt{(x2-x1)^2 + (y2-y1)^2}\n",
    "$$\n",
    "where $d$ is the distnace between the two points (in blue).\n",
    "\n",
    "in high-demensional space, the distance between two points $x_i = (x_{i,1}, x_{i,2}, x_{i,3}, .... x_{i,d})$ and $x_j= (x_{j,1}, x_{j,2}, x_{j,3}, .... x_{j,d})$ is:\n",
    "\n",
    "$$\n",
    "d = \\sqrt{(x_{i,1} - x_{j,1})^2 + (x_{i,2} - x_{j,2})^2 + \\dots + (x_{i,d} - x_{j,d})^2}\n",
    "$$\n",
    "\n"
   ]
  },
  {
   "cell_type": "markdown",
   "id": "899e3cf6",
   "metadata": {
    "slideshow": {
     "slide_type": "slide"
    }
   },
   "source": [
    "###  Finding the k-Closest Instances\n",
    "\n",
    "* Given a set $P$ of n points with $D$ features\n",
    "  * The points are in $R^D$ space\n",
    "* Given a query $x^*$, find the nearest neighbors of $x^*$ in $P$\n",
    "\n",
    "* This needs to be carried out efficiently.\n",
    "  * The naive solution would require inspecting all $n$ points to label each query $x^*$ \n",
    "\n",
    "![](https://www.dropbox.com/s/36yxn97bz11yird/nearest_p.png?dl=1)"
   ]
  },
  {
   "cell_type": "markdown",
   "id": "ce9e8055",
   "metadata": {
    "slideshow": {
     "slide_type": "slide"
    }
   },
   "source": [
    "###  Finding the k-Closest Instances - Algorithms\n",
    "* Linear scan\n",
    "  * O(N)\n",
    "* Random projections  \n",
    "  * Probabilistic behavior that may miss some neighbors if optimized for computational efficiency\n",
    "* Tree-Based Algorithms\n",
    "  * O(n log2 n) if an O(n log n) sort such as Heapsort or Mergesort is used to find the median at each level of the nascent tree;\n"
   ]
  },
  {
   "cell_type": "markdown",
   "id": "1cbdedd6",
   "metadata": {
    "slideshow": {
     "slide_type": "slide"
    }
   },
   "source": [
    "### K-D Tree  Data Structure\n",
    "\n",
    "* A space-partitioning data structure for organizing points in a k-dimensional space\n",
    "* A binary tree in which every node is a k-dimensional point.\n",
    "* Every internal node is a node that splits hyperplane into two parts (half-spaces)\n",
    "  * Ex. split at some \"value\" for feature $z$ -> all points in the subtree with a smaller \"z\" value than the node will appear in the left subtree and all points with larger \"z\" value will be in the right subtree. \n",
    "![](https://www.dropbox.com/s/qv61pltvk6sibql/kd_tree.png?dl=1)\n"
   ]
  },
  {
   "cell_type": "markdown",
   "id": "ade82d78",
   "metadata": {
    "slideshow": {
     "slide_type": "slide"
    }
   },
   "source": [
    "### K-D Tree  Data Structure\n",
    "\n",
    "<img src=\"https://www.dropbox.com/s/tj0y0m4mebiyijv/3dtree.png?dl=1\" style=\"width:350px;\"> \n"
   ]
  },
  {
   "cell_type": "markdown",
   "id": "56c489c0",
   "metadata": {
    "slideshow": {
     "slide_type": "slide"
    }
   },
   "source": [
    "### Handling Points Close to a Boundary\n",
    "\n",
    "* Start from the root and thread the nodes to find the region containing a query $x^*$\n",
    "\n",
    "* Search all the regions that intersect the region containing $x^*$\n",
    "  * In the unlikely event that we are unable to find K nearest neighbors, we can expand the search to other regions recursively\n",
    "  \n",
    "![](https://www.dropbox.com/s/1dn9oqmuxyzg2ky/kdd_search.png?dl=1)\n"
   ]
  },
  {
   "cell_type": "markdown",
   "id": "b98a052b",
   "metadata": {},
   "source": [
    "# Apprixmate Nearest Neighbors\n",
    "\n",
    "* The trivial algorithm to find neighbors requires processing all queries. How can we find the closest neighbor in less time?\n",
    "* Often times, we can do with the approximate closest neighbors. One of the approach to work with large datasets\n",
    "  * Perfectly fine for large datasets that are dense.\n",
    "  Annoy (Axpproximate Nearest Neighbors Oh Yeah!)  \n",
    "https://github.com/spotify/annoy\n",
    "\n",
    "See image below.\n",
    "* Log complexity in time to search \n",
    "\n",
    "The storage depends on the number of trees we will need to use (A  forest).\n",
    "Each of the trees only hold labels. The value are still contained in a single location "
   ]
  },
  {
   "cell_type": "markdown",
   "id": "40b2ab9f",
   "metadata": {
    "slideshow": {
     "slide_type": "slide"
    }
   },
   "source": [
    "### Weighting function\n",
    "\n",
    "### Weighting function\n",
    "\n",
    "* We can weigh the contribution of a neighbor based on its distance from the query\n",
    "  * Ideal for using k-nearest neighbor in regression\n",
    "\n",
    "* We compute the distance as: \n",
    "\n",
    "$$\n",
    "w^* = \\text{exp}(-\\frac{d(x^*, p)^2}{K_w}),\n",
    "$$\n",
    "\n",
    "where: \n",
    "\n",
    "* $d$ is the distance function (typically Euclidean distance)\n",
    "* $k_w$ is the bandwidth of the function\n",
    "\n",
    "![](https://www.dropbox.com/s/ph6tgqs35xwf6y3/distance_example.png?dl=1)\n"
   ]
  },
  {
   "cell_type": "code",
   "execution_count": 24,
   "id": "3cc737eb",
   "metadata": {
    "slideshow": {
     "slide_type": "slide"
    }
   },
   "outputs": [
    {
     "data": {
      "text/plain": [
       "<matplotlib.legend.Legend at 0x7fdfd67df850>"
      ]
     },
     "execution_count": 24,
     "metadata": {},
     "output_type": "execute_result"
    },
    {
     "data": {
      "image/png": "[encoded data removed]",
      "text/plain": [
       "<Figure size 864x432 with 1 Axes>"
      ]
     },
     "metadata": {
      "needs_background": "light"
     },
     "output_type": "display_data"
    }
   ],
   "source": [
    "import matplotlib.pyplot as plt\n",
    "plt.figure(figsize=(12,6))\n",
    "import numpy as np\n",
    "k_w =1\n",
    "x = np.arange(0,20,0.05)\n",
    "plt.plot(x, np.exp(-x/k_w), label= f\"$exp(d), k_w = {k_w}$\")\n",
    "k_w = 2\n",
    "plt.plot(x, np.exp(-x/k_w), label= f\"$exp(d), k_w = {k_w}$\")\n",
    "\n",
    "k_w = 5\n",
    "plt.plot(x, np.exp(-x/k_w), label= f\"$exp(d), k_w = {k_w}$\")\n",
    "\n",
    "plt.legend()"
   ]
  },
  {
   "cell_type": "markdown",
   "id": "bc08abed",
   "metadata": {
    "slideshow": {
     "slide_type": "slide"
    }
   },
   "source": [
    "### Effect of the Bandwidth of the Contribution\n",
    "\n",
    "![](https://www.dropbox.com/s/7u71mwg9aqz2tz5/bandwidth.png?dl=1)"
   ]
  },
  {
   "cell_type": "markdown",
   "id": "ae6fdde5",
   "metadata": {
    "slideshow": {
     "slide_type": "slide"
    }
   },
   "source": [
    "### KNN Advantages and Inconvenients\n",
    "\n",
    "* Easy to implement and understand\n",
    "  * Implemented on most platforms, \n",
    "* Promotes interpretability since we can use neighbors to better understand the decision\n",
    "* No optimization or training required\n",
    "  * Can do some training to learn the best $k$\n",
    "* Can lead to very good classification accuracy, often outperforming much more complex models\n",
    "  * Test below not representative of very large data...\n",
    "![](https://www.dropbox.com/s/djkyl5dfkexrhx2/classification_comparison.png?dl=1)"
   ]
  },
  {
   "cell_type": "markdown",
   "id": "c1918978",
   "metadata": {
    "slideshow": {
     "slide_type": "slide"
    }
   },
   "source": [
    "### KNN Disadvantages\n",
    "\n",
    "* Fails to work well with very high-dimensional data.\n",
    "  * The curse of dimensionality makes it such that the closest neighbor may not be similar enough for classification purposes\n",
    "\n",
    "* Even when implemented with an efficient data structure, the algorithm must pass through a subset of the data\n",
    "\n",
    "  * Can be computationally prohibitive for extremely large data"
   ]
  },
  {
   "cell_type": "markdown",
   "id": "8be2615f",
   "metadata": {
    "slideshow": {
     "slide_type": "slide"
    }
   },
   "source": [
    "### The Curse of Dimensionality\n",
    "\n",
    "* The distance between points increase as the number of dimension increases\n",
    "\n",
    "<img src=\"https://www.dropbox.com/s/3z8jh9esppvadrw/curse_dim.png?dl=1\" style=\"width:550px;\"> \n",
    "\n"
   ]
  }
 ],
 "metadata": {
  "celltoolbar": "Slideshow",
  "kernelspec": {
   "display_name": "Python 3 (ipykernel)",
   "language": "python",
   "name": "python3"
  },
  "language_info": {
   "codemirror_mode": {
    "name": "ipython",
    "version": 3
   },
   "file_extension": ".py",
   "mimetype": "text/x-python",
   "name": "python",
   "nbconvert_exporter": "python",
   "pygments_lexer": "ipython3",
   "version": "3.8.11"
  }
 },
 "nbformat": 4,
 "nbformat_minor": 5
}
