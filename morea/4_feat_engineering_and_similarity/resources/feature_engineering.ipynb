{
 "cells": [
  {
   "cell_type": "markdown",
   "id": "13c7eb0c-63e9-4908-a108-2c4f16fbd8a2",
   "metadata": {},
   "source": [
    "### Analyzing  Large Collection of Documents\n",
    "\n",
    "* Identifying Common Content: Finding overlap or common content among multiple documents.\n",
    "  * Word Handling: Specifically, it looks at non-stop words (words that carry significant meaning) to determine the relationship and content of the documents.\n",
    "    * Raw Word Counting: It considers the sheer occurrence of words without diving deep into the semantics or the context in which the word is used.\n",
    "\n",
    "* While this approach offers a straightforward way to analyze documents, there are certain limitations we need to be aware of.\n",
    "\n"
   ]
  },
  {
   "cell_type": "markdown",
   "id": "0cf652b4",
   "metadata": {
    "slideshow": {
     "slide_type": "slide"
    }
   },
   "source": [
    "### Overlapping Issues in Large Document Sets\n",
    "\n",
    "* As we include more diverse documents, the common content between them becomes smaller reduces.\n",
    "  * \"Sparses matches\"\n",
    "  * This can negatively impact \"similarity\" and subsequent tasks like clustering and classification.\n",
    "\n",
    "* Taking all non-stop words from combined documents results in significantly large datasets.\n",
    "\n",
    "\n",
    "* Words with similar beginnings like \"leave,\" \"leaving,\" and \"left\" are counted differently, even though they might express similar ideas.\n",
    "Ignoring Word Semantics\n",
    "  * We don't account for the different meanings a word can have based on context. For example:\n",
    "    * \"She works at the bank across the street\" versus \"houses on the bank of the river flooded due to a storm surge.\"\n",
    "* Accurately understanding word semantics in context is a challenging task and we will delve into this later."
   ]
  },
  {
   "cell_type": "markdown",
   "id": "890cf84a",
   "metadata": {
    "slideshow": {
     "slide_type": "slide"
    }
   },
   "source": [
    "### Distribution of Words in a Text \n",
    "\n",
    "* The frequency distribution of words in a language follows Zipf's law\n",
    "  * Just FYI: this makes computign statistics rather difficult or impossible\n",
    "  \n",
    "![](https://www.dropbox.com/s/neydq8wi2kqqof3/zipf_law.png?dl=1)"
   ]
  },
  {
   "cell_type": "markdown",
   "id": "51bbf775",
   "metadata": {
    "slideshow": {
     "slide_type": "slide"
    }
   },
   "source": [
    "### Understanding Document Similarity: How We Measure a Match\n",
    "\n",
    "* When we search for documents in Information Retrieval (IR), the goal is often to rank the results based on their relevance:\n",
    "  * We want to find documents that are similar to our search criteria.\n",
    "\n",
    "* The ideal result would rank these documents by how closely they match the search term.\n",
    "* The aim is to list the most relevant documents first, making it easier for the searcher to find what they're looking for.\n",
    "  * So, how do we decide the order of these documents in relation to a search term?\n",
    "  * We give each document a score between 0 and 1.\n",
    "* This score tells us how closely the document aligns with the search query.\n",
    "  * Over the years, experts have come up with many innovative solutions in the Document Retrieval field to address these challenges.\n",
    "\n"
   ]
  },
  {
   "cell_type": "markdown",
   "id": "73c78ec3",
   "metadata": {
    "slideshow": {
     "slide_type": "slide"
    }
   },
   "source": [
    "### Measuring Document Similarity: Calculating a Match Score\n",
    "\n",
    "* Think about a simple search using just one term.\n",
    "\n",
    "* If the document doesn't have the search term, the score is 0.\n",
    "\n",
    "* If the search term appears often in the document, the score should increase.\n"
   ]
  },
  {
   "cell_type": "markdown",
   "id": "2723aaa2",
   "metadata": {
    "slideshow": {
     "slide_type": "slide"
    }
   },
   "source": [
    "### Understanding the Jaccard Coefficient\n",
    "\n",
    "* Jaccard Coefficient measures the overlap between two sets, A and B.\n",
    "  * It calculates the overlap by considering all the terms in both A and B.\n",
    "\n",
    "* It works even if A and B are of different sizes.\n",
    "\n",
    "* The result is always a value between 0 and 1.\n",
    "\n",
    "* Limitations:\n",
    "  * It doesn't account for how often a term appears.\n",
    "  * It doesn't recognize that rare terms can be more valuable than common ones.\n",
    "    * This is why simply looking at the intersection might not always be best.\n",
    "\n",
    "* A better method is needed to adjust for length, rather than just using $|A \\cup B|$.\n"
   ]
  },
  {
   "cell_type": "markdown",
   "id": "6049f2f6",
   "metadata": {
    "slideshow": {
     "slide_type": "slide"
    }
   },
   "source": [
    "### Understanding Term-Document Count Matrices\n",
    "\n",
    "* A count matrix displays the frequency of each word within a document.\n",
    "  * This approach, known as the \"bag of words\" model\n",
    "* The sequence of words in the document is not taken into account.\n",
    "* For instance, the phrases `John is quicker than Mary` and `Mary is quicker than John` would produce identical vectors in this model.\n"
   ]
  },
  {
   "cell_type": "markdown",
   "id": "cdf88fb4",
   "metadata": {
    "slideshow": {
     "slide_type": "slide"
    }
   },
   "source": [
    "### Understanding Term Frequency (`tf`)\n",
    "\n",
    "* The term frequency, denoted as $tf_{t,d}$, represents how many times a term $t$ appears in a document $d$.\n",
    "* While a higher $tf$ can indicate a better match, it's not always directly tied to the significance of that match. For instance:\n",
    "  \n",
    "  * A document where the term appears 10 times is more relevant than one where it appears just once. However, it's not necessarily 10 times more relevant.\n",
    "  \n",
    "  * This means the relevance doesn't scale linearly with the term frequency.\n"
   ]
  },
  {
   "cell_type": "markdown",
   "id": "cec1e540",
   "metadata": {
    "slideshow": {
     "slide_type": "slide"
    }
   },
   "source": [
    "### Understanding Log-Frequency Weighting\n",
    "\n",
    "* The weight of term $t$ in document $d$ can be determined using log-frequency as:\n",
    "\n",
    "$$\n",
    "w_{t,d} = \\begin{cases} \n",
    "1+\\log_{10}\\mbox{tf}_{t,d} & \\text{if } \\mbox{tf}_{t,d} > 0 \\\\\n",
    "0 & \\text{otherwise}\n",
    "\\end{cases}\n",
    "$$\n",
    "\n",
    "* As a reference: \n",
    "  * 0 maps to 0\n",
    "  * 1 maps to 1\n",
    "  * 2 maps to 1.3\n",
    "  * 10 maps to 2\n",
    "  * 1000 maps to 4, and so on.\n",
    "\n",
    "* To calculate the score for a document-query pair, sum over terms `t` present in both the query (`q`) and the document (`d`):\n",
    "\n",
    "$$\n",
    "\\mbox{score} = \\sum_{t\\in q \\cap d}(1+\\log_{10}\\mbox{tf}_{t,d})\n",
    "$$\n",
    "\n",
    "* A score of 0 indicates that none of the terms from the query are found in the document.\n",
    "* While there might be different formulas, the core idea behind this calculation remains consistent.\n"
   ]
  },
  {
   "cell_type": "markdown",
   "id": "f0e78dad",
   "metadata": {
    "slideshow": {
     "slide_type": "slide"
    }
   },
   "source": [
    "### Importance of Document Frequency\n",
    "\n",
    "* The challenge of rare terms remains:\n",
    "  * Rare terms often provide more valuable information than common ones.\n",
    "    * Think of stop words as an example.\n",
    "* Take the term 'arachnid' in a query, which is seldom found in the collection:\n",
    "  * A document that includes this term is highly probable to be pertinent to the query 'arachnid'.\n",
    "  * This term significantly aids in contrasting documents effectively.\n",
    "  * Therefore, it's beneficial to assign a higher weight to infrequent terms like 'arachnid'.\n"
   ]
  },
  {
   "cell_type": "markdown",
   "id": "cae0aaf1",
   "metadata": {
    "slideshow": {
     "slide_type": "slide"
    }
   },
   "source": [
    "### Continuing with Document Frequency\n",
    "\n",
    "* Common terms often offer less unique information than their rarer counterparts.\n",
    "* Think of a query term that's widely seen in the collection, like `high`, `increase`, or `true`:\n",
    "  * Solely using the $tf$ score, a document with these terms seems more relevant compared to one without.\n",
    "  * However, this doesn't guarantee its significance.\n",
    "* To evaluate how often a term appears across documents, we'll determine (or normalize using) its document frequency, denoted as `df`.\n"
   ]
  },
  {
   "cell_type": "markdown",
   "id": "16410223",
   "metadata": {
    "slideshow": {
     "slide_type": "slide"
    }
   },
   "source": [
    "### Inverse Document Frequency (`idf`)\n",
    "\n",
    "- $\\mbox{df}_{t,d}$ represents the frequency of term $t$ within document $d$.\n",
    "- $\\mbox{df}_t$ serves as an inverse gauge of the term $t$'s informativeness.\n",
    "  * Note: $\\mbox{df}_t \\le N$, with $N$ being the entire document count.\n",
    "\n",
    "- The inverse document frequency ($\\mbox{idf}$) of term $t$ is defined as:\n",
    "$$\n",
    "idf_t = log_{10}(N/\\mbox{df}_t)\n",
    "$$\n",
    "\n",
    "- We opt for the inverse since it's more practical than handling minuscule numbers, especially when $N$ is much larger than $\\mbox{df}_t$.\n",
    "- The logarithm (`log`) is incorporated to temper the `idf` effect, which becomes especially vital when managing vast document sets.\n"
   ]
  },
  {
   "cell_type": "markdown",
   "id": "d55756d6",
   "metadata": {
    "slideshow": {
     "slide_type": "slide"
    }
   },
   "source": [
    "### Term Frequency-Inverse Document Frequency (`tf-idf`) Scheme\n",
    "\n",
    "- The `tf-idf` weight of a term is derived from multiplying its term frequency (`tf`) and inverse document frequency (`idf`).\n",
    "\n",
    "$$\n",
    "\\begin{split}\n",
    "w_{t,d} &= \\mbox{tf}_{t,d} \\times \\mbox{idf}_t \\\\\n",
    "&= log(1+\\mbox{tf}_{t,d}) \\times log(N/\\mbox{df}_t)\n",
    "\\end{split}\n",
    "$$\n",
    "- This weighting method is a well-accepted strategy in the realm of information retrieval.\n",
    "  * Other references: tf.idf, tf x idf\n",
    "\n",
    "- The weight:\n",
    "  * Rises as a term's occurrence within a document increases.\n",
    "  * Also grows with the term's scarcity across the entire document set.\n"
   ]
  },
  {
   "cell_type": "markdown",
   "id": "4955c6d6",
   "metadata": {
    "slideshow": {
     "slide_type": "slide"
    }
   },
   "source": [
    "### Score for a Document Given a Query\n",
    "\n",
    "\n",
    "$$\n",
    "Score(Q, T) = \\sum_{t\\in Q\\cap T} \\mbox{tf}.\\mbox{idf}_{t,d}\n",
    "$$\n",
    "\n",
    "* There are many variants\n",
    "  * How `tf` is computed (with/without logs)\n",
    "  * Whether the terms in the query are also weighted\n",
    "\n",
    "\n"
   ]
  },
  {
   "cell_type": "markdown",
   "id": "12bfc8d6",
   "metadata": {
    "slideshow": {
     "slide_type": "slide"
    }
   },
   "source": [
    "### Using `tf-idf` for Feature Engineering\n",
    "* Each document is represented by a real-valued vector of $\\mbox{tf-idf}$ weights $\\in R^{|V|}$\n",
    "\n",
    "![](https://www.dropbox.com/s/1bx77e488ee6wek/count_tf_idf.png?dl=1)"
   ]
  },
  {
   "cell_type": "code",
   "execution_count": 50,
   "id": "cd99bd6b-862c-41c3-88f5-913d1012c6f6",
   "metadata": {},
   "outputs": [
    {
     "data": {
      "text/plain": [
       "{'doc_1': ['the', 'sky', 'is', 'blue'],\n",
       " 'doc_2': ['the', 'sun', 'is', 'bright'],\n",
       " 'doc_3': ['the', 'sun', 'in', 'the', 'sky', 'is', 'bright']}"
      ]
     },
     "execution_count": 50,
     "metadata": {},
     "output_type": "execute_result"
    }
   ],
   "source": [
    "import math\n",
    "\n",
    "docs = {\n",
    "    \"doc_1\": \"the sky is blue\",\n",
    "    \"doc_2\": \"the sun is bright\",\n",
    "    \"doc_3\": \"the sun in the sky is bright\",\n",
    "}\n",
    "\n",
    "docs = {k: v.lower().split() for k, v in docs.items()}\n",
    "docs"
   ]
  },
  {
   "cell_type": "code",
   "execution_count": 166,
   "id": "dd13d746",
   "metadata": {},
   "outputs": [],
   "source": [
    "N = len(docs)\n",
    "\n",
    "def compute_tf(term, document):\n",
    "    return document.count(term)\n",
    "assert compute_tf(\"the\",  docs['doc_1']) == 1\n"
   ]
  },
  {
   "cell_type": "code",
   "execution_count": 167,
   "id": "27b4dae4",
   "metadata": {},
   "outputs": [],
   "source": [
    "assert compute_tf(\"the\",  docs['doc_3']) == 2\n"
   ]
  },
  {
   "cell_type": "code",
   "execution_count": 168,
   "id": "bb07f932",
   "metadata": {},
   "outputs": [
    {
     "data": {
      "text/plain": [
       "3"
      ]
     },
     "execution_count": 168,
     "metadata": {},
     "output_type": "execute_result"
    }
   ],
   "source": [
    "term= \"the\"\n",
    "\n",
    "sum(1 for document in docs.values() if term in document)\n"
   ]
  },
  {
   "cell_type": "code",
   "execution_count": 169,
   "id": "792967db",
   "metadata": {},
   "outputs": [
    {
     "data": {
      "text/plain": [
       "2"
      ]
     },
     "execution_count": 169,
     "metadata": {},
     "output_type": "execute_result"
    }
   ],
   "source": [
    "term= \"sky\"\n",
    "sum(1 for document in docs.values() if term in document)\n"
   ]
  },
  {
   "cell_type": "code",
   "execution_count": 170,
   "id": "5af74a49",
   "metadata": {},
   "outputs": [
    {
     "data": {
      "text/plain": [
       "1"
      ]
     },
     "execution_count": 170,
     "metadata": {},
     "output_type": "execute_result"
    }
   ],
   "source": [
    "term= \"blue\"\n",
    "sum(1 for document in docs.values() if term in document)\n"
   ]
  },
  {
   "cell_type": "code",
   "execution_count": 171,
   "id": "3b6ea9d3",
   "metadata": {},
   "outputs": [
    {
     "data": {
      "text/plain": [
       "1.0"
      ]
     },
     "execution_count": 171,
     "metadata": {},
     "output_type": "execute_result"
    }
   ],
   "source": [
    "def compute_idf(term, documents):\n",
    "    N = len(documents)\n",
    "    df = sum(1 for document in documents if term in document)    \n",
    "    return math.log((1 + N) / (1 + df)) + 1\n",
    "\n",
    "compute_idf(\"the\", docs.values())"
   ]
  },
  {
   "cell_type": "code",
   "execution_count": 172,
   "id": "280a8b22",
   "metadata": {},
   "outputs": [],
   "source": [
    "assert compute_idf(\"the\", docs.values()) == math.log10(4 / 4) + 1\n",
    "\n"
   ]
  },
  {
   "cell_type": "code",
   "execution_count": 173,
   "id": "1dda3555",
   "metadata": {},
   "outputs": [
    {
     "data": {
      "text/plain": [
       "1.0"
      ]
     },
     "execution_count": 173,
     "metadata": {},
     "output_type": "execute_result"
    }
   ],
   "source": [
    "def compute_tf_idf(term, document, documents):\n",
    "    tf = compute_tf(term, document)\n",
    "    idf = compute_idf(term, documents)\n",
    "    return round(tf * idf, 2)\n",
    "\n",
    "compute_tf_idf(\"the\",  docs[\"doc_1\"], docs.values())\n"
   ]
  },
  {
   "cell_type": "code",
   "execution_count": 174,
   "id": "d83e8574",
   "metadata": {},
   "outputs": [
    {
     "data": {
      "text/plain": [
       "1.29"
      ]
     },
     "execution_count": 174,
     "metadata": {},
     "output_type": "execute_result"
    }
   ],
   "source": [
    "compute_tf_idf(\"sky\",  docs[\"doc_1\"], docs.values())\n"
   ]
  },
  {
   "cell_type": "code",
   "execution_count": 175,
   "id": "470d8cb4",
   "metadata": {},
   "outputs": [
    {
     "data": {
      "text/plain": [
       "1.69"
      ]
     },
     "execution_count": 175,
     "metadata": {},
     "output_type": "execute_result"
    }
   ],
   "source": [
    "compute_tf_idf(\"blue\",  docs[\"doc_1\"], docs.values())"
   ]
  },
  {
   "cell_type": "markdown",
   "id": "6ce64927",
   "metadata": {
    "slideshow": {
     "slide_type": "slide"
    }
   },
   "source": [
    "### Vector Representation in Information Retrieval (IR)\n",
    "\n",
    "- Concept 1: Represent both queries and documents as vectors within a defined space.\n",
    "- Concept 2: Sort documents based on how close their vectors are to the query vector in this space.\n",
    "  * Here, closeness refers to vector similarity.\n",
    "    * Using Euclidean distance might be misleading especially if vectors vary in length.\n",
    "      * Large Euclidean distances can arise between vectors of dissimilar lengths.\n",
    "- Concept 3: Order documents based on the angle they form with the query vector.\n"
   ]
  },
  {
   "cell_type": "code",
   "execution_count": 266,
   "id": "7f294685",
   "metadata": {
    "slideshow": {
     "slide_type": "slide"
    }
   },
   "outputs": [
    {
     "data": {
      "text/plain": [
       "\"the king hath happily received, macbeth,\\nthe news of thy success; and when he reads\\nthy personal venture in the rebels' fight,\\nhis wonders and his praises do contend\\nwhich should be thine or his: silenced with that,\\nin viewing o'er the rest o' the selfsame day,\\nhe finds thee in the stout norweyan ranks,\\nnothing afeard of what thyself didst make,\\nstrange images of death. as thick as hail\\ncame post with post; and every one did bear\\nthy praises in his kingdom's great defence,\\nand pour'd them down before him.\""
      ]
     },
     "execution_count": 266,
     "metadata": {},
     "output_type": "execute_result"
    }
   ],
   "source": [
    "doc_1 = \"\"\"The king hath happily received, Macbeth,\n",
    "The news of thy success; and when he reads\n",
    "Thy personal venture in the rebels' fight,\n",
    "His wonders and his praises do contend\n",
    "Which should be thine or his: silenced with that,\n",
    "In viewing o'er the rest o' the selfsame day,\n",
    "He finds thee in the stout Norweyan ranks,\n",
    "Nothing afeard of what thyself didst make,\n",
    "Strange images of death. As thick as hail\n",
    "Came post with post; and every one did bear\n",
    "Thy praises in his kingdom's great defence,\n",
    "And pour'd them down before him.\"\"\"\n",
    "\n",
    "doc_1 = doc_1.lower()\n",
    "doc_1"
   ]
  },
  {
   "cell_type": "code",
   "execution_count": 267,
   "id": "9b4b8ded",
   "metadata": {},
   "outputs": [
    {
     "data": {
      "text/plain": [
       "\"the king was really happy to hear about your success, macbeth. \\nwhen he read about your brave actions fighting the rebels, he was so impressed he couldn't\\ndecide who to praise more, you or himself. that same day, he noticed you also stood bravely\\nagainst the norwegians and not scared at all, even when facing dangerous situations. many\\nmessengers came, one after the other, all of them talking about how great you were in defending\\nthe kingdom. they all praised you in front of the king.\""
      ]
     },
     "execution_count": 267,
     "metadata": {},
     "output_type": "execute_result"
    }
   ],
   "source": [
    "doc_2 =  \"\"\"The king was really happy to hear about your success, Macbeth. \n",
    "When he read about your brave actions fighting the rebels, he was so impressed he couldn't\n",
    "decide who to praise more, you or himself. That same day, he noticed you also stood bravely\n",
    "against the Norwegians and not scared at all, even when facing dangerous situations. Many\n",
    "messengers came, one after the other, all of them talking about how great you were in defending\n",
    "the kingdom. They all praised you in front of the king.\"\"\"\n",
    "\n",
    "doc_2 = doc_2.lower()\n",
    "doc_2"
   ]
  },
  {
   "cell_type": "code",
   "execution_count": 268,
   "id": "2503ca76",
   "metadata": {},
   "outputs": [],
   "source": [
    "lorem_ipsum = \"\"\"\n",
    "Lorem ipsum dolor sit amet, consectetur adipiscing elit, sed do \n",
    "eiusmod tempor incididunt ut labore et dolore magna aliqua. Ut \n",
    "enim ad minim veniam, quis nostrud exercitation ullamco laboris \n",
    "nisi ut aliquip ex ea commodo consequat. Ut \n",
    "enim ad minim veniam, quis nostrud exercitation ullamco laboris \n",
    "nisi ut aliquip ex ea commodo consequat. \n",
    "\"\"\".lower()"
   ]
  },
  {
   "cell_type": "code",
   "execution_count": 271,
   "id": "ec146570",
   "metadata": {},
   "outputs": [],
   "source": [
    "corpus = [doc_1, doc_2,  doc_1 + lorem_ipsum]\n",
    "\n",
    "compute_tf_idf(\"KING\",  corpus[0], corpus)"
   ]
  },
  {
   "cell_type": "code",
   "execution_count": 272,
   "id": "bae9fb25",
   "metadata": {},
   "outputs": [
    {
     "data": {
      "text/plain": [
       "[\"the king hath happily received, macbeth,\\nthe news of thy success; and when he reads\\nthy personal venture in the rebels' fight,\\nhis wonders and his praises do contend\\nwhich should be thine or his: silenced with that,\\nin viewing o'er the rest o' the selfsame day,\\nhe finds thee in the stout norweyan ranks,\\nnothing afeard of what thyself didst make,\\nstrange images of death. as thick as hail\\ncame post with post; and every one did bear\\nthy praises in his kingdom's great defence,\\nand pour'd them down before him.\",\n",
       " \"the king was really happy to hear about your success, macbeth. \\nwhen he read about your brave actions fighting the rebels, he was so impressed he couldn't\\ndecide who to praise more, you or himself. that same day, he noticed you also stood bravely\\nagainst the norwegians and not scared at all, even when facing dangerous situations. many\\nmessengers came, one after the other, all of them talking about how great you were in defending\\nthe kingdom. they all praised you in front of the king.\",\n",
       " \"the king hath happily received, macbeth,\\nthe news of thy success; and when he reads\\nthy personal venture in the rebels' fight,\\nhis wonders and his praises do contend\\nwhich should be thine or his: silenced with that,\\nin viewing o'er the rest o' the selfsame day,\\nhe finds thee in the stout norweyan ranks,\\nnothing afeard of what thyself didst make,\\nstrange images of death. as thick as hail\\ncame post with post; and every one did bear\\nthy praises in his kingdom's great defence,\\nand pour'd them down before him.\\nlorem ipsum dolor sit amet, consectetur adipiscing elit, sed do \\neiusmod tempor incididunt ut labore et dolore magna aliqua. ut \\nenim ad minim veniam, quis nostrud exercitation ullamco laboris \\nnisi ut aliquip ex ea commodo consequat. ut \\nenim ad minim veniam, quis nostrud exercitation ullamco laboris \\nnisi ut aliquip ex ea commodo consequat. \\n\"]"
      ]
     },
     "execution_count": 272,
     "metadata": {},
     "output_type": "execute_result"
    }
   ],
   "source": [
    "corpus"
   ]
  },
  {
   "cell_type": "code",
   "execution_count": 274,
   "id": "6dc70c50",
   "metadata": {},
   "outputs": [],
   "source": [
    "vocabulary = ['king', 'happily', 'and', \"thy\", \"ipsum\", \"laboris\"]\n",
    "print([compute_tf_idf(v,  corpus[0], corpus) for v in vocabulary])\n",
    "print([compute_tf_idf(v,  corpus[1], corpus) for v in vocabulary])\n",
    "print([compute_tf_idf(v,  corpus[2], corpus) for v in vocabulary])\n"
   ]
  },
  {
   "cell_type": "code",
   "execution_count": null,
   "id": "dae86391",
   "metadata": {},
   "outputs": [],
   "source": []
  },
  {
   "cell_type": "code",
   "execution_count": 158,
   "id": "63fe0278",
   "metadata": {},
   "outputs": [],
   "source": [
    "\n",
    "from sklearn.feature_extraction.text import CountVectorizer\n",
    "\n",
    "from sklearn.feature_extraction.text import TfidfVectorizer\n",
    "\n",
    "from sklearn.pipeline import Pipeline\n",
    "\n"
   ]
  },
  {
   "cell_type": "code",
   "execution_count": 205,
   "id": "693ea1a1-4360-44f1-a997-20681a21d666",
   "metadata": {},
   "outputs": [
    {
     "data": {
      "text/html": [
       "<style>#sk-container-id-8 {color: black;}#sk-container-id-8 pre{padding: 0;}#sk-container-id-8 div.sk-toggleable {background-color: white;}#sk-container-id-8 label.sk-toggleable__label {cursor: pointer;display: block;width: 100%;margin-bottom: 0;padding: 0.3em;box-sizing: border-box;text-align: center;}#sk-container-id-8 label.sk-toggleable__label-arrow:before {content: \"▸\";float: left;margin-right: 0.25em;color: #696969;}#sk-container-id-8 label.sk-toggleable__label-arrow:hover:before {color: black;}#sk-container-id-8 div.sk-estimator:hover label.sk-toggleable__label-arrow:before {color: black;}#sk-container-id-8 div.sk-toggleable__content {max-height: 0;max-width: 0;overflow: hidden;text-align: left;background-color: #f0f8ff;}#sk-container-id-8 div.sk-toggleable__content pre {margin: 0.2em;color: black;border-radius: 0.25em;background-color: #f0f8ff;}#sk-container-id-8 input.sk-toggleable__control:checked~div.sk-toggleable__content {max-height: 200px;max-width: 100%;overflow: auto;}#sk-container-id-8 input.sk-toggleable__control:checked~label.sk-toggleable__label-arrow:before {content: \"▾\";}#sk-container-id-8 div.sk-estimator input.sk-toggleable__control:checked~label.sk-toggleable__label {background-color: #d4ebff;}#sk-container-id-8 div.sk-label input.sk-toggleable__control:checked~label.sk-toggleable__label {background-color: #d4ebff;}#sk-container-id-8 input.sk-hidden--visually {border: 0;clip: rect(1px 1px 1px 1px);clip: rect(1px, 1px, 1px, 1px);height: 1px;margin: -1px;overflow: hidden;padding: 0;position: absolute;width: 1px;}#sk-container-id-8 div.sk-estimator {font-family: monospace;background-color: #f0f8ff;border: 1px dotted black;border-radius: 0.25em;box-sizing: border-box;margin-bottom: 0.5em;}#sk-container-id-8 div.sk-estimator:hover {background-color: #d4ebff;}#sk-container-id-8 div.sk-parallel-item::after {content: \"\";width: 100%;border-bottom: 1px solid gray;flex-grow: 1;}#sk-container-id-8 div.sk-label:hover label.sk-toggleable__label {background-color: #d4ebff;}#sk-container-id-8 div.sk-serial::before {content: \"\";position: absolute;border-left: 1px solid gray;box-sizing: border-box;top: 0;bottom: 0;left: 50%;z-index: 0;}#sk-container-id-8 div.sk-serial {display: flex;flex-direction: column;align-items: center;background-color: white;padding-right: 0.2em;padding-left: 0.2em;position: relative;}#sk-container-id-8 div.sk-item {position: relative;z-index: 1;}#sk-container-id-8 div.sk-parallel {display: flex;align-items: stretch;justify-content: center;background-color: white;position: relative;}#sk-container-id-8 div.sk-item::before, #sk-container-id-8 div.sk-parallel-item::before {content: \"\";position: absolute;border-left: 1px solid gray;box-sizing: border-box;top: 0;bottom: 0;left: 50%;z-index: -1;}#sk-container-id-8 div.sk-parallel-item {display: flex;flex-direction: column;z-index: 1;position: relative;background-color: white;}#sk-container-id-8 div.sk-parallel-item:first-child::after {align-self: flex-end;width: 50%;}#sk-container-id-8 div.sk-parallel-item:last-child::after {align-self: flex-start;width: 50%;}#sk-container-id-8 div.sk-parallel-item:only-child::after {width: 0;}#sk-container-id-8 div.sk-dashed-wrapped {border: 1px dashed gray;margin: 0 0.4em 0.5em 0.4em;box-sizing: border-box;padding-bottom: 0.4em;background-color: white;}#sk-container-id-8 div.sk-label label {font-family: monospace;font-weight: bold;display: inline-block;line-height: 1.2em;}#sk-container-id-8 div.sk-label-container {text-align: center;}#sk-container-id-8 div.sk-container {/* jupyter's `normalize.less` sets `[hidden] { display: none; }` but bootstrap.min.css set `[hidden] { display: none !important; }` so we also need the `!important` here to be able to override the default hidden behavior on the sphinx rendered scikit-learn.org. See: https://github.com/scikit-learn/scikit-learn/issues/21755 */display: inline-block !important;position: relative;}#sk-container-id-8 div.sk-text-repr-fallback {display: none;}</style><div id=\"sk-container-id-8\" class=\"sk-top-container\"><div class=\"sk-text-repr-fallback\"><pre>CountVectorizer(vocabulary=[&#x27;king&#x27;, &#x27;happily&#x27;, &#x27;and&#x27;, &#x27;thy&#x27;, &#x27;ipsum&#x27;,\n",
       "                            &#x27;laboris&#x27;])</pre><b>In a Jupyter environment, please rerun this cell to show the HTML representation or trust the notebook. <br />On GitHub, the HTML representation is unable to render, please try loading this page with nbviewer.org.</b></div><div class=\"sk-container\" hidden><div class=\"sk-item\"><div class=\"sk-estimator sk-toggleable\"><input class=\"sk-toggleable__control sk-hidden--visually\" id=\"sk-estimator-id-8\" type=\"checkbox\" checked><label for=\"sk-estimator-id-8\" class=\"sk-toggleable__label sk-toggleable__label-arrow\">CountVectorizer</label><div class=\"sk-toggleable__content\"><pre>CountVectorizer(vocabulary=[&#x27;king&#x27;, &#x27;happily&#x27;, &#x27;and&#x27;, &#x27;thy&#x27;, &#x27;ipsum&#x27;,\n",
       "                            &#x27;laboris&#x27;])</pre></div></div></div></div></div>"
      ],
      "text/plain": [
       "CountVectorizer(vocabulary=['king', 'happily', 'and', 'thy', 'ipsum',\n",
       "                            'laboris'])"
      ]
     },
     "execution_count": 205,
     "metadata": {},
     "output_type": "execute_result"
    }
   ],
   "source": [
    "c_vec = CountVectorizer(vocabulary=vocabulary)\n",
    "c_vec"
   ]
  },
  {
   "cell_type": "code",
   "execution_count": 209,
   "id": "68b53b06",
   "metadata": {},
   "outputs": [
    {
     "data": {
      "text/plain": [
       "matrix([[1, 1, 4, 3, 0, 0],\n",
       "        [2, 0, 1, 0, 0, 0],\n",
       "        [1, 1, 4, 3, 1, 2]])"
      ]
     },
     "execution_count": 209,
     "metadata": {},
     "output_type": "execute_result"
    }
   ],
   "source": [
    "c_vec.fit_transform(corpus).todense()"
   ]
  },
  {
   "cell_type": "code",
   "execution_count": 213,
   "id": "df7c588c",
   "metadata": {},
   "outputs": [
    {
     "data": {
      "text/plain": [
       "[1, 1, 4, 3, 0, 0]"
      ]
     },
     "execution_count": 213,
     "metadata": {},
     "output_type": "execute_result"
    }
   ],
   "source": [
    "[corpus[0].lower().split().count(v) for v in vocabulary]"
   ]
  },
  {
   "cell_type": "code",
   "execution_count": 163,
   "id": "fb1eaf57-edaf-42e6-95cf-9c1837dcf8bb",
   "metadata": {},
   "outputs": [],
   "source": [
    "\n",
    "tfidf_vec = TfidfVectorizer(vocabulary=vocabulary)\n"
   ]
  },
  {
   "cell_type": "code",
   "execution_count": 200,
   "id": "be1c10f9",
   "metadata": {},
   "outputs": [
    {
     "data": {
      "text/plain": [
       "array([[0.17, 0.22, 0.69, 0.67, 0.  , 0.  ],\n",
       "       [0.89, 0.  , 0.45, 0.  , 0.  , 0.  ],\n",
       "       [0.14, 0.19, 0.58, 0.56, 0.24, 0.49]])"
      ]
     },
     "execution_count": 200,
     "metadata": {},
     "output_type": "execute_result"
    }
   ],
   "source": [
    "tfidf_vec.fit_transform(corpus).todense().round(2)"
   ]
  },
  {
   "cell_type": "code",
   "execution_count": 248,
   "id": "34751cf0",
   "metadata": {},
   "outputs": [
    {
     "name": "stdout",
     "output_type": "stream",
     "text": [
      "[0.18, 0.21, 0.73, 0.62, 0.0, 0.0]\n",
      "[0.71, 0.0, 0.71, 0.0, 0.0, 0.0]\n",
      "[0.16, 0.18, 0.65, 0.55, 0.21, 0.42]\n"
     ]
    }
   ],
   "source": [
    "import math\n",
    "import numpy as np\n",
    "\n",
    "def compute_tf(term, document):\n",
    "    return document.lower().split().count(term) / len(document.lower().split() )\n",
    "\n",
    "def compute_idf(term, documents):\n",
    "    N = len(documents)\n",
    "    df = sum(1 for document in documents if term in document)\n",
    "    return math.log10((1+N) / (1 + df)) + 1\n",
    "\n",
    "\n",
    "def compute_tf_idf(document, terms, idfs):\n",
    "    tf_idf_raw = [compute_tf(term, document) * idfs.get(term, 0) for term in terms]\n",
    "    norm = np.linalg.norm(tf_idf_raw, 2)  # L2 norm\n",
    "    tf_idf_normalized = [round(value / norm, 2) for value in tf_idf_raw]\n",
    "    \n",
    "    return tf_idf_normalized\n",
    "\n",
    "\n",
    "idfs = {term: compute_idf(term, corpus) for term in vocabulary}\n",
    "\n",
    "for doc in corpus:\n",
    "    tf_idf_values = compute_tf_idf(doc, vocabulary, idfs)\n",
    "    print(tf_idf_values)"
   ]
  },
  {
   "cell_type": "code",
   "execution_count": 262,
   "id": "c2311402",
   "metadata": {},
   "outputs": [
    {
     "data": {
      "text/plain": [
       "['this', 'document', 'first', 'is', 'second', 'the']"
      ]
     },
     "execution_count": 262,
     "metadata": {},
     "output_type": "execute_result"
    }
   ],
   "source": [
    "vocabulary"
   ]
  },
  {
   "cell_type": "code",
   "execution_count": 279,
   "id": "92cfeb70",
   "metadata": {},
   "outputs": [
    {
     "data": {
      "text/plain": [
       "array([[1, 1, 4, 3, 0, 0],\n",
       "       [2, 0, 1, 0, 0, 0],\n",
       "       [1, 1, 4, 3, 1, 2]])"
      ]
     },
     "execution_count": 279,
     "metadata": {},
     "output_type": "execute_result"
    }
   ],
   "source": [
    "from sklearn.feature_extraction.text import CountVectorizer\n",
    "import numpy as np\n",
    "from sklearn.preprocessing import normalize\n",
    "\n",
    "c_vec = CountVectorizer(vocabulary=vocabulary)\n",
    "X = c_vec.fit_transform(corpus).toarray()\n",
    "\n",
    "X"
   ]
  },
  {
   "cell_type": "code",
   "execution_count": 284,
   "id": "49cd958c",
   "metadata": {},
   "outputs": [
    {
     "name": "stdout",
     "output_type": "stream",
     "text": [
      "[1 1 4 3 0 0]\n",
      "9\n",
      "[0.11111111 0.11111111 0.44444444 0.33333333 0.         0.        ]\n"
     ]
    }
   ],
   "source": [
    "print(X[0])\n",
    "print(sum(X[0]))\n",
    "print(X[0]/sum(X[0]))\n",
    "\n"
   ]
  },
  {
   "cell_type": "code",
   "execution_count": 285,
   "id": "d590b57d",
   "metadata": {},
   "outputs": [
    {
     "data": {
      "text/plain": [
       "array([[0.11111111, 0.11111111, 0.44444444, 0.33333333, 0.        ,\n",
       "        0.        ],\n",
       "       [0.66666667, 0.        , 0.33333333, 0.        , 0.        ,\n",
       "        0.        ],\n",
       "       [0.08333333, 0.08333333, 0.33333333, 0.25      , 0.08333333,\n",
       "        0.16666667]])"
      ]
     },
     "execution_count": 285,
     "metadata": {},
     "output_type": "execute_result"
    }
   ],
   "source": [
    "tf = X / np.sum(X, axis=1, keepdims=True)\n",
    "tf"
   ]
  },
  {
   "cell_type": "code",
   "execution_count": 288,
   "id": "8a033afd",
   "metadata": {},
   "outputs": [
    {
     "data": {
      "text/plain": [
       "array([[1, 1, 4, 3, 0, 0],\n",
       "       [2, 0, 1, 0, 0, 0],\n",
       "       [1, 1, 4, 3, 1, 2]])"
      ]
     },
     "execution_count": 288,
     "metadata": {},
     "output_type": "execute_result"
    }
   ],
   "source": [
    "X"
   ]
  },
  {
   "cell_type": "code",
   "execution_count": 287,
   "id": "d081cc5a",
   "metadata": {},
   "outputs": [
    {
     "data": {
      "text/plain": [
       "array([3, 2, 3, 2, 1, 1])"
      ]
     },
     "execution_count": 287,
     "metadata": {},
     "output_type": "execute_result"
    }
   ],
   "source": [
    "df = np.sum(X > 0, axis=0)\n",
    "df"
   ]
  },
  {
   "cell_type": "code",
   "execution_count": 290,
   "id": "6af43add",
   "metadata": {},
   "outputs": [
    {
     "data": {
      "text/plain": [
       "3"
      ]
     },
     "execution_count": 290,
     "metadata": {},
     "output_type": "execute_result"
    }
   ],
   "source": [
    "N = X.shape[0]\n",
    "N"
   ]
  },
  {
   "cell_type": "code",
   "execution_count": 294,
   "id": "c3f385b3",
   "metadata": {},
   "outputs": [
    {
     "data": {
      "text/plain": [
       "array([1.        , 1.28768207, 1.        , 1.28768207, 1.69314718,\n",
       "       1.69314718])"
      ]
     },
     "execution_count": 294,
     "metadata": {},
     "output_type": "execute_result"
    }
   ],
   "source": [
    "idf = np.log((1 + N) / (1 + df)) + 1\n",
    "idf"
   ]
  },
  {
   "cell_type": "code",
   "execution_count": 293,
   "id": "411dbd78",
   "metadata": {},
   "outputs": [
    {
     "data": {
      "text/plain": [
       "array([[0.11111111, 0.14307579, 0.44444444, 0.42922736, 0.        ,\n",
       "        0.        ],\n",
       "       [0.66666667, 0.        , 0.33333333, 0.        , 0.        ,\n",
       "        0.        ],\n",
       "       [0.08333333, 0.10730684, 0.33333333, 0.32192052, 0.1410956 ,\n",
       "        0.2821912 ]])"
      ]
     },
     "execution_count": 293,
     "metadata": {},
     "output_type": "execute_result"
    }
   ],
   "source": [
    "tfidf = tf * idf\n",
    "tfidf"
   ]
  },
  {
   "cell_type": "code",
   "execution_count": 296,
   "id": "c50ca875",
   "metadata": {},
   "outputs": [
    {
     "data": {
      "text/plain": [
       "array([2, 4, 6])"
      ]
     },
     "execution_count": 296,
     "metadata": {},
     "output_type": "execute_result"
    }
   ],
   "source": [
    "x = np.array([1,2,3])\n",
    "x*2"
   ]
  },
  {
   "cell_type": "code",
   "execution_count": 302,
   "id": "e47330a6",
   "metadata": {},
   "outputs": [
    {
     "data": {
      "text/plain": [
       "14"
      ]
     },
     "execution_count": 302,
     "metadata": {},
     "output_type": "execute_result"
    }
   ],
   "source": [
    "sum(x**2)"
   ]
  },
  {
   "cell_type": "code",
   "execution_count": 303,
   "id": "04b517d5",
   "metadata": {},
   "outputs": [
    {
     "data": {
      "text/plain": [
       "array([0.26726124, 0.53452248, 0.80178373])"
      ]
     },
     "execution_count": 303,
     "metadata": {},
     "output_type": "execute_result"
    }
   ],
   "source": [
    "x / np.sqrt(sum(x**2))"
   ]
  },
  {
   "cell_type": "code",
   "execution_count": 304,
   "id": "897a0ebe",
   "metadata": {},
   "outputs": [
    {
     "data": {
      "text/plain": [
       "array([[0.26726124, 0.53452248, 0.80178373]])"
      ]
     },
     "execution_count": 304,
     "metadata": {},
     "output_type": "execute_result"
    }
   ],
   "source": [
    "normalize([x], norm='l2', axis=1)"
   ]
  },
  {
   "cell_type": "code",
   "execution_count": 305,
   "id": "68356d23",
   "metadata": {},
   "outputs": [
    {
     "name": "stdout",
     "output_type": "stream",
     "text": [
      "[[0.17 0.22 0.69 0.67 0.   0.  ]\n",
      " [0.89 0.   0.45 0.   0.   0.  ]\n",
      " [0.14 0.19 0.58 0.56 0.24 0.49]]\n"
     ]
    }
   ],
   "source": [
    "tfidf = normalize(tfidf, norm='l2', axis=1)\n",
    "print(tfidf.round(2))"
   ]
  },
  {
   "cell_type": "markdown",
   "id": "954ef71d",
   "metadata": {
    "slideshow": {
     "slide_type": "slide"
    }
   },
   "source": [
    "### From Angles to Cosines\n",
    "\n",
    "* In information retrieval, the following two notions are equivalent.\n",
    "  * Rank documents in decreasing order of the angle between query and hit\n",
    "  * Rank documents in increasing order of cosine(query,hit)\n",
    "\n",
    "* Cosine is a monotonically decreasing function for the interval [0o, 180o]\n",
    "\n",
    "![](https://www.dropbox.com/s/lpq4vvnlnmz0oxw/cosine.png?dl=1)"
   ]
  },
  {
   "cell_type": "markdown",
   "id": "08f75b10",
   "metadata": {
    "slideshow": {
     "slide_type": "slide"
    }
   },
   "source": [
    "### Length Normalization\n",
    "\n",
    "* A vector can be (length-) normalized by dividing each of its components by its length \n",
    "  * We commonly use the $L2$ norm:\n",
    "\n",
    "* Dividing a vector by its $L2$ norm makes it a unit (length) vector\n",
    "\n",
    "  * Effect on the two documents $d$ and $d′$ (d appended to itself) have identical vectors after length-normalization.\n",
    "  * Thus, long and short documents now have comparable weights\n"
   ]
  },
  {
   "cell_type": "markdown",
   "id": "915d7d3a",
   "metadata": {
    "slideshow": {
     "slide_type": "slide"
    }
   },
   "source": [
    "### Cosine Similairity\n",
    "\n",
    "* $q_i$ is the `tf-idf` weight of term `i` in the query\n",
    "* $d_i$ is the `tf-idf` weight of term `i` in the document\n",
    "\n",
    "![](https://www.dropbox.com/s/4x1fb50xiqidmnf/cos_equation.png?dl=1)"
   ]
  },
  {
   "cell_type": "code",
   "execution_count": null,
   "id": "77ddbd2f",
   "metadata": {},
   "outputs": [],
   "source": [
    "### Normalized TF-IDF Vectors\n",
    "\n"
   ]
  },
  {
   "cell_type": "markdown",
   "id": "9036e0ff",
   "metadata": {
    "slideshow": {
     "slide_type": "slide"
    }
   },
   "source": [
    "### Cosine Similarity Illustrated\n",
    "\n",
    "![](https://www.dropbox.com/s/4inqt6nf9mfz6h9/cosine_similarity.png?dl=1)"
   ]
  },
  {
   "cell_type": "markdown",
   "id": "aef0fac1",
   "metadata": {},
   "source": [
    "### Example \n",
    "* Books: \"Sense and Sensibility\", \"Pride and Prejudice\", \"Wuthering Heights?\".\n",
    "\n",
    "<img src=\"https://www.dropbox.com/s/z28xu8xxhuv8ll5/example_books.png?dl=1\" alt=\"Drawing\" style=\"width: 400px;\"/>\n",
    "\n",
    "```\n",
    "cos(SaS,PaP) ≈ 0.789 × 0.832 + 0.515 × 0.555 + 0.335 × 0.0 + 0.0 × 0.0 ≈ 0.94\n",
    "cos(SaS,WH) ≈ 0.79\n",
    "cos(PaP,WH) ≈ 0.69\n",
    "```"
   ]
  },
  {
   "cell_type": "markdown",
   "id": "34a65d3d",
   "metadata": {},
   "source": [
    "### `tf-idf` Weighing  Variants\n",
    "\n",
    "* Just an FYI\n",
    "<div align=\"center\">\n",
    "<img src=\"https://www.dropbox.com/s/r88cmbmaqyk7hcp/weighting_schemes.png?dl=1\" alt=\"Drawing\" style=\"width: 700px;\"/>\n",
    "</div>\n",
    "* identifies components of the SMART notation: combination in use in a search engine (ddd.qqq)\n",
    "  * e.g.: lnc.ltc\n",
    "  * ```To the legacy of the SMART system belongs the so-called SMART triple notation, a mnemonic scheme for denoting tf-idf weighting variants in the vector space model. The mnemonic for representing a combination of weights takes the form ddd.qqq, where the first three letters represents the term weighting of the collection document vector and the second three letters represents the term weighting for the query document vector. For example, ltc.lnn represents the ltc weighting applied to a collection document and the lnn weighting applied to a query document.```  https://en.wikipedia.org/wiki/SMART_Information_Retrieval_System\n",
    "  \n",
    "* See [Introduction to Information Retrieval](https://nlp.stanford.edu/IR-book/) for more info if you're interested in the topic\n",
    "\n",
    "\n"
   ]
  },
  {
   "cell_type": "code",
   "execution_count": null,
   "id": "c84b261d-517b-4ace-91fd-fb3d18489efe",
   "metadata": {},
   "outputs": [],
   "source": []
  }
 ],
 "metadata": {
  "celltoolbar": "Slideshow",
  "kernelspec": {
   "display_name": "Python 3 (ipykernel)",
   "language": "python",
   "name": "python3"
  },
  "language_info": {
   "codemirror_mode": {
    "name": "ipython",
    "version": 3
   },
   "file_extension": ".py",
   "mimetype": "text/x-python",
   "name": "python",
   "nbconvert_exporter": "python",
   "pygments_lexer": "ipython3",
   "version": "3.9.16"
  }
 },
 "nbformat": 4,
 "nbformat_minor": 5
}
