{
 "cells": [
  {
   "cell_type": "markdown",
   "metadata": {
    "id": "3U7i3eYcoOU4",
    "pycharm": {
     "name": "#%% md\n"
    }
   },
   "source": [
    "**Question 1**\n",
    "\n",
    "* Provide at least two methods to view the number of of rows and the number of columns in the `mpg` dataset\n"
   ]
  },
  {
   "cell_type": "code",
   "execution_count": 1,
   "metadata": {
    "colab": {
     "base_uri": "https://localhost:8080/",
     "height": 69
    },
    "id": "uzPA_bc2oagr",
    "outputId": "1ed2879c-c6fa-469e-aef7-f9d8d1b305ce",
    "pycharm": {
     "name": "#%%\n"
    }
   },
   "outputs": [],
   "source": [
    "# Write your code here\n"
   ]
  },
  {
   "cell_type": "markdown",
   "metadata": {
    "id": "8xpQqLlvyi2X",
    "pycharm": {
     "name": "#%% md\n"
    }
   },
   "source": [
    "**Question 2**\n",
    "\n",
    "* Run the following code:\n",
    "```R\n",
    "ggplot(data = mpg) + \n",
    "  geom_point(mapping = aes(x = displ, y = hwy, color = \"blue\"))\n",
    "```\n",
    "* What is wrong with the code. \n",
    "* Fix it so that the plot is displayed correctly."
   ]
  },
  {
   "cell_type": "code",
   "execution_count": 2,
   "metadata": {
    "colab": {
     "base_uri": "https://localhost:8080/",
     "height": 437
    },
    "id": "ZfwUBsDfzm0X",
    "outputId": "fffb0418-677c-4104-b968-a1e1d3f9aa6c",
    "pycharm": {
     "name": "#%%\n"
    }
   },
   "outputs": [],
   "source": [
    "# Write your code here\n",
    "\n"
   ]
  },
  {
   "cell_type": "markdown",
   "metadata": {
    "id": "urMg2YztmJNI",
    "pycharm": {
     "name": "#%% md\n"
    }
   },
   "source": [
    "**Question 3**\n",
    "\n",
    "* Change the code below so that mpg$class_numeric will be of type integer (int) rather than double (dbl)\n",
    "```R\n",
    "mpg$class_numeric = sapply(mpg$class, convert_class_int, USE.NAMES = FALSE )\n",
    "```\n",
    "* Inspect the result to make sure your solution worked"
   ]
  },
  {
   "cell_type": "code",
   "execution_count": null,
   "metadata": {},
   "outputs": [],
   "source": [
    "# Write your code here"
   ]
  },
  {
   "cell_type": "markdown",
   "metadata": {
    "id": "HYhPLiBNotuM",
    "pycharm": {
     "name": "#%% md\n"
    }
   },
   "source": [
    "**Question 4** \n",
    "\n",
    "* Use a scatter plot to plot the variable `cty` (`x`-axis) and `hwy` (`y`-axis) of the `mpg` dataset\n",
    "* Add another geom that shows the liner regression between `x` and `y`\n",
    "  * The method for computing linear regression should be a linear model `lm` instead of the default (`loess`)\n",
    "  * Set the line color to `red`\n",
    "  * color the points by `class` \n",
    "  * set the points size to 6"
   ]
  },
  {
   "cell_type": "code",
   "execution_count": null,
   "metadata": {
    "colab": {
     "base_uri": "https://localhost:8080/",
     "height": 474
    },
    "id": "JcE11tx0pFVD",
    "outputId": "828a9434-e779-47f0-b8a7-fb2497045be3",
    "pycharm": {
     "name": "#%%\n"
    }
   },
   "outputs": [],
   "source": [
    "# Write your code here"
   ]
  },
  {
   "cell_type": "markdown",
   "metadata": {
    "id": "6Ylfz9w1pXu1",
    "pycharm": {
     "name": "#%% md\n"
    }
   },
   "source": [
    "**Question 5** \n",
    "\n",
    "* You noticed in the previous plot that there exist in the dataset subcompacts that has a city fuel consumption of 15 miles per gallon.\n",
    "* Extract the manufacturer and model of these subcompacts\n",
    "  * results should only have these columnsa"
   ]
  },
  {
   "cell_type": "code",
   "execution_count": 3,
   "metadata": {
    "colab": {
     "base_uri": "https://localhost:8080/",
     "height": 255
    },
    "id": "9zENV78oroLC",
    "outputId": "ddc0059b-faf7-4733-ce96-6cffeac044ee",
    "pycharm": {
     "name": "#%%\n"
    }
   },
   "outputs": [],
   "source": [
    "# Write your code here\n"
   ]
  },
  {
   "cell_type": "markdown",
   "metadata": {
    "id": "cabxcvjOryiB",
    "pycharm": {
     "name": "#%% md\n"
    }
   },
   "source": [
    "**Question 6**\n",
    "\n",
    "* The following generates a warning\n",
    "```R\n",
    "ggplot(data = mpg) + \n",
    "  geom_point(mapping = aes(x = displ, y = hwy, shape = class))\n",
    "```\n",
    "\n",
    "* How can you fix that the code so all classes are displayed\n",
    "* Hint: you can manually specify your own values for the shapes to use using `scale_shape_manual` geom.  You can select any of the [following shapes](https://ggplot2.tidyverse.org/articles/ggplot2-specs_files/figure-html/unnamed-chunk-7-1.png)"
   ]
  },
  {
   "cell_type": "code",
   "execution_count": 4,
   "metadata": {
    "colab": {
     "base_uri": "https://localhost:8080/",
     "height": 437
    },
    "id": "jpAZlmBKt04R",
    "outputId": "de84a514-acd9-4682-f68a-6695893670c1",
    "pycharm": {
     "name": "#%%\n"
    }
   },
   "outputs": [],
   "source": [
    "# Write your code here\n"
   ]
  },
  {
   "cell_type": "markdown",
   "metadata": {
    "id": "Be9pMmP41ih4",
    "pycharm": {
     "name": "#%% md\n"
    }
   },
   "source": [
    "**Question 7**\n",
    "\n",
    "* Given the following two vectors\n",
    "\n",
    "```R\n",
    "x <- c(3.385,0.48,1.35,465,36.33,27.66,14.83,1.04,4.19,0.425,0.101,0.92,1,0.005,0.06,3.5,2,1.7,2547,0.023,187.1,521,0.785,10,3.3,0.2,1.41,529,207,85,0.75,62,6654,3.5,6.8,35,4.05,0.12,0.023,0.01,1.4,250,2.5,55.5,100,52.16,10.55,0.55,60,3.6,4.288,0.28,0.075,0.122,0.048,192,3,160,0.9,1.62,0.104,4.235)\n",
    "y <- c(44.5,15.5,8.1,423,119.5,115,98.2,5.5,58,6.4,4,5.7,6.6,0.14,1,10.8,12.3,6.3,4603,0.3,419,655,3.5,115,25.6,5,17.5,680,406,325,12.3,1320,5712,3.9,179,56,17,1,0.4,0.25,12.5,490,12.1,175,157,440,179.5,2.4,81,21,39.2,1.9,1.2,3,0.33,180,25,169,2.6,11.4,2.5,50.4)\n",
    "```\n",
    "* Combine the two vectors into a data frame called `sizeMass`\n",
    "  * Name the columns containing the vectors `x` and `y` as `size` and `mass` respectively \n",
    "\n",
    "* Use the code below to plot the data\n",
    "  * If you followed the above instructions the code should work without modification\n",
    "\n",
    "```R\n",
    "ggplot(sizeMass, aes(size, mass)) +\n",
    "  geom_point() +\n",
    "  geom_smooth(method = \"lm\", color = \"red\", se = FALSE)\n",
    "\n",
    "```  \n"
   ]
  },
  {
   "cell_type": "code",
   "execution_count": 5,
   "metadata": {
    "colab": {
     "base_uri": "https://localhost:8080/",
     "height": 474
    },
    "id": "a8SmKZt54L1x",
    "outputId": "3f6294f6-48fb-480d-f5ea-a89404f0f1fd",
    "pycharm": {
     "name": "#%%\n"
    }
   },
   "outputs": [],
   "source": [
    "# Write your code here\n",
    "\n"
   ]
  },
  {
   "cell_type": "markdown",
   "metadata": {
    "id": "eZMMckVz4gZa",
    "pycharm": {
     "name": "#%% md\n"
    }
   },
   "source": [
    "**Question 8** \n",
    "\n",
    "* In the above, the data is \"squashed\" because the data range varies substantially across observations. One way to fix this is by computing the log of the data. We will do that using two different approaches\n",
    "\n",
    "1. add two new columns called them `size_log10` and `mass_log` that represent the log 10 values of the `size` and `mass` columns. Then, reuse the plotting code above by replacing `size` and `mass` with `size_log10` and `mass_log10` respectively\n",
    "  * Hint `log10()` can take as input a single value or a vector\n",
    "\n",
    "2. Use the `scale_x_log10()` and `scale_y_log10()` to set different scales for the `x` and `y` aesthetics\n",
    "  * Simply add these transforms to the initial snippet of code prior to plotting `geom_point` or `geom_smooth`"
   ]
  },
  {
   "cell_type": "code",
   "execution_count": 6,
   "metadata": {
    "colab": {
     "base_uri": "https://localhost:8080/",
     "height": 414
    },
    "id": "-TEqSRPO5oFC",
    "outputId": "d5859450-be15-4c5e-9721-840a4f953702",
    "pycharm": {
     "name": "#%%\n"
    }
   },
   "outputs": [],
   "source": [
    "# Write your code here (method 1 )\n"
   ]
  },
  {
   "cell_type": "code",
   "execution_count": null,
   "metadata": {},
   "outputs": [],
   "source": []
  }
 ],
 "metadata": {
  "colab": {
   "collapsed_sections": [
    "TyQb7VZiLVew",
    "jTuSNzgvML1p",
    "LLXi2YevS_SL",
    "PQd55qyJW3w3",
    "IFcaA1lJWiSD",
    "X0tu1wmr9RrW",
    "pFqdJYoSYgg9",
    "lb33xguQb8Oy",
    "5Q-EXdPQkH78",
    "sOmfzErKnreX",
    "gu18MgwA7ql8",
    "-ojtBSIJHtX4"
   ],
   "name": "Untitled6.ipynb",
   "provenance": [],
   "toc_visible": true
  },
  "kernelspec": {
   "display_name": "R",
   "language": "R",
   "name": "ir"
  },
  "language_info": {
   "codemirror_mode": "r",
   "file_extension": ".r",
   "mimetype": "text/x-r-source",
   "name": "R",
   "pygments_lexer": "r",
   "version": "4.3.1"
  }
 },
 "nbformat": 4,
 "nbformat_minor": 4
}
