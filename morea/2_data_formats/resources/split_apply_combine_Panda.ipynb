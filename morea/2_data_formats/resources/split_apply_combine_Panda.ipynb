{
 "cells": [
  {
   "cell_type": "code",
   "execution_count": null,
   "metadata": {
    "slideshow": {
     "slide_type": "skip"
    }
   },
   "outputs": [],
   "source": [
    "from IPython.core.display import HTML\n",
    "import pandas as pd "
   ]
  },
  {
   "cell_type": "code",
   "execution_count": 2,
   "metadata": {
    "slideshow": {
     "slide_type": "slide"
    }
   },
   "outputs": [
    {
     "data": {
      "text/html": [
       "<div>\n",
       "<style scoped>\n",
       "    .dataframe tbody tr th:only-of-type {\n",
       "        vertical-align: middle;\n",
       "    }\n",
       "\n",
       "    .dataframe tbody tr th {\n",
       "        vertical-align: top;\n",
       "    }\n",
       "\n",
       "    .dataframe thead th {\n",
       "        text-align: right;\n",
       "    }\n",
       "</style>\n",
       "<table border=\"1\" class=\"dataframe\">\n",
       "  <thead>\n",
       "    <tr style=\"text-align: right;\">\n",
       "      <th></th>\n",
       "      <th>doctor_id</th>\n",
       "      <th>specialty</th>\n",
       "      <th>medication</th>\n",
       "      <th>nb_beneficiaries</th>\n",
       "      <th>spending</th>\n",
       "    </tr>\n",
       "    <tr>\n",
       "      <th>unique_id</th>\n",
       "      <th></th>\n",
       "      <th></th>\n",
       "      <th></th>\n",
       "      <th></th>\n",
       "      <th></th>\n",
       "    </tr>\n",
       "  </thead>\n",
       "  <tbody>\n",
       "    <tr>\n",
       "      <th>NX531425</th>\n",
       "      <td>1255626040</td>\n",
       "      <td>FAMILY PRACTICE</td>\n",
       "      <td>METFORMIN HCL</td>\n",
       "      <td>30</td>\n",
       "      <td>135.24</td>\n",
       "    </tr>\n",
       "    <tr>\n",
       "      <th>QG879256</th>\n",
       "      <td>1699761833</td>\n",
       "      <td>FAMILY PRACTICE</td>\n",
       "      <td>ALLOPURINOL</td>\n",
       "      <td>30</td>\n",
       "      <td>715.76</td>\n",
       "    </tr>\n",
       "    <tr>\n",
       "      <th>FW363228</th>\n",
       "      <td>1538148804</td>\n",
       "      <td>INTERNAL MEDICINE</td>\n",
       "      <td>LOSARTAN POTASSIUM</td>\n",
       "      <td>146</td>\n",
       "      <td>1056.47</td>\n",
       "    </tr>\n",
       "    <tr>\n",
       "      <th>WD733417</th>\n",
       "      <td>1730200619</td>\n",
       "      <td>PSYCHIATRY</td>\n",
       "      <td>OLANZAPINE</td>\n",
       "      <td>13</td>\n",
       "      <td>28226.97</td>\n",
       "    </tr>\n",
       "    <tr>\n",
       "      <th>XW149832</th>\n",
       "      <td>1023116894</td>\n",
       "      <td>FAMILY PRACTICE</td>\n",
       "      <td>PRAVASTATIN SODIUM</td>\n",
       "      <td>348</td>\n",
       "      <td>8199.48</td>\n",
       "    </tr>\n",
       "    <tr>\n",
       "      <th>QT485324</th>\n",
       "      <td>1952359671</td>\n",
       "      <td>FAMILY PRACTICE</td>\n",
       "      <td>HYDROCHLOROTHIAZIDE</td>\n",
       "      <td>57</td>\n",
       "      <td>247.01</td>\n",
       "    </tr>\n",
       "    <tr>\n",
       "      <th>NA293426</th>\n",
       "      <td>1841235223</td>\n",
       "      <td>FAMILY PRACTICE</td>\n",
       "      <td>SEVELAMER CARBONATE</td>\n",
       "      <td>11</td>\n",
       "      <td>4869.32</td>\n",
       "    </tr>\n",
       "    <tr>\n",
       "      <th>IF945618</th>\n",
       "      <td>1326095662</td>\n",
       "      <td>INTERNAL MEDICINE</td>\n",
       "      <td>FLUTICASONE/SALMETEROL</td>\n",
       "      <td>20</td>\n",
       "      <td>7832.46</td>\n",
       "    </tr>\n",
       "    <tr>\n",
       "      <th>PH384257</th>\n",
       "      <td>1821126830</td>\n",
       "      <td>HEMATOLOGY/ONCOLOGY</td>\n",
       "      <td>ZOLPIDEM TARTRATE</td>\n",
       "      <td>14</td>\n",
       "      <td>65.21</td>\n",
       "    </tr>\n",
       "    <tr>\n",
       "      <th>JY407340</th>\n",
       "      <td>1710986088</td>\n",
       "      <td>INTERNAL MEDICINE</td>\n",
       "      <td>MECLIZINE HCL</td>\n",
       "      <td>47</td>\n",
       "      <td>861.67</td>\n",
       "    </tr>\n",
       "  </tbody>\n",
       "</table>\n",
       "</div>"
      ],
      "text/plain": [
       "            doctor_id            specialty              medication  \\\n",
       "unique_id                                                            \n",
       "NX531425   1255626040      FAMILY PRACTICE           METFORMIN HCL   \n",
       "QG879256   1699761833      FAMILY PRACTICE             ALLOPURINOL   \n",
       "FW363228   1538148804    INTERNAL MEDICINE      LOSARTAN POTASSIUM   \n",
       "WD733417   1730200619           PSYCHIATRY              OLANZAPINE   \n",
       "XW149832   1023116894      FAMILY PRACTICE      PRAVASTATIN SODIUM   \n",
       "QT485324   1952359671      FAMILY PRACTICE     HYDROCHLOROTHIAZIDE   \n",
       "NA293426   1841235223      FAMILY PRACTICE     SEVELAMER CARBONATE   \n",
       "IF945618   1326095662    INTERNAL MEDICINE  FLUTICASONE/SALMETEROL   \n",
       "PH384257   1821126830  HEMATOLOGY/ONCOLOGY       ZOLPIDEM TARTRATE   \n",
       "JY407340   1710986088    INTERNAL MEDICINE           MECLIZINE HCL   \n",
       "\n",
       "           nb_beneficiaries  spending  \n",
       "unique_id                              \n",
       "NX531425                 30    135.24  \n",
       "QG879256                 30    715.76  \n",
       "FW363228                146   1056.47  \n",
       "WD733417                 13  28226.97  \n",
       "XW149832                348   8199.48  \n",
       "QT485324                 57    247.01  \n",
       "NA293426                 11   4869.32  \n",
       "IF945618                 20   7832.46  \n",
       "PH384257                 14     65.21  \n",
       "JY407340                 47    861.67  "
      ]
     },
     "execution_count": 2,
     "metadata": {},
     "output_type": "execute_result"
    }
   ],
   "source": [
    "spending_df = pd.read_csv('https://www.dropbox.com/s/ce9b47nzt3sx7y5/spending_10k.csv?dl=1', index_col=\"unique_id\", dtype={\"doctor_id\":\"object\"})\n",
    "spending_df.head(10)"
   ]
  },
  {
   "cell_type": "markdown",
   "metadata": {
    "slideshow": {
     "slide_type": "slide"
    }
   },
   "source": [
    "### Overview\n",
    "\n",
    "\n",
    "* In this section, we will tackle the handy `groupby` method.\n",
    "\n",
    "* We also cover the split-apply-combine scheme to:\n",
    "\n",
    "  * Aggregate data in each group\n",
    "  * Transform data in each group\n",
    "  * Filter the data in each group\n",
    "  * Thin the data in each group"
   ]
  },
  {
   "cell_type": "markdown",
   "metadata": {
    "slideshow": {
     "slide_type": "slide"
    }
   },
   "source": [
    "### `group_by` and `DataFrame` groups\n",
    "\n",
    "* The `groupby()` method is used to group the data using values from one or more columns.\n",
    "\n",
    "   * `groupby` takes as input one or more column labels, which it uses to group the data.\n",
    "\n",
    "```python\n",
    "df_1.groupby(\"X\")\n",
    "```\n",
    "\n",
    "![](https://www.dropbox.com/s/86bi697t59zmkdn/groupby.png?dl=1)\n",
    "\n"
   ]
  },
  {
   "cell_type": "markdown",
   "metadata": {
    "slideshow": {
     "slide_type": "slide"
    }
   },
   "source": [
    "### Identifying Groups from a GroupBy Object\n",
    "\n",
    "\n",
    "```python\n",
    "spending_df.groupby('specialty')\n",
    "```\n",
    "\n",
    "![](https://www.dropbox.com/s/bs8o34e4s7bdqa8/group_by_specialty.png?dl=1)\n",
    "\n",
    "* The `groupby` method returns an object of type `DataFrameGroupBy.`\n",
    "  * This is not a `DataFrame`, and does not, therefore, have the `DataFrame` methods discussed previously \n",
    "\n",
    "\n"
   ]
  },
  {
   "cell_type": "code",
   "execution_count": 4,
   "metadata": {},
   "outputs": [],
   "source": [
    "x = spending_df.groupby('specialty')\n"
   ]
  },
  {
   "cell_type": "code",
   "execution_count": 5,
   "metadata": {},
   "outputs": [
    {
     "data": {
      "text/plain": [
       "pandas.core.groupby.generic.DataFrameGroupBy"
      ]
     },
     "execution_count": 5,
     "metadata": {},
     "output_type": "execute_result"
    }
   ],
   "source": [
    "type(x)"
   ]
  },
  {
   "cell_type": "code",
   "execution_count": 3,
   "metadata": {
    "slideshow": {
     "slide_type": "slide"
    }
   },
   "outputs": [
    {
     "data": {
      "text/html": [
       "<div>\n",
       "<style scoped>\n",
       "    .dataframe tbody tr th:only-of-type {\n",
       "        vertical-align: middle;\n",
       "    }\n",
       "\n",
       "    .dataframe tbody tr th {\n",
       "        vertical-align: top;\n",
       "    }\n",
       "\n",
       "    .dataframe thead th {\n",
       "        text-align: right;\n",
       "    }\n",
       "</style>\n",
       "<table border=\"1\" class=\"dataframe\">\n",
       "  <thead>\n",
       "    <tr style=\"text-align: right;\">\n",
       "      <th></th>\n",
       "      <th>doctor_id</th>\n",
       "      <th>specialty</th>\n",
       "      <th>medication</th>\n",
       "      <th>nb_beneficiaries</th>\n",
       "      <th>spending</th>\n",
       "    </tr>\n",
       "    <tr>\n",
       "      <th>unique_id</th>\n",
       "      <th></th>\n",
       "      <th></th>\n",
       "      <th></th>\n",
       "      <th></th>\n",
       "      <th></th>\n",
       "    </tr>\n",
       "  </thead>\n",
       "  <tbody>\n",
       "    <tr>\n",
       "      <th>VG585760</th>\n",
       "      <td>1801032297</td>\n",
       "      <td>ADDICTION MEDICINE</td>\n",
       "      <td>LAMOTRIGINE</td>\n",
       "      <td>11</td>\n",
       "      <td>82.62</td>\n",
       "    </tr>\n",
       "    <tr>\n",
       "      <th>GJ278932</th>\n",
       "      <td>1134139991</td>\n",
       "      <td>ADDICTION MEDICINE</td>\n",
       "      <td>BUSPIRONE HCL</td>\n",
       "      <td>49</td>\n",
       "      <td>817.88</td>\n",
       "    </tr>\n",
       "    <tr>\n",
       "      <th>TX420809</th>\n",
       "      <td>1801032297</td>\n",
       "      <td>ADDICTION MEDICINE</td>\n",
       "      <td>LORAZEPAM</td>\n",
       "      <td>14</td>\n",
       "      <td>19.56</td>\n",
       "    </tr>\n",
       "  </tbody>\n",
       "</table>\n",
       "</div>"
      ],
      "text/plain": [
       "            doctor_id           specialty     medication  nb_beneficiaries  \\\n",
       "unique_id                                                                    \n",
       "VG585760   1801032297  ADDICTION MEDICINE    LAMOTRIGINE                11   \n",
       "GJ278932   1134139991  ADDICTION MEDICINE  BUSPIRONE HCL                49   \n",
       "TX420809   1801032297  ADDICTION MEDICINE      LORAZEPAM                14   \n",
       "\n",
       "           spending  \n",
       "unique_id            \n",
       "VG585760      82.62  \n",
       "GJ278932     817.88  \n",
       "TX420809      19.56  "
      ]
     },
     "execution_count": 3,
     "metadata": {},
     "output_type": "execute_result"
    }
   ],
   "source": [
    "spending_by_specialty = spending_df.groupby('specialty')\n",
    "\n",
    "addiction_med_group = spending_by_specialty.get_group(\"ADDICTION MEDICINE\")\n",
    "addiction_med_group"
   ]
  },
  {
   "cell_type": "code",
   "execution_count": 13,
   "metadata": {},
   "outputs": [
    {
     "data": {
      "text/plain": [
       "0    0.066667\n",
       "1    0.133333\n",
       "2    0.200000\n",
       "3    0.266667\n",
       "4    0.333333\n",
       "dtype: float64"
      ]
     },
     "execution_count": 13,
     "metadata": {},
     "output_type": "execute_result"
    }
   ],
   "source": [
    "x = pd.Series([1,2,3,4,5])\n",
    "\n",
    "x / x.sum()"
   ]
  },
  {
   "cell_type": "markdown",
   "metadata": {
    "slideshow": {
     "slide_type": "slide"
    }
   },
   "source": [
    "### `groupby` and Group-Specific Processing\n",
    "\n",
    "* An ideal use-case for `groupby` consists of applying operations to each group independently.\n",
    "\n",
    "* For instance, to compute the total spending by `specialty`, we need to:\n",
    "  * Split the data by `specialty`.\n",
    "  * Sum the total `spending` for each group.\n",
    "  * Combine the sums for each group into a new `DataFrame`.\n",
    "\n"
   ]
  },
  {
   "cell_type": "markdown",
   "metadata": {
    "slideshow": {
     "slide_type": "slide"
    }
   },
   "source": [
    "\n",
    "### Split-Apply-Combine Paradigm\n",
    "\n",
    "* `groupby()` is often applied in the context of the data processing paradigm called \"split-apply-combine\".\n",
    "\n",
    "  * **Split**: you need to split the data into chunks defined using one or more columns.\n",
    "    * This is typically done using `groupby`.\n",
    "  * **Apply**: apply some operation to the chunks generated.\n",
    "    * Ex. Count the number of rows in each chunk, average the values for a specific column, etc.\n",
    "  * **Combine**: combine the results of the applied operation into a new `DataFrame`.\n",
    "\n",
    "\n"
   ]
  },
  {
   "cell_type": "markdown",
   "metadata": {
    "slideshow": {
     "slide_type": "slide"
    }
   },
   "source": [
    "### Split-Apply-Combine Example\n",
    "\n",
    "![](https://www.dropbox.com/s/aecufw3mfu2mlah/split_apply_combine_example.png?dl=1)\n",
    "\n",
    "* The type of Split-Apply-Combine applied here is referred to as aggregation.\n",
    "  * Aggregations refer to any operation that aggregates (reduces) group data to a single value."
   ]
  },
  {
   "cell_type": "markdown",
   "metadata": {
    "slideshow": {
     "slide_type": "slide"
    }
   },
   "source": [
    "### The 3 ( or 3  $\\frac{1}{2}$) Classes of Opearations on Groups\n",
    "\n",
    "\n",
    "* Three are 3 formal classes of split-apply-combine operations that can be applied to group data.\n",
    "\n",
    "  * I include a variant ($\\frac{1}{2}$ a class) which I think is useful to better classify split-apply-combine operations.\n",
    "\n",
    "\n",
    "1\\.$~~$__Aggregations__ generate a single value for each group\n",
    "   * Ex. Sum the spending by specialty\n",
    "  \n",
    "2\\.$~~$ __Transformations__ convert the data and generate a group of the same size as the original group.\n",
    "   * Ex. Convert the currency by country for some datasets that contains medication cost by country.\n",
    "\n",
    "3\\.$~~$ __Filters__ retain or discard a group based on group-specific boolean computations.\n",
    "   * Ex. drop specialty if the sum of spending is below some threshold\n",
    "\n",
    "3$\\frac{1}{2}$\\.$~$\"__Thinning__\" drops entries in a group based on some defined logic.\n",
    "  * Filter out values in a group that are 3 standard deviations above or below the mean.\n",
    "  \n"
   ]
  },
  {
   "cell_type": "markdown",
   "metadata": {
    "collapsed": true,
    "slideshow": {
     "slide_type": "slide"
    }
   },
   "source": [
    "### Aggregations\n",
    "\n",
    "- __Aggregations__ aggregate the data in each group, i.e., they reduce the data in each group to a single value. \n",
    "\n",
    "  * This includes, for instance, computing group sums, means, maximums, minimums, _etc_.\n",
    "\n"
   ]
  },
  {
   "cell_type": "markdown",
   "metadata": {
    "slideshow": {
     "slide_type": "slide"
    }
   },
   "source": [
    "![](https://www.dropbox.com/s/9q54na9szs5syi5/aggregate.png?dl=1)\n"
   ]
  },
  {
   "cell_type": "markdown",
   "metadata": {
    "slideshow": {
     "slide_type": "slide"
    }
   },
   "source": [
    "\n",
    "### Transforming Group Data\n",
    "\n",
    "* Transform the data in a group-specific way.\n",
    "\n",
    "  *  Ex. for specialty, we want to transform the column `nb_beneficiaries` into the values small, large or medium, depending on whether the `nb_beneficiaries` value is, respectively, `-2 * std` below the mean, `+2 * std` larger than the mean or withing `+/-2 * std` of the mean.\n",
    "\n",
    "\n",
    "   *  The number of entries per group resulting from a transformation is the same as the number of entries in the group before the transformation.\n",
    "\n"
   ]
  },
  {
   "cell_type": "markdown",
   "metadata": {
    "slideshow": {
     "slide_type": "slide"
    }
   },
   "source": [
    "- The diagram below shows an example where the data in column \"Y\" in transformed by dividing it by the group mean.\n",
    "\n",
    "![](https://www.dropbox.com/s/nf8lg0lqk3yxf7k/transform_2.png?dl=1)\n"
   ]
  },
  {
   "cell_type": "markdown",
   "metadata": {
    "slideshow": {
     "slide_type": "slide"
    }
   },
   "source": [
    "### Filtering Group Data\n",
    "\n",
    "* Consist of dropping or retaining that group in a way that depends on a group-specific computation that returns `True` or `False`. \n",
    "\n",
    "* For instance, we can filter specialties that don't have enough entries or for which the mean `spending` if below a certain threshold.\n",
    "  * Groups are either retained or discarded. Groups that are retained are unmodified.\n"
   ]
  },
  {
   "cell_type": "markdown",
   "metadata": {
    "slideshow": {
     "slide_type": "slide"
    }
   },
   "source": [
    "- The diagram below shows an example where groups are filtered if their sum for column `Y` is less than 10.\n",
    "\n",
    "![](https://www.dropbox.com/s/ncmv2xsupjok7va/filter.png?dl=1)"
   ]
  },
  {
   "cell_type": "markdown",
   "metadata": {
    "collapsed": true,
    "slideshow": {
     "slide_type": "slide"
    }
   },
   "source": [
    "### Thinning Group Data\n",
    "\n",
    "* Consist of reducing the number of entries using a group-specific operation.\n",
    "\n",
    "* Thinning can be useful to sub-sample the data at the group level or returning the top `n` entries in each group, etc. \n",
    "\n",
    "  * As opposed to aggregating functions, thinning does not have to reduce the group into a single entry; although it could\n",
    "\n",
    "    \n",
    "![](https://www.dropbox.com/s/m4p4f5nk55w2ni2/thin.png?dl=1) "
   ]
  },
  {
   "cell_type": "markdown",
   "metadata": {
    "slideshow": {
     "slide_type": "slide"
    }
   },
   "source": [
    "\n",
    "### Aggregating the Data Using `groupby`\n",
    "\n",
    "* Aggregation is commonly used to compute summary statistics on each of the groups.\n",
    "\n",
    "* Some of the interesting/important summary aggregation methods `DataFrameGroupBy` objects are:\n",
    "\n",
    "|Methods           |        Decription                              |\n",
    "|:-----------------|:-----------------------------------------------|\n",
    "| `mean`, `median` | Computes the mean and the median in each group | \n",
    "| `min` , `max`    | computes the min and max in each group         | \n",
    "| `size`           | computes the number of values in each group    | \n",
    "\n",
    "\n"
   ]
  },
  {
   "cell_type": "code",
   "execution_count": 6,
   "metadata": {
    "slideshow": {
     "slide_type": "slide"
    }
   },
   "outputs": [
    {
     "data": {
      "text/html": [
       "<div>\n",
       "<style scoped>\n",
       "    .dataframe tbody tr th:only-of-type {\n",
       "        vertical-align: middle;\n",
       "    }\n",
       "\n",
       "    .dataframe tbody tr th {\n",
       "        vertical-align: top;\n",
       "    }\n",
       "\n",
       "    .dataframe thead th {\n",
       "        text-align: right;\n",
       "    }\n",
       "</style>\n",
       "<table border=\"1\" class=\"dataframe\">\n",
       "  <thead>\n",
       "    <tr style=\"text-align: right;\">\n",
       "      <th></th>\n",
       "      <th>doctor_id</th>\n",
       "      <th>specialty</th>\n",
       "      <th>medication</th>\n",
       "      <th>nb_beneficiaries</th>\n",
       "      <th>spending</th>\n",
       "    </tr>\n",
       "    <tr>\n",
       "      <th>unique_id</th>\n",
       "      <th></th>\n",
       "      <th></th>\n",
       "      <th></th>\n",
       "      <th></th>\n",
       "      <th></th>\n",
       "    </tr>\n",
       "  </thead>\n",
       "  <tbody>\n",
       "    <tr>\n",
       "      <th>NX531425</th>\n",
       "      <td>1255626040</td>\n",
       "      <td>FAMILY PRACTICE</td>\n",
       "      <td>METFORMIN HCL</td>\n",
       "      <td>30</td>\n",
       "      <td>135.24</td>\n",
       "    </tr>\n",
       "    <tr>\n",
       "      <th>QG879256</th>\n",
       "      <td>1699761833</td>\n",
       "      <td>FAMILY PRACTICE</td>\n",
       "      <td>ALLOPURINOL</td>\n",
       "      <td>30</td>\n",
       "      <td>715.76</td>\n",
       "    </tr>\n",
       "    <tr>\n",
       "      <th>FW363228</th>\n",
       "      <td>1538148804</td>\n",
       "      <td>INTERNAL MEDICINE</td>\n",
       "      <td>LOSARTAN POTASSIUM</td>\n",
       "      <td>146</td>\n",
       "      <td>1056.47</td>\n",
       "    </tr>\n",
       "    <tr>\n",
       "      <th>WD733417</th>\n",
       "      <td>1730200619</td>\n",
       "      <td>PSYCHIATRY</td>\n",
       "      <td>OLANZAPINE</td>\n",
       "      <td>13</td>\n",
       "      <td>28226.97</td>\n",
       "    </tr>\n",
       "    <tr>\n",
       "      <th>XW149832</th>\n",
       "      <td>1023116894</td>\n",
       "      <td>FAMILY PRACTICE</td>\n",
       "      <td>PRAVASTATIN SODIUM</td>\n",
       "      <td>348</td>\n",
       "      <td>8199.48</td>\n",
       "    </tr>\n",
       "  </tbody>\n",
       "</table>\n",
       "</div>"
      ],
      "text/plain": [
       "            doctor_id          specialty          medication  \\\n",
       "unique_id                                                      \n",
       "NX531425   1255626040    FAMILY PRACTICE       METFORMIN HCL   \n",
       "QG879256   1699761833    FAMILY PRACTICE         ALLOPURINOL   \n",
       "FW363228   1538148804  INTERNAL MEDICINE  LOSARTAN POTASSIUM   \n",
       "WD733417   1730200619         PSYCHIATRY          OLANZAPINE   \n",
       "XW149832   1023116894    FAMILY PRACTICE  PRAVASTATIN SODIUM   \n",
       "\n",
       "           nb_beneficiaries  spending  \n",
       "unique_id                              \n",
       "NX531425                 30    135.24  \n",
       "QG879256                 30    715.76  \n",
       "FW363228                146   1056.47  \n",
       "WD733417                 13  28226.97  \n",
       "XW149832                348   8199.48  "
      ]
     },
     "execution_count": 6,
     "metadata": {},
     "output_type": "execute_result"
    }
   ],
   "source": [
    "spending_df.head()"
   ]
  },
  {
   "cell_type": "markdown",
   "metadata": {
    "slideshow": {
     "slide_type": "slide"
    }
   },
   "source": [
    "##### Aggregating the Data Using `groupby` Cont'd \n",
    "\n",
    "\n",
    "- The functions above all use the same syntax:\n",
    " \n",
    "```python\n",
    "spending_df.groupby('specialty').sum()\n",
    "# or\n",
    "spending_df.groupby('specialty').min()\n",
    "```\n"
   ]
  },
  {
   "cell_type": "code",
   "execution_count": 7,
   "metadata": {
    "slideshow": {
     "slide_type": "slide"
    }
   },
   "outputs": [
    {
     "data": {
      "text/html": [
       "<div>\n",
       "<style scoped>\n",
       "    .dataframe tbody tr th:only-of-type {\n",
       "        vertical-align: middle;\n",
       "    }\n",
       "\n",
       "    .dataframe tbody tr th {\n",
       "        vertical-align: top;\n",
       "    }\n",
       "\n",
       "    .dataframe thead th {\n",
       "        text-align: right;\n",
       "    }\n",
       "</style>\n",
       "<table border=\"1\" class=\"dataframe\">\n",
       "  <thead>\n",
       "    <tr style=\"text-align: right;\">\n",
       "      <th></th>\n",
       "      <th>nb_beneficiaries</th>\n",
       "      <th>spending</th>\n",
       "    </tr>\n",
       "    <tr>\n",
       "      <th>specialty</th>\n",
       "      <th></th>\n",
       "      <th></th>\n",
       "    </tr>\n",
       "  </thead>\n",
       "  <tbody>\n",
       "    <tr>\n",
       "      <th>ADDICTION MEDICINE</th>\n",
       "      <td>74</td>\n",
       "      <td>920.06</td>\n",
       "    </tr>\n",
       "    <tr>\n",
       "      <th>ALLERGY/IMMUNOLOGY</th>\n",
       "      <td>1063</td>\n",
       "      <td>189174.06</td>\n",
       "    </tr>\n",
       "    <tr>\n",
       "      <th>ANESTHESIOLOGY</th>\n",
       "      <td>1673</td>\n",
       "      <td>142804.73</td>\n",
       "    </tr>\n",
       "    <tr>\n",
       "      <th>CARDIAC ELECTROPHYSIOLOGY</th>\n",
       "      <td>1041</td>\n",
       "      <td>225543.62</td>\n",
       "    </tr>\n",
       "    <tr>\n",
       "      <th>CARDIAC SURGERY</th>\n",
       "      <td>33</td>\n",
       "      <td>12432.92</td>\n",
       "    </tr>\n",
       "    <tr>\n",
       "      <th>CARDIOLOGY</th>\n",
       "      <td>29638</td>\n",
       "      <td>1915787.90</td>\n",
       "    </tr>\n",
       "    <tr>\n",
       "      <th>CERTIFIED CLINICAL NURSE SPECIALIST</th>\n",
       "      <td>1146</td>\n",
       "      <td>114057.40</td>\n",
       "    </tr>\n",
       "    <tr>\n",
       "      <th>CERTIFIED NURSE MIDWIFE</th>\n",
       "      <td>58</td>\n",
       "      <td>14763.47</td>\n",
       "    </tr>\n",
       "    <tr>\n",
       "      <th>CLINIC/CENTER</th>\n",
       "      <td>23</td>\n",
       "      <td>3110.16</td>\n",
       "    </tr>\n",
       "    <tr>\n",
       "      <th>CLINICAL PSYCHOLOGIST</th>\n",
       "      <td>83</td>\n",
       "      <td>495.95</td>\n",
       "    </tr>\n",
       "  </tbody>\n",
       "</table>\n",
       "</div>"
      ],
      "text/plain": [
       "                                     nb_beneficiaries    spending\n",
       "specialty                                                        \n",
       "ADDICTION MEDICINE                                 74      920.06\n",
       "ALLERGY/IMMUNOLOGY                               1063   189174.06\n",
       "ANESTHESIOLOGY                                   1673   142804.73\n",
       "CARDIAC ELECTROPHYSIOLOGY                        1041   225543.62\n",
       "CARDIAC SURGERY                                    33    12432.92\n",
       "CARDIOLOGY                                      29638  1915787.90\n",
       "CERTIFIED CLINICAL NURSE SPECIALIST              1146   114057.40\n",
       "CERTIFIED NURSE MIDWIFE                            58    14763.47\n",
       "CLINIC/CENTER                                      23     3110.16\n",
       "CLINICAL PSYCHOLOGIST                              83      495.95"
      ]
     },
     "execution_count": 7,
     "metadata": {},
     "output_type": "execute_result"
    }
   ],
   "source": [
    "spending_df.groupby('specialty').sum().head(10)\n"
   ]
  },
  {
   "cell_type": "markdown",
   "metadata": {
    "slideshow": {
     "slide_type": "slide"
    }
   },
   "source": [
    "\n",
    "### Applying Functions to Group Columns\n",
    "\n",
    "- The method called `agg` can be used where complex or custom aggregation logic is required.\n",
    " The method `agg` takes a function (or a list of functions) and uses it (them) to aggregate the group's colum(s)\n",
    "\n",
    "- Example, we can use `sum_spending_CAD` to return the sum of the spending in Canadian Dollars.\n",
    "\n"
   ]
  },
  {
   "cell_type": "markdown",
   "metadata": {
    "slideshow": {
     "slide_type": "slide"
    }
   },
   "source": [
    "```python\n",
    "def sum_spending_CAD(x):\n",
    "    return x.sum() * 1.32\n",
    "\n",
    "spending_by_specialty['spending'].agg(sum_spending_CAD)\n",
    "```\n",
    "\n",
    "\n",
    "* `agg` can either:\n",
    "  * take a dictionary of functions to aggregate on.\n",
    "    * Required for aggregating more than one column \n",
    "\n",
    "    ```python \n",
    "    spending_by_specialty.agg({'nb_beneficiaries' :sum,\n",
    "                               'spending' : sum_spending_CAD)\n",
    "    ```\n",
    "\n",
    "  * `agg` can take a list of function to apply to each column functions to aggregate on.\n",
    "  \n",
    "    `\n",
    "    spending_by_specialty.agg([min,max,sum])\n",
    "    `"
   ]
  },
  {
   "cell_type": "code",
   "execution_count": 12,
   "metadata": {
    "slideshow": {
     "slide_type": "slide"
    }
   },
   "outputs": [
    {
     "data": {
      "text/html": [
       "<div>\n",
       "<style scoped>\n",
       "    .dataframe tbody tr th:only-of-type {\n",
       "        vertical-align: middle;\n",
       "    }\n",
       "\n",
       "    .dataframe tbody tr th {\n",
       "        vertical-align: top;\n",
       "    }\n",
       "\n",
       "    .dataframe thead th {\n",
       "        text-align: right;\n",
       "    }\n",
       "</style>\n",
       "<table border=\"1\" class=\"dataframe\">\n",
       "  <thead>\n",
       "    <tr style=\"text-align: right;\">\n",
       "      <th></th>\n",
       "      <th>nb_beneficiaries</th>\n",
       "      <th>spending</th>\n",
       "    </tr>\n",
       "    <tr>\n",
       "      <th>specialty</th>\n",
       "      <th></th>\n",
       "      <th></th>\n",
       "    </tr>\n",
       "  </thead>\n",
       "  <tbody>\n",
       "    <tr>\n",
       "      <th>ADDICTION MEDICINE</th>\n",
       "      <td>74</td>\n",
       "      <td>1214.4792</td>\n",
       "    </tr>\n",
       "    <tr>\n",
       "      <th>ALLERGY/IMMUNOLOGY</th>\n",
       "      <td>1063</td>\n",
       "      <td>249709.7592</td>\n",
       "    </tr>\n",
       "    <tr>\n",
       "      <th>ANESTHESIOLOGY</th>\n",
       "      <td>1673</td>\n",
       "      <td>188502.2436</td>\n",
       "    </tr>\n",
       "    <tr>\n",
       "      <th>CARDIAC ELECTROPHYSIOLOGY</th>\n",
       "      <td>1041</td>\n",
       "      <td>297717.5784</td>\n",
       "    </tr>\n",
       "    <tr>\n",
       "      <th>CARDIAC SURGERY</th>\n",
       "      <td>33</td>\n",
       "      <td>16411.4544</td>\n",
       "    </tr>\n",
       "  </tbody>\n",
       "</table>\n",
       "</div>"
      ],
      "text/plain": [
       "                           nb_beneficiaries     spending\n",
       "specialty                                               \n",
       "ADDICTION MEDICINE                       74    1214.4792\n",
       "ALLERGY/IMMUNOLOGY                     1063  249709.7592\n",
       "ANESTHESIOLOGY                         1673  188502.2436\n",
       "CARDIAC ELECTROPHYSIOLOGY              1041  297717.5784\n",
       "CARDIAC SURGERY                          33   16411.4544"
      ]
     },
     "execution_count": 12,
     "metadata": {},
     "output_type": "execute_result"
    }
   ],
   "source": [
    "def sum_spending_CAD(x):\n",
    "    return x.sum() * 1.32\n",
    "\n",
    "# format\n",
    "(\n",
    "    spending_by_specialty.agg({ 'nb_beneficiaries': sum, 'spending': sum_spending_CAD })\n",
    "                         .head()\n",
    ")\n",
    "\n"
   ]
  },
  {
   "cell_type": "code",
   "execution_count": 14,
   "metadata": {},
   "outputs": [
    {
     "data": {
      "text/html": [
       "<div>\n",
       "<style scoped>\n",
       "    .dataframe tbody tr th:only-of-type {\n",
       "        vertical-align: middle;\n",
       "    }\n",
       "\n",
       "    .dataframe tbody tr th {\n",
       "        vertical-align: top;\n",
       "    }\n",
       "\n",
       "    .dataframe thead th {\n",
       "        text-align: right;\n",
       "    }\n",
       "</style>\n",
       "<table border=\"1\" class=\"dataframe\">\n",
       "  <thead>\n",
       "    <tr style=\"text-align: right;\">\n",
       "      <th></th>\n",
       "      <th>doctor_id</th>\n",
       "      <th>specialty</th>\n",
       "      <th>medication</th>\n",
       "      <th>nb_beneficiaries</th>\n",
       "      <th>spending</th>\n",
       "    </tr>\n",
       "    <tr>\n",
       "      <th>unique_id</th>\n",
       "      <th></th>\n",
       "      <th></th>\n",
       "      <th></th>\n",
       "      <th></th>\n",
       "      <th></th>\n",
       "    </tr>\n",
       "  </thead>\n",
       "  <tbody>\n",
       "    <tr>\n",
       "      <th>VG585760</th>\n",
       "      <td>1801032297</td>\n",
       "      <td>ADDICTION MEDICINE</td>\n",
       "      <td>LAMOTRIGINE</td>\n",
       "      <td>11</td>\n",
       "      <td>82.62</td>\n",
       "    </tr>\n",
       "    <tr>\n",
       "      <th>GJ278932</th>\n",
       "      <td>1134139991</td>\n",
       "      <td>ADDICTION MEDICINE</td>\n",
       "      <td>BUSPIRONE HCL</td>\n",
       "      <td>49</td>\n",
       "      <td>817.88</td>\n",
       "    </tr>\n",
       "    <tr>\n",
       "      <th>TX420809</th>\n",
       "      <td>1801032297</td>\n",
       "      <td>ADDICTION MEDICINE</td>\n",
       "      <td>LORAZEPAM</td>\n",
       "      <td>14</td>\n",
       "      <td>19.56</td>\n",
       "    </tr>\n",
       "  </tbody>\n",
       "</table>\n",
       "</div>"
      ],
      "text/plain": [
       "            doctor_id           specialty     medication  nb_beneficiaries  \\\n",
       "unique_id                                                                    \n",
       "VG585760   1801032297  ADDICTION MEDICINE    LAMOTRIGINE                11   \n",
       "GJ278932   1134139991  ADDICTION MEDICINE  BUSPIRONE HCL                49   \n",
       "TX420809   1801032297  ADDICTION MEDICINE      LORAZEPAM                14   \n",
       "\n",
       "           spending  \n",
       "unique_id            \n",
       "VG585760      82.62  \n",
       "GJ278932     817.88  \n",
       "TX420809      19.56  "
      ]
     },
     "execution_count": 14,
     "metadata": {},
     "output_type": "execute_result"
    }
   ],
   "source": [
    "spending_by_specialty.get_group(\"ADDICTION MEDICINE\")"
   ]
  },
  {
   "cell_type": "code",
   "execution_count": 6,
   "metadata": {
    "slideshow": {
     "slide_type": "slide"
    }
   },
   "outputs": [
    {
     "data": {
      "text/html": [
       "<div>\n",
       "<style scoped>\n",
       "    .dataframe tbody tr th:only-of-type {\n",
       "        vertical-align: middle;\n",
       "    }\n",
       "\n",
       "    .dataframe tbody tr th {\n",
       "        vertical-align: top;\n",
       "    }\n",
       "\n",
       "    .dataframe thead th {\n",
       "        text-align: right;\n",
       "    }\n",
       "</style>\n",
       "<table border=\"1\" class=\"dataframe\">\n",
       "  <thead>\n",
       "    <tr style=\"text-align: right;\">\n",
       "      <th></th>\n",
       "      <th>sum</th>\n",
       "      <th>min</th>\n",
       "      <th>max</th>\n",
       "    </tr>\n",
       "    <tr>\n",
       "      <th>specialty</th>\n",
       "      <th></th>\n",
       "      <th></th>\n",
       "      <th></th>\n",
       "    </tr>\n",
       "  </thead>\n",
       "  <tbody>\n",
       "    <tr>\n",
       "      <th>ADDICTION MEDICINE</th>\n",
       "      <td>920.06</td>\n",
       "      <td>19.56</td>\n",
       "      <td>817.88</td>\n",
       "    </tr>\n",
       "    <tr>\n",
       "      <th>ALLERGY/IMMUNOLOGY</th>\n",
       "      <td>189174.06</td>\n",
       "      <td>109.80</td>\n",
       "      <td>52389.61</td>\n",
       "    </tr>\n",
       "    <tr>\n",
       "      <th>ANESTHESIOLOGY</th>\n",
       "      <td>142804.73</td>\n",
       "      <td>35.33</td>\n",
       "      <td>34073.91</td>\n",
       "    </tr>\n",
       "    <tr>\n",
       "      <th>CARDIAC ELECTROPHYSIOLOGY</th>\n",
       "      <td>225543.62</td>\n",
       "      <td>69.85</td>\n",
       "      <td>89101.54</td>\n",
       "    </tr>\n",
       "    <tr>\n",
       "      <th>CARDIAC SURGERY</th>\n",
       "      <td>12432.92</td>\n",
       "      <td>442.91</td>\n",
       "      <td>11990.01</td>\n",
       "    </tr>\n",
       "  </tbody>\n",
       "</table>\n",
       "</div>"
      ],
      "text/plain": [
       "                                 sum     min       max\n",
       "specialty                                             \n",
       "ADDICTION MEDICINE            920.06   19.56    817.88\n",
       "ALLERGY/IMMUNOLOGY         189174.06  109.80  52389.61\n",
       "ANESTHESIOLOGY             142804.73   35.33  34073.91\n",
       "CARDIAC ELECTROPHYSIOLOGY  225543.62   69.85  89101.54\n",
       "CARDIAC SURGERY             12432.92  442.91  11990.01"
      ]
     },
     "execution_count": 6,
     "metadata": {},
     "output_type": "execute_result"
    }
   ],
   "source": [
    "# note that sum, min and max here are functions\n",
    "spending_by_specialty['spending'].agg([sum, min, max]).head()"
   ]
  },
  {
   "cell_type": "code",
   "execution_count": 10,
   "metadata": {},
   "outputs": [
    {
     "data": {
      "text/html": [
       "<div>\n",
       "<style scoped>\n",
       "    .dataframe tbody tr th:only-of-type {\n",
       "        vertical-align: middle;\n",
       "    }\n",
       "\n",
       "    .dataframe tbody tr th {\n",
       "        vertical-align: top;\n",
       "    }\n",
       "\n",
       "    .dataframe thead th {\n",
       "        text-align: right;\n",
       "    }\n",
       "</style>\n",
       "<table border=\"1\" class=\"dataframe\">\n",
       "  <thead>\n",
       "    <tr style=\"text-align: right;\">\n",
       "      <th></th>\n",
       "      <th>nb_beneficiaries</th>\n",
       "      <th>spending</th>\n",
       "    </tr>\n",
       "    <tr>\n",
       "      <th>specialty</th>\n",
       "      <th></th>\n",
       "      <th></th>\n",
       "    </tr>\n",
       "  </thead>\n",
       "  <tbody>\n",
       "    <tr>\n",
       "      <th>ADDICTION MEDICINE</th>\n",
       "      <td>11</td>\n",
       "      <td>817.88</td>\n",
       "    </tr>\n",
       "    <tr>\n",
       "      <th>ALLERGY/IMMUNOLOGY</th>\n",
       "      <td>11</td>\n",
       "      <td>52389.61</td>\n",
       "    </tr>\n",
       "    <tr>\n",
       "      <th>ANESTHESIOLOGY</th>\n",
       "      <td>12</td>\n",
       "      <td>34073.91</td>\n",
       "    </tr>\n",
       "    <tr>\n",
       "      <th>CARDIAC ELECTROPHYSIOLOGY</th>\n",
       "      <td>12</td>\n",
       "      <td>89101.54</td>\n",
       "    </tr>\n",
       "    <tr>\n",
       "      <th>CARDIAC SURGERY</th>\n",
       "      <td>15</td>\n",
       "      <td>11990.01</td>\n",
       "    </tr>\n",
       "  </tbody>\n",
       "</table>\n",
       "</div>"
      ],
      "text/plain": [
       "                           nb_beneficiaries  spending\n",
       "specialty                                            \n",
       "ADDICTION MEDICINE                       11    817.88\n",
       "ALLERGY/IMMUNOLOGY                       11  52389.61\n",
       "ANESTHESIOLOGY                           12  34073.91\n",
       "CARDIAC ELECTROPHYSIOLOGY                12  89101.54\n",
       "CARDIAC SURGERY                          15  11990.01"
      ]
     },
     "execution_count": 10,
     "metadata": {},
     "output_type": "execute_result"
    }
   ],
   "source": [
    "spending_by_specialty.agg({'nb_beneficiaries' :min,\n",
    "                           'spending' : max}).head()\n"
   ]
  },
  {
   "cell_type": "code",
   "execution_count": 11,
   "metadata": {
    "slideshow": {
     "slide_type": "slide"
    }
   },
   "outputs": [
    {
     "data": {
      "text/html": [
       "<div>\n",
       "<style scoped>\n",
       "    .dataframe tbody tr th:only-of-type {\n",
       "        vertical-align: middle;\n",
       "    }\n",
       "\n",
       "    .dataframe tbody tr th {\n",
       "        vertical-align: top;\n",
       "    }\n",
       "\n",
       "    .dataframe thead tr th {\n",
       "        text-align: left;\n",
       "    }\n",
       "\n",
       "    .dataframe thead tr:last-of-type th {\n",
       "        text-align: right;\n",
       "    }\n",
       "</style>\n",
       "<table border=\"1\" class=\"dataframe\">\n",
       "  <thead>\n",
       "    <tr>\n",
       "      <th></th>\n",
       "      <th colspan=\"2\" halign=\"left\">nb_beneficiaries</th>\n",
       "      <th>spending</th>\n",
       "    </tr>\n",
       "    <tr>\n",
       "      <th></th>\n",
       "      <th>min</th>\n",
       "      <th>sum</th>\n",
       "      <th>max</th>\n",
       "    </tr>\n",
       "    <tr>\n",
       "      <th>specialty</th>\n",
       "      <th></th>\n",
       "      <th></th>\n",
       "      <th></th>\n",
       "    </tr>\n",
       "  </thead>\n",
       "  <tbody>\n",
       "    <tr>\n",
       "      <th>ADDICTION MEDICINE</th>\n",
       "      <td>11</td>\n",
       "      <td>74</td>\n",
       "      <td>817.88</td>\n",
       "    </tr>\n",
       "    <tr>\n",
       "      <th>ALLERGY/IMMUNOLOGY</th>\n",
       "      <td>11</td>\n",
       "      <td>1063</td>\n",
       "      <td>52389.61</td>\n",
       "    </tr>\n",
       "    <tr>\n",
       "      <th>ANESTHESIOLOGY</th>\n",
       "      <td>12</td>\n",
       "      <td>1673</td>\n",
       "      <td>34073.91</td>\n",
       "    </tr>\n",
       "    <tr>\n",
       "      <th>CARDIAC ELECTROPHYSIOLOGY</th>\n",
       "      <td>12</td>\n",
       "      <td>1041</td>\n",
       "      <td>89101.54</td>\n",
       "    </tr>\n",
       "    <tr>\n",
       "      <th>CARDIAC SURGERY</th>\n",
       "      <td>15</td>\n",
       "      <td>33</td>\n",
       "      <td>11990.01</td>\n",
       "    </tr>\n",
       "  </tbody>\n",
       "</table>\n",
       "</div>"
      ],
      "text/plain": [
       "                          nb_beneficiaries        spending\n",
       "                                       min   sum       max\n",
       "specialty                                                 \n",
       "ADDICTION MEDICINE                      11    74    817.88\n",
       "ALLERGY/IMMUNOLOGY                      11  1063  52389.61\n",
       "ANESTHESIOLOGY                          12  1673  34073.91\n",
       "CARDIAC ELECTROPHYSIOLOGY               12  1041  89101.54\n",
       "CARDIAC SURGERY                         15    33  11990.01"
      ]
     },
     "execution_count": 11,
     "metadata": {},
     "output_type": "execute_result"
    }
   ],
   "source": [
    "spending_by_specialty.agg({'nb_beneficiaries' :[min, sum],\n",
    "                           'spending' : max}).head()\n"
   ]
  },
  {
   "cell_type": "markdown",
   "metadata": {
    "slideshow": {
     "slide_type": "slide"
    }
   },
   "source": [
    "### Transforming the Data in `groupby`\n",
    "\n",
    "- As opposed to aggregations, which reduce the data into a single value, transformations modify the data but don't change the `shape` (dimension) of the groups\n",
    "\n",
    "- Transformations are useful for applying operations that are group specific\n",
    "\n"
   ]
  },
  {
   "cell_type": "markdown",
   "metadata": {
    "slideshow": {
     "slide_type": "slide"
    }
   },
   "source": [
    "### Transforming the Data in `groupby` Cont'd\n",
    "\n",
    "\n",
    "- The example below computes the percent contribution of each entry to each specialty by applying a transformation that normalizes the entry's spending over the total spending in that specialty. \n",
    "\n",
    "![](https://www.dropbox.com/s/xwomvq1cs90jpg1/transform_spending.png?dl=1)\n"
   ]
  },
  {
   "cell_type": "code",
   "execution_count": 16,
   "metadata": {
    "slideshow": {
     "slide_type": "slide"
    }
   },
   "outputs": [
    {
     "data": {
      "text/plain": [
       "unique_id\n",
       "VG585760    82.620\n",
       "GJ278932   817.880\n",
       "TX420809    19.560\n",
       "Name: spending, dtype: float64"
      ]
     },
     "execution_count": 16,
     "metadata": {},
     "output_type": "execute_result"
    }
   ],
   "source": [
    "spending_by_specialty[\"spending\"].get_group(\"ADDICTION MEDICINE\")"
   ]
  },
  {
   "cell_type": "markdown",
   "metadata": {
    "slideshow": {
     "slide_type": "slide"
    }
   },
   "source": [
    "### Applying a Transformation\n",
    "\n",
    "- Applying a transformation is done using the method called `transform`.\n",
    "\n",
    "\n",
    "- The method `transform` takes as input a function name, which it calls on each group of the `DataFrameGroupBy` object"
   ]
  },
  {
   "cell_type": "code",
   "execution_count": 15,
   "metadata": {
    "slideshow": {
     "slide_type": "slide"
    }
   },
   "outputs": [],
   "source": [
    "# i=0\n",
    "# global i\n",
    "# i+=1 \n",
    "# print(type(x))\n",
    "\n",
    "\n",
    "def my_function(x):\n",
    "\n",
    "    return (x   / x.sum() ) * 100\n",
    "    \n",
    "\n",
    "\n",
    "spending_df[\"spending_pct\"] = spending_by_specialty['spending'].transform(my_function)\n"
   ]
  },
  {
   "cell_type": "code",
   "execution_count": 16,
   "metadata": {
    "slideshow": {
     "slide_type": "slide"
    }
   },
   "outputs": [
    {
     "data": {
      "text/html": [
       "<div>\n",
       "<style scoped>\n",
       "    .dataframe tbody tr th:only-of-type {\n",
       "        vertical-align: middle;\n",
       "    }\n",
       "\n",
       "    .dataframe tbody tr th {\n",
       "        vertical-align: top;\n",
       "    }\n",
       "\n",
       "    .dataframe thead th {\n",
       "        text-align: right;\n",
       "    }\n",
       "</style>\n",
       "<table border=\"1\" class=\"dataframe\">\n",
       "  <thead>\n",
       "    <tr style=\"text-align: right;\">\n",
       "      <th></th>\n",
       "      <th>doctor_id</th>\n",
       "      <th>specialty</th>\n",
       "      <th>medication</th>\n",
       "      <th>nb_beneficiaries</th>\n",
       "      <th>spending</th>\n",
       "      <th>spending_pct</th>\n",
       "    </tr>\n",
       "    <tr>\n",
       "      <th>unique_id</th>\n",
       "      <th></th>\n",
       "      <th></th>\n",
       "      <th></th>\n",
       "      <th></th>\n",
       "      <th></th>\n",
       "      <th></th>\n",
       "    </tr>\n",
       "  </thead>\n",
       "  <tbody>\n",
       "    <tr>\n",
       "      <th>VG585760</th>\n",
       "      <td>1801032297</td>\n",
       "      <td>ADDICTION MEDICINE</td>\n",
       "      <td>LAMOTRIGINE</td>\n",
       "      <td>11</td>\n",
       "      <td>82.62</td>\n",
       "      <td>8.979849</td>\n",
       "    </tr>\n",
       "    <tr>\n",
       "      <th>GJ278932</th>\n",
       "      <td>1134139991</td>\n",
       "      <td>ADDICTION MEDICINE</td>\n",
       "      <td>BUSPIRONE HCL</td>\n",
       "      <td>49</td>\n",
       "      <td>817.88</td>\n",
       "      <td>88.894203</td>\n",
       "    </tr>\n",
       "    <tr>\n",
       "      <th>TX420809</th>\n",
       "      <td>1801032297</td>\n",
       "      <td>ADDICTION MEDICINE</td>\n",
       "      <td>LORAZEPAM</td>\n",
       "      <td>14</td>\n",
       "      <td>19.56</td>\n",
       "      <td>2.125948</td>\n",
       "    </tr>\n",
       "  </tbody>\n",
       "</table>\n",
       "</div>"
      ],
      "text/plain": [
       "            doctor_id           specialty     medication  nb_beneficiaries  \\\n",
       "unique_id                                                                    \n",
       "VG585760   1801032297  ADDICTION MEDICINE    LAMOTRIGINE                11   \n",
       "GJ278932   1134139991  ADDICTION MEDICINE  BUSPIRONE HCL                49   \n",
       "TX420809   1801032297  ADDICTION MEDICINE      LORAZEPAM                14   \n",
       "\n",
       "           spending  spending_pct  \n",
       "unique_id                          \n",
       "VG585760      82.62      8.979849  \n",
       "GJ278932     817.88     88.894203  \n",
       "TX420809      19.56      2.125948  "
      ]
     },
     "execution_count": 16,
     "metadata": {},
     "output_type": "execute_result"
    }
   ],
   "source": [
    "spending_df[spending_df['specialty'] == \"ADDICTION MEDICINE\"]\n"
   ]
  },
  {
   "cell_type": "code",
   "execution_count": 28,
   "metadata": {
    "slideshow": {
     "slide_type": "slide"
    }
   },
   "outputs": [
    {
     "data": {
      "text/html": [
       "<div>\n",
       "<style scoped>\n",
       "    .dataframe tbody tr th:only-of-type {\n",
       "        vertical-align: middle;\n",
       "    }\n",
       "\n",
       "    .dataframe tbody tr th {\n",
       "        vertical-align: top;\n",
       "    }\n",
       "\n",
       "    .dataframe thead th {\n",
       "        text-align: right;\n",
       "    }\n",
       "</style>\n",
       "<table border=\"1\" class=\"dataframe\">\n",
       "  <thead>\n",
       "    <tr style=\"text-align: right;\">\n",
       "      <th></th>\n",
       "      <th>doctor_id</th>\n",
       "      <th>specialty</th>\n",
       "      <th>medication</th>\n",
       "      <th>nb_beneficiaries</th>\n",
       "      <th>spending</th>\n",
       "      <th>spending_pct</th>\n",
       "    </tr>\n",
       "    <tr>\n",
       "      <th>unique_id</th>\n",
       "      <th></th>\n",
       "      <th></th>\n",
       "      <th></th>\n",
       "      <th></th>\n",
       "      <th></th>\n",
       "      <th></th>\n",
       "    </tr>\n",
       "  </thead>\n",
       "  <tbody>\n",
       "    <tr>\n",
       "      <th>GJ278932</th>\n",
       "      <td>1134139991</td>\n",
       "      <td>ADDICTION MEDICINE</td>\n",
       "      <td>BUSPIRONE HCL</td>\n",
       "      <td>49</td>\n",
       "      <td>817.88</td>\n",
       "      <td>88.894203</td>\n",
       "    </tr>\n",
       "    <tr>\n",
       "      <th>VG585760</th>\n",
       "      <td>1801032297</td>\n",
       "      <td>ADDICTION MEDICINE</td>\n",
       "      <td>LAMOTRIGINE</td>\n",
       "      <td>11</td>\n",
       "      <td>82.62</td>\n",
       "      <td>8.979849</td>\n",
       "    </tr>\n",
       "    <tr>\n",
       "      <th>TX420809</th>\n",
       "      <td>1801032297</td>\n",
       "      <td>ADDICTION MEDICINE</td>\n",
       "      <td>LORAZEPAM</td>\n",
       "      <td>14</td>\n",
       "      <td>19.56</td>\n",
       "      <td>2.125948</td>\n",
       "    </tr>\n",
       "    <tr>\n",
       "      <th>XY715196</th>\n",
       "      <td>1376691626</td>\n",
       "      <td>ALLERGY/IMMUNOLOGY</td>\n",
       "      <td>FLUTICASONE/SALMETEROL</td>\n",
       "      <td>102</td>\n",
       "      <td>52389.61</td>\n",
       "      <td>27.693866</td>\n",
       "    </tr>\n",
       "    <tr>\n",
       "      <th>DL492570</th>\n",
       "      <td>1962588053</td>\n",
       "      <td>ALLERGY/IMMUNOLOGY</td>\n",
       "      <td>OMALIZUMAB</td>\n",
       "      <td>12</td>\n",
       "      <td>29153.71</td>\n",
       "      <td>15.411051</td>\n",
       "    </tr>\n",
       "    <tr>\n",
       "      <th>UJ888112</th>\n",
       "      <td>1003897851</td>\n",
       "      <td>ALLERGY/IMMUNOLOGY</td>\n",
       "      <td>MOMETASONE FUROATE</td>\n",
       "      <td>55</td>\n",
       "      <td>20759.04</td>\n",
       "      <td>10.973513</td>\n",
       "    </tr>\n",
       "    <tr>\n",
       "      <th>GO641321</th>\n",
       "      <td>1255301404</td>\n",
       "      <td>ALLERGY/IMMUNOLOGY</td>\n",
       "      <td>FLUTICASONE/SALMETEROL</td>\n",
       "      <td>35</td>\n",
       "      <td>14277.61</td>\n",
       "      <td>7.547340</td>\n",
       "    </tr>\n",
       "    <tr>\n",
       "      <th>JU235992</th>\n",
       "      <td>1003812595</td>\n",
       "      <td>ALLERGY/IMMUNOLOGY</td>\n",
       "      <td>MOMETASONE FUROATE</td>\n",
       "      <td>50</td>\n",
       "      <td>13559.50</td>\n",
       "      <td>7.167737</td>\n",
       "    </tr>\n",
       "    <tr>\n",
       "      <th>WE196352</th>\n",
       "      <td>1720080062</td>\n",
       "      <td>ALLERGY/IMMUNOLOGY</td>\n",
       "      <td>FLUTICASONE/SALMETEROL</td>\n",
       "      <td>37</td>\n",
       "      <td>12594.63</td>\n",
       "      <td>6.657694</td>\n",
       "    </tr>\n",
       "    <tr>\n",
       "      <th>EW891894</th>\n",
       "      <td>1104888403</td>\n",
       "      <td>ALLERGY/IMMUNOLOGY</td>\n",
       "      <td>DEXLANSOPRAZOLE</td>\n",
       "      <td>32</td>\n",
       "      <td>12411.92</td>\n",
       "      <td>6.561111</td>\n",
       "    </tr>\n",
       "  </tbody>\n",
       "</table>\n",
       "</div>"
      ],
      "text/plain": [
       "            doctor_id           specialty              medication  \\\n",
       "unique_id                                                           \n",
       "GJ278932   1134139991  ADDICTION MEDICINE           BUSPIRONE HCL   \n",
       "VG585760   1801032297  ADDICTION MEDICINE             LAMOTRIGINE   \n",
       "TX420809   1801032297  ADDICTION MEDICINE               LORAZEPAM   \n",
       "XY715196   1376691626  ALLERGY/IMMUNOLOGY  FLUTICASONE/SALMETEROL   \n",
       "DL492570   1962588053  ALLERGY/IMMUNOLOGY              OMALIZUMAB   \n",
       "UJ888112   1003897851  ALLERGY/IMMUNOLOGY      MOMETASONE FUROATE   \n",
       "GO641321   1255301404  ALLERGY/IMMUNOLOGY  FLUTICASONE/SALMETEROL   \n",
       "JU235992   1003812595  ALLERGY/IMMUNOLOGY      MOMETASONE FUROATE   \n",
       "WE196352   1720080062  ALLERGY/IMMUNOLOGY  FLUTICASONE/SALMETEROL   \n",
       "EW891894   1104888403  ALLERGY/IMMUNOLOGY         DEXLANSOPRAZOLE   \n",
       "\n",
       "           nb_beneficiaries  spending  spending_pct  \n",
       "unique_id                                            \n",
       "GJ278932                 49    817.88     88.894203  \n",
       "VG585760                 11     82.62      8.979849  \n",
       "TX420809                 14     19.56      2.125948  \n",
       "XY715196                102  52389.61     27.693866  \n",
       "DL492570                 12  29153.71     15.411051  \n",
       "UJ888112                 55  20759.04     10.973513  \n",
       "GO641321                 35  14277.61      7.547340  \n",
       "JU235992                 50  13559.50      7.167737  \n",
       "WE196352                 37  12594.63      6.657694  \n",
       "EW891894                 32  12411.92      6.561111  "
      ]
     },
     "execution_count": 28,
     "metadata": {},
     "output_type": "execute_result"
    }
   ],
   "source": [
    "spending_df.sort_values(['specialty', 'spending_pct'], ascending=[True, False]).head(10)"
   ]
  },
  {
   "cell_type": "markdown",
   "metadata": {
    "slideshow": {
     "slide_type": "slide"
    }
   },
   "source": [
    "### More complex Transformations\n",
    "\n",
    "* As noted above, drugs are still duplicated across `doctor_ids` within the same `specialty.`\n",
    "\n",
    "  *  ex. FLUTICASONE/SALMETEROL is prescribed by at least 3 doctors\n",
    "\n",
    "- To see the percent spending by `drug` column, we need to group on both the `specialty` and the `medication` and then sum the `spending_pct` computed previously\n",
    "\n",
    "```python\n",
    "medication_spendng_pct =  spending_df.groupby([\"specialty\", \"medication\"])[\"spending_pct\"].sum()\n",
    "```\n",
    "\n"
   ]
  },
  {
   "cell_type": "code",
   "execution_count": 36,
   "metadata": {},
   "outputs": [
    {
     "data": {
      "text/plain": [
       "specialty           medication                \n",
       "ADDICTION MEDICINE  BUSPIRONE HCL                 88.894203\n",
       "                    LAMOTRIGINE                    8.979849\n",
       "                    LORAZEPAM                      2.125948\n",
       "ALLERGY/IMMUNOLOGY  ALBUTEROL SULFATE              3.553199\n",
       "                    AMOXICILLIN/POTASSIUM CLAV     0.196089\n",
       "Name: spending_pct, dtype: float64"
      ]
     },
     "execution_count": 36,
     "metadata": {},
     "output_type": "execute_result"
    }
   ],
   "source": [
    "medication_spendng_pct.head()"
   ]
  },
  {
   "cell_type": "code",
   "execution_count": 35,
   "metadata": {
    "slideshow": {
     "slide_type": "slide"
    }
   },
   "outputs": [
    {
     "name": "stdout",
     "output_type": "stream",
     "text": [
      "<class 'pandas.core.series.Series'>\n",
      "\n",
      "***********************************\n",
      "\n",
      "MultiIndex([('ADDICTION MEDICINE',                 'BUSPIRONE HCL'),\n",
      "            ('ADDICTION MEDICINE',                   'LAMOTRIGINE'),\n",
      "            ('ADDICTION MEDICINE',                     'LORAZEPAM'),\n",
      "            ('ALLERGY/IMMUNOLOGY',             'ALBUTEROL SULFATE'),\n",
      "            ('ALLERGY/IMMUNOLOGY',    'AMOXICILLIN/POTASSIUM CLAV'),\n",
      "            ('ALLERGY/IMMUNOLOGY',                'AZELASTINE HCL'),\n",
      "            ('ALLERGY/IMMUNOLOGY',                  'AZITHROMYCIN'),\n",
      "            ('ALLERGY/IMMUNOLOGY',               'DEXLANSOPRAZOLE'),\n",
      "            ('ALLERGY/IMMUNOLOGY',                 'DILTIAZEM HCL'),\n",
      "            ('ALLERGY/IMMUNOLOGY',            'DOXAZOSIN MESYLATE'),\n",
      "            ...\n",
      "            (           'UROLOGY',            'SILDENAFIL CITRATE'),\n",
      "            (           'UROLOGY', 'SULFAMETHOXAZOLE/TRIMETHOPRIM'),\n",
      "            (           'UROLOGY',                     'TADALAFIL'),\n",
      "            (           'UROLOGY',                'TAMSULOSIN HCL'),\n",
      "            (           'UROLOGY',                  'TESTOSTERONE'),\n",
      "            (           'UROLOGY',          'TOLTERODINE TARTRATE'),\n",
      "            (           'UROLOGY',    'TRAMADOL HCL/ACETAMINOPHEN'),\n",
      "            (           'UROLOGY',                  'TRIMETHOPRIM'),\n",
      "            (  'VASCULAR SURGERY',    'ACETAMINOPHEN WITH CODEINE'),\n",
      "            (  'VASCULAR SURGERY',                      'APIXABAN')],\n",
      "           names=['specialty', 'medication'], length=2779)\n"
     ]
    }
   ],
   "source": [
    "medication_spendng_pct =  spending_df.groupby([\"specialty\", \"medication\"])[\"spending_pct\"].sum()\n",
    "print(type(medication_spendng_pct))\n",
    "print(\"\\n\" + \"*\" * 35 + \"\\n\")\n",
    "print(medication_spendng_pct.index)\n",
    "\n"
   ]
  },
  {
   "cell_type": "code",
   "execution_count": 53,
   "metadata": {
    "slideshow": {
     "slide_type": "slide"
    }
   },
   "outputs": [
    {
     "name": "stdout",
     "output_type": "stream",
     "text": [
      "abcdefghijklmnopqrstuvwxyzABCDEFGHIJKLMNOPQRSTUVWXYZ\n",
      "\n",
      "****************************************************\n",
      "\n",
      "['a', 'b', 'c', 'd', 'e', 'f', 'g', 'h', 'i', 'j', 'k', 'l', 'm', 'n', 'o', 'p', 'q', 'r', 's', 't', 'u', 'v', 'w', 'x', 'y', 'z']\n",
      "\n",
      "****************************************************\n",
      "\n",
      "['r', 'z', 'v', 'k', 'i', 'f']\n"
     ]
    }
   ],
   "source": [
    "import string\n",
    "import random\n",
    "\n",
    "print(string.ascii_letters)\n",
    "print(\"\\n\" + \"*\" * 52 + \"\\n\")\n",
    "\n",
    "lc_letters = list(string.ascii_letters[:26])\n",
    "print(lc_letters)\n",
    "\n",
    "print(\"\\n\" + \"*\" * 52 + \"\\n\")\n",
    "\n",
    "print(random.sample(lc_letters, 6))\n"
   ]
  },
  {
   "cell_type": "code",
   "execution_count": 48,
   "metadata": {
    "slideshow": {
     "slide_type": "slide"
    }
   },
   "outputs": [
    {
     "data": {
      "text/plain": [
       "1    t\n",
       "2    b\n",
       "3    d\n",
       "4    w\n",
       "5    p\n",
       "dtype: object"
      ]
     },
     "execution_count": 48,
     "metadata": {},
     "output_type": "execute_result"
    }
   ],
   "source": [
    "x = pd.Series(random.sample(lc_letters, 6), index=[1,2,3,4,5,6])\n",
    "x.head()\n"
   ]
  },
  {
   "cell_type": "code",
   "execution_count": 56,
   "metadata": {
    "slideshow": {
     "slide_type": "slide"
    }
   },
   "outputs": [
    {
     "name": "stdout",
     "output_type": "stream",
     "text": [
      "Int64Index([1, 2, 3, 4, 5, 6], dtype='int64')\n",
      "\n",
      "*********************************************\n",
      "\n",
      "t\n"
     ]
    }
   ],
   "source": [
    "print(x.index)\n",
    "\n",
    "print(\"\\n\" + \"*\" * 45 + \"\\n\")\n",
    "\n",
    "print(x[1])"
   ]
  },
  {
   "cell_type": "code",
   "execution_count": 57,
   "metadata": {
    "slideshow": {
     "slide_type": "slide"
    }
   },
   "outputs": [
    {
     "data": {
      "text/plain": [
       "MultiIndex([('ADDICTION MEDICINE',                 'BUSPIRONE HCL'),\n",
       "            ('ADDICTION MEDICINE',                   'LAMOTRIGINE'),\n",
       "            ('ADDICTION MEDICINE',                     'LORAZEPAM'),\n",
       "            ('ALLERGY/IMMUNOLOGY',             'ALBUTEROL SULFATE'),\n",
       "            ('ALLERGY/IMMUNOLOGY',    'AMOXICILLIN/POTASSIUM CLAV'),\n",
       "            ('ALLERGY/IMMUNOLOGY',                'AZELASTINE HCL'),\n",
       "            ('ALLERGY/IMMUNOLOGY',                  'AZITHROMYCIN'),\n",
       "            ('ALLERGY/IMMUNOLOGY',               'DEXLANSOPRAZOLE'),\n",
       "            ('ALLERGY/IMMUNOLOGY',                 'DILTIAZEM HCL'),\n",
       "            ('ALLERGY/IMMUNOLOGY',            'DOXAZOSIN MESYLATE'),\n",
       "            ...\n",
       "            (           'UROLOGY',            'SILDENAFIL CITRATE'),\n",
       "            (           'UROLOGY', 'SULFAMETHOXAZOLE/TRIMETHOPRIM'),\n",
       "            (           'UROLOGY',                     'TADALAFIL'),\n",
       "            (           'UROLOGY',                'TAMSULOSIN HCL'),\n",
       "            (           'UROLOGY',                  'TESTOSTERONE'),\n",
       "            (           'UROLOGY',          'TOLTERODINE TARTRATE'),\n",
       "            (           'UROLOGY',    'TRAMADOL HCL/ACETAMINOPHEN'),\n",
       "            (           'UROLOGY',                  'TRIMETHOPRIM'),\n",
       "            (  'VASCULAR SURGERY',    'ACETAMINOPHEN WITH CODEINE'),\n",
       "            (  'VASCULAR SURGERY',                      'APIXABAN')],\n",
       "           names=['specialty', 'medication'], length=2779)"
      ]
     },
     "execution_count": 57,
     "metadata": {},
     "output_type": "execute_result"
    }
   ],
   "source": [
    "medication_spendng_pct.index"
   ]
  },
  {
   "cell_type": "code",
   "execution_count": 58,
   "metadata": {
    "slideshow": {
     "slide_type": "slide"
    }
   },
   "outputs": [
    {
     "data": {
      "text/plain": [
       "88.89420255200748"
      ]
     },
     "execution_count": 58,
     "metadata": {},
     "output_type": "execute_result"
    }
   ],
   "source": [
    "medication_spendng_pct[('ADDICTION MEDICINE', 'BUSPIRONE HCL')]"
   ]
  },
  {
   "cell_type": "code",
   "execution_count": 63,
   "metadata": {
    "slideshow": {
     "slide_type": "slide"
    }
   },
   "outputs": [
    {
     "data": {
      "text/plain": [
       "medication\n",
       "BUSPIRONE HCL    88.894203\n",
       "LAMOTRIGINE       8.979849\n",
       "LORAZEPAM         2.125948\n",
       "Name: spending_pct, dtype: float64"
      ]
     },
     "execution_count": 63,
     "metadata": {},
     "output_type": "execute_result"
    }
   ],
   "source": [
    "medication_spendng_pct[('ADDICTION MEDICINE', )]"
   ]
  },
  {
   "cell_type": "code",
   "execution_count": 64,
   "metadata": {
    "slideshow": {
     "slide_type": "slide"
    }
   },
   "outputs": [
    {
     "data": {
      "text/plain": [
       "medication\n",
       "ALBUTEROL SULFATE                  3.553199\n",
       "AMOXICILLIN/POTASSIUM CLAV         0.196089\n",
       "AZELASTINE HCL                     3.646451\n",
       "AZITHROMYCIN                       0.100500\n",
       "DEXLANSOPRAZOLE                    6.561111\n",
       "DILTIAZEM HCL                      0.293666\n",
       "DOXAZOSIN MESYLATE                 0.104872\n",
       "ENALAPRIL MALEATE                  0.318553\n",
       "FLUTICASONE PROPIONATE             2.842509\n",
       "FLUTICASONE/SALMETEROL            41.898900\n",
       "HYDROXYZINE HCL                    0.135473\n",
       "IRBESARTAN                         0.058042\n",
       "LEVOCETIRIZINE DIHYDROCHLORIDE     1.200698\n",
       "MOMETASONE FUROATE                18.141250\n",
       "MOMETASONE/FORMOTEROL              2.566123\n",
       "OMALIZUMAB                        15.411051\n",
       "PREGABALIN                         2.679754\n",
       "RANITIDINE HCL                     0.091477\n",
       "TRIAMCINOLONE ACETONIDE            0.200281\n",
       "Name: spending_pct, dtype: float64"
      ]
     },
     "execution_count": 64,
     "metadata": {},
     "output_type": "execute_result"
    }
   ],
   "source": [
    "medication_spendng_pct[('ALLERGY/IMMUNOLOGY', )]"
   ]
  },
  {
   "cell_type": "markdown",
   "metadata": {
    "slideshow": {
     "slide_type": "slide"
    }
   },
   "source": [
    "### More complex Transformations- cont'd\n",
    "\n",
    "* The multiindex is sometime inconvenient to work with\n",
    "    * Makes it hard to sort on `speciality` and `spending_pct` as we did earlier\n",
    "\n",
    "* We can reset (drop) the index using the method `reset_index`\n",
    "  * allows us to sort on `specialty` and `spending_pct` as we did earlier\n",
    "\n",
    "\n",
    "\n"
   ]
  },
  {
   "cell_type": "code",
   "execution_count": 65,
   "metadata": {},
   "outputs": [
    {
     "data": {
      "text/plain": [
       "specialty           medication                \n",
       "ADDICTION MEDICINE  BUSPIRONE HCL                 88.894203\n",
       "                    LAMOTRIGINE                    8.979849\n",
       "                    LORAZEPAM                      2.125948\n",
       "ALLERGY/IMMUNOLOGY  ALBUTEROL SULFATE              3.553199\n",
       "                    AMOXICILLIN/POTASSIUM CLAV     0.196089\n",
       "Name: spending_pct, dtype: float64"
      ]
     },
     "execution_count": 65,
     "metadata": {},
     "output_type": "execute_result"
    }
   ],
   "source": [
    "spending_df.groupby([\"specialty\", \"medication\"])[\"spending_pct\"].sum().head()"
   ]
  },
  {
   "cell_type": "code",
   "execution_count": 31,
   "metadata": {
    "slideshow": {
     "slide_type": "slide"
    }
   },
   "outputs": [
    {
     "data": {
      "text/html": [
       "<div>\n",
       "<style scoped>\n",
       "    .dataframe tbody tr th:only-of-type {\n",
       "        vertical-align: middle;\n",
       "    }\n",
       "\n",
       "    .dataframe tbody tr th {\n",
       "        vertical-align: top;\n",
       "    }\n",
       "\n",
       "    .dataframe thead th {\n",
       "        text-align: right;\n",
       "    }\n",
       "</style>\n",
       "<table border=\"1\" class=\"dataframe\">\n",
       "  <thead>\n",
       "    <tr style=\"text-align: right;\">\n",
       "      <th></th>\n",
       "      <th>specialty</th>\n",
       "      <th>medication</th>\n",
       "      <th>spending_pct</th>\n",
       "    </tr>\n",
       "  </thead>\n",
       "  <tbody>\n",
       "    <tr>\n",
       "      <th>0</th>\n",
       "      <td>ADDICTION MEDICINE</td>\n",
       "      <td>BUSPIRONE HCL</td>\n",
       "      <td>88.894203</td>\n",
       "    </tr>\n",
       "    <tr>\n",
       "      <th>1</th>\n",
       "      <td>ADDICTION MEDICINE</td>\n",
       "      <td>LAMOTRIGINE</td>\n",
       "      <td>8.979849</td>\n",
       "    </tr>\n",
       "    <tr>\n",
       "      <th>2</th>\n",
       "      <td>ADDICTION MEDICINE</td>\n",
       "      <td>LORAZEPAM</td>\n",
       "      <td>2.125948</td>\n",
       "    </tr>\n",
       "    <tr>\n",
       "      <th>3</th>\n",
       "      <td>ALLERGY/IMMUNOLOGY</td>\n",
       "      <td>ALBUTEROL SULFATE</td>\n",
       "      <td>3.553199</td>\n",
       "    </tr>\n",
       "    <tr>\n",
       "      <th>4</th>\n",
       "      <td>ALLERGY/IMMUNOLOGY</td>\n",
       "      <td>AMOXICILLIN/POTASSIUM CLAV</td>\n",
       "      <td>0.196089</td>\n",
       "    </tr>\n",
       "  </tbody>\n",
       "</table>\n",
       "</div>"
      ],
      "text/plain": [
       "            specialty                  medication  spending_pct\n",
       "0  ADDICTION MEDICINE               BUSPIRONE HCL     88.894203\n",
       "1  ADDICTION MEDICINE                 LAMOTRIGINE      8.979849\n",
       "2  ADDICTION MEDICINE                   LORAZEPAM      2.125948\n",
       "3  ALLERGY/IMMUNOLOGY           ALBUTEROL SULFATE      3.553199\n",
       "4  ALLERGY/IMMUNOLOGY  AMOXICILLIN/POTASSIUM CLAV      0.196089"
      ]
     },
     "execution_count": 31,
     "metadata": {},
     "output_type": "execute_result"
    }
   ],
   "source": [
    "medication_spendng_pct = spending_df.groupby([\"specialty\", \"medication\"])[\"spending_pct\"].sum().reset_index()\n",
    "medication_spendng_pct.head()\n"
   ]
  },
  {
   "cell_type": "code",
   "execution_count": 34,
   "metadata": {
    "slideshow": {
     "slide_type": "slide"
    }
   },
   "outputs": [
    {
     "data": {
      "text/html": [
       "<div>\n",
       "<style scoped>\n",
       "    .dataframe tbody tr th:only-of-type {\n",
       "        vertical-align: middle;\n",
       "    }\n",
       "\n",
       "    .dataframe tbody tr th {\n",
       "        vertical-align: top;\n",
       "    }\n",
       "\n",
       "    .dataframe thead th {\n",
       "        text-align: right;\n",
       "    }\n",
       "</style>\n",
       "<table border=\"1\" class=\"dataframe\">\n",
       "  <thead>\n",
       "    <tr style=\"text-align: right;\">\n",
       "      <th></th>\n",
       "      <th>specialty</th>\n",
       "      <th>medication</th>\n",
       "      <th>spending_pct</th>\n",
       "    </tr>\n",
       "  </thead>\n",
       "  <tbody>\n",
       "    <tr>\n",
       "      <th>0</th>\n",
       "      <td>ADDICTION MEDICINE</td>\n",
       "      <td>BUSPIRONE HCL</td>\n",
       "      <td>88.894203</td>\n",
       "    </tr>\n",
       "    <tr>\n",
       "      <th>1</th>\n",
       "      <td>ADDICTION MEDICINE</td>\n",
       "      <td>LAMOTRIGINE</td>\n",
       "      <td>8.979849</td>\n",
       "    </tr>\n",
       "    <tr>\n",
       "      <th>2</th>\n",
       "      <td>ADDICTION MEDICINE</td>\n",
       "      <td>LORAZEPAM</td>\n",
       "      <td>2.125948</td>\n",
       "    </tr>\n",
       "    <tr>\n",
       "      <th>12</th>\n",
       "      <td>ALLERGY/IMMUNOLOGY</td>\n",
       "      <td>FLUTICASONE/SALMETEROL</td>\n",
       "      <td>41.898900</td>\n",
       "    </tr>\n",
       "    <tr>\n",
       "      <th>16</th>\n",
       "      <td>ALLERGY/IMMUNOLOGY</td>\n",
       "      <td>MOMETASONE FUROATE</td>\n",
       "      <td>18.141250</td>\n",
       "    </tr>\n",
       "    <tr>\n",
       "      <th>18</th>\n",
       "      <td>ALLERGY/IMMUNOLOGY</td>\n",
       "      <td>OMALIZUMAB</td>\n",
       "      <td>15.411051</td>\n",
       "    </tr>\n",
       "    <tr>\n",
       "      <th>7</th>\n",
       "      <td>ALLERGY/IMMUNOLOGY</td>\n",
       "      <td>DEXLANSOPRAZOLE</td>\n",
       "      <td>6.561111</td>\n",
       "    </tr>\n",
       "    <tr>\n",
       "      <th>5</th>\n",
       "      <td>ALLERGY/IMMUNOLOGY</td>\n",
       "      <td>AZELASTINE HCL</td>\n",
       "      <td>3.646451</td>\n",
       "    </tr>\n",
       "    <tr>\n",
       "      <th>3</th>\n",
       "      <td>ALLERGY/IMMUNOLOGY</td>\n",
       "      <td>ALBUTEROL SULFATE</td>\n",
       "      <td>3.553199</td>\n",
       "    </tr>\n",
       "    <tr>\n",
       "      <th>11</th>\n",
       "      <td>ALLERGY/IMMUNOLOGY</td>\n",
       "      <td>FLUTICASONE PROPIONATE</td>\n",
       "      <td>2.842509</td>\n",
       "    </tr>\n",
       "  </tbody>\n",
       "</table>\n",
       "</div>"
      ],
      "text/plain": [
       "             specialty              medication  spending_pct\n",
       "0   ADDICTION MEDICINE           BUSPIRONE HCL     88.894203\n",
       "1   ADDICTION MEDICINE             LAMOTRIGINE      8.979849\n",
       "2   ADDICTION MEDICINE               LORAZEPAM      2.125948\n",
       "12  ALLERGY/IMMUNOLOGY  FLUTICASONE/SALMETEROL     41.898900\n",
       "16  ALLERGY/IMMUNOLOGY      MOMETASONE FUROATE     18.141250\n",
       "18  ALLERGY/IMMUNOLOGY              OMALIZUMAB     15.411051\n",
       "7   ALLERGY/IMMUNOLOGY         DEXLANSOPRAZOLE      6.561111\n",
       "5   ALLERGY/IMMUNOLOGY          AZELASTINE HCL      3.646451\n",
       "3   ALLERGY/IMMUNOLOGY       ALBUTEROL SULFATE      3.553199\n",
       "11  ALLERGY/IMMUNOLOGY  FLUTICASONE PROPIONATE      2.842509"
      ]
     },
     "execution_count": 34,
     "metadata": {},
     "output_type": "execute_result"
    }
   ],
   "source": [
    "medication_spendng_pct.sort_values([\"specialty\", \"spending_pct\"], ascending=[True, False]).head(10)"
   ]
  },
  {
   "cell_type": "markdown",
   "metadata": {
    "slideshow": {
     "slide_type": "slide"
    }
   },
   "source": [
    "### Filtering Groups\n",
    "\n",
    "- Filtering a group is done using the method called `filter`\n",
    "\n",
    "\n",
    "- The method `filter` takes as input a function name, which it calls on each group of the `DataFrameGroupBy` object\n",
    "  - The function must return either `True` or `False`.\n",
    "  - Groups for which the function returns `False` are dropped.\n",
    "\n",
    "\n",
    "- The resulting` DataFrame` has its entries in the same order as the original `DataFrame`.\n",
    " \n"
   ]
  },
  {
   "cell_type": "code",
   "execution_count": 43,
   "metadata": {
    "slideshow": {
     "slide_type": "slide"
    }
   },
   "outputs": [
    {
     "data": {
      "text/plain": [
       "array(['FAMILY PRACTICE', 'INTERNAL MEDICINE', 'PSYCHIATRY',\n",
       "       'HEMATOLOGY/ONCOLOGY', 'OPHTHALMOLOGY', 'NEUROLOGY',\n",
       "       'NURSE PRACTITIONER', 'NEPHROLOGY', 'DENTIST', 'SPECIALIST',\n",
       "       'GENERAL PRACTICE', 'INTERVENTIONAL CARDIOLOGY',\n",
       "       'OBSTETRICS/GYNECOLOGY', 'PHYSICIAN ASSISTANT', 'CARDIOLOGY',\n",
       "       'ENDOCRINOLOGY', 'RHEUMATOLOGY', 'OPTOMETRY',\n",
       "       'STUDENT IN AN ORGANIZED HEALTH CARE EDUCATION/TRAINING PROGRAM',\n",
       "       'PULMONARY DISEASE', 'DERMATOLOGY',\n",
       "       'INTERVENTIONAL PAIN MANAGEMENT', 'PSYCHIATRY & NEUROLOGY',\n",
       "       'GASTROENTEROLOGY', 'GERIATRIC MEDICINE', 'UROLOGY',\n",
       "       'MEDICAL ONCOLOGY', 'PHYSICAL MEDICINE AND REHABILITATION',\n",
       "       'EMERGENCY MEDICINE', 'ORTHOPEDIC SURGERY',\n",
       "       'CARDIAC ELECTROPHYSIOLOGY', 'OTOLARYNGOLOGY', 'ALLERGY/IMMUNOLOGY',\n",
       "       'PODIATRY', 'CERTIFIED CLINICAL NURSE SPECIALIST',\n",
       "       'INFECTIOUS DISEASE', 'UNKNOWN PHYSICIAN SPECIALTY CODE',\n",
       "       'ANESTHESIOLOGY', 'PEDIATRIC MEDICINE', 'PAIN MANAGEMENT',\n",
       "       'HEMATOLOGY', 'GENERAL SURGERY',\n",
       "       'OSTEOPATHIC MANIPULATIVE MEDICINE', 'ADDICTION MEDICINE',\n",
       "       'PERIPHERAL VASCULAR DISEASE', 'PLASTIC AND RECONSTRUCTIVE SURGERY',\n",
       "       'COLORECTAL SURGERY (FORMERLY PROCTOLOGY)',\n",
       "       'CRITICAL CARE (INTENSIVISTS)', 'REGISTERED NURSE', 'HAND SURGERY',\n",
       "       'CLINIC/CENTER', 'NEUROPSYCHIATRY', 'DIAGNOSTIC RADIOLOGY',\n",
       "       'ORAL SURGERY (DENTISTS ONLY)', 'GERIATRIC PSYCHIATRY',\n",
       "       'NEUROSURGERY', 'CARDIAC SURGERY', 'FAMILY MEDICINE',\n",
       "       'THORACIC SURGERY', 'LICENSED PRACTICAL NURSE',\n",
       "       'HOSPICE AND PALLIATIVE CARE', 'CLINICAL PSYCHOLOGIST',\n",
       "       'VASCULAR SURGERY', 'CRNA', 'PREVENTIVE MEDICINE',\n",
       "       'RADIATION ONCOLOGY', 'SPORTS MEDICINE', 'PHARMACIST', 'NATUROPATH',\n",
       "       'MULTISPECIALTY CLINIC/GROUP PRACTICE', 'ORTHOPAEDIC SURGERY',\n",
       "       'HOSPITALIST', 'GYNECOLOGICAL/ONCOLOGY', 'HOSPITAL (DMERCS ONLY)',\n",
       "       'CERTIFIED NURSE MIDWIFE'], dtype=object)"
      ]
     },
     "execution_count": 43,
     "metadata": {},
     "output_type": "execute_result"
    }
   ],
   "source": [
    "spending_df['specialty'].unique()"
   ]
  },
  {
   "cell_type": "code",
   "execution_count": 68,
   "metadata": {
    "slideshow": {
     "slide_type": "slide"
    }
   },
   "outputs": [],
   "source": [
    "\n",
    "def filter_on_spending(x):\n",
    "    return x['spending'].sum() > 50_000\n",
    "\n",
    "high_spending_df = spending_df[[\"specialty\", 'spending']].groupby('specialty').filter(filter_on_spending)\n",
    "\n"
   ]
  },
  {
   "cell_type": "code",
   "execution_count": 38,
   "metadata": {
    "slideshow": {
     "slide_type": "slide"
    }
   },
   "outputs": [
    {
     "data": {
      "text/plain": [
       "array(['FAMILY PRACTICE', 'INTERNAL MEDICINE', 'PSYCHIATRY',\n",
       "       'HEMATOLOGY/ONCOLOGY', 'OPHTHALMOLOGY', 'NEUROLOGY',\n",
       "       'NURSE PRACTITIONER', 'NEPHROLOGY', 'GENERAL PRACTICE',\n",
       "       'INTERVENTIONAL CARDIOLOGY', 'OBSTETRICS/GYNECOLOGY',\n",
       "       'PHYSICIAN ASSISTANT', 'CARDIOLOGY', 'ENDOCRINOLOGY',\n",
       "       'RHEUMATOLOGY', 'OPTOMETRY', 'PULMONARY DISEASE', 'DERMATOLOGY',\n",
       "       'INTERVENTIONAL PAIN MANAGEMENT', 'PSYCHIATRY & NEUROLOGY',\n",
       "       'GASTROENTEROLOGY', 'GERIATRIC MEDICINE', 'UROLOGY',\n",
       "       'MEDICAL ONCOLOGY', 'PHYSICAL MEDICINE AND REHABILITATION',\n",
       "       'EMERGENCY MEDICINE', 'ORTHOPEDIC SURGERY',\n",
       "       'CARDIAC ELECTROPHYSIOLOGY', 'ALLERGY/IMMUNOLOGY', 'PODIATRY',\n",
       "       'CERTIFIED CLINICAL NURSE SPECIALIST', 'INFECTIOUS DISEASE',\n",
       "       'ANESTHESIOLOGY', 'PEDIATRIC MEDICINE', 'PAIN MANAGEMENT',\n",
       "       'HEMATOLOGY', 'GENERAL SURGERY', 'DIAGNOSTIC RADIOLOGY'],\n",
       "      dtype=object)"
      ]
     },
     "execution_count": 38,
     "metadata": {},
     "output_type": "execute_result"
    }
   ],
   "source": [
    "high_spending_df['specialty'].unique() \n"
   ]
  },
  {
   "cell_type": "markdown",
   "metadata": {
    "slideshow": {
     "slide_type": "slide"
    }
   },
   "source": [
    "### Thinning Groups\n",
    "\n",
    "* Thinning the data consist in reducing the number of entries in a group\n",
    "\n",
    "* As opposed to aggregating functions, thinning does not have to reduce the group into a single entry\n",
    "  * Although it could reduce it to a single entry\n",
    "\n",
    "\n",
    "* Thinning can be used, for instance, to return only the top 3 entries in each category, or to randomly sample a small subset of entries from each category"
   ]
  },
  {
   "cell_type": "markdown",
   "metadata": {
    "slideshow": {
     "slide_type": "slide"
    }
   },
   "source": [
    "### Thinning Methods and `apply`\n",
    "\n",
    "- `pandas` offers a few methods for thinning the data.\n",
    "  - Ex. `nlargest`, `nsmallest`, etc.\n",
    "    \n",
    "    \n",
    "- However, thinning  is most often carried out using a method  called `apply.` \n",
    "\n",
    "\n",
    "\n",
    "- The  method `apply` takes as input a function name, which it calls on each group of the `DataFrameGroupBy` object.\n"
   ]
  },
  {
   "cell_type": "code",
   "execution_count": 54,
   "metadata": {
    "slideshow": {
     "slide_type": "slide"
    }
   },
   "outputs": [
    {
     "data": {
      "text/plain": [
       "specialty                  unique_id\n",
       "ADDICTION MEDICINE         GJ278932      817.880\n",
       "                           VG585760       82.620\n",
       "ALLERGY/IMMUNOLOGY         XY715196    52389.610\n",
       "                           DL492570    29153.710\n",
       "ANESTHESIOLOGY             WD732008    34073.910\n",
       "                           ZJ839161    33127.750\n",
       "CARDIAC ELECTROPHYSIOLOGY  XZ523373    89101.540\n",
       "                           RR251593    59935.970\n",
       "CARDIAC SURGERY            YC312951    11990.010\n",
       "                           FK638917      442.910\n",
       "Name: spending, dtype: float64"
      ]
     },
     "execution_count": 54,
     "metadata": {},
     "output_type": "execute_result"
    }
   ],
   "source": [
    "spending_by_specialty['spending'].nlargest(2)"
   ]
  },
  {
   "cell_type": "code",
   "execution_count": 24,
   "metadata": {
    "slideshow": {
     "slide_type": "slide"
    }
   },
   "outputs": [
    {
     "data": {
      "text/plain": [
       "specialty                  unique_id\n",
       "ADDICTION MEDICINE         TX420809     19.560\n",
       "                           VG585760     82.620\n",
       "                           GJ278932    817.880\n",
       "ALLERGY/IMMUNOLOGY         HQ120242    109.800\n",
       "                           HN843226    173.050\n",
       "                           LE617956    190.120\n",
       "ANESTHESIOLOGY             IS925171     35.330\n",
       "                           XZ351859     38.960\n",
       "                           HY359879     56.860\n",
       "CARDIAC ELECTROPHYSIOLOGY  XR445715     69.850\n",
       "Name: spending, dtype: float64"
      ]
     },
     "execution_count": 24,
     "metadata": {},
     "output_type": "execute_result"
    }
   ],
   "source": [
    "spending_by_specialty['spending'].nsmallest(3)"
   ]
  },
  {
   "cell_type": "markdown",
   "metadata": {
    "slideshow": {
     "slide_type": "slide"
    }
   },
   "source": [
    "### Sub-sampling a DataFrame\n",
    "\n",
    "\n",
    "- This is necessary to maintain group composions.\n",
    "\n",
    "- This can be achived using the DataFrame mthod called `sample.` \n",
    "\n",
    "  - Two parameters are relevant in this scenario,`n` the number of samples to randomly select or `frac` a portion of the data to retun\n",
    "  - We are interested the latter\n",
    "\n",
    "```python\n",
    " spending_df.sample(frac=0.001)\n",
    "```\n"
   ]
  },
  {
   "cell_type": "code",
   "execution_count": 25,
   "metadata": {
    "slideshow": {
     "slide_type": "slide"
    }
   },
   "outputs": [
    {
     "data": {
      "text/html": [
       "<div>\n",
       "<style>\n",
       "    .dataframe thead tr:only-child th {\n",
       "        text-align: right;\n",
       "    }\n",
       "\n",
       "    .dataframe thead th {\n",
       "        text-align: left;\n",
       "    }\n",
       "\n",
       "    .dataframe tbody tr th {\n",
       "        vertical-align: top;\n",
       "    }\n",
       "</style>\n",
       "<table border=\"1\" class=\"dataframe\">\n",
       "  <thead>\n",
       "    <tr style=\"text-align: right;\">\n",
       "      <th></th>\n",
       "      <th>doctor_id</th>\n",
       "      <th>specialty</th>\n",
       "      <th>medication</th>\n",
       "      <th>nb_beneficiaries</th>\n",
       "      <th>spending</th>\n",
       "      <th>spending_pct</th>\n",
       "    </tr>\n",
       "    <tr>\n",
       "      <th>unique_id</th>\n",
       "      <th></th>\n",
       "      <th></th>\n",
       "      <th></th>\n",
       "      <th></th>\n",
       "      <th></th>\n",
       "      <th></th>\n",
       "    </tr>\n",
       "  </thead>\n",
       "  <tbody>\n",
       "    <tr>\n",
       "      <th>UC393942</th>\n",
       "      <td>1942272653</td>\n",
       "      <td>FAMILY PRACTICE</td>\n",
       "      <td>CLONAZEPAM</td>\n",
       "      <td>25</td>\n",
       "      <td>129.940</td>\n",
       "      <td>0.002</td>\n",
       "    </tr>\n",
       "    <tr>\n",
       "      <th>IA801487</th>\n",
       "      <td>1962438861</td>\n",
       "      <td>INTERNAL MEDICINE</td>\n",
       "      <td>LIDOCAINE</td>\n",
       "      <td>16</td>\n",
       "      <td>4473.190</td>\n",
       "      <td>0.046</td>\n",
       "    </tr>\n",
       "    <tr>\n",
       "      <th>PR105009</th>\n",
       "      <td>1891765079</td>\n",
       "      <td>PHYSICAL MEDICINE AND REHABILITATION</td>\n",
       "      <td>GABAPENTIN</td>\n",
       "      <td>101</td>\n",
       "      <td>2071.380</td>\n",
       "      <td>1.332</td>\n",
       "    </tr>\n",
       "    <tr>\n",
       "      <th>AK980177</th>\n",
       "      <td>1245284090</td>\n",
       "      <td>INTERNAL MEDICINE</td>\n",
       "      <td>AZITHROMYCIN</td>\n",
       "      <td>58</td>\n",
       "      <td>367.420</td>\n",
       "      <td>0.004</td>\n",
       "    </tr>\n",
       "    <tr>\n",
       "      <th>OM839383</th>\n",
       "      <td>1285694505</td>\n",
       "      <td>INTERNAL MEDICINE</td>\n",
       "      <td>INSULIN GLARGINE,HUM.REC.ANLOG</td>\n",
       "      <td>54</td>\n",
       "      <td>17829.880</td>\n",
       "      <td>0.183</td>\n",
       "    </tr>\n",
       "  </tbody>\n",
       "</table>\n",
       "</div>"
      ],
      "text/plain": [
       "            doctor_id                             specialty  \\\n",
       "unique_id                                                     \n",
       "UC393942   1942272653                       FAMILY PRACTICE   \n",
       "IA801487   1962438861                     INTERNAL MEDICINE   \n",
       "PR105009   1891765079  PHYSICAL MEDICINE AND REHABILITATION   \n",
       "AK980177   1245284090                     INTERNAL MEDICINE   \n",
       "OM839383   1285694505                     INTERNAL MEDICINE   \n",
       "\n",
       "                               medication  nb_beneficiaries  spending  \\\n",
       "unique_id                                                               \n",
       "UC393942                       CLONAZEPAM                25   129.940   \n",
       "IA801487                        LIDOCAINE                16  4473.190   \n",
       "PR105009                       GABAPENTIN               101  2071.380   \n",
       "AK980177                     AZITHROMYCIN                58   367.420   \n",
       "OM839383   INSULIN GLARGINE,HUM.REC.ANLOG                54 17829.880   \n",
       "\n",
       "           spending_pct  \n",
       "unique_id                \n",
       "UC393942          0.002  \n",
       "IA801487          0.046  \n",
       "PR105009          1.332  \n",
       "AK980177          0.004  \n",
       "OM839383          0.183  "
      ]
     },
     "execution_count": 25,
     "metadata": {},
     "output_type": "execute_result"
    }
   ],
   "source": [
    "# return 0.01% of the data, i.e 10 entries\n",
    "spending_df.sample(frac=0.01).head()\n"
   ]
  },
  {
   "cell_type": "code",
   "execution_count": 39,
   "metadata": {
    "slideshow": {
     "slide_type": "slide"
    }
   },
   "outputs": [
    {
     "data": {
      "text/html": [
       "<div>\n",
       "<style scoped>\n",
       "    .dataframe tbody tr th:only-of-type {\n",
       "        vertical-align: middle;\n",
       "    }\n",
       "\n",
       "    .dataframe tbody tr th {\n",
       "        vertical-align: top;\n",
       "    }\n",
       "\n",
       "    .dataframe thead th {\n",
       "        text-align: right;\n",
       "    }\n",
       "</style>\n",
       "<table border=\"1\" class=\"dataframe\">\n",
       "  <thead>\n",
       "    <tr style=\"text-align: right;\">\n",
       "      <th></th>\n",
       "      <th>doctor_id</th>\n",
       "      <th>specialty</th>\n",
       "      <th>medication</th>\n",
       "      <th>nb_beneficiaries</th>\n",
       "      <th>spending</th>\n",
       "      <th>spending_pct</th>\n",
       "    </tr>\n",
       "    <tr>\n",
       "      <th>unique_id</th>\n",
       "      <th></th>\n",
       "      <th></th>\n",
       "      <th></th>\n",
       "      <th></th>\n",
       "      <th></th>\n",
       "      <th></th>\n",
       "    </tr>\n",
       "  </thead>\n",
       "  <tbody>\n",
       "    <tr>\n",
       "      <th>DB389404</th>\n",
       "      <td>1194751297</td>\n",
       "      <td>NEPHROLOGY</td>\n",
       "      <td>ROPINIROLE HCL</td>\n",
       "      <td>18</td>\n",
       "      <td>597.62</td>\n",
       "      <td>0.052547</td>\n",
       "    </tr>\n",
       "    <tr>\n",
       "      <th>DA812252</th>\n",
       "      <td>1124015888</td>\n",
       "      <td>FAMILY PRACTICE</td>\n",
       "      <td>OMEPRAZOLE</td>\n",
       "      <td>71</td>\n",
       "      <td>815.68</td>\n",
       "      <td>0.012518</td>\n",
       "    </tr>\n",
       "    <tr>\n",
       "      <th>LR238505</th>\n",
       "      <td>1639198229</td>\n",
       "      <td>NURSE PRACTITIONER</td>\n",
       "      <td>TOPIRAMATE</td>\n",
       "      <td>11</td>\n",
       "      <td>64.71</td>\n",
       "      <td>0.001938</td>\n",
       "    </tr>\n",
       "    <tr>\n",
       "      <th>FH905481</th>\n",
       "      <td>1518923382</td>\n",
       "      <td>EMERGENCY MEDICINE</td>\n",
       "      <td>CEFADROXIL</td>\n",
       "      <td>21</td>\n",
       "      <td>1675.71</td>\n",
       "      <td>0.842024</td>\n",
       "    </tr>\n",
       "    <tr>\n",
       "      <th>LH581620</th>\n",
       "      <td>1356340145</td>\n",
       "      <td>INTERNAL MEDICINE</td>\n",
       "      <td>LORAZEPAM</td>\n",
       "      <td>28</td>\n",
       "      <td>262.30</td>\n",
       "      <td>0.002695</td>\n",
       "    </tr>\n",
       "    <tr>\n",
       "      <th>HP735529</th>\n",
       "      <td>1659375699</td>\n",
       "      <td>ORTHOPEDIC SURGERY</td>\n",
       "      <td>TRAMADOL HCL</td>\n",
       "      <td>68</td>\n",
       "      <td>234.28</td>\n",
       "      <td>0.360997</td>\n",
       "    </tr>\n",
       "    <tr>\n",
       "      <th>TT280891</th>\n",
       "      <td>1275847071</td>\n",
       "      <td>INTERNAL MEDICINE</td>\n",
       "      <td>LEVETIRACETAM</td>\n",
       "      <td>13</td>\n",
       "      <td>1114.71</td>\n",
       "      <td>0.011453</td>\n",
       "    </tr>\n",
       "    <tr>\n",
       "      <th>IE414935</th>\n",
       "      <td>1265487839</td>\n",
       "      <td>FAMILY PRACTICE</td>\n",
       "      <td>SULFAMETHOXAZOLE/TRIMETHOPRIM</td>\n",
       "      <td>52</td>\n",
       "      <td>191.68</td>\n",
       "      <td>0.002942</td>\n",
       "    </tr>\n",
       "    <tr>\n",
       "      <th>XS778681</th>\n",
       "      <td>1831453786</td>\n",
       "      <td>FAMILY PRACTICE</td>\n",
       "      <td>LISINOPRIL</td>\n",
       "      <td>12</td>\n",
       "      <td>52.37</td>\n",
       "      <td>0.000804</td>\n",
       "    </tr>\n",
       "    <tr>\n",
       "      <th>DO782181</th>\n",
       "      <td>1215102074</td>\n",
       "      <td>INTERNAL MEDICINE</td>\n",
       "      <td>AMANTADINE HCL</td>\n",
       "      <td>19</td>\n",
       "      <td>976.97</td>\n",
       "      <td>0.010038</td>\n",
       "    </tr>\n",
       "  </tbody>\n",
       "</table>\n",
       "</div>"
      ],
      "text/plain": [
       "            doctor_id           specialty                     medication  \\\n",
       "unique_id                                                                  \n",
       "DB389404   1194751297          NEPHROLOGY                 ROPINIROLE HCL   \n",
       "DA812252   1124015888     FAMILY PRACTICE                     OMEPRAZOLE   \n",
       "LR238505   1639198229  NURSE PRACTITIONER                     TOPIRAMATE   \n",
       "FH905481   1518923382  EMERGENCY MEDICINE                     CEFADROXIL   \n",
       "LH581620   1356340145   INTERNAL MEDICINE                      LORAZEPAM   \n",
       "HP735529   1659375699  ORTHOPEDIC SURGERY                   TRAMADOL HCL   \n",
       "TT280891   1275847071   INTERNAL MEDICINE                  LEVETIRACETAM   \n",
       "IE414935   1265487839     FAMILY PRACTICE  SULFAMETHOXAZOLE/TRIMETHOPRIM   \n",
       "XS778681   1831453786     FAMILY PRACTICE                     LISINOPRIL   \n",
       "DO782181   1215102074   INTERNAL MEDICINE                 AMANTADINE HCL   \n",
       "\n",
       "           nb_beneficiaries  spending  spending_pct  \n",
       "unique_id                                            \n",
       "DB389404                 18    597.62      0.052547  \n",
       "DA812252                 71    815.68      0.012518  \n",
       "LR238505                 11     64.71      0.001938  \n",
       "FH905481                 21   1675.71      0.842024  \n",
       "LH581620                 28    262.30      0.002695  \n",
       "HP735529                 68    234.28      0.360997  \n",
       "TT280891                 13   1114.71      0.011453  \n",
       "IE414935                 52    191.68      0.002942  \n",
       "XS778681                 12     52.37      0.000804  \n",
       "DO782181                 19    976.97      0.010038  "
      ]
     },
     "execution_count": 39,
     "metadata": {},
     "output_type": "execute_result"
    }
   ],
   "source": [
    "# return 0.01% of the data, i.e 10 entries\n",
    "spending_df.sample(n=10) "
   ]
  },
  {
   "cell_type": "code",
   "execution_count": 69,
   "metadata": {
    "slideshow": {
     "slide_type": "slide"
    }
   },
   "outputs": [
    {
     "data": {
      "text/html": [
       "<div>\n",
       "<style scoped>\n",
       "    .dataframe tbody tr th:only-of-type {\n",
       "        vertical-align: middle;\n",
       "    }\n",
       "\n",
       "    .dataframe tbody tr th {\n",
       "        vertical-align: top;\n",
       "    }\n",
       "\n",
       "    .dataframe thead th {\n",
       "        text-align: right;\n",
       "    }\n",
       "</style>\n",
       "<table border=\"1\" class=\"dataframe\">\n",
       "  <thead>\n",
       "    <tr style=\"text-align: right;\">\n",
       "      <th></th>\n",
       "      <th></th>\n",
       "      <th>doctor_id</th>\n",
       "      <th>specialty</th>\n",
       "      <th>medication</th>\n",
       "      <th>nb_beneficiaries</th>\n",
       "      <th>spending</th>\n",
       "      <th>spending_pct</th>\n",
       "    </tr>\n",
       "    <tr>\n",
       "      <th>specialty</th>\n",
       "      <th>unique_id</th>\n",
       "      <th></th>\n",
       "      <th></th>\n",
       "      <th></th>\n",
       "      <th></th>\n",
       "      <th></th>\n",
       "      <th></th>\n",
       "    </tr>\n",
       "  </thead>\n",
       "  <tbody>\n",
       "    <tr>\n",
       "      <th rowspan=\"2\" valign=\"top\">ALLERGY/IMMUNOLOGY</th>\n",
       "      <th>HX341365</th>\n",
       "      <td>1790855732</td>\n",
       "      <td>ALLERGY/IMMUNOLOGY</td>\n",
       "      <td>ENALAPRIL MALEATE</td>\n",
       "      <td>19</td>\n",
       "      <td>602.62</td>\n",
       "      <td>0.318553</td>\n",
       "    </tr>\n",
       "    <tr>\n",
       "      <th>HQ120242</th>\n",
       "      <td>1811919988</td>\n",
       "      <td>ALLERGY/IMMUNOLOGY</td>\n",
       "      <td>IRBESARTAN</td>\n",
       "      <td>12</td>\n",
       "      <td>109.80</td>\n",
       "      <td>0.058042</td>\n",
       "    </tr>\n",
       "    <tr>\n",
       "      <th rowspan=\"3\" valign=\"top\">ANESTHESIOLOGY</th>\n",
       "      <th>RF491526</th>\n",
       "      <td>1356658389</td>\n",
       "      <td>ANESTHESIOLOGY</td>\n",
       "      <td>MORPHINE SULFATE</td>\n",
       "      <td>78</td>\n",
       "      <td>3670.87</td>\n",
       "      <td>2.570552</td>\n",
       "    </tr>\n",
       "    <tr>\n",
       "      <th>ZX773797</th>\n",
       "      <td>1750481461</td>\n",
       "      <td>ANESTHESIOLOGY</td>\n",
       "      <td>VENLAFAXINE HCL</td>\n",
       "      <td>21</td>\n",
       "      <td>744.11</td>\n",
       "      <td>0.521068</td>\n",
       "    </tr>\n",
       "    <tr>\n",
       "      <th>EL864120</th>\n",
       "      <td>1881669554</td>\n",
       "      <td>ANESTHESIOLOGY</td>\n",
       "      <td>GABAPENTIN</td>\n",
       "      <td>419</td>\n",
       "      <td>12842.83</td>\n",
       "      <td>8.993281</td>\n",
       "    </tr>\n",
       "  </tbody>\n",
       "</table>\n",
       "</div>"
      ],
      "text/plain": [
       "                               doctor_id           specialty  \\\n",
       "specialty          unique_id                                   \n",
       "ALLERGY/IMMUNOLOGY HX341365   1790855732  ALLERGY/IMMUNOLOGY   \n",
       "                   HQ120242   1811919988  ALLERGY/IMMUNOLOGY   \n",
       "ANESTHESIOLOGY     RF491526   1356658389      ANESTHESIOLOGY   \n",
       "                   ZX773797   1750481461      ANESTHESIOLOGY   \n",
       "                   EL864120   1881669554      ANESTHESIOLOGY   \n",
       "\n",
       "                                     medication  nb_beneficiaries  spending  \\\n",
       "specialty          unique_id                                                  \n",
       "ALLERGY/IMMUNOLOGY HX341365   ENALAPRIL MALEATE                19    602.62   \n",
       "                   HQ120242          IRBESARTAN                12    109.80   \n",
       "ANESTHESIOLOGY     RF491526    MORPHINE SULFATE                78   3670.87   \n",
       "                   ZX773797     VENLAFAXINE HCL                21    744.11   \n",
       "                   EL864120          GABAPENTIN               419  12842.83   \n",
       "\n",
       "                              spending_pct  \n",
       "specialty          unique_id                \n",
       "ALLERGY/IMMUNOLOGY HX341365       0.318553  \n",
       "                   HQ120242       0.058042  \n",
       "ANESTHESIOLOGY     RF491526       2.570552  \n",
       "                   ZX773797       0.521068  \n",
       "                   EL864120       8.993281  "
      ]
     },
     "execution_count": 69,
     "metadata": {},
     "output_type": "execute_result"
    }
   ],
   "source": [
    "# We sample only 10% of the Data in each category\n",
    "\n",
    "def sample_10p(x):\n",
    "    return x.sample(frac=0.1)\n",
    "    \n",
    "    \n",
    "# spending_by_specialty.apply(sample_10p).head()\n",
    "spending_df.groupby('specialty').apply(sample_10p).head()"
   ]
  },
  {
   "cell_type": "code",
   "execution_count": 72,
   "metadata": {
    "slideshow": {
     "slide_type": "slide"
    }
   },
   "outputs": [
    {
     "name": "stdout",
     "output_type": "stream",
     "text": [
      "(20, 6)\n",
      "(30, 6)\n",
      "(445, 6)\n"
     ]
    }
   ],
   "source": [
    "\n",
    "print(spending_by_specialty.get_group(\"CARDIAC ELECTROPHYSIOLOGY\").shape)\n",
    "print(spending_by_specialty.get_group(\"ANESTHESIOLOGY\").shape)\n",
    "print(spending_by_specialty.get_group(\"CARDIOLOGY\").shape)\n"
   ]
  },
  {
   "cell_type": "code",
   "execution_count": 73,
   "metadata": {
    "slideshow": {
     "slide_type": "slide"
    }
   },
   "outputs": [
    {
     "name": "stdout",
     "output_type": "stream",
     "text": [
      "(2, 6)\n",
      "(3, 6)\n",
      "(44, 6)\n"
     ]
    }
   ],
   "source": [
    "subsampled_spending_df = spending_by_specialty.apply(sample_10p)\n",
    "\n",
    "print(subsampled_spending_df.loc[\"CARDIAC ELECTROPHYSIOLOGY\"].shape)\n",
    "\n",
    "print(subsampled_spending_df.loc[\"ANESTHESIOLOGY\"].shape)\n",
    "\n",
    "print(subsampled_spending_df.loc[\"CARDIOLOGY\"].shape)\n",
    "\n",
    "\n"
   ]
  },
  {
   "cell_type": "code",
   "execution_count": 47,
   "metadata": {
    "slideshow": {
     "slide_type": "slide"
    }
   },
   "outputs": [
    {
     "data": {
      "text/html": [
       "<div>\n",
       "<style scoped>\n",
       "    .dataframe tbody tr th:only-of-type {\n",
       "        vertical-align: middle;\n",
       "    }\n",
       "\n",
       "    .dataframe tbody tr th {\n",
       "        vertical-align: top;\n",
       "    }\n",
       "\n",
       "    .dataframe thead th {\n",
       "        text-align: right;\n",
       "    }\n",
       "</style>\n",
       "<table border=\"1\" class=\"dataframe\">\n",
       "  <thead>\n",
       "    <tr style=\"text-align: right;\">\n",
       "      <th></th>\n",
       "      <th></th>\n",
       "      <th>doctor_id</th>\n",
       "      <th>specialty</th>\n",
       "      <th>medication</th>\n",
       "      <th>nb_beneficiaries</th>\n",
       "      <th>spending</th>\n",
       "      <th>spending_pct</th>\n",
       "    </tr>\n",
       "    <tr>\n",
       "      <th>specialty</th>\n",
       "      <th>unique_id</th>\n",
       "      <th></th>\n",
       "      <th></th>\n",
       "      <th></th>\n",
       "      <th></th>\n",
       "      <th></th>\n",
       "      <th></th>\n",
       "    </tr>\n",
       "  </thead>\n",
       "  <tbody>\n",
       "    <tr>\n",
       "      <th rowspan=\"2\" valign=\"top\">ALLERGY/IMMUNOLOGY</th>\n",
       "      <th>KL206491</th>\n",
       "      <td>1124085436</td>\n",
       "      <td>ALLERGY/IMMUNOLOGY</td>\n",
       "      <td>AZELASTINE HCL</td>\n",
       "      <td>15</td>\n",
       "      <td>1379.06</td>\n",
       "      <td>0.728990</td>\n",
       "    </tr>\n",
       "    <tr>\n",
       "      <th>GO641321</th>\n",
       "      <td>1255301404</td>\n",
       "      <td>ALLERGY/IMMUNOLOGY</td>\n",
       "      <td>FLUTICASONE/SALMETEROL</td>\n",
       "      <td>35</td>\n",
       "      <td>14277.61</td>\n",
       "      <td>7.547340</td>\n",
       "    </tr>\n",
       "    <tr>\n",
       "      <th rowspan=\"3\" valign=\"top\">ANESTHESIOLOGY</th>\n",
       "      <th>HF933304</th>\n",
       "      <td>1528061603</td>\n",
       "      <td>ANESTHESIOLOGY</td>\n",
       "      <td>CITALOPRAM HYDROBROMIDE</td>\n",
       "      <td>57</td>\n",
       "      <td>255.26</td>\n",
       "      <td>0.178748</td>\n",
       "    </tr>\n",
       "    <tr>\n",
       "      <th>ZJ839161</th>\n",
       "      <td>1700893575</td>\n",
       "      <td>ANESTHESIOLOGY</td>\n",
       "      <td>PREGABALIN</td>\n",
       "      <td>90</td>\n",
       "      <td>33127.75</td>\n",
       "      <td>23.197936</td>\n",
       "    </tr>\n",
       "    <tr>\n",
       "      <th>XZ351859</th>\n",
       "      <td>1811096688</td>\n",
       "      <td>ANESTHESIOLOGY</td>\n",
       "      <td>CITALOPRAM HYDROBROMIDE</td>\n",
       "      <td>15</td>\n",
       "      <td>38.96</td>\n",
       "      <td>0.027282</td>\n",
       "    </tr>\n",
       "  </tbody>\n",
       "</table>\n",
       "</div>"
      ],
      "text/plain": [
       "                               doctor_id           specialty  \\\n",
       "specialty          unique_id                                   \n",
       "ALLERGY/IMMUNOLOGY KL206491   1124085436  ALLERGY/IMMUNOLOGY   \n",
       "                   GO641321   1255301404  ALLERGY/IMMUNOLOGY   \n",
       "ANESTHESIOLOGY     HF933304   1528061603      ANESTHESIOLOGY   \n",
       "                   ZJ839161   1700893575      ANESTHESIOLOGY   \n",
       "                   XZ351859   1811096688      ANESTHESIOLOGY   \n",
       "\n",
       "                                           medication  nb_beneficiaries  \\\n",
       "specialty          unique_id                                              \n",
       "ALLERGY/IMMUNOLOGY KL206491            AZELASTINE HCL                15   \n",
       "                   GO641321    FLUTICASONE/SALMETEROL                35   \n",
       "ANESTHESIOLOGY     HF933304   CITALOPRAM HYDROBROMIDE                57   \n",
       "                   ZJ839161                PREGABALIN                90   \n",
       "                   XZ351859   CITALOPRAM HYDROBROMIDE                15   \n",
       "\n",
       "                              spending  spending_pct  \n",
       "specialty          unique_id                          \n",
       "ALLERGY/IMMUNOLOGY KL206491    1379.06      0.728990  \n",
       "                   GO641321   14277.61      7.547340  \n",
       "ANESTHESIOLOGY     HF933304     255.26      0.178748  \n",
       "                   ZJ839161   33127.75     23.197936  \n",
       "                   XZ351859      38.96      0.027282  "
      ]
     },
     "execution_count": 47,
     "metadata": {},
     "output_type": "execute_result"
    }
   ],
   "source": [
    "subsampled_spending_df.head()"
   ]
  }
 ],
 "metadata": {
  "celltoolbar": "Slideshow",
  "hide_input": false,
  "kernelspec": {
   "display_name": "Python 3 (ipykernel)",
   "language": "python",
   "name": "python3"
  },
  "language_info": {
   "codemirror_mode": {
    "name": "ipython",
    "version": 3
   },
   "file_extension": ".py",
   "mimetype": "text/x-python",
   "name": "python",
   "nbconvert_exporter": "python",
   "pygments_lexer": "ipython3",
   "version": "3.8.13"
  }
 },
 "nbformat": 4,
 "nbformat_minor": 2
}
