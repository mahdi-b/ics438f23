{
 "cells": [
  {
   "cell_type": "code",
   "execution_count": 285,
   "id": "c51333fd",
   "metadata": {},
   "outputs": [
    {
     "data": {
      "text/plain": [
       "65536"
      ]
     },
     "execution_count": 285,
     "metadata": {},
     "output_type": "execute_result"
    }
   ],
   "source": [
    "record_batch_3.num_rows"
   ]
  },
  {
   "cell_type": "code",
   "execution_count": 277,
   "id": "11768073",
   "metadata": {},
   "outputs": [],
   "source": [
    "results_node_3 = pa.array([11,12,13])\n",
    "new_chunked_array= pa.chunked_array([chunked_array.chunk(i) for i in range(chunked_array.num_chunks)] + [results_node_3])"
   ]
  },
  {
   "cell_type": "code",
   "execution_count": 278,
   "id": "cae59198",
   "metadata": {},
   "outputs": [
    {
     "data": {
      "text/plain": [
       "[[None,\n",
       "  <pyarrow.Buffer address=0x414f0020680 size=40 is_cpu=True is_mutable=True>],\n",
       " [None,\n",
       "  <pyarrow.Buffer address=0x414f0020100 size=48 is_cpu=True is_mutable=True>],\n",
       " [None,\n",
       "  <pyarrow.Buffer address=0x414f0020540 size=24 is_cpu=True is_mutable=True>]]"
      ]
     },
     "execution_count": 278,
     "metadata": {},
     "output_type": "execute_result"
    }
   ],
   "source": [
    "[x.buffers() for x in new_chunked_array.chunks]"
   ]
  },
  {
   "cell_type": "markdown",
   "id": "9b43ea1e",
   "metadata": {
    "slideshow": {
     "slide_type": "slide"
    }
   },
   "source": [
    "### Introduction to PyArrow \n",
    "\n",
    "* PyArrow is a cross-language development platform for in-memory data.\n",
    "* It serves as a foundation for building high-performance analytics applications.\n",
    "* Developed as a part of the Apache Arrow project, it aims to improve data interoperability.\n",
    "* In-memory Columnar Data Representation: Efficiently represents complex data structures in a memory-optimized way.\n",
    "* Zero-Copy Reads: Enables rapid data sharing between Python and other languages without serialization overhead.\n",
    "* Schema and Metadata Support: Enables rich, self-describing data structures.\n",
    "\n"
   ]
  },
  {
   "cell_type": "markdown",
   "id": "abfaa6f1",
   "metadata": {
    "slideshow": {
     "slide_type": "slide"
    }
   },
   "source": [
    "### PyArrow and Parquet\n",
    "\n",
    "* PyArrow can read and write Parquet files efficiently and seamlessly/\n",
    "* Column Pruning: Reads only the necessary columns from a Parquet file, reducing I/O.\n",
    "```python\n",
    "import pyarrow.parquet as pq\n",
    "table = pq.read_table('your_file.parquet', columns=['column1', 'column2'])\n",
    "df = table.to_pandas()\n",
    "```\n",
    "* Row Group Filtering: Allows selective reading of row groups based on conditions, optimizing data retrieval.\n",
    "  * Only read the groups in parquet file for which date is in range\n"
   ]
  },
  {
   "cell_type": "markdown",
   "id": "65a3ff4d",
   "metadata": {
    "slideshow": {
     "slide_type": "slide"
    }
   },
   "source": [
    "### Apache Arrow\n",
    "\n",
    "```A critical component of Apache Arrow is its in-memory columnar format, a standardized, language-agnostic specification for representing structured, table-like datasets in-memory. This data format has a rich data type system (including nested and user-defined data types) designed to support the needs of analytic database systems, data frame libraries, and more.```\n",
    "\n",
    "\n",
    "                  Apache arrow Project"
   ]
  },
  {
   "cell_type": "markdown",
   "id": "7bce9250",
   "metadata": {
    "slideshow": {
     "slide_type": "slide"
    }
   },
   "source": [
    "<div align=\"center\">\n",
    "<img src=\"https://blog.djnavarro.net/posts/2021-11-19_starting-apache-arrow-in-r/img/with_arrow.jpg\" width=700>\n",
    "</div>\n",
    "[picture source](https://blog.djnavarro.net/posts/2021-11-19_starting-apache-arrow-in-r/)"
   ]
  },
  {
   "cell_type": "code",
   "execution_count": 4,
   "id": "e83d462e",
   "metadata": {
    "slideshow": {
     "slide_type": "slide"
    }
   },
   "outputs": [
    {
     "name": "stdout",
     "output_type": "stream",
     "text": [
      "Collecting pyarrow\n",
      "  Downloading pyarrow-9.0.0-cp38-cp38-macosx_11_0_arm64.whl (21.6 MB)\n",
      "\u001b[K     |████████████████████████████████| 21.6 MB 3.3 MB/s eta 0:00:01\n",
      "\u001b[?25hRequirement already satisfied: numpy>=1.16.6 in /Users/mahdi/miniconda3/envs/s3-next/lib/python3.8/site-packages (from pyarrow) (1.23.0)\n",
      "Installing collected packages: pyarrow\n",
      "Successfully installed pyarrow-9.0.0\n",
      "Note: you may need to restart the kernel to use updated packages.\n"
     ]
    }
   ],
   "source": [
    "# !pip install pyarrow"
   ]
  },
  {
   "cell_type": "markdown",
   "id": "5fda9d00",
   "metadata": {},
   "source": [
    "### PyArrow DataStructures\n",
    "* Offer suite of low-level data structures and methods optimized for speed and flexibility. \n",
    "* These structures are highly interoperable and can be used between languages seamlessly. \n"
   ]
  },
  {
   "cell_type": "code",
   "execution_count": null,
   "id": "21012277",
   "metadata": {},
   "outputs": [],
   "source": [
    "### Arrow Array\n",
    "* Arrow Arrays are columns of data stored in a contiguous, efficient format. \n",
    "  * Unlike Python lists, they are optimized for speed and can be transferred between languages without serialization overhead.\n",
    "\n"
   ]
  },
  {
   "cell_type": "code",
   "execution_count": 16,
   "id": "e819bcf3",
   "metadata": {},
   "outputs": [
    {
     "name": "stdout",
     "output_type": "stream",
     "text": [
      "<class 'pyarrow.lib.Int64Array'>\n",
      "[\n",
      "  1,\n",
      "  2,\n",
      "  3,\n",
      "  4,\n",
      "  5\n",
      "]\n"
     ]
    }
   ],
   "source": [
    "import pyarrow as pa\n",
    "\n",
    "# Create an Arrow Array from a Python list\n",
    "arrow_array = pa.array([1, 2, 3, 4, 5])\n",
    "\n",
    "# Display the array\n",
    "print(type(arrow_array))\n",
    "print(arrow_array)"
   ]
  },
  {
   "cell_type": "markdown",
   "id": "20f68f27",
   "metadata": {},
   "source": [
    "### Arrow Buffer\n",
    "* While not a data strctute,  Buffers are important concepts and need to be introduced to appreciate some of Arrow Functionlaity\n",
    "  * Buffers are contiguous blocks of memory where data arrays are stored. \n",
    "  * In PyArrow, they usually back the data in Arrow Arrays, making the storage highly efficient.\n",
    "\n"
   ]
  },
  {
   "cell_type": "code",
   "execution_count": 17,
   "id": "7089fe8f",
   "metadata": {},
   "outputs": [
    {
     "name": "stdout",
     "output_type": "stream",
     "text": [
      "b'\\x01\\x00\\x00\\x00\\x00\\x00\\x00\\x00\\x02\\x00\\x00\\x00\\x00\\x00\\x00\\x00\\x03\\x00\\x00\\x00\\x00\\x00\\x00\\x00\\x04\\x00\\x00\\x00\\x00\\x00\\x00\\x00\\x05\\x00\\x00\\x00\\x00\\x00\\x00\\x00'\n"
     ]
    }
   ],
   "source": [
    "# Get the buffer\n",
    "buffer = arrow_array.buffers()[1]\n",
    "\n",
    "# Convert buffer to Python bytes\n",
    "byte_data = buffer.to_pybytes()\n",
    "print(byte_data)"
   ]
  },
  {
   "cell_type": "code",
   "execution_count": 21,
   "id": "421dfca4",
   "metadata": {},
   "outputs": [
    {
     "data": {
      "text/plain": [
       "array([1, 2, 3, 4, 5])"
      ]
     },
     "execution_count": 21,
     "metadata": {},
     "output_type": "execute_result"
    }
   ],
   "source": [
    "import numpy as np\n",
    "numpy_array = np.frombuffer(buffer, dtype=np.int64)\n",
    "numpy_array"
   ]
  },
  {
   "cell_type": "code",
   "execution_count": 22,
   "id": "c098f53d",
   "metadata": {},
   "outputs": [
    {
     "data": {
      "text/plain": [
       "<pyarrow.lib.Int64Array object at 0x13f95f1c0>\n",
       "[\n",
       "  1,\n",
       "  2,\n",
       "  3,\n",
       "  4,\n",
       "  5\n",
       "]"
      ]
     },
     "execution_count": 22,
     "metadata": {},
     "output_type": "execute_result"
    }
   ],
   "source": [
    "arrow_array"
   ]
  },
  {
   "cell_type": "code",
   "execution_count": 24,
   "id": "aaaba377",
   "metadata": {},
   "outputs": [
    {
     "data": {
      "text/plain": [
       "True"
      ]
     },
     "execution_count": 24,
     "metadata": {},
     "output_type": "execute_result"
    }
   ],
   "source": [
    "np.shares_memory(arrow_array, numpy_array)"
   ]
  },
  {
   "cell_type": "code",
   "execution_count": 27,
   "id": "eeef1260",
   "metadata": {},
   "outputs": [],
   "source": [
    "numpy_array[1] = 1"
   ]
  },
  {
   "cell_type": "code",
   "execution_count": 28,
   "id": "51da858b",
   "metadata": {},
   "outputs": [
    {
     "data": {
      "text/plain": [
       "array([1, 1, 3, 4, 5])"
      ]
     },
     "execution_count": 28,
     "metadata": {},
     "output_type": "execute_result"
    }
   ],
   "source": [
    "numpy_array"
   ]
  },
  {
   "cell_type": "code",
   "execution_count": 29,
   "id": "2a19ca25",
   "metadata": {},
   "outputs": [
    {
     "data": {
      "text/plain": [
       "<pyarrow.lib.Int64Array object at 0x13f95f1c0>\n",
       "[\n",
       "  1,\n",
       "  1,\n",
       "  3,\n",
       "  4,\n",
       "  5\n",
       "]"
      ]
     },
     "execution_count": 29,
     "metadata": {},
     "output_type": "execute_result"
    }
   ],
   "source": [
    "arrow_array"
   ]
  },
  {
   "cell_type": "code",
   "execution_count": 118,
   "id": "b472f3e0",
   "metadata": {},
   "outputs": [
    {
     "data": {
      "text/plain": [
       "[None,\n",
       " <pyarrow.Buffer address=0x37b24030e80 size=24 is_cpu=True is_mutable=True>,\n",
       " <pyarrow.Buffer address=0x37b24030e00 size=12 is_cpu=True is_mutable=True>]"
      ]
     },
     "execution_count": 118,
     "metadata": {},
     "output_type": "execute_result"
    }
   ],
   "source": [
    "arrow_array2 = pa.array(['a', 'bb', 'c', 'ddddddd', 'e'])\n",
    "arrow_array2.buffers()"
   ]
  },
  {
   "cell_type": "code",
   "execution_count": 119,
   "id": "72e861be",
   "metadata": {},
   "outputs": [
    {
     "name": "stdout",
     "output_type": "stream",
     "text": [
      "Offsets: [ 0  1  3  4 11 12]\n"
     ]
    }
   ],
   "source": [
    "null_bitmap_buffer, offsets_buffer, data_buffer = record_batch['column2'].buffers()\n",
    "# Decode the offsets buffer\n",
    "# Note: The offsets are likely 32-bit integers (given the 24 byte size for 6 offsets).\n",
    "offsets = np.frombuffer(offsets_buffer, dtype=np.int32)\n",
    "print(\"Offsets:\", offsets)\n"
   ]
  },
  {
   "cell_type": "code",
   "execution_count": null,
   "id": "19953ee6",
   "metadata": {},
   "outputs": [],
   "source": [
    "# Decode the data buffer\n",
    "data = data_buffer.to_pybytes().decode('utf-8')\n",
    "print(\"Data:\", data)\n"
   ]
  },
  {
   "cell_type": "code",
   "execution_count": 120,
   "id": "32f52672",
   "metadata": {},
   "outputs": [
    {
     "name": "stdout",
     "output_type": "stream",
     "text": [
      "Decoded Strings: ['a', 'bb', 'c', 'ddddddd', 'e']\n"
     ]
    }
   ],
   "source": [
    "# Extract strings using offsets\n",
    "strings = [data[offsets[i]:offsets[i+1]] for i in range(len(offsets) - 1)]\n",
    "print(\"Decoded Strings:\", strings)"
   ]
  },
  {
   "cell_type": "markdown",
   "id": "055799fa",
   "metadata": {},
   "source": [
    "### Schema\n",
    "* Schemas define the structure of Arrow Arrays and other data structures specifying the column names and types.\n",
    "\n"
   ]
  },
  {
   "cell_type": "code",
   "execution_count": 113,
   "id": "966d77b9",
   "metadata": {},
   "outputs": [
    {
     "name": "stdout",
     "output_type": "stream",
     "text": [
      "column1: int64\n"
     ]
    }
   ],
   "source": [
    "schema = pa.schema([\n",
    "    ('column1', pa.int64())\n",
    "])\n",
    "\n",
    "print(schema)"
   ]
  },
  {
   "cell_type": "markdown",
   "id": "b6cfc4c7",
   "metadata": {},
   "source": [
    "### Chunked Array \n",
    "* A Chunked Array is like an Arrow Array but can consist of multiple chunks (Arrow Arrays)\n",
    "  * Allowing it to store large datasets that don't fit into memory.\n",
    "    * breaking down a large array into smaller, more manageable pieces (chunks). \n",
    "    * Each chunk is a full-fledged Arrow array, and the chunked array is essentially a sequence of such chunks.\n",
    "* Used for exmaple:\n",
    "  * To aggregate incoming data streams where each incoming message is a chunk of data.\n",
    "    * E.g., a sendor data can be sent in chunks, instead of one observations at a time, to optimize throughput.\n",
    "  * In a distributed computing framework, multiple nodes processing data and producing Arrow Arrays.\n",
    "    * Master node can collect data from each worker as ChunkedArray\n",
    "\n",
    "* Chunked array appreats as contiguous\n"
   ]
  },
  {
   "cell_type": "code",
   "execution_count": 80,
   "id": "4989008a",
   "metadata": {},
   "outputs": [
    {
     "data": {
      "text/plain": [
       "<pyarrow.lib.ChunkedArray object at 0x13fb25b80>\n",
       "[\n",
       "  [\n",
       "    0,\n",
       "    1,\n",
       "    2,\n",
       "    3,\n",
       "    4\n",
       "  ],\n",
       "  [\n",
       "    5,\n",
       "    6,\n",
       "    7,\n",
       "    8,\n",
       "    9,\n",
       "    10\n",
       "  ]\n",
       "]"
      ]
     },
     "execution_count": 80,
     "metadata": {},
     "output_type": "execute_result"
    }
   ],
   "source": [
    "results_node_1 = pa.array([0,1,2,3,4])\n",
    "results_node_2 = pa.array([5,6,7,8,9,10])\n",
    "chunked_array = pa.chunked_array([results_node_1, results_node_2])\n",
    "chunked_array"
   ]
  },
  {
   "cell_type": "code",
   "execution_count": 82,
   "id": "1718fa88",
   "metadata": {},
   "outputs": [
    {
     "data": {
      "text/plain": [
       "<pyarrow.Int64Scalar: 5>"
      ]
     },
     "execution_count": 82,
     "metadata": {},
     "output_type": "execute_result"
    }
   ],
   "source": [
    "chunked_array[5]"
   ]
  },
  {
   "cell_type": "code",
   "execution_count": 84,
   "id": "faff7712",
   "metadata": {},
   "outputs": [
    {
     "data": {
      "text/plain": [
       "<pyarrow.lib.ChunkedArray object at 0x13fb694a0>\n",
       "[\n",
       "  [\n",
       "    3,\n",
       "    4\n",
       "  ],\n",
       "  [\n",
       "    5\n",
       "  ]\n",
       "]"
      ]
     },
     "execution_count": 84,
     "metadata": {},
     "output_type": "execute_result"
    }
   ],
   "source": [
    "chunked_array[3:6]"
   ]
  },
  {
   "cell_type": "code",
   "execution_count": 92,
   "id": "645cc486",
   "metadata": {},
   "outputs": [
    {
     "data": {
      "text/plain": [
       "<pyarrow.lib.Int64Array object at 0x13f9aa280>\n",
       "[\n",
       "  0,\n",
       "  1,\n",
       "  2,\n",
       "  3,\n",
       "  4\n",
       "]"
      ]
     },
     "execution_count": 92,
     "metadata": {},
     "output_type": "execute_result"
    }
   ],
   "source": [
    "chunked_array.chunk(0)"
   ]
  },
  {
   "cell_type": "code",
   "execution_count": 104,
   "id": "cc5476dc",
   "metadata": {},
   "outputs": [],
   "source": [
    "results_node_3 = pa.array([11,12,13])\n"
   ]
  },
  {
   "cell_type": "code",
   "execution_count": 107,
   "id": "814ab018",
   "metadata": {},
   "outputs": [
    {
     "data": {
      "text/plain": [
       "<pyarrow.lib.ChunkedArray object at 0x13fb25b80>\n",
       "[\n",
       "  [\n",
       "    0,\n",
       "    1,\n",
       "    2,\n",
       "    3,\n",
       "    4\n",
       "  ],\n",
       "  [\n",
       "    5,\n",
       "    6,\n",
       "    7,\n",
       "    8,\n",
       "    9,\n",
       "    10\n",
       "  ]\n",
       "]"
      ]
     },
     "execution_count": 107,
     "metadata": {},
     "output_type": "execute_result"
    }
   ],
   "source": [
    "chunked_array"
   ]
  },
  {
   "cell_type": "code",
   "execution_count": 112,
   "id": "672738e9",
   "metadata": {},
   "outputs": [
    {
     "data": {
      "text/plain": [
       "<pyarrow.lib.ChunkedArray object at 0x13f9e11d0>\n",
       "[\n",
       "  [\n",
       "    0,\n",
       "    1,\n",
       "    2,\n",
       "    3,\n",
       "    4\n",
       "  ],\n",
       "  [\n",
       "    5,\n",
       "    6,\n",
       "    7,\n",
       "    8,\n",
       "    9,\n",
       "    10\n",
       "  ],\n",
       "  [\n",
       "    11,\n",
       "    12,\n",
       "    13\n",
       "  ]\n",
       "]"
      ]
     },
     "execution_count": 112,
     "metadata": {},
     "output_type": "execute_result"
    }
   ],
   "source": [
    "new_chunked_array= pa.chunked_array([chunked_array.chunk(i) for i in range(chunked_array.num_chunks)] + [results_node_3])\n",
    "new_chunked_array"
   ]
  },
  {
   "cell_type": "markdown",
   "id": "d866e741",
   "metadata": {},
   "source": []
  },
  {
   "cell_type": "code",
   "execution_count": null,
   "id": "f796a426",
   "metadata": {},
   "outputs": [],
   "source": []
  },
  {
   "cell_type": "code",
   "execution_count": null,
   "id": "28f42275",
   "metadata": {},
   "outputs": [],
   "source": []
  },
  {
   "cell_type": "code",
   "execution_count": null,
   "id": "4882314e",
   "metadata": {},
   "outputs": [],
   "source": []
  },
  {
   "cell_type": "code",
   "execution_count": null,
   "id": "600ec6db",
   "metadata": {},
   "outputs": [],
   "source": []
  },
  {
   "cell_type": "markdown",
   "id": "4b0f58f7",
   "metadata": {},
   "source": [
    "### Table\n",
    "\n",
    "* A data structure that is composed of multiple columns. \n",
    "  * Each column within this table is represented as one or more pyarrow.Array objects of the same type. \n",
    "    The purpose of the Table structure is to enable more extensive operations on a larger dataset, as opposed to individual chunks like RecordBatch.\n",
    "\n",
    "* Homogeneous Columns: Each column consists of Arrow Arrays of a consistent type.\n",
    "* Schema: Every table has an associated schema that describes the column names and types.\n",
    "* Chunked Storage: While the table represents a logical sequence of records, its physical representation can be chunked.\n",
    "  * This allows operations to be performed on smaller chunks, enhancing performance especially for large datasets.\n"
   ]
  },
  {
   "cell_type": "code",
   "execution_count": 99,
   "id": "d9b3fe51",
   "metadata": {},
   "outputs": [
    {
     "data": {
      "text/plain": [
       "pyarrow.Table\n",
       "my_ints_column: int32\n",
       "my_chars_column: string\n",
       "----\n",
       "my_ints_column: [[1,2,3,4,5]]\n",
       "my_chars_column: [[\"a\",\"b\",\"c\",\"d\",\"e\"]]"
      ]
     },
     "execution_count": 99,
     "metadata": {},
     "output_type": "execute_result"
    }
   ],
   "source": [
    "import pyarrow as pa\n",
    "\n",
    "# Define data arrays for two columns\n",
    "data1 = pa.array([1, 2, 3, 4, 5])\n",
    "data2 = pa.array(['a', 'b', 'c', 'd', 'e'])\n",
    "\n",
    "# Define the schema for the table\n",
    "schema = pa.schema([\n",
    "    ('my_ints_column', pa.int32()),\n",
    "    ('my_chars_column', pa.string())\n",
    "])\n",
    "\n",
    "table = pa.Table.from_arrays([data1, data2], schema=schema)\n",
    "table"
   ]
  },
  {
   "cell_type": "code",
   "execution_count": 100,
   "id": "78111aaa",
   "metadata": {},
   "outputs": [
    {
     "data": {
      "text/plain": [
       "<pyarrow.lib.ChunkedArray object at 0x13f9ad770>\n",
       "[\n",
       "  [\n",
       "    1,\n",
       "    2,\n",
       "    3,\n",
       "    4,\n",
       "    5\n",
       "  ]\n",
       "]"
      ]
     },
     "execution_count": 100,
     "metadata": {},
     "output_type": "execute_result"
    }
   ],
   "source": [
    "table[\"my_ints_column\"]"
   ]
  },
  {
   "cell_type": "code",
   "execution_count": 103,
   "id": "e1f81416",
   "metadata": {},
   "outputs": [
    {
     "data": {
      "text/plain": [
       "pyarrow.Table\n",
       "my_ints_column: int32\n",
       "my_chars_column: string\n",
       "----\n",
       "my_ints_column: [[1,2,3]]\n",
       "my_chars_column: [[\"a\",\"b\",\"c\"]]"
      ]
     },
     "execution_count": 103,
     "metadata": {},
     "output_type": "execute_result"
    }
   ],
   "source": [
    "# sliced_table = table.slice(0, 3)\n",
    "sliced_table = table[0:3]\n",
    "\n",
    "sliced_table"
   ]
  },
  {
   "cell_type": "code",
   "execution_count": 61,
   "id": "3a955f85",
   "metadata": {},
   "outputs": [
    {
     "data": {
      "text/plain": [
       "pyarrow.RecordBatch\n",
       "column1: int64\n",
       "column2: string"
      ]
     },
     "execution_count": 61,
     "metadata": {},
     "output_type": "execute_result"
    }
   ],
   "source": [
    "# Create record batches into tables\n",
    "table1 = pa.table(record_batch)\n",
    "table2 = pa.table(record_batch)\n",
    "\n",
    "# Concatenate tables\n",
    "final_table = pa.concat_tables([table1, table2])\n",
    "\n",
    "print(final_table)\n",
    "Directly using the pa.table constructor: If you already have the data in the form of Arrow arrays, you can create a table by specifying the data and the schema directly.\n"
   ]
  },
  {
   "cell_type": "code",
   "execution_count": 60,
   "id": "3329f64f",
   "metadata": {},
   "outputs": [
    {
     "ename": "ValueError",
     "evalue": "Must pass names or schema when constructing Table or RecordBatch.",
     "output_type": "error",
     "traceback": [
      "\u001b[0;31m---------------------------------------------------------------------------\u001b[0m",
      "\u001b[0;31mValueError\u001b[0m                                Traceback (most recent call last)",
      "Cell \u001b[0;32mIn [60], line 1\u001b[0m\n\u001b[0;32m----> 1\u001b[0m table \u001b[38;5;241m=\u001b[39m \u001b[43mpa\u001b[49m\u001b[38;5;241;43m.\u001b[39;49m\u001b[43mtable\u001b[49m\u001b[43m(\u001b[49m\u001b[43m[\u001b[49m\u001b[43mrecord_batch\u001b[49m\u001b[43m,\u001b[49m\u001b[43m \u001b[49m\u001b[43mrecord_batch\u001b[49m\u001b[43m]\u001b[49m\u001b[43m)\u001b[49m\n\u001b[1;32m      2\u001b[0m table\n",
      "File \u001b[0;32m~/miniconda3/envs/temp/lib/python3.9/site-packages/pyarrow/table.pxi:5147\u001b[0m, in \u001b[0;36mpyarrow.lib.table\u001b[0;34m()\u001b[0m\n",
      "File \u001b[0;32m~/miniconda3/envs/temp/lib/python3.9/site-packages/pyarrow/table.pxi:3657\u001b[0m, in \u001b[0;36mpyarrow.lib.Table.from_arrays\u001b[0;34m()\u001b[0m\n",
      "File \u001b[0;32m~/miniconda3/envs/temp/lib/python3.9/site-packages/pyarrow/table.pxi:1406\u001b[0m, in \u001b[0;36mpyarrow.lib._sanitize_arrays\u001b[0;34m()\u001b[0m\n",
      "File \u001b[0;32m~/miniconda3/envs/temp/lib/python3.9/site-packages/pyarrow/table.pxi:1376\u001b[0m, in \u001b[0;36mpyarrow.lib._schema_from_arrays\u001b[0;34m()\u001b[0m\n",
      "\u001b[0;31mValueError\u001b[0m: Must pass names or schema when constructing Table or RecordBatch."
     ]
    }
   ],
   "source": [
    "table = pa.table([record_batch, record_batch])\n",
    "table"
   ]
  },
  {
   "cell_type": "markdown",
   "id": "73558ae4",
   "metadata": {},
   "source": [
    "### Record Batch\n",
    "\n",
    "* A Record Batch is a collection of Arrow Arrays (columns) with the same length. \n",
    "  * A single \"row chunk\" of a table, where each array in the batch is a column.\n",
    "\n",
    "* The concept of record batch is somewhat simialar to Table as Array is similar to Chunked Array.\n",
    "\n",
    "  * The choice between using a Record Batch or a Table in Apache Arrow often comes down to your specific use case and the constraints you're operating under. Here are some reasons you might prefer to use a Record Batch:\n",
    "  \n",
    "  * Streaming Data: process each chunk as it arrives, Record Batches are a good choice. \n",
    "    * You can serialize and process each Record Batch independently as they arrive.\n",
    "\n",
    "\n",
    "\n"
   ]
  },
  {
   "cell_type": "code",
   "execution_count": 49,
   "id": "623317a3",
   "metadata": {},
   "outputs": [
    {
     "name": "stdout",
     "output_type": "stream",
     "text": [
      "pyarrow.RecordBatch\n",
      "column1: int64\n",
      "column2: string\n"
     ]
    }
   ],
   "source": [
    "import pyarrow as pa\n",
    "\n",
    "# Create two Arrow Arrays of the same length\n",
    "arrow_array1 = pa.array([1, 2, 3, 4, 5])\n",
    "arrow_array2 = pa.array(['a', 'bb', 'c', 'ddddddd', 'e'])\n",
    "\n",
    "# Create a schema\n",
    "schema = pa.schema([\n",
    "    ('column1', pa.int64()),\n",
    "    ('column2', pa.string())\n",
    "])\n",
    "\n",
    "# Create a record batch using a list of arrays\n",
    "record_batch = pa.record_batch([arrow_array1, arrow_array2], schema=schema)\n",
    "\n",
    "print(record_batch)\n",
    "\n",
    "\n",
    "record_batch.schema\n",
    "\n",
    "\n",
    "record_batch['column1']\n",
    "\n",
    "\n",
    "record_batch[\"column2\"][2]\n",
    "\n",
    "\n",
    "# record_batch.column(\"column2\")\n",
    "record_batch[\"column2\"][2:4]"
   ]
  },
  {
   "cell_type": "code",
   "execution_count": null,
   "id": "d3d26cc2",
   "metadata": {},
   "outputs": [],
   "source": []
  },
  {
   "cell_type": "code",
   "execution_count": null,
   "id": "12d2d8db",
   "metadata": {},
   "outputs": [],
   "source": []
  },
  {
   "cell_type": "code",
   "execution_count": null,
   "id": "63ffb51b",
   "metadata": {},
   "outputs": [],
   "source": []
  },
  {
   "cell_type": "code",
   "execution_count": null,
   "id": "8a5f6dba",
   "metadata": {},
   "outputs": [],
   "source": []
  },
  {
   "cell_type": "code",
   "execution_count": null,
   "id": "618e1d88",
   "metadata": {},
   "outputs": [],
   "source": []
  },
  {
   "cell_type": "code",
   "execution_count": null,
   "id": "a32d3ad2",
   "metadata": {},
   "outputs": [],
   "source": []
  },
  {
   "cell_type": "code",
   "execution_count": 1,
   "id": "65596825-9ed2-4669-b89e-c4bd267cb5b1",
   "metadata": {},
   "outputs": [],
   "source": [
    "#!wget -P https://d37ci6vzurychx.cloudfront.net/trip-data/fhvhv_tripdata_2022-06.parquet"
   ]
  },
  {
   "cell_type": "code",
   "execution_count": 130,
   "id": "a509fb30",
   "metadata": {},
   "outputs": [
    {
     "name": "stdout",
     "output_type": "stream",
     "text": [
      "8.470672607421875 gigabytes\n"
     ]
    }
   ],
   "source": [
    "print_mem()"
   ]
  },
  {
   "cell_type": "markdown",
   "id": "f10386a0",
   "metadata": {},
   "source": [
    "#### In what follws, we play with some real data.\n",
    "1. The following show that 1, we can easily read  a parquet file and\n",
    "2. The size is substantially smaller than that taken by the same pandas object."
   ]
  },
  {
   "cell_type": "code",
   "execution_count": 131,
   "id": "39cc3fde-5c02-432e-86d5-f171b54faf64",
   "metadata": {},
   "outputs": [
    {
     "data": {
      "text/plain": [
       "pyarrow.Table\n",
       "hvfhs_license_num: string\n",
       "dispatching_base_num: string\n",
       "originating_base_num: string\n",
       "request_datetime: timestamp[us]\n",
       "on_scene_datetime: timestamp[us]\n",
       "pickup_datetime: timestamp[us]\n",
       "dropoff_datetime: timestamp[us]\n",
       "PULocationID: int64\n",
       "DOLocationID: int64\n",
       "trip_miles: double\n",
       "trip_time: int64\n",
       "base_passenger_fare: double\n",
       "tolls: double\n",
       "bcf: double\n",
       "sales_tax: double\n",
       "congestion_surcharge: double\n",
       "airport_fee: double\n",
       "tips: double\n",
       "driver_pay: double\n",
       "shared_request_flag: string\n",
       "shared_match_flag: string\n",
       "access_a_ride_flag: string\n",
       "wav_request_flag: string\n",
       "wav_match_flag: string\n",
       "----\n",
       "hvfhs_license_num: [[\"HV0003\",\"HV0003\",\"HV0003\",\"HV0003\",\"HV0005\",...,\"HV0005\",\"HV0003\",\"HV0005\",\"HV0005\",\"HV0005\"],[\"HV0003\",\"HV0005\",\"HV0003\",\"HV0003\",\"HV0003\",...,\"HV0003\",\"HV0003\",\"HV0003\",\"HV0003\",\"HV0003\"],...,[\"HV0005\",\"HV0005\",\"HV0005\",\"HV0003\",\"HV0003\",...,\"HV0003\",\"HV0003\",\"HV0003\",\"HV0003\",\"HV0003\"],[\"HV0003\",\"HV0005\",\"HV0003\",\"HV0003\",\"HV0003\",...,\"HV0003\",\"HV0003\",\"HV0003\",\"HV0003\",\"HV0005\"]]\n",
       "dispatching_base_num: [[\"B03404\",\"B03404\",\"B03404\",\"B03404\",\"B03406\",...,\"B03406\",\"B03404\",\"B03406\",\"B03406\",\"B03406\"],[\"B03404\",\"B03406\",\"B03404\",\"B03404\",\"B03404\",...,\"B03404\",\"B03404\",\"B03404\",\"B03404\",\"B03404\"],...,[\"B03406\",\"B03406\",\"B03406\",\"B03404\",\"B03404\",...,\"B03404\",\"B03404\",\"B03404\",\"B03404\",\"B03404\"],[\"B03404\",\"B03406\",\"B03404\",\"B03404\",\"B03404\",...,\"B03404\",\"B03404\",\"B03404\",\"B03404\",\"B03406\"]]\n",
       "originating_base_num: [[\"B03404\",\"B03404\",\"B03404\",\"B03404\",null,...,null,\"B03404\",null,null,null],[\"B03404\",null,\"B03404\",\"B03404\",\"B03404\",...,\"B03404\",\"B03404\",\"B03404\",\"B03404\",\"B03404\"],...,[null,null,null,\"B03404\",\"B03404\",...,\"B03404\",\"B03404\",\"B03404\",\"B03404\",\"B03404\"],[\"B03404\",null,\"B03404\",\"B03404\",\"B03404\",...,\"B03404\",\"B03404\",\"B03404\",\"B03404\",null]]\n",
       "request_datetime: [[2022-06-01 00:15:35.000000,2022-06-01 00:39:04.000000,2022-06-01 00:27:53.000000,2022-06-01 00:48:15.000000,2022-06-01 00:04:51.000000,...,2022-06-01 09:27:01.000000,2022-06-01 09:10:29.000000,2022-06-01 08:51:09.000000,2022-06-01 09:14:34.000000,2022-06-01 09:39:53.000000],[2022-06-01 09:15:07.000000,2022-06-01 09:37:37.000000,2022-06-01 09:17:57.000000,2022-06-01 09:02:01.000000,2022-06-01 09:22:55.000000,...,2022-06-01 14:33:14.000000,2022-06-01 14:02:15.000000,2022-06-01 14:30:21.000000,2022-06-01 14:16:09.000000,2022-06-01 14:28:30.000000],...,[2022-06-30 16:03:07.000000,2022-06-30 16:23:58.000000,2022-06-30 16:48:38.000000,2022-06-30 16:18:52.000000,2022-06-30 16:37:05.000000,...,2022-06-30 21:47:53.000000,2022-06-30 21:10:29.000000,2022-06-30 21:16:48.000000,2022-06-30 21:28:51.000000,2022-06-30 21:43:34.000000],[2022-06-30 21:50:10.000000,2022-06-30 21:38:54.000000,2022-06-30 21:37:35.000000,2022-06-30 21:14:54.000000,2022-06-30 21:49:59.000000,...,2022-06-30 23:20:49.000000,2022-06-30 23:36:13.000000,2022-06-30 23:50:50.000000,2022-06-30 23:02:40.000000,2022-06-30 23:00:28.000000]]\n",
       "on_scene_datetime: [[2022-06-01 00:17:20.000000,2022-06-01 00:40:36.000000,2022-06-01 00:31:34.000000,2022-06-01 00:49:38.000000,null,...,null,2022-06-01 09:12:34.000000,null,null,null],[2022-06-01 09:15:46.000000,null,2022-06-01 09:21:35.000000,2022-06-01 09:05:21.000000,2022-06-01 09:25:11.000000,...,2022-06-01 14:34:13.000000,2022-06-01 14:10:04.000000,2022-06-01 14:35:24.000000,2022-06-01 14:18:34.000000,2022-06-01 14:29:51.000000],...,[null,null,null,2022-06-30 16:25:34.000000,2022-06-30 16:39:05.000000,...,2022-06-30 21:50:19.000000,2022-06-30 21:16:34.000000,2022-06-30 21:20:52.000000,2022-06-30 21:31:48.000000,2022-06-30 21:44:12.000000],[2022-06-30 21:54:20.000000,null,2022-06-30 21:38:44.000000,2022-06-30 21:16:41.000000,2022-06-30 21:54:09.000000,...,2022-06-30 23:24:23.000000,2022-06-30 23:39:12.000000,2022-06-30 23:55:11.000000,2022-06-30 23:04:58.000000,null]]\n",
       "pickup_datetime: [[2022-06-01 00:17:41.000000,2022-06-01 00:42:37.000000,2022-06-01 00:36:22.000000,2022-06-01 00:51:18.000000,2022-06-01 00:13:33.000000,...,2022-06-01 09:30:54.000000,2022-06-01 09:12:38.000000,2022-06-01 09:04:49.000000,2022-06-01 09:20:02.000000,2022-06-01 09:44:46.000000],[2022-06-01 09:17:46.000000,2022-06-01 09:38:31.000000,2022-06-01 09:22:00.000000,2022-06-01 09:05:31.000000,2022-06-01 09:26:04.000000,...,2022-06-01 14:35:32.000000,2022-06-01 14:10:14.000000,2022-06-01 14:36:04.000000,2022-06-01 14:18:43.000000,2022-06-01 14:32:11.000000],...,[2022-06-30 16:08:46.000000,2022-06-30 16:28:06.000000,2022-06-30 16:58:02.000000,2022-06-30 16:25:42.000000,2022-06-30 16:40:48.000000,...,2022-06-30 21:51:26.000000,2022-06-30 21:17:21.000000,2022-06-30 21:22:53.000000,2022-06-30 21:32:20.000000,2022-06-30 21:45:36.000000],[2022-06-30 21:56:21.000000,2022-06-30 21:41:17.000000,2022-06-30 21:39:34.000000,2022-06-30 21:18:28.000000,2022-06-30 21:55:55.000000,...,2022-06-30 23:24:43.000000,2022-06-30 23:39:20.000000,2022-06-30 23:57:12.000000,2022-06-30 23:06:44.000000,2022-06-30 23:03:06.000000]]\n",
       "dropoff_datetime: [[2022-06-01 00:25:41.000000,2022-06-01 00:56:32.000000,2022-06-01 00:45:31.000000,2022-06-01 01:11:15.000000,2022-06-01 00:17:27.000000,...,2022-06-01 09:41:04.000000,2022-06-01 09:14:46.000000,2022-06-01 09:16:44.000000,2022-06-01 09:34:10.000000,2022-06-01 10:01:02.000000],[2022-06-01 09:24:48.000000,2022-06-01 09:58:51.000000,2022-06-01 10:07:51.000000,2022-06-01 09:54:00.000000,2022-06-01 09:34:02.000000,...,2022-06-01 14:57:26.000000,2022-06-01 14:31:23.000000,2022-06-01 14:57:52.000000,2022-06-01 14:28:05.000000,2022-06-01 15:00:40.000000],...,[2022-06-30 16:19:05.000000,2022-06-30 16:45:30.000000,2022-06-30 17:25:43.000000,2022-06-30 16:36:19.000000,2022-06-30 16:48:40.000000,...,2022-06-30 21:58:39.000000,2022-06-30 21:43:31.000000,2022-06-30 21:30:31.000000,2022-06-30 21:43:01.000000,2022-06-30 21:52:27.000000],[2022-06-30 22:03:42.000000,2022-06-30 21:56:58.000000,2022-06-30 21:53:26.000000,2022-06-30 21:49:15.000000,2022-06-30 22:33:30.000000,...,2022-06-30 23:38:19.000000,2022-06-30 23:51:10.000000,2022-07-01 00:07:07.000000,2022-06-30 23:26:28.000000,2022-06-30 23:18:13.000000]]\n",
       "PULocationID: [[234,161,231,87,137,...,97,23,85,72,72],[141,164,138,145,173,...,141,140,168,236,239],...,[248,208,208,107,230,...,161,68,158,158,186],[246,66,252,188,76,...,74,224,231,234,244]]\n",
       "DOLocationID: [[114,151,87,225,162,...,65,23,39,72,89],[237,140,164,174,56,...,75,168,260,238,232],...,[208,208,168,230,161,...,164,37,158,164,246],[48,232,121,76,148,...,224,13,231,48,242]]\n",
       "trip_miles: [[1.5,4.18,2.91,5.45,1.069,...,1.151,0.35,2.211,1.456,1.978],[0.53,2.602,8.81,13.26,1.15,...,2.69,3.81,5.77,1.57,6.96],...,[4.159,2.513,6.552,1.32,0.9,...,1.11,7.06,1.2,1.49,0.97],[0.81,2.443,6.31,5.97,13.53,...,6.07,4.9,0.53,2.85,6.207]]\n",
       "..."
      ]
     },
     "execution_count": 131,
     "metadata": {},
     "output_type": "execute_result"
    }
   ],
   "source": [
    "import pyarrow.parquet as  pq\n",
    "table = pq.read_table('/Users/mahdi/Downloads/fhvhv_tripdata_2022-06.parquet')\n",
    "table"
   ]
  },
  {
   "cell_type": "code",
   "execution_count": 132,
   "id": "bc27e06d",
   "metadata": {},
   "outputs": [
    {
     "name": "stdout",
     "output_type": "stream",
     "text": [
      "6.8361968994140625 gigabytes\n"
     ]
    }
   ],
   "source": [
    "print_mem()"
   ]
  },
  {
   "cell_type": "code",
   "execution_count": 139,
   "id": "404a711c",
   "metadata": {},
   "outputs": [
    {
     "data": {
      "text/plain": [
       "3.03908724244684"
      ]
     },
     "execution_count": 139,
     "metadata": {},
     "output_type": "execute_result"
    }
   ],
   "source": [
    "sys.getsizeof(table) / 1024 / 1024 / 1024"
   ]
  },
  {
   "cell_type": "code",
   "execution_count": 138,
   "id": "d8e8a767",
   "metadata": {},
   "outputs": [
    {
     "data": {
      "text/plain": [
       "9.87973692920059"
      ]
     },
     "execution_count": 138,
     "metadata": {},
     "output_type": "execute_result"
    }
   ],
   "source": [
    "import pandas as pd\n",
    "\n",
    "df = pd.read_parquet('/Users/mahdi/Downloads/fhvhv_tripdata_2022-06.parquet')\n",
    "sys.getsizeof(df) / 1024 / 1024 / 1024"
   ]
  },
  {
   "cell_type": "code",
   "execution_count": null,
   "id": "a85b8b54",
   "metadata": {},
   "outputs": [],
   "source": []
  },
  {
   "cell_type": "markdown",
   "id": "79f8622c",
   "metadata": {},
   "source": [
    "Datasets\n",
    "• Datasets are an abstraction that allows to work with large tabular data, potentially bigger than memory and distributed across multiple files.\n",
    "• Datasets provide lazy access to the data, avoiding the need of loading it all in memory at once.\n",
    "• Datasets are supported by the Acero compute engine in most cases in place of Tables.\n",
    "\n",
    "A unified interface for different sources, like Parquet and Feather\n",
    "\n",
    "Discovery of sources (crawling directories, handle directory-based partitioned datasets, basic schema normalization)\n",
    "\n",
    "Optimized reading with predicate pushdown (filtering rows), projection (selecting columns), parallel reading or fine-grained managing of tasks."
   ]
  },
  {
   "cell_type": "code",
   "execution_count": 34,
   "id": "56500296",
   "metadata": {},
   "outputs": [],
   "source": [
    "import pyarrow.dataset as ds"
   ]
  },
  {
   "cell_type": "markdown",
   "id": "aecfca9b",
   "metadata": {},
   "source": [
    "Add one slide here about the dat\n",
    "https://registry.opendata.aws/nyc-tlc-trip-records-pds/\n",
    "    \n",
    "    New York City Taxi and Limousine Commission (TLC) Trip Record Data\n",
    "cities transportation urban\n",
    "\n",
    "Description\n",
    "Data of trips taken by taxis and for-hire vehicles in New York City. Note: access to this dataset is free, however direct S3 access does require an AWS account. Anonymous downloads are accessible from the dataset's documentation webpage listed below.\n",
    "\n",
    "Update Frequency\n",
    "As soon as new data is available to be shared publicly.\n",
    "\n",
    "License\n",
    "http://www1.nyc.gov/home/terms-of-use.page\n",
    "\n",
    "Documentation\n",
    "https://www1.nyc.gov/site/tlc/about/tlc-trip-record-data.page\n",
    "\n",
    "Managed By\n",
    "City of New York Taxi and Limousine Commission\n",
    "\n",
    "See all datasets managed by City of New York Taxi and Limousine Commission.\n",
    "\n",
    "Contact\n",
    "research@tlc.nyc.gov\n",
    "\n",
    "How to Cite\n",
    "fNew York City Taxi and Limousine Commission (TLC) Trip Record Data was accessed on DATE from https://registry.opendata.aws/nyc-tlc-trip-records-pds."
   ]
  },
  {
   "cell_type": "code",
   "execution_count": null,
   "id": "3418912d",
   "metadata": {},
   "outputs": [],
   "source": [
    "> format this and explain what PRE Means\n",
    "(base) ➜  ~ aws s3 ls \"s3://ursa-labs-taxi-data/\"\n",
    "                           PRE 2009/\n",
    "                           PRE 2010/\n",
    "                           PRE 2011/\n",
    "                           PRE 2012/\n",
    "                           PRE 2013/\n",
    "                           PRE 2014/\n",
    "                           PRE 2015/\n",
    "                           PRE 2016/\n",
    "                           PRE 2017/\n",
    "                           PRE 2018/\n",
    "                           PRE 2019/\n",
    "                            \n",
    "                            "
   ]
  },
  {
   "cell_type": "markdown",
   "id": "f2f6ebf8",
   "metadata": {},
   "source": [
    "(base) ➜  ~ aws s3 ls \"s3://ursa-labs-taxi-data/2009/\"\n",
    "                           PRE 01/\n",
    "                           PRE 02/\n",
    "                           PRE 03/\n",
    "                           PRE 04/\n",
    "                           PRE 05/\n",
    "                           PRE 06/\n",
    "                           PRE 07/\n",
    "                           PRE 08/\n",
    "                           PRE 09/\n",
    "                           PRE 10/\n",
    "                           PRE 11/\n",
    "                           PRE 12/"
   ]
  },
  {
   "cell_type": "code",
   "execution_count": 1,
   "id": "0cb3ab33",
   "metadata": {},
   "outputs": [],
   "source": [
    "import pyarrow.dataset as ds"
   ]
  },
  {
   "cell_type": "code",
   "execution_count": 125,
   "id": "1942ad3d",
   "metadata": {},
   "outputs": [
    {
     "data": {
      "text/plain": [
       "125"
      ]
     },
     "execution_count": 125,
     "metadata": {},
     "output_type": "execute_result"
    }
   ],
   "source": [
    "len(list(dataset.get_fragments()))\n"
   ]
  },
  {
   "cell_type": "code",
   "execution_count": 2,
   "id": "85571772",
   "metadata": {},
   "outputs": [
    {
     "data": {
      "text/plain": [
       "<pyarrow._dataset.FileSystemDataset at 0x120a1a5e0>"
      ]
     },
     "execution_count": 2,
     "metadata": {},
     "output_type": "execute_result"
    }
   ],
   "source": [
    "dataset = ds.dataset(\"s3://ursa-labs-taxi-data/\", partitioning=[\"year\", \"month\"])\n",
    "dataset"
   ]
  },
  {
   "cell_type": "code",
   "execution_count": 157,
   "id": "41ac5f5f",
   "metadata": {},
   "outputs": [
    {
     "data": {
      "text/plain": [
       "['ursa-labs-taxi-data/2009/01/data.parquet',\n",
       " 'ursa-labs-taxi-data/2009/02/data.parquet',\n",
       " 'ursa-labs-taxi-data/2009/03/data.parquet']"
      ]
     },
     "execution_count": 157,
     "metadata": {},
     "output_type": "execute_result"
    }
   ],
   "source": [
    "dataset.files[0:3]"
   ]
  },
  {
   "cell_type": "code",
   "execution_count": 154,
   "id": "280a51a7",
   "metadata": {},
   "outputs": [
    {
     "data": {
      "text/plain": [
       "1547741381"
      ]
     },
     "execution_count": 154,
     "metadata": {},
     "output_type": "execute_result"
    }
   ],
   "source": [
    "dataset.count_rows()"
   ]
  },
  {
   "cell_type": "code",
   "execution_count": 158,
   "id": "ac41ad81",
   "metadata": {},
   "outputs": [
    {
     "data": {
      "text/plain": [
       "['__class__',\n",
       " '__delattr__',\n",
       " '__dir__',\n",
       " '__doc__',\n",
       " '__eq__',\n",
       " '__format__',\n",
       " '__ge__',\n",
       " '__getattribute__',\n",
       " '__gt__',\n",
       " '__hash__',\n",
       " '__init__',\n",
       " '__init_subclass__',\n",
       " '__le__',\n",
       " '__lt__',\n",
       " '__ne__',\n",
       " '__new__',\n",
       " '__pyx_vtable__',\n",
       " '__reduce__',\n",
       " '__reduce_ex__',\n",
       " '__repr__',\n",
       " '__setattr__',\n",
       " '__setstate__',\n",
       " '__sizeof__',\n",
       " '__str__',\n",
       " '__subclasshook__',\n",
       " '_get_fragments',\n",
       " '_scan_options',\n",
       " '_scanner_options',\n",
       " 'count_rows',\n",
       " 'files',\n",
       " 'filesystem',\n",
       " 'filter',\n",
       " 'format',\n",
       " 'from_paths',\n",
       " 'get_fragments',\n",
       " 'head',\n",
       " 'join',\n",
       " 'partition_expression',\n",
       " 'partitioning',\n",
       " 'replace_schema',\n",
       " 'scanner',\n",
       " 'schema',\n",
       " 'sort_by',\n",
       " 'take',\n",
       " 'to_batches',\n",
       " 'to_table']"
      ]
     },
     "execution_count": 158,
     "metadata": {},
     "output_type": "execute_result"
    }
   ],
   "source": [
    "dir(dataset)"
   ]
  },
  {
   "cell_type": "code",
   "execution_count": 24,
   "id": "70861955",
   "metadata": {},
   "outputs": [
    {
     "data": {
      "text/plain": [
       "125"
      ]
     },
     "execution_count": 24,
     "metadata": {},
     "output_type": "execute_result"
    }
   ],
   "source": [
    "len(dataset.files)"
   ]
  },
  {
   "cell_type": "code",
   "execution_count": null,
   "id": "f3df7215",
   "metadata": {},
   "outputs": [],
   "source": [
    "What is the dataset made of?"
   ]
  },
  {
   "cell_type": "code",
   "execution_count": 34,
   "id": "7d2066a4",
   "metadata": {},
   "outputs": [
    {
     "data": {
      "text/plain": [
       "125"
      ]
     },
     "execution_count": 34,
     "metadata": {},
     "output_type": "execute_result"
    }
   ],
   "source": [
    "len(list(dataset.get_fragments()))\n"
   ]
  },
  {
   "cell_type": "code",
   "execution_count": 129,
   "id": "62d81453",
   "metadata": {},
   "outputs": [
    {
     "data": {
      "text/plain": [
       "<pyarrow.compute.Expression ((year == 2009) and (month == 1))>"
      ]
     },
     "execution_count": 129,
     "metadata": {},
     "output_type": "execute_result"
    }
   ],
   "source": [
    "frag = next(dataset.get_fragments())\n"
   ]
  },
  {
   "cell_type": "code",
   "execution_count": 131,
   "id": "ee3defea",
   "metadata": {},
   "outputs": [
    {
     "data": {
      "text/plain": [
       "<pyarrow.compute.Expression ((year == 2009) and (month == 1))>"
      ]
     },
     "execution_count": 131,
     "metadata": {},
     "output_type": "execute_result"
    }
   ],
   "source": [
    "frag.partition_expression"
   ]
  },
  {
   "cell_type": "code",
   "execution_count": 135,
   "id": "3fb879b2",
   "metadata": {},
   "outputs": [
    {
     "data": {
      "text/plain": [
       "<pyarrow.compute.Expression is_valid(((year == 2009) and (month == 1)))>"
      ]
     },
     "execution_count": 135,
     "metadata": {},
     "output_type": "execute_result"
    }
   ],
   "source": []
  },
  {
   "cell_type": "code",
   "execution_count": 132,
   "id": "31881e69",
   "metadata": {},
   "outputs": [
    {
     "ename": "TypeError",
     "evalue": "'pyarrow._compute.Expression' object is not subscriptable",
     "output_type": "error",
     "traceback": [
      "\u001b[0;31m---------------------------------------------------------------------------\u001b[0m",
      "\u001b[0;31mTypeError\u001b[0m                                 Traceback (most recent call last)",
      "Cell \u001b[0;32mIn [132], line 1\u001b[0m\n\u001b[0;32m----> 1\u001b[0m \u001b[43mfrag\u001b[49m\u001b[38;5;241;43m.\u001b[39;49m\u001b[43mpartition_expression\u001b[49m\u001b[43m[\u001b[49m\u001b[38;5;124;43m'\u001b[39;49m\u001b[38;5;124;43myear\u001b[39;49m\u001b[38;5;124;43m'\u001b[39;49m\u001b[43m]\u001b[49m\n",
      "\u001b[0;31mTypeError\u001b[0m: 'pyarrow._compute.Expression' object is not subscriptable"
     ]
    }
   ],
   "source": [
    "frag.partition_expression['year']"
   ]
  },
  {
   "cell_type": "code",
   "execution_count": 37,
   "id": "cac37512",
   "metadata": {},
   "outputs": [],
   "source": [
    "frag_table = frag.to_table()"
   ]
  },
  {
   "cell_type": "code",
   "execution_count": 40,
   "id": "3143ba05",
   "metadata": {},
   "outputs": [
    {
     "data": {
      "text/plain": [
       "['vendor_id',\n",
       " 'pickup_at',\n",
       " 'dropoff_at',\n",
       " 'passenger_count',\n",
       " 'trip_distance',\n",
       " 'pickup_longitude',\n",
       " 'pickup_latitude',\n",
       " 'rate_code_id',\n",
       " 'store_and_fwd_flag',\n",
       " 'dropoff_longitude',\n",
       " 'dropoff_latitude',\n",
       " 'payment_type',\n",
       " 'fare_amount',\n",
       " 'extra',\n",
       " 'mta_tax',\n",
       " 'tip_amount',\n",
       " 'tolls_amount',\n",
       " 'total_amount']"
      ]
     },
     "execution_count": 40,
     "metadata": {},
     "output_type": "execute_result"
    }
   ],
   "source": [
    "frag_table.column_names"
   ]
  },
  {
   "cell_type": "code",
   "execution_count": 41,
   "id": "d522ad48",
   "metadata": {},
   "outputs": [
    {
     "data": {
      "text/plain": [
       "14092413"
      ]
     },
     "execution_count": 41,
     "metadata": {},
     "output_type": "execute_result"
    }
   ],
   "source": [
    "frag_table.num_rows"
   ]
  },
  {
   "cell_type": "code",
   "execution_count": 126,
   "id": "5012490f",
   "metadata": {},
   "outputs": [
    {
     "ename": "AttributeError",
     "evalue": "'pyarrow.lib.Table' object has no attribute 'partition_expression'",
     "output_type": "error",
     "traceback": [
      "\u001b[0;31m---------------------------------------------------------------------------\u001b[0m",
      "\u001b[0;31mAttributeError\u001b[0m                            Traceback (most recent call last)",
      "Cell \u001b[0;32mIn [126], line 1\u001b[0m\n\u001b[0;32m----> 1\u001b[0m \u001b[43mfrag_table\u001b[49m\u001b[38;5;241;43m.\u001b[39;49m\u001b[43mpartition_expression\u001b[49m\n",
      "\u001b[0;31mAttributeError\u001b[0m: 'pyarrow.lib.Table' object has no attribute 'partition_expression'"
     ]
    }
   ],
   "source": [
    "frag_table.partition_expression"
   ]
  },
  {
   "cell_type": "code",
   "execution_count": 42,
   "id": "6e07f796",
   "metadata": {},
   "outputs": [
    {
     "data": {
      "text/plain": [
       "pyarrow.Table\n",
       "vendor_id: string\n",
       "pickup_at: timestamp[us]\n",
       "dropoff_at: timestamp[us]\n",
       "passenger_count: int8\n",
       "trip_distance: float\n",
       "pickup_longitude: float\n",
       "pickup_latitude: float\n",
       "rate_code_id: null\n",
       "store_and_fwd_flag: string\n",
       "dropoff_longitude: float\n",
       "dropoff_latitude: float\n",
       "payment_type: string\n",
       "fare_amount: float\n",
       "extra: float\n",
       "mta_tax: float\n",
       "tip_amount: float\n",
       "tolls_amount: float\n",
       "total_amount: float\n",
       "----\n",
       "vendor_id: [[\"VTS\",\"VTS\",\"VTS\",\"DDS\",\"DDS\",...,\"DDS\",\"CMT\",\"CMT\",\"CMT\",\"CMT\"],[\"CMT\",\"DDS\",\"DDS\",\"CMT\",\"DDS\",...,\"CMT\",\"CMT\",\"CMT\",\"CMT\",\"CMT\"],...,[\"CMT\",\"CMT\",\"DDS\",\"CMT\",\"CMT\",...,\"VTS\",\"CMT\",\"VTS\",\"VTS\",\"VTS\"],[\"VTS\",\"VTS\",\"VTS\",\"VTS\",\"VTS\",...,\"VTS\",\"VTS\",\"CMT\",\"VTS\",\"CMT\"]]\n",
       "pickup_at: [[2009-01-04 02:52:00.000000,2009-01-04 03:31:00.000000,2009-01-03 15:43:00.000000,2009-01-01 20:52:58.000000,2009-01-24 16:18:23.000000,...,2009-01-01 22:42:49.000000,2009-01-04 18:27:32.000000,2009-01-04 11:48:33.000000,2009-01-04 23:21:04.000000,2009-01-04 16:11:27.000000],[2009-01-04 21:54:44.000000,2009-01-02 15:41:33.000000,2009-01-02 13:20:36.000000,2009-01-04 14:00:03.000000,2009-01-28 13:53:51.000000,...,2009-01-25 10:50:39.000000,2009-01-25 11:49:11.000000,2009-01-21 12:47:20.000000,2009-01-25 13:20:23.000000,2009-01-30 12:53:03.000000],...,[2009-01-21 08:17:06.000000,2009-01-20 20:09:15.000000,2009-01-09 19:14:11.000000,2009-01-20 21:02:47.000000,2009-01-21 08:37:05.000000,...,2009-01-25 00:04:00.000000,2009-01-01 01:30:02.000000,2009-01-25 14:40:00.000000,2009-01-22 20:46:00.000000,2009-01-25 13:07:00.000000],[2009-01-25 06:39:00.000000,2009-01-25 15:00:00.000000,2009-01-25 10:11:00.000000,2009-01-25 04:19:00.000000,2009-01-23 19:59:00.000000,...,2009-01-27 14:36:00.000000,2009-01-27 13:56:00.000000,2009-01-23 08:39:44.000000,2009-01-24 23:05:00.000000,2009-01-23 14:39:02.000000]]\n",
       "dropoff_at: [[2009-01-04 03:02:00.000000,2009-01-04 03:38:00.000000,2009-01-03 15:57:00.000000,2009-01-01 21:14:00.000000,2009-01-24 16:24:56.000000,...,2009-01-01 23:01:49.000000,2009-01-04 18:31:39.000000,2009-01-04 11:54:40.000000,2009-01-04 23:24:16.000000,2009-01-04 16:24:19.000000],[2009-01-04 21:58:25.000000,2009-01-02 15:45:22.000000,2009-01-02 13:32:59.000000,2009-01-04 14:03:02.000000,2009-01-28 14:02:28.000000,...,2009-01-25 10:52:42.000000,2009-01-25 12:07:32.000000,2009-01-21 13:01:08.000000,2009-01-25 13:24:09.000000,2009-01-30 12:59:29.000000],...,[2009-01-21 09:16:34.000000,2009-01-20 20:12:52.000000,2009-01-09 19:27:18.000000,2009-01-20 21:18:31.000000,2009-01-21 08:40:51.000000,...,2009-01-25 00:23:00.000000,2009-01-01 01:49:06.000000,2009-01-25 14:48:00.000000,2009-01-22 20:53:00.000000,2009-01-25 13:20:00.000000],[2009-01-25 06:44:00.000000,2009-01-25 15:04:00.000000,2009-01-25 10:16:00.000000,2009-01-25 04:33:00.000000,2009-01-23 20:14:00.000000,...,2009-01-27 14:46:00.000000,2009-01-27 14:02:00.000000,2009-01-23 09:02:15.000000,2009-01-24 23:15:00.000000,2009-01-23 15:35:15.000000]]\n",
       "passenger_count: [[1,3,5,1,1,...,1,1,1,1,2],[2,2,2,1,2,...,2,2,1,1,1],...,[1,1,1,1,1,...,5,2,5,1,5],[5,1,1,5,1,...,5,1,1,3,1]]\n",
       "trip_distance: [[2.63,4.55,10.35,5,0.4,...,3.7,0.9,0.5,1.1,1.3],[1.1,0.6,0.9,1.2,1,...,1,6.8,1.3,0.7,1],...,[20.7,0.2,2.1,2.3,0.5,...,5.2,4.3,0.86,1.62,1.53],[1.43,0.58,1.36,3.02,2.91,...,0.89,1.94,3.8,3.85,17.3]]\n",
       "pickup_longitude: [[-73.99196,-73.9821,-74.00259,-73.974266,-74.00158,...,-73.992744,-73.99128,-73.98005,-73.97288,-73.9776],[-73.9908,-73.975716,-73.97441,-73.97065,-73.990135,...,-73.97786,-73.95457,0,-73.97422,-73.966644],...,[-73.78204,-73.98393,-73.979645,-73.99633,-73.98092,...,-73.97414,-73.982925,-73.953926,-73.999596,-73.99288],[-73.970604,-73.99453,-73.9917,-74.00047,-73.99772,...,-73.98201,-73.972786,-73.97747,-73.98129,0]]\n",
       "pickup_latitude: [[40.721565,40.73629,40.739746,40.790955,40.719383,...,40.713802,40.723892,40.754658,40.79333,40.752],[40.751076,40.748226,40.76322,40.752747,40.740852,...,40.74217,40.78086,0,40.783566,40.804012],...,[40.644768,40.749287,40.7554,40.737335,40.76395,...,40.78377,40.73503,40.76648,40.733482,40.72419],[40.76505,40.75172,40.739643,40.728706,40.72436,...,40.74333,40.76199,40.75186,40.753,0]]\n",
       "rate_code_id: [65536 nulls,65536 nulls,...,65536 nulls,2173 nulls]\n",
       "store_and_fwd_flag: [[null,null,null,null,null,...,null,null,null,null,null],[null,null,null,null,null,...,null,null,null,null,null],...,[null,null,null,null,null,...,null,null,null,null,null],[null,null,null,null,null,...,null,null,null,null,null]]\n",
       "dropoff_longitude: [[-73.993805,-73.95585,-73.86998,-73.99656,-74.00838,...,-73.98663,-73.98523,-73.98596,-73.981995,-73.99347],[-74.00014,-73.97249,-73.98696,-73.98271,-73.99506,...,-73.98757,-73.93975,0,-73.982,-73.95343],...,[-73.96209,-73.98791,-74.005585,-73.97921,-73.98632,...,-73.917816,-73.96772,-73.96618,-74.00464,-74.00712],[-73.980606,-74.00163,-73.97803,-73.97005,-73.98376,...,-73.99433,-73.95148,-74.00991,-73.949455,0]]\n",
       "..."
      ]
     },
     "execution_count": 42,
     "metadata": {},
     "output_type": "execute_result"
    }
   ],
   "source": [
    "frag_table"
   ]
  },
  {
   "cell_type": "code",
   "execution_count": 47,
   "id": "5bed64bb",
   "metadata": {},
   "outputs": [
    {
     "data": {
      "text/plain": [
       "216"
      ]
     },
     "execution_count": 47,
     "metadata": {},
     "output_type": "execute_result"
    }
   ],
   "source": [
    "frag_table['vendor_id'].num_chunks"
   ]
  },
  {
   "cell_type": "code",
   "execution_count": 48,
   "id": "02116955",
   "metadata": {},
   "outputs": [
    {
     "data": {
      "text/plain": [
       "[216,\n",
       " 216,\n",
       " 216,\n",
       " 216,\n",
       " 216,\n",
       " 216,\n",
       " 216,\n",
       " 216,\n",
       " 216,\n",
       " 216,\n",
       " 216,\n",
       " 216,\n",
       " 216,\n",
       " 216,\n",
       " 216,\n",
       " 216,\n",
       " 216,\n",
       " 216]"
      ]
     },
     "execution_count": 48,
     "metadata": {},
     "output_type": "execute_result"
    }
   ],
   "source": [
    "[frag_table[col_name].num_chunks for col_name in frag_table.column_names]"
   ]
  },
  {
   "cell_type": "code",
   "execution_count": 57,
   "id": "70a371bc",
   "metadata": {},
   "outputs": [
    {
     "data": {
      "text/plain": [
       "pyarrow.lib.Table"
      ]
     },
     "execution_count": 57,
     "metadata": {},
     "output_type": "execute_result"
    }
   ],
   "source": [
    "type(frag_table)"
   ]
  },
  {
   "cell_type": "code",
   "execution_count": 73,
   "id": "b819106b",
   "metadata": {},
   "outputs": [
    {
     "data": {
      "text/plain": [
       "pyarrow.Table\n",
       "vendor_id: string\n",
       "pickup_at: timestamp[us]\n",
       "dropoff_at: timestamp[us]\n",
       "passenger_count: int8\n",
       "trip_distance: float\n",
       "pickup_longitude: float\n",
       "pickup_latitude: float\n",
       "rate_code_id: null\n",
       "store_and_fwd_flag: string\n",
       "dropoff_longitude: float\n",
       "dropoff_latitude: float\n",
       "payment_type: string\n",
       "fare_amount: float\n",
       "extra: float\n",
       "mta_tax: float\n",
       "tip_amount: float\n",
       "tolls_amount: float\n",
       "total_amount: float\n",
       "----\n",
       "vendor_id: [[\"VTS\",\"VTS\",\"VTS\",\"DDS\",\"DDS\"]]\n",
       "pickup_at: [[2009-01-04 02:52:00.000000,2009-01-04 03:31:00.000000,2009-01-03 15:43:00.000000,2009-01-01 20:52:58.000000,2009-01-24 16:18:23.000000]]\n",
       "dropoff_at: [[2009-01-04 03:02:00.000000,2009-01-04 03:38:00.000000,2009-01-03 15:57:00.000000,2009-01-01 21:14:00.000000,2009-01-24 16:24:56.000000]]\n",
       "passenger_count: [[1,3,5,1,1]]\n",
       "trip_distance: [[2.63,4.55,10.35,5,0.4]]\n",
       "pickup_longitude: [[-73.99196,-73.9821,-74.00259,-73.974266,-74.00158]]\n",
       "pickup_latitude: [[40.721565,40.73629,40.739746,40.790955,40.719383]]\n",
       "rate_code_id: [5 nulls]\n",
       "store_and_fwd_flag: [[null,null,null,null,null]]\n",
       "dropoff_longitude: [[-73.993805,-73.95585,-73.86998,-73.99656,-74.00838]]\n",
       "..."
      ]
     },
     "execution_count": 73,
     "metadata": {},
     "output_type": "execute_result"
    }
   ],
   "source": [
    "frag_table.slice(0, 5)"
   ]
  },
  {
   "cell_type": "markdown",
   "id": "e672251d",
   "metadata": {},
   "source": [
    "The `rate_code_id` is a field in the New York City Taxi and Limousine Commission (NYC-TLC) dataset that indicates the rate code for the trip. The rate code helps to categorize the fare rate applied to the trip. Common values typically include:\n",
    "\n",
    "2: JFK (fixed fare to/from JFK Airport)"
   ]
  },
  {
   "cell_type": "code",
   "execution_count": 90,
   "id": "1dce02e3",
   "metadata": {},
   "outputs": [
    {
     "data": {
      "text/plain": [
       "pyarrow.RecordBatch\n",
       "vendor_id: string\n",
       "pickup_at: timestamp[us]\n",
       "dropoff_at: timestamp[us]\n",
       "passenger_count: int8\n",
       "trip_distance: float\n",
       "pickup_longitude: float\n",
       "pickup_latitude: float\n",
       "rate_code_id: null\n",
       "store_and_fwd_flag: string\n",
       "dropoff_longitude: float\n",
       "dropoff_latitude: float\n",
       "payment_type: string\n",
       "fare_amount: float\n",
       "extra: float\n",
       "mta_tax: float\n",
       "tip_amount: float\n",
       "tolls_amount: float\n",
       "total_amount: float"
      ]
     },
     "execution_count": 90,
     "metadata": {},
     "output_type": "execute_result"
    }
   ],
   "source": [
    "record_batch_3 = frag_table.to_batches()[3]\n",
    "record_batch_3"
   ]
  },
  {
   "cell_type": "code",
   "execution_count": 89,
   "id": "3a381bb5",
   "metadata": {},
   "outputs": [
    {
     "data": {
      "text/plain": [
       "<pyarrow.lib.StringArray object at 0x13020ab80>\n",
       "[\n",
       "  \"CASH\",\n",
       "  \"CASH\",\n",
       "  \"Cash\",\n",
       "  \"Cash\",\n",
       "  \"Credit\",\n",
       "  \"Credit\",\n",
       "  \"Credit\",\n",
       "  \"CASH\",\n",
       "  \"CASH\",\n",
       "  \"Cash\",\n",
       "  ...\n",
       "  \"CASH\",\n",
       "  \"CASH\",\n",
       "  \"Cash\",\n",
       "  \"Credit\",\n",
       "  \"CASH\",\n",
       "  \"CASH\",\n",
       "  \"Credit\",\n",
       "  \"CASH\",\n",
       "  \"CASH\",\n",
       "  \"CASH\"\n",
       "]"
      ]
     },
     "execution_count": 89,
     "metadata": {},
     "output_type": "execute_result"
    }
   ],
   "source": [
    "record_batch_3['payment_type']"
   ]
  },
  {
   "cell_type": "code",
   "execution_count": 86,
   "id": "c4e10948",
   "metadata": {},
   "outputs": [
    {
     "data": {
      "text/plain": [
       "<pyarrow.lib.FloatArray object at 0x1302c5880>\n",
       "[\n",
       "  4.9,\n",
       "  10.5,\n",
       "  4.2,\n",
       "  8.2,\n",
       "  3.8,\n",
       "  17.8,\n",
       "  9.8,\n",
       "  6.9,\n",
       "  3.7,\n",
       "  10.5,\n",
       "  ...\n",
       "  45,\n",
       "  6.9,\n",
       "  6.2,\n",
       "  25.3,\n",
       "  5.7,\n",
       "  25.3,\n",
       "  5.3,\n",
       "  24.1,\n",
       "  6.9,\n",
       "  22.1\n",
       "]"
      ]
     },
     "execution_count": 86,
     "metadata": {},
     "output_type": "execute_result"
    }
   ],
   "source": [
    "record_batch_3['fare_amount']"
   ]
  },
  {
   "cell_type": "code",
   "execution_count": 96,
   "id": "6e643c01",
   "metadata": {},
   "outputs": [
    {
     "data": {
      "text/plain": [
       "<pyarrow.lib.FloatArray object at 0x1302fb520>\n",
       "[\n",
       "  0,\n",
       "  0,\n",
       "  0,\n",
       "  0,\n",
       "  0.76,\n",
       "  2.67,\n",
       "  2,\n",
       "  0,\n",
       "  0,\n",
       "  0,\n",
       "  ...\n",
       "  0,\n",
       "  0,\n",
       "  0,\n",
       "  5.06,\n",
       "  0,\n",
       "  0,\n",
       "  1,\n",
       "  0,\n",
       "  0,\n",
       "  0\n",
       "]"
      ]
     },
     "execution_count": 96,
     "metadata": {},
     "output_type": "execute_result"
    }
   ],
   "source": [
    "record_batch_3['tip_amount']"
   ]
  },
  {
   "cell_type": "code",
   "execution_count": null,
   "id": "2b387d8c",
   "metadata": {},
   "outputs": [],
   "source": [
    "### Computation in PyArrow\n",
    "* PyArrow separates the representation of data from the operations performed on that data. \n",
    "\n",
    "  * The data structures like Arrow Arrays, Record Batches, and Tables are primarily concerned with the efficient storage and serialization of data. \n",
    "  * They provide the backbone for data storage but don't offer a rich set of operations on that data themselves.\n",
    "* its main strength lies in the standardized memory layout, cross-language interoperability, and I/O operations.\n",
    "\n",
    "* On the other hand, the pyarrow.compute module is specifically designed to perform various computations on Arrow * data structures. \n",
    "\n",
    "* It includes a wide variety of functions for tasks like filtering, transforming, and aggregating data.\n",
    "  * Provides a set of fundamental operations but isn't as extensive or sophisticated as, say, the functionality you'd find in dedicated analytical tools or libraries like Pandas. The compute module offers basic operations like sorting, filtering, and scalar transformations. However, for complex data manipulations or analytics, one might still rely on libraries like Pandas, Spark or other tools.\n",
    "\n",
    "\n",
    "    \n",
    "    "
   ]
  },
  {
   "cell_type": "code",
   "execution_count": 92,
   "id": "406f9cf0",
   "metadata": {},
   "outputs": [],
   "source": [
    "import pyarrow.compute as pc"
   ]
  },
  {
   "cell_type": "code",
   "execution_count": 97,
   "id": "a9544341",
   "metadata": {},
   "outputs": [
    {
     "data": {
      "text/plain": [
       "<pyarrow.lib.FloatArray object at 0x1302fb0a0>\n",
       "[\n",
       "  4.9,\n",
       "  10.5,\n",
       "  4.2,\n",
       "  8.2,\n",
       "  4.56,\n",
       "  20.47,\n",
       "  11.8,\n",
       "  6.9,\n",
       "  3.7,\n",
       "  10.5,\n",
       "  ...\n",
       "  45,\n",
       "  6.9,\n",
       "  6.2,\n",
       "  30.359999,\n",
       "  5.7,\n",
       "  25.3,\n",
       "  6.3,\n",
       "  24.1,\n",
       "  6.9,\n",
       "  22.1\n",
       "]"
      ]
     },
     "execution_count": 97,
     "metadata": {},
     "output_type": "execute_result"
    }
   ],
   "source": [
    "pc.add(record_batch_3['tip_amount'], record_batch_3['fare_amount'])"
   ]
  },
  {
   "cell_type": "code",
   "execution_count": 100,
   "id": "1eb7645a",
   "metadata": {},
   "outputs": [
    {
     "data": {
      "text/plain": [
       "<pyarrow.FloatScalar: 164.0>"
      ]
     },
     "execution_count": 100,
     "metadata": {},
     "output_type": "execute_result"
    }
   ],
   "source": [
    "pc.max(pc.add(record_batch_3['tip_amount'], record_batch_3['fare_amount']))"
   ]
  },
  {
   "cell_type": "code",
   "execution_count": 102,
   "id": "9f40cafe",
   "metadata": {},
   "outputs": [
    {
     "data": {
      "text/plain": [
       "<pyarrow.DoubleScalar: 10.015554052642983>"
      ]
     },
     "execution_count": 102,
     "metadata": {},
     "output_type": "execute_result"
    }
   ],
   "source": [
    "pc.mean(pc.add(record_batch_3['tip_amount'], record_batch_3['fare_amount']))"
   ]
  },
  {
   "cell_type": "code",
   "execution_count": 106,
   "id": "8e55dec9",
   "metadata": {},
   "outputs": [
    {
     "data": {
      "text/plain": [
       "<pyarrow.lib.StringArray object at 0x1306559a0>\n",
       "[\n",
       "  \"CASH\",\n",
       "  \"CASH\",\n",
       "  \"Cash\",\n",
       "  \"Cash\",\n",
       "  \"Credit\",\n",
       "  \"Credit\",\n",
       "  \"Credit\",\n",
       "  \"CASH\",\n",
       "  \"CASH\",\n",
       "  \"Cash\",\n",
       "  ...\n",
       "  \"CASH\",\n",
       "  \"CASH\",\n",
       "  \"Cash\",\n",
       "  \"Credit\",\n",
       "  \"CASH\",\n",
       "  \"CASH\",\n",
       "  \"Credit\",\n",
       "  \"CASH\",\n",
       "  \"CASH\",\n",
       "  \"CASH\"\n",
       "]"
      ]
     },
     "execution_count": 106,
     "metadata": {},
     "output_type": "execute_result"
    }
   ],
   "source": [
    "record_batch_3[\"payment_type\"]"
   ]
  },
  {
   "cell_type": "code",
   "execution_count": 108,
   "id": "3fbda1a4",
   "metadata": {},
   "outputs": [
    {
     "data": {
      "text/plain": [
       "<pyarrow.lib.StringArray object at 0x130499b20>\n",
       "[\n",
       "  \"CASH\",\n",
       "  \"CASH\",\n",
       "  \"CASH\",\n",
       "  \"CASH\",\n",
       "  \"CREDIT\",\n",
       "  \"CREDIT\",\n",
       "  \"CREDIT\",\n",
       "  \"CASH\",\n",
       "  \"CASH\",\n",
       "  \"CASH\",\n",
       "  ...\n",
       "  \"CASH\",\n",
       "  \"CASH\",\n",
       "  \"CASH\",\n",
       "  \"CREDIT\",\n",
       "  \"CASH\",\n",
       "  \"CASH\",\n",
       "  \"CREDIT\",\n",
       "  \"CASH\",\n",
       "  \"CASH\",\n",
       "  \"CASH\"\n",
       "]"
      ]
     },
     "execution_count": 108,
     "metadata": {},
     "output_type": "execute_result"
    }
   ],
   "source": [
    "pc.utf8_upper(record_batch_3[\"payment_type\"])"
   ]
  },
  {
   "cell_type": "code",
   "execution_count": 112,
   "id": "1e14a587",
   "metadata": {},
   "outputs": [
    {
     "data": {
      "text/plain": [
       "<pyarrow.lib.StringArray object at 0x130495e80>\n",
       "[\n",
       "  \"CASH\",\n",
       "  \"CASH\",\n",
       "  \"CASH\",\n",
       "  \"CASH\",\n",
       "  \"CREDIT\",\n",
       "  \"CREDIT\",\n",
       "  \"CREDIT\",\n",
       "  \"CASH\",\n",
       "  \"CASH\",\n",
       "  \"CASH\",\n",
       "  ...\n",
       "  \"CASH\",\n",
       "  \"CASH\",\n",
       "  \"CASH\",\n",
       "  \"CREDIT\",\n",
       "  \"CASH\",\n",
       "  \"CASH\",\n",
       "  \"CREDIT\",\n",
       "  \"CASH\",\n",
       "  \"CASH\",\n",
       "  \"CASH\"\n",
       "]"
      ]
     },
     "execution_count": 112,
     "metadata": {},
     "output_type": "execute_result"
    }
   ],
   "source": [
    "upper_cased_payment_type = pc.utf8_upper(record_batch_3[\"payment_type\"])\n",
    "upper_cased_payment_type"
   ]
  },
  {
   "cell_type": "code",
   "execution_count": 109,
   "id": "f2c885a1",
   "metadata": {},
   "outputs": [
    {
     "data": {
      "text/plain": [
       "<pyarrow.StringScalar: 'CASH'>"
      ]
     },
     "execution_count": 109,
     "metadata": {},
     "output_type": "execute_result"
    }
   ],
   "source": [
    "pc.utf8_upper(record_batch_3[\"payment_type\"])[0]"
   ]
  },
  {
   "cell_type": "code",
   "execution_count": 114,
   "id": "d9922757",
   "metadata": {},
   "outputs": [
    {
     "data": {
      "text/plain": [
       "<pyarrow.lib.BooleanArray object at 0x130499b80>\n",
       "[\n",
       "  true,\n",
       "  true,\n",
       "  true,\n",
       "  true,\n",
       "  false,\n",
       "  false,\n",
       "  false,\n",
       "  true,\n",
       "  true,\n",
       "  true,\n",
       "  ...\n",
       "  true,\n",
       "  true,\n",
       "  true,\n",
       "  false,\n",
       "  true,\n",
       "  true,\n",
       "  false,\n",
       "  true,\n",
       "  true,\n",
       "  true\n",
       "]"
      ]
     },
     "execution_count": 114,
     "metadata": {},
     "output_type": "execute_result"
    }
   ],
   "source": [
    "is_cash = pc.equal(upper_cased_payment_type, pa.scalar('CASH'))\n",
    "is_cash"
   ]
  },
  {
   "cell_type": "code",
   "execution_count": 121,
   "id": "f6be3749",
   "metadata": {},
   "outputs": [
    {
     "data": {
      "text/plain": [
       "<pyarrow.lib.StringArray object at 0x130495f40>\n",
       "[\n",
       "  \"CASH\",\n",
       "  \"CASH\",\n",
       "  \"CASH\",\n",
       "  \"CASH\",\n",
       "  \"CASH\",\n",
       "  \"CASH\",\n",
       "  \"CASH\",\n",
       "  \"CASH\",\n",
       "  \"CASH\",\n",
       "  \"CASH\",\n",
       "  ...\n",
       "  \"CASH\",\n",
       "  \"CASH\",\n",
       "  \"CASH\",\n",
       "  \"CASH\",\n",
       "  \"CASH\",\n",
       "  \"CASH\",\n",
       "  \"CASH\",\n",
       "  \"CASH\",\n",
       "  \"CASH\",\n",
       "  \"CASH\"\n",
       "]"
      ]
     },
     "execution_count": 121,
     "metadata": {},
     "output_type": "execute_result"
    }
   ],
   "source": [
    "pc.filter(upper_cased_payment_type, is_cash)"
   ]
  },
  {
   "cell_type": "code",
   "execution_count": 122,
   "id": "63b5fc43",
   "metadata": {},
   "outputs": [
    {
     "data": {
      "text/plain": [
       "51341"
      ]
     },
     "execution_count": 122,
     "metadata": {},
     "output_type": "execute_result"
    }
   ],
   "source": [
    "len(pc.filter(upper_cased_payment_type, is_cash))"
   ]
  },
  {
   "cell_type": "code",
   "execution_count": 120,
   "id": "0cc3159d",
   "metadata": {},
   "outputs": [
    {
     "data": {
      "text/plain": [
       "51341"
      ]
     },
     "execution_count": 120,
     "metadata": {},
     "output_type": "execute_result"
    }
   ],
   "source": [
    "filerd_record_batch_3 = pc.filter(record_batch_3, is_cash)\n",
    "filerd_record_batch_3.num_rows"
   ]
  },
  {
   "cell_type": "code",
   "execution_count": null,
   "id": "f8f59aff",
   "metadata": {},
   "outputs": [],
   "source": []
  },
  {
   "cell_type": "code",
   "execution_count": 160,
   "id": "71a24b8f",
   "metadata": {},
   "outputs": [
    {
     "data": {
      "text/plain": [
       "<pyarrow.parquet.core._ParquetDatasetV2 at 0x130d09190>"
      ]
     },
     "execution_count": 160,
     "metadata": {},
     "output_type": "execute_result"
    }
   ],
   "source": [
    "import pyarrow as pa\n",
    "import pyarrow.parquet as pq\n",
    "\n",
    "\n",
    "dataset = pq.ParquetDataset('s3://ursa-labs-taxi-data/2009/', partitioning=[\"month\"])\n",
    "dataset"
   ]
  },
  {
   "cell_type": "code",
   "execution_count": 167,
   "id": "b13a46d0",
   "metadata": {},
   "outputs": [
    {
     "data": {
      "text/plain": [
       "<pyarrow.dataset.ParquetFileFragment path=ursa-labs-taxi-data/2009/01/data.parquet partition=[month=1]>"
      ]
     },
     "execution_count": 167,
     "metadata": {},
     "output_type": "execute_result"
    }
   ],
   "source": [
    "dataset.fragments[0]\n"
   ]
  },
  {
   "cell_type": "code",
   "execution_count": 175,
   "id": "26d4960d",
   "metadata": {},
   "outputs": [
    {
     "data": {
      "text/plain": [
       "<pyarrow._parquet.FileMetaData object at 0x130bc9e50>\n",
       "  created_by: parquet-cpp version 1.5.1-SNAPSHOT\n",
       "  num_columns: 18\n",
       "  num_rows: 14092413\n",
       "  num_row_groups: 216\n",
       "  format_version: 1.0\n",
       "  serialized_size: 324078"
      ]
     },
     "execution_count": 175,
     "metadata": {},
     "output_type": "execute_result"
    }
   ],
   "source": [
    "dataset.fragments[0].metadata"
   ]
  },
  {
   "cell_type": "code",
   "execution_count": 168,
   "id": "9fd67720",
   "metadata": {},
   "outputs": [
    {
     "data": {
      "text/plain": [
       "216"
      ]
     },
     "execution_count": 168,
     "metadata": {},
     "output_type": "execute_result"
    }
   ],
   "source": [
    "dataset.fragments[0].num_row_groups"
   ]
  },
  {
   "cell_type": "code",
   "execution_count": null,
   "id": "30168418",
   "metadata": {},
   "outputs": [],
   "source": [
    "it turns out that arrow, as we saw earlier, have also figure out that these was 216 row groups, matching waht we foung above. So there is a perfect matching integrtion PyArrow"
   ]
  },
  {
   "cell_type": "code",
   "execution_count": 156,
   "id": "f081245d",
   "metadata": {},
   "outputs": [
    {
     "data": {
      "text/plain": [
       "<pyarrow._parquet.RowGroupMetaData object at 0x13016def0>\n",
       "  num_columns: 18\n",
       "  num_rows: 65536\n",
       "  total_byte_size: 1972220"
      ]
     },
     "execution_count": 156,
     "metadata": {},
     "output_type": "execute_result"
    }
   ],
   "source": [
    "row_group = dataset.fragments[0].row_groups[0]\n",
    "row_group.metadata"
   ]
  },
  {
   "cell_type": "code",
   "execution_count": 170,
   "id": "ee06d73c",
   "metadata": {},
   "outputs": [
    {
     "data": {
      "text/plain": [
       "{'vendor_id': {'min': 'CMT', 'max': 'VTS'},\n",
       " 'pickup_at': {'min': datetime.datetime(2009, 1, 1, 0, 10, 51),\n",
       "  'max': datetime.datetime(2009, 1, 31, 23, 59)},\n",
       " 'dropoff_at': {'min': datetime.datetime(2009, 1, 1, 0, 17, 38),\n",
       "  'max': datetime.datetime(2009, 2, 1, 17, 53)},\n",
       " 'passenger_count': {'min': 0, 'max': 6},\n",
       " 'trip_distance': {'min': 0.0, 'max': 46.5},\n",
       " 'pickup_longitude': {'min': -76.11469268798828, 'max': 0.005876999814063311},\n",
       " 'pickup_latitude': {'min': -0.00596500001847744, 'max': 81.53500366210938},\n",
       " 'store_and_fwd_flag': {'min': '0', 'max': '0'},\n",
       " 'dropoff_longitude': {'min': -76.09280395507812, 'max': 0.004495000001043081},\n",
       " 'dropoff_latitude': {'min': -0.005026999861001968, 'max': 81.53500366210938},\n",
       " 'payment_type': {'min': 'CASH', 'max': 'No Charge'},\n",
       " 'fare_amount': {'min': 2.5, 'max': 159.3000030517578},\n",
       " 'extra': {'min': 0.0, 'max': 1.0},\n",
       " 'tip_amount': {'min': 0.0, 'max': 55.0},\n",
       " 'tolls_amount': {'min': 0.0, 'max': 16.0},\n",
       " 'total_amount': {'min': 2.5, 'max': 167.8000030517578}}"
      ]
     },
     "execution_count": 170,
     "metadata": {},
     "output_type": "execute_result"
    }
   ],
   "source": [
    "row_group.statistics"
   ]
  },
  {
   "cell_type": "code",
   "execution_count": 218,
   "id": "8de42dd9",
   "metadata": {},
   "outputs": [
    {
     "data": {
      "text/plain": [
       "<pyarrow.dataset.ParquetFileFragment path=ursa-labs-taxi-data/2009/01/data.parquet partition=[month=1]>"
      ]
     },
     "execution_count": 218,
     "metadata": {},
     "output_type": "execute_result"
    }
   ],
   "source": [
    " dataset.fragments[0]"
   ]
  },
  {
   "cell_type": "code",
   "execution_count": 183,
   "id": "98efa4e4",
   "metadata": {},
   "outputs": [
    {
     "name": "stdout",
     "output_type": "stream",
     "text": [
      "{'min': datetime.datetime(2009, 1, 1, 0, 10, 51), 'max': datetime.datetime(2009, 1, 31, 23, 59)}\n",
      "{'min': datetime.datetime(2009, 1, 1, 0, 3, 40), 'max': datetime.datetime(2009, 1, 31, 23, 59, 41)}\n",
      "{'min': datetime.datetime(2009, 1, 1, 0, 1, 19), 'max': datetime.datetime(2009, 1, 31, 23, 58)}\n",
      "{'min': datetime.datetime(2009, 1, 1, 0, 3, 40), 'max': datetime.datetime(2009, 1, 31, 23, 59, 49)}\n",
      "{'min': datetime.datetime(2009, 1, 1, 0, 5, 2), 'max': datetime.datetime(2009, 1, 31, 23, 59, 52)}\n"
     ]
    }
   ],
   "source": [
    "for rg in dataset.fragments[0].row_groups[0:5]:\n",
    "    print(rg.statistics['pickup_at'])"
   ]
  },
  {
   "cell_type": "code",
   "execution_count": 187,
   "id": "015171df",
   "metadata": {},
   "outputs": [
    {
     "data": {
      "text/plain": [
       "<pyarrow.lib.UInt64Array object at 0x1302e3520>\n",
       "[\n",
       "  11489987,\n",
       "  3964040,\n",
       "  543513,\n",
       "  8582999,\n",
       "  11812099,\n",
       "  3708729,\n",
       "  10177659,\n",
       "  12142978,\n",
       "  4811616,\n",
       "  5665566,\n",
       "  ...\n",
       "  10604876,\n",
       "  10079366,\n",
       "  1839956,\n",
       "  4631967,\n",
       "  8528489,\n",
       "  347071,\n",
       "  3174063,\n",
       "  6071930,\n",
       "  1328472,\n",
       "  7684378\n",
       "]"
      ]
     },
     "execution_count": 187,
     "metadata": {},
     "output_type": "execute_result"
    }
   ],
   "source": [
    "# Get the sorted indices for column 'a'\n",
    "data_table = dataset.fragments[0].to_table()\n",
    "sorted_indices = pc.sort_indices(data_table, sort_keys=[(\"pickup_at\", \"ascending\"), (\"fare_amount\", \"ascending\")])\n",
    "sorted_indices"
   ]
  },
  {
   "cell_type": "code",
   "execution_count": 207,
   "id": "ddd4a86b",
   "metadata": {},
   "outputs": [
    {
     "data": {
      "text/plain": [
       "pyarrow.Table\n",
       "vendor_id: string\n",
       "pickup_at: timestamp[us]\n",
       "dropoff_at: timestamp[us]\n",
       "passenger_count: int8\n",
       "trip_distance: float\n",
       "pickup_longitude: float\n",
       "pickup_latitude: float\n",
       "rate_code_id: null\n",
       "store_and_fwd_flag: string\n",
       "dropoff_longitude: float\n",
       "dropoff_latitude: float\n",
       "payment_type: string\n",
       "fare_amount: float\n",
       "extra: float\n",
       "mta_tax: float\n",
       "tip_amount: float\n",
       "tolls_amount: float\n",
       "total_amount: float\n",
       "----\n",
       "vendor_id: [[\"CMT\",\"CMT\",\"CMT\",\"CMT\",\"CMT\",...,\"CMT\",\"CMT\",\"CMT\",\"CMT\",\"CMT\"]]\n",
       "pickup_at: [[2009-01-01 00:00:00.000000,2009-01-01 00:00:00.000000,2009-01-01 00:00:02.000000,2009-01-01 00:00:04.000000,2009-01-01 00:00:07.000000,...,2009-01-31 23:59:59.000000,2009-01-31 23:59:59.000000,2009-01-31 23:59:59.000000,2009-01-31 23:59:59.000000,2009-01-31 23:59:59.000000]]\n",
       "dropoff_at: [[2009-01-01 00:05:03.000000,2009-01-01 00:04:12.000000,2009-01-01 00:05:40.000000,2009-01-01 00:03:08.000000,2009-01-01 00:19:01.000000,...,2009-02-01 00:07:04.000000,2009-02-01 00:06:17.000000,2009-02-01 00:11:54.000000,2009-02-01 00:18:39.000000,2009-02-01 00:26:59.000000]]\n",
       "passenger_count: [[2,1,1,1,1,...,1,3,2,1,1]]\n",
       "trip_distance: [[0.9,1.3,1,0.8,5.5,...,1.4,1.8,2,1.3,3]]\n",
       "pickup_longitude: [[-73.99748,-73.96592,-73.9648,-74.0116,-74.00065,...,-73.977516,-73.97359,-73.99234,-73.98368,-73.95755]]\n",
       "pickup_latitude: [[40.725952,40.771244,40.76739,40.70883,40.71858,...,40.753094,40.792377,40.742203,40.737823,40.76994]]\n",
       "rate_code_id: [14092413 nulls]\n",
       "store_and_fwd_flag: [[null,null,null,null,null,...,null,null,null,null,null]]\n",
       "dropoff_longitude: [[-74.005936,-73.94961,-73.97775,-74.013466,-73.94458,...,-73.98275,-73.98209,-73.984436,-73.98668,-73.98916]]\n",
       "..."
      ]
     },
     "execution_count": 207,
     "metadata": {},
     "output_type": "execute_result"
    }
   ],
   "source": [
    "sorted_table = data_table.take(sorted_indices)\n",
    "sorted_table"
   ]
  },
  {
   "cell_type": "code",
   "execution_count": 199,
   "id": "a4e5bdd5",
   "metadata": {},
   "outputs": [],
   "source": [
    "pq.write_table(sorted_table, 'optimized_parquet_file.parquet', row_group_size=65536, )"
   ]
  },
  {
   "cell_type": "code",
   "execution_count": 200,
   "id": "b8b804d2",
   "metadata": {},
   "outputs": [],
   "source": [
    "optimized_parquet_file = pq.ParquetFile('optimized_parquet_file.parquet')"
   ]
  },
  {
   "cell_type": "code",
   "execution_count": 209,
   "id": "11a65afd",
   "metadata": {},
   "outputs": [
    {
     "data": {
      "text/plain": [
       "<pyarrow._parquet.ParquetSchema object at 0x130edba40>\n",
       "required group field_id=-1 schema {\n",
       "  optional binary field_id=-1 vendor_id (String);\n",
       "  optional int64 field_id=-1 pickup_at (Timestamp(isAdjustedToUTC=false, timeUnit=microseconds, is_from_converted_type=false, force_set_converted_type=false));\n",
       "  optional int64 field_id=-1 dropoff_at (Timestamp(isAdjustedToUTC=false, timeUnit=microseconds, is_from_converted_type=false, force_set_converted_type=false));\n",
       "  optional int32 field_id=-1 passenger_count (Int(bitWidth=8, isSigned=true));\n",
       "  optional float field_id=-1 trip_distance;\n",
       "  optional float field_id=-1 pickup_longitude;\n",
       "  optional float field_id=-1 pickup_latitude;\n",
       "  optional int32 field_id=-1 rate_code_id (Null);\n",
       "  optional binary field_id=-1 store_and_fwd_flag (String);\n",
       "  optional float field_id=-1 dropoff_longitude;\n",
       "  optional float field_id=-1 dropoff_latitude;\n",
       "  optional binary field_id=-1 payment_type (String);\n",
       "  optional float field_id=-1 fare_amount;\n",
       "  optional float field_id=-1 extra;\n",
       "  optional float field_id=-1 mta_tax;\n",
       "  optional float field_id=-1 tip_amount;\n",
       "  optional float field_id=-1 tolls_amount;\n",
       "  optional float field_id=-1 total_amount;\n",
       "}"
      ]
     },
     "execution_count": 209,
     "metadata": {},
     "output_type": "execute_result"
    }
   ],
   "source": [
    "optimized_parquet_file.schema\n"
   ]
  },
  {
   "cell_type": "code",
   "execution_count": 216,
   "id": "3c0d17a0",
   "metadata": {},
   "outputs": [
    {
     "data": {
      "text/plain": [
       "<pyarrow._parquet.RowGroupMetaData object at 0x130bee0e0>\n",
       "  num_columns: 18\n",
       "  num_rows: 65536\n",
       "  total_byte_size: 1645654"
      ]
     },
     "execution_count": 216,
     "metadata": {},
     "output_type": "execute_result"
    }
   ],
   "source": [
    "rg0_metadata = optimized_parquet_file.metadata.row_group(0)\n",
    "rg0_metadata"
   ]
  },
  {
   "cell_type": "code",
   "execution_count": 233,
   "id": "d2c74fa9",
   "metadata": {},
   "outputs": [
    {
     "data": {
      "text/plain": [
       "{'num_columns': 18,\n",
       " 'num_rows': 65536,\n",
       " 'total_byte_size': 1645654,\n",
       " 'columns': [{'file_offset': 8548,\n",
       "   'file_path': '',\n",
       "   'physical_type': 'BYTE_ARRAY',\n",
       "   'num_values': 65536,\n",
       "   'path_in_schema': 'vendor_id',\n",
       "   'is_stats_set': True,\n",
       "   'statistics': {'has_min_max': True,\n",
       "    'min': 'CMT',\n",
       "    'max': 'DDS',\n",
       "    'null_count': 0,\n",
       "    'distinct_count': 0,\n",
       "    'num_values': 65536,\n",
       "    'physical_type': 'BYTE_ARRAY'},\n",
       "   'compression': 'SNAPPY',\n",
       "   'encodings': ('RLE_DICTIONARY', 'PLAIN', 'RLE'),\n",
       "   'has_dictionary_page': True,\n",
       "   'dictionary_page_offset': 4,\n",
       "   'data_page_offset': 34,\n",
       "   'total_compressed_size': 8544,\n",
       "   'total_uncompressed_size': 9856},\n",
       "  {'file_offset': 196427,\n",
       "   'file_path': '',\n",
       "   'physical_type': 'INT64',\n",
       "   'num_values': 65536,\n",
       "   'path_in_schema': 'pickup_at',\n",
       "   'is_stats_set': True,\n",
       "   'statistics': {'has_min_max': True,\n",
       "    'min': datetime.datetime(2009, 1, 1, 0, 0),\n",
       "    'max': datetime.datetime(2009, 1, 1, 4, 22, 17),\n",
       "    'null_count': 0,\n",
       "    'distinct_count': 0,\n",
       "    'num_values': 65536,\n",
       "    'physical_type': 'INT64'},\n",
       "   'compression': 'SNAPPY',\n",
       "   'encodings': ('RLE_DICTIONARY', 'PLAIN', 'RLE'),\n",
       "   'has_dictionary_page': True,\n",
       "   'dictionary_page_offset': 8622,\n",
       "   'data_page_offset': 101500,\n",
       "   'total_compressed_size': 187805,\n",
       "   'total_uncompressed_size': 234517},\n",
       "  {'file_offset': 406433,\n",
       "   'file_path': '',\n",
       "   'physical_type': 'INT64',\n",
       "   'num_values': 65536,\n",
       "   'path_in_schema': 'dropoff_at',\n",
       "   'is_stats_set': True,\n",
       "   'statistics': {'has_min_max': True,\n",
       "    'min': datetime.datetime(2009, 1, 1, 0, 1, 13),\n",
       "    'max': datetime.datetime(2009, 1, 1, 15, 40, 42),\n",
       "    'null_count': 0,\n",
       "    'distinct_count': 0,\n",
       "    'num_values': 65536,\n",
       "    'physical_type': 'INT64'},\n",
       "   'compression': 'SNAPPY',\n",
       "   'encodings': ('RLE_DICTIONARY', 'PLAIN', 'RLE'),\n",
       "   'has_dictionary_page': True,\n",
       "   'dictionary_page_offset': 196535,\n",
       "   'data_page_offset': 291529,\n",
       "   'total_compressed_size': 209898,\n",
       "   'total_uncompressed_size': 242979},\n",
       "  {'file_offset': 431291,\n",
       "   'file_path': '',\n",
       "   'physical_type': 'INT32',\n",
       "   'num_values': 65536,\n",
       "   'path_in_schema': 'passenger_count',\n",
       "   'is_stats_set': True,\n",
       "   'statistics': {'has_min_max': True,\n",
       "    'min': 0,\n",
       "    'max': 5,\n",
       "    'null_count': 0,\n",
       "    'distinct_count': 0,\n",
       "    'num_values': 65536,\n",
       "    'physical_type': 'INT32'},\n",
       "   'compression': 'SNAPPY',\n",
       "   'encodings': ('RLE_DICTIONARY', 'PLAIN', 'RLE'),\n",
       "   'has_dictionary_page': True,\n",
       "   'dictionary_page_offset': 406542,\n",
       "   'data_page_offset': 406582,\n",
       "   'total_compressed_size': 24749,\n",
       "   'total_uncompressed_size': 24741},\n",
       "  {'file_offset': 506407,\n",
       "   'file_path': '',\n",
       "   'physical_type': 'FLOAT',\n",
       "   'num_values': 65536,\n",
       "   'path_in_schema': 'trip_distance',\n",
       "   'is_stats_set': True,\n",
       "   'statistics': {'has_min_max': True,\n",
       "    'min': -0.0,\n",
       "    'max': 47.0,\n",
       "    'null_count': 0,\n",
       "    'distinct_count': 0,\n",
       "    'num_values': 65536,\n",
       "    'physical_type': 'FLOAT'},\n",
       "   'compression': 'SNAPPY',\n",
       "   'encodings': ('RLE_DICTIONARY', 'PLAIN', 'RLE'),\n",
       "   'has_dictionary_page': True,\n",
       "   'dictionary_page_offset': 431389,\n",
       "   'data_page_offset': 432479,\n",
       "   'total_compressed_size': 75018,\n",
       "   'total_uncompressed_size': 75004},\n",
       "  {'file_offset': 667665,\n",
       "   'file_path': '',\n",
       "   'physical_type': 'FLOAT',\n",
       "   'num_values': 65536,\n",
       "   'path_in_schema': 'pickup_longitude',\n",
       "   'is_stats_set': True,\n",
       "   'statistics': {'has_min_max': True,\n",
       "    'min': -74.77455139160156,\n",
       "    'max': 0.0,\n",
       "    'null_count': 0,\n",
       "    'distinct_count': 0,\n",
       "    'num_values': 65536,\n",
       "    'physical_type': 'FLOAT'},\n",
       "   'compression': 'SNAPPY',\n",
       "   'encodings': ('RLE_DICTIONARY', 'PLAIN', 'RLE'),\n",
       "   'has_dictionary_page': True,\n",
       "   'dictionary_page_offset': 506503,\n",
       "   'data_page_offset': 552777,\n",
       "   'total_compressed_size': 161162,\n",
       "   'total_uncompressed_size': 161147},\n",
       "  {'file_offset': 890795,\n",
       "   'file_path': '',\n",
       "   'physical_type': 'FLOAT',\n",
       "   'num_values': 65536,\n",
       "   'path_in_schema': 'pickup_latitude',\n",
       "   'is_stats_set': True,\n",
       "   'statistics': {'has_min_max': True,\n",
       "    'min': -0.0,\n",
       "    'max': 45.0639533996582,\n",
       "    'null_count': 0,\n",
       "    'distinct_count': 0,\n",
       "    'num_values': 65536,\n",
       "    'physical_type': 'FLOAT'},\n",
       "   'compression': 'SNAPPY',\n",
       "   'encodings': ('RLE_DICTIONARY', 'PLAIN', 'RLE'),\n",
       "   'has_dictionary_page': True,\n",
       "   'dictionary_page_offset': 667764,\n",
       "   'data_page_offset': 767715,\n",
       "   'total_compressed_size': 223031,\n",
       "   'total_uncompressed_size': 223011},\n",
       "  {'file_offset': 890940,\n",
       "   'file_path': '',\n",
       "   'physical_type': 'INT32',\n",
       "   'num_values': 65536,\n",
       "   'path_in_schema': 'rate_code_id',\n",
       "   'is_stats_set': False,\n",
       "   'statistics': None,\n",
       "   'compression': 'SNAPPY',\n",
       "   'encodings': ('RLE_DICTIONARY', 'PLAIN', 'RLE'),\n",
       "   'has_dictionary_page': True,\n",
       "   'dictionary_page_offset': 890893,\n",
       "   'data_page_offset': 890908,\n",
       "   'total_compressed_size': 47,\n",
       "   'total_uncompressed_size': 44},\n",
       "  {'file_offset': 891054,\n",
       "   'file_path': '',\n",
       "   'physical_type': 'BYTE_ARRAY',\n",
       "   'num_values': 65536,\n",
       "   'path_in_schema': 'store_and_fwd_flag',\n",
       "   'is_stats_set': True,\n",
       "   'statistics': {'has_min_max': False,\n",
       "    'min': None,\n",
       "    'max': None,\n",
       "    'null_count': 65536,\n",
       "    'distinct_count': 0,\n",
       "    'num_values': 0,\n",
       "    'physical_type': 'BYTE_ARRAY'},\n",
       "   'compression': 'SNAPPY',\n",
       "   'encodings': ('RLE_DICTIONARY', 'PLAIN', 'RLE'),\n",
       "   'has_dictionary_page': True,\n",
       "   'dictionary_page_offset': 891003,\n",
       "   'data_page_offset': 891018,\n",
       "   'total_compressed_size': 51,\n",
       "   'total_uncompressed_size': 48},\n",
       "  {'file_offset': 1063819,\n",
       "   'file_path': '',\n",
       "   'physical_type': 'FLOAT',\n",
       "   'num_values': 65536,\n",
       "   'path_in_schema': 'dropoff_longitude',\n",
       "   'is_stats_set': True,\n",
       "   'statistics': {'has_min_max': True,\n",
       "    'min': -74.77429962158203,\n",
       "    'max': 0.0,\n",
       "    'null_count': 0,\n",
       "    'distinct_count': 0,\n",
       "    'num_values': 65536,\n",
       "    'physical_type': 'FLOAT'},\n",
       "   'compression': 'SNAPPY',\n",
       "   'encodings': ('RLE_DICTIONARY', 'PLAIN', 'RLE'),\n",
       "   'has_dictionary_page': True,\n",
       "   'dictionary_page_offset': 891129,\n",
       "   'data_page_offset': 948931,\n",
       "   'total_compressed_size': 172690,\n",
       "   'total_uncompressed_size': 172675},\n",
       "  {'file_offset': 1299061,\n",
       "   'file_path': '',\n",
       "   'physical_type': 'FLOAT',\n",
       "   'num_values': 65536,\n",
       "   'path_in_schema': 'dropoff_latitude',\n",
       "   'is_stats_set': True,\n",
       "   'statistics': {'has_min_max': True,\n",
       "    'min': -0.0,\n",
       "    'max': 45.06427764892578,\n",
       "    'null_count': 0,\n",
       "    'distinct_count': 0,\n",
       "    'num_values': 65536,\n",
       "    'physical_type': 'FLOAT'},\n",
       "   'compression': 'SNAPPY',\n",
       "   'encodings': ('RLE_DICTIONARY', 'PLAIN', 'RLE'),\n",
       "   'has_dictionary_page': True,\n",
       "   'dictionary_page_offset': 1063920,\n",
       "   'data_page_offset': 1175981,\n",
       "   'total_compressed_size': 235141,\n",
       "   'total_uncompressed_size': 235123},\n",
       "  {'file_offset': 1320093,\n",
       "   'file_path': '',\n",
       "   'physical_type': 'BYTE_ARRAY',\n",
       "   'num_values': 65536,\n",
       "   'path_in_schema': 'payment_type',\n",
       "   'is_stats_set': True,\n",
       "   'statistics': {'has_min_max': True,\n",
       "    'min': 'CASH',\n",
       "    'max': 'No Charge',\n",
       "    'null_count': 0,\n",
       "    'distinct_count': 0,\n",
       "    'num_values': 65536,\n",
       "    'physical_type': 'BYTE_ARRAY'},\n",
       "   'compression': 'SNAPPY',\n",
       "   'encodings': ('RLE_DICTIONARY', 'PLAIN', 'RLE'),\n",
       "   'has_dictionary_page': True,\n",
       "   'dictionary_page_offset': 1299163,\n",
       "   'data_page_offset': 1299234,\n",
       "   'total_compressed_size': 20930,\n",
       "   'total_uncompressed_size': 23899},\n",
       "  {'file_offset': 1395542,\n",
       "   'file_path': '',\n",
       "   'physical_type': 'FLOAT',\n",
       "   'num_values': 65536,\n",
       "   'path_in_schema': 'fare_amount',\n",
       "   'is_stats_set': True,\n",
       "   'statistics': {'has_min_max': True,\n",
       "    'min': 2.5,\n",
       "    'max': 200.0,\n",
       "    'null_count': 0,\n",
       "    'distinct_count': 0,\n",
       "    'num_values': 65536,\n",
       "    'physical_type': 'FLOAT'},\n",
       "   'compression': 'SNAPPY',\n",
       "   'encodings': ('RLE_DICTIONARY', 'PLAIN', 'RLE'),\n",
       "   'has_dictionary_page': True,\n",
       "   'dictionary_page_offset': 1320184,\n",
       "   'data_page_offset': 1321614,\n",
       "   'total_compressed_size': 75358,\n",
       "   'total_uncompressed_size': 75344},\n",
       "  {'file_offset': 1404159,\n",
       "   'file_path': '',\n",
       "   'physical_type': 'FLOAT',\n",
       "   'num_values': 65536,\n",
       "   'path_in_schema': 'extra',\n",
       "   'is_stats_set': True,\n",
       "   'statistics': {'has_min_max': True,\n",
       "    'min': -0.0,\n",
       "    'max': 0.5,\n",
       "    'null_count': 0,\n",
       "    'distinct_count': 0,\n",
       "    'num_values': 65536,\n",
       "    'physical_type': 'FLOAT'},\n",
       "   'compression': 'SNAPPY',\n",
       "   'encodings': ('RLE_DICTIONARY', 'PLAIN', 'RLE'),\n",
       "   'has_dictionary_page': True,\n",
       "   'dictionary_page_offset': 1395639,\n",
       "   'data_page_offset': 1395663,\n",
       "   'total_compressed_size': 8520,\n",
       "   'total_uncompressed_size': 9871},\n",
       "  {'file_offset': 1404301,\n",
       "   'file_path': '',\n",
       "   'physical_type': 'FLOAT',\n",
       "   'num_values': 65536,\n",
       "   'path_in_schema': 'mta_tax',\n",
       "   'is_stats_set': True,\n",
       "   'statistics': {'has_min_max': False,\n",
       "    'min': None,\n",
       "    'max': None,\n",
       "    'null_count': 65536,\n",
       "    'distinct_count': 0,\n",
       "    'num_values': 0,\n",
       "    'physical_type': 'FLOAT'},\n",
       "   'compression': 'SNAPPY',\n",
       "   'encodings': ('RLE_DICTIONARY', 'PLAIN', 'RLE'),\n",
       "   'has_dictionary_page': True,\n",
       "   'dictionary_page_offset': 1404250,\n",
       "   'data_page_offset': 1404265,\n",
       "   'total_compressed_size': 51,\n",
       "   'total_uncompressed_size': 48},\n",
       "  {'file_offset': 1437542,\n",
       "   'file_path': '',\n",
       "   'physical_type': 'FLOAT',\n",
       "   'num_values': 65536,\n",
       "   'path_in_schema': 'tip_amount',\n",
       "   'is_stats_set': True,\n",
       "   'statistics': {'has_min_max': True,\n",
       "    'min': -0.0,\n",
       "    'max': 95.44999694824219,\n",
       "    'null_count': 0,\n",
       "    'distinct_count': 0,\n",
       "    'num_values': 65536,\n",
       "    'physical_type': 'FLOAT'},\n",
       "   'compression': 'SNAPPY',\n",
       "   'encodings': ('RLE_DICTIONARY', 'PLAIN', 'RLE'),\n",
       "   'has_dictionary_page': True,\n",
       "   'dictionary_page_offset': 1404368,\n",
       "   'data_page_offset': 1406184,\n",
       "   'total_compressed_size': 33174,\n",
       "   'total_uncompressed_size': 56230},\n",
       "  {'file_offset': 1440678,\n",
       "   'file_path': '',\n",
       "   'physical_type': 'FLOAT',\n",
       "   'num_values': 65536,\n",
       "   'path_in_schema': 'tolls_amount',\n",
       "   'is_stats_set': True,\n",
       "   'statistics': {'has_min_max': True,\n",
       "    'min': -0.0,\n",
       "    'max': 20.0,\n",
       "    'null_count': 0,\n",
       "    'distinct_count': 0,\n",
       "    'num_values': 65536,\n",
       "    'physical_type': 'FLOAT'},\n",
       "   'compression': 'SNAPPY',\n",
       "   'encodings': ('RLE_DICTIONARY', 'PLAIN', 'RLE'),\n",
       "   'has_dictionary_page': True,\n",
       "   'dictionary_page_offset': 1437638,\n",
       "   'data_page_offset': 1437816,\n",
       "   'total_compressed_size': 3040,\n",
       "   'total_uncompressed_size': 6593},\n",
       "  {'file_offset': 1535316,\n",
       "   'file_path': '',\n",
       "   'physical_type': 'FLOAT',\n",
       "   'num_values': 65536,\n",
       "   'path_in_schema': 'total_amount',\n",
       "   'is_stats_set': True,\n",
       "   'statistics': {'has_min_max': True,\n",
       "    'min': 2.5,\n",
       "    'max': 200.0,\n",
       "    'null_count': 0,\n",
       "    'distinct_count': 0,\n",
       "    'num_values': 65536,\n",
       "    'physical_type': 'FLOAT'},\n",
       "   'compression': 'SNAPPY',\n",
       "   'encodings': ('RLE_DICTIONARY', 'PLAIN', 'RLE'),\n",
       "   'has_dictionary_page': True,\n",
       "   'dictionary_page_offset': 1440774,\n",
       "   'data_page_offset': 1445004,\n",
       "   'total_compressed_size': 94542,\n",
       "   'total_uncompressed_size': 94524}]}"
      ]
     },
     "execution_count": 233,
     "metadata": {},
     "output_type": "execute_result"
    }
   ],
   "source": [
    "optimized_parquet_file.metadata.row_group(0).to_dict()"
   ]
  },
  {
   "cell_type": "code",
   "execution_count": 235,
   "id": "76a7ad59",
   "metadata": {},
   "outputs": [
    {
     "data": {
      "text/plain": [
       "<pyarrow._parquet.Statistics object at 0x121193e00>\n",
       "  has_min_max: True\n",
       "  min: CMT\n",
       "  max: DDS\n",
       "  null_count: 0\n",
       "  distinct_count: 0\n",
       "  num_values: 65536\n",
       "  physical_type: BYTE_ARRAY\n",
       "  logical_type: String\n",
       "  converted_type (legacy): UTF8"
      ]
     },
     "execution_count": 235,
     "metadata": {},
     "output_type": "execute_result"
    }
   ],
   "source": [
    "optimized_parquet_file.metadata.row_group(0).column(0).statistics"
   ]
  },
  {
   "cell_type": "code",
   "execution_count": 246,
   "id": "5c6c6d97",
   "metadata": {},
   "outputs": [
    {
     "data": {
      "text/plain": [
       "['vendor_id',\n",
       " 'pickup_at',\n",
       " 'dropoff_at',\n",
       " 'passenger_count',\n",
       " 'trip_distance',\n",
       " 'pickup_longitude',\n",
       " 'pickup_latitude',\n",
       " 'rate_code_id',\n",
       " 'store_and_fwd_flag',\n",
       " 'dropoff_longitude',\n",
       " 'dropoff_latitude',\n",
       " 'payment_type',\n",
       " 'fare_amount',\n",
       " 'extra',\n",
       " 'mta_tax',\n",
       " 'tip_amount',\n",
       " 'tolls_amount',\n",
       " 'total_amount']"
      ]
     },
     "execution_count": 246,
     "metadata": {},
     "output_type": "execute_result"
    }
   ],
   "source": [
    "schema = optimized_parquet_file.schema.to_arrow_schema()\n",
    "schema.names\n"
   ]
  },
  {
   "cell_type": "code",
   "execution_count": 247,
   "id": "20ad86fe",
   "metadata": {},
   "outputs": [
    {
     "data": {
      "text/plain": [
       "{'vendor_id': 0,\n",
       " 'pickup_at': 1,\n",
       " 'dropoff_at': 2,\n",
       " 'passenger_count': 3,\n",
       " 'trip_distance': 4,\n",
       " 'pickup_longitude': 5,\n",
       " 'pickup_latitude': 6,\n",
       " 'rate_code_id': 7,\n",
       " 'store_and_fwd_flag': 8,\n",
       " 'dropoff_longitude': 9,\n",
       " 'dropoff_latitude': 10,\n",
       " 'payment_type': 11,\n",
       " 'fare_amount': 12,\n",
       " 'extra': 13,\n",
       " 'mta_tax': 14,\n",
       " 'tip_amount': 15,\n",
       " 'tolls_amount': 16,\n",
       " 'total_amount': 17}"
      ]
     },
     "execution_count": 247,
     "metadata": {},
     "output_type": "execute_result"
    }
   ],
   "source": [
    "name_2_pos = {y:x for x,y in enumerate(schema.names)}\n",
    "name_2_pos\n"
   ]
  },
  {
   "cell_type": "code",
   "execution_count": 249,
   "id": "f133f94d",
   "metadata": {},
   "outputs": [
    {
     "data": {
      "text/plain": [
       "<pyarrow._parquet.Statistics object at 0x131346450>\n",
       "  has_min_max: True\n",
       "  min: 2009-01-01 00:00:00\n",
       "  max: 2009-01-01 04:22:17\n",
       "  null_count: 0\n",
       "  distinct_count: 0\n",
       "  num_values: 65536\n",
       "  physical_type: INT64\n",
       "  logical_type: Timestamp(isAdjustedToUTC=false, timeUnit=microseconds, is_from_converted_type=false, force_set_converted_type=false)\n",
       "  converted_type (legacy): NONE"
      ]
     },
     "execution_count": 249,
     "metadata": {},
     "output_type": "execute_result"
    }
   ],
   "source": [
    "optimized_parquet_file.metadata.row_group(0).column(name_2_pos['pickup_at']).statistics"
   ]
  },
  {
   "cell_type": "code",
   "execution_count": 250,
   "id": "88572ce5",
   "metadata": {},
   "outputs": [
    {
     "data": {
      "text/plain": [
       "<pyarrow._parquet.Statistics object at 0x1301ae2c0>\n",
       "  has_min_max: True\n",
       "  min: 2009-01-01 04:22:17\n",
       "  max: 2009-01-01 13:09:17\n",
       "  null_count: 0\n",
       "  distinct_count: 0\n",
       "  num_values: 65536\n",
       "  physical_type: INT64\n",
       "  logical_type: Timestamp(isAdjustedToUTC=false, timeUnit=microseconds, is_from_converted_type=false, force_set_converted_type=false)\n",
       "  converted_type (legacy): NONE"
      ]
     },
     "execution_count": 250,
     "metadata": {},
     "output_type": "execute_result"
    }
   ],
   "source": [
    "optimized_parquet_file.metadata.row_group(1).column(name_2_pos['pickup_at']).statistics"
   ]
  },
  {
   "cell_type": "code",
   "execution_count": 251,
   "id": "6768c3f9",
   "metadata": {},
   "outputs": [
    {
     "data": {
      "text/plain": [
       "<pyarrow._parquet.Statistics object at 0x1312351d0>\n",
       "  has_min_max: True\n",
       "  min: 2009-01-01 13:09:17\n",
       "  max: 2009-01-01 16:33:48\n",
       "  null_count: 0\n",
       "  distinct_count: 0\n",
       "  num_values: 65536\n",
       "  physical_type: INT64\n",
       "  logical_type: Timestamp(isAdjustedToUTC=false, timeUnit=microseconds, is_from_converted_type=false, force_set_converted_type=false)\n",
       "  converted_type (legacy): NONE"
      ]
     },
     "execution_count": 251,
     "metadata": {},
     "output_type": "execute_result"
    }
   ],
   "source": [
    "optimized_parquet_file.metadata.row_group(2).column(name_2_pos['pickup_at']).statistics"
   ]
  },
  {
   "cell_type": "code",
   "execution_count": 252,
   "id": "1f5bf514",
   "metadata": {},
   "outputs": [
    {
     "data": {
      "text/plain": [
       "datetime.datetime(2009, 1, 1, 13, 9, 17)"
      ]
     },
     "execution_count": 252,
     "metadata": {},
     "output_type": "execute_result"
    }
   ],
   "source": [
    "optimized_parquet_file.metadata.row_group(2).column(name_2_pos['pickup_at']).statistics.min"
   ]
  },
  {
   "cell_type": "code",
   "execution_count": 253,
   "id": "6713d17e",
   "metadata": {},
   "outputs": [
    {
     "data": {
      "text/plain": [
       "datetime.datetime(2009, 1, 1, 16, 33, 48)"
      ]
     },
     "execution_count": 253,
     "metadata": {},
     "output_type": "execute_result"
    }
   ],
   "source": [
    "optimized_parquet_file.metadata.row_group(2).column(name_2_pos['pickup_at']).statistics.max"
   ]
  },
  {
   "cell_type": "code",
   "execution_count": 254,
   "id": "f3e8c82c",
   "metadata": {},
   "outputs": [],
   "source": [
    "from datetime import datetime"
   ]
  },
  {
   "cell_type": "code",
   "execution_count": 255,
   "id": "025f155c",
   "metadata": {},
   "outputs": [],
   "source": [
    "datetime_obj = datetime.strptime(\"2009-1-1 14:00:00\", \"%Y-%m-%d %H:%M:%S\")\n"
   ]
  },
  {
   "cell_type": "code",
   "execution_count": 256,
   "id": "4bcbfdc5",
   "metadata": {},
   "outputs": [
    {
     "data": {
      "text/plain": [
       "<pyarrow._parquet.ColumnChunkMetaData object at 0x130819950>\n",
       "  file_offset: 3278253\n",
       "  file_path: \n",
       "  physical_type: INT64\n",
       "  num_values: 65536\n",
       "  path_in_schema: pickup_at\n",
       "  is_stats_set: True\n",
       "  statistics:\n",
       "    <pyarrow._parquet.Statistics object at 0x131235900>\n",
       "      has_min_max: True\n",
       "      min: 2009-01-01 13:09:17\n",
       "      max: 2009-01-01 16:33:48\n",
       "      null_count: 0\n",
       "      distinct_count: 0\n",
       "      num_values: 65536\n",
       "      physical_type: INT64\n",
       "      logical_type: Timestamp(isAdjustedToUTC=false, timeUnit=microseconds, is_from_converted_type=false, force_set_converted_type=false)\n",
       "      converted_type (legacy): NONE\n",
       "  compression: SNAPPY\n",
       "  encodings: ('RLE_DICTIONARY', 'PLAIN', 'RLE')\n",
       "  has_dictionary_page: True\n",
       "  dictionary_page_offset: 3160424\n",
       "  data_page_offset: 3228650\n",
       "  total_compressed_size: 117829\n",
       "  total_uncompressed_size: 146111"
      ]
     },
     "execution_count": 256,
     "metadata": {},
     "output_type": "execute_result"
    }
   ],
   "source": [
    "sample_row_group_metadate = optimized_parquet_file.metadata.row_group(2).column(name_2_pos['pickup_at'])\n",
    "sample_row_group_metadate"
   ]
  },
  {
   "cell_type": "code",
   "execution_count": 258,
   "id": "82054923",
   "metadata": {},
   "outputs": [
    {
     "data": {
      "text/plain": [
       "False"
      ]
     },
     "execution_count": 258,
     "metadata": {},
     "output_type": "execute_result"
    }
   ],
   "source": [
    "sample_row_group_metadate.statistics.min <= datetime_obj <= sample_row_group_metadate.statistics.max"
   ]
  },
  {
   "cell_type": "code",
   "execution_count": 260,
   "id": "6998ddb0",
   "metadata": {},
   "outputs": [
    {
     "name": "stdout",
     "output_type": "stream",
     "text": [
      "found it, it's row_group 2\n"
     ]
    }
   ],
   "source": [
    "\n",
    "col_idx = name_2_pos['pickup_at']\n",
    "\n",
    "datetime_obj = datetime.strptime(\"2009-1-1 14:00:00\", \"%Y-%m-%d %H:%M:%S\")\n",
    "\n",
    "for i in range(optimized_parquet_file.num_row_groups):\n",
    "    col_stats = optimized_parquet_file.metadata.row_group(i).column(col_idx).statistics\n",
    "    if col_stats.min <= datetime_obj <= col_stats.max:\n",
    "        print(f\"found it, it's row_group {i}\")\n",
    "    "
   ]
  },
  {
   "cell_type": "code",
   "execution_count": 261,
   "id": "4c20a8d7",
   "metadata": {},
   "outputs": [
    {
     "data": {
      "text/plain": [
       "pyarrow.Table\n",
       "vendor_id: string\n",
       "pickup_at: timestamp[us]\n",
       "dropoff_at: timestamp[us]\n",
       "passenger_count: int8\n",
       "trip_distance: float\n",
       "pickup_longitude: float\n",
       "pickup_latitude: float\n",
       "rate_code_id: null\n",
       "store_and_fwd_flag: string\n",
       "dropoff_longitude: float\n",
       "dropoff_latitude: float\n",
       "payment_type: string\n",
       "fare_amount: float\n",
       "extra: float\n",
       "mta_tax: float\n",
       "tip_amount: float\n",
       "tolls_amount: float\n",
       "total_amount: float\n",
       "----\n",
       "vendor_id: [[\"CMT\",\"CMT\",\"CMT\",\"CMT\",\"DDS\",...,\"CMT\",\"CMT\",\"CMT\",\"CMT\",\"CMT\"]]\n",
       "pickup_at: [[2009-01-01 13:09:17.000000,2009-01-01 13:09:17.000000,2009-01-01 13:09:18.000000,2009-01-01 13:09:18.000000,2009-01-01 13:09:18.000000,...,2009-01-01 16:33:46.000000,2009-01-01 16:33:47.000000,2009-01-01 16:33:47.000000,2009-01-01 16:33:48.000000,2009-01-01 16:33:48.000000]]\n",
       "dropoff_at: [[2009-01-01 13:15:10.000000,2009-01-01 13:18:08.000000,2009-01-01 13:13:46.000000,2009-01-01 13:13:55.000000,2009-01-01 13:23:13.000000,...,2009-01-01 16:43:29.000000,2009-01-01 16:39:27.000000,2009-01-01 16:43:35.000000,2009-01-01 16:40:01.000000,2009-01-01 16:39:41.000000]]\n",
       "passenger_count: [[1,1,2,2,1,...,2,1,3,1,1]]\n",
       "trip_distance: [[1.2,2.1,0.9,1,4.3,...,1.2,1.1,1.1,1.1,1.8]]\n",
       "pickup_longitude: [[-74.000046,-73.946175,-74.01537,-73.95758,-73.989876,...,-73.98331,-73.98049,-73.987564,-73.9685,-73.95871]]\n",
       "pickup_latitude: [[40.740425,40.80116,40.704533,40.780235,40.738396,...,40.756058,40.730385,40.750343,40.758797,40.768353]]\n",
       "rate_code_id: [65536 nulls]\n",
       "store_and_fwd_flag: [[null,null,null,null,null,...,null,null,null,null,null]]\n",
       "dropoff_longitude: [[-73.981964,-73.94925,-74.00386,-73.95758,-73.96534,...,-73.96681,-73.99416,-73.98602,-73.98118,-73.942406]]\n",
       "..."
      ]
     },
     "execution_count": 261,
     "metadata": {},
     "output_type": "execute_result"
    }
   ],
   "source": [
    "optimized_parquet_file.read_row_group(2)"
   ]
  },
  {
   "cell_type": "code",
   "execution_count": null,
   "id": "1f38ca91",
   "metadata": {},
   "outputs": [],
   "source": [
    "can you get the average transaction between 2:00-2:59 PM"
   ]
  },
  {
   "cell_type": "code",
   "execution_count": null,
   "id": "6f850d5b",
   "metadata": {},
   "outputs": [],
   "source": [
    "Which day, on average has the highest tip? "
   ]
  },
  {
   "cell_type": "code",
   "execution_count": null,
   "id": "b73e3be7",
   "metadata": {},
   "outputs": [],
   "source": [
    "Which time of the day has the highest tip?"
   ]
  }
 ],
 "metadata": {
  "celltoolbar": "Slideshow",
  "kernelspec": {
   "display_name": "Python 3 (ipykernel)",
   "language": "python",
   "name": "python3"
  },
  "language_info": {
   "codemirror_mode": {
    "name": "ipython",
    "version": 3
   },
   "file_extension": ".py",
   "mimetype": "text/x-python",
   "name": "python",
   "nbconvert_exporter": "python",
   "pygments_lexer": "ipython3",
   "version": "3.9.16"
  }
 },
 "nbformat": 4,
 "nbformat_minor": 5
}
