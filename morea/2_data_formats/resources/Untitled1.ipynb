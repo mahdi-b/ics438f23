{
 "cells": [
  {
   "cell_type": "code",
   "execution_count": 9,
   "id": "65850a7c",
   "metadata": {},
   "outputs": [
    {
     "data": {
      "text/html": [
       "<style>\n",
       ".list-inline {list-style: none; margin:0; padding: 0}\n",
       ".list-inline>li {display: inline-block}\n",
       ".list-inline>li:not(:last-child)::after {content: \"\\00b7\"; padding: 0 .5ex}\n",
       "</style>\n",
       "<ol class=list-inline><li>1</li><li>2</li><li>3</li><li>4</li><li>5</li><li>6</li></ol>\n"
      ],
      "text/latex": [
       "\\begin{enumerate*}\n",
       "\\item 1\n",
       "\\item 2\n",
       "\\item 3\n",
       "\\item 4\n",
       "\\item 5\n",
       "\\item 6\n",
       "\\end{enumerate*}\n"
      ],
      "text/markdown": [
       "1. 1\n",
       "2. 2\n",
       "3. 3\n",
       "4. 4\n",
       "5. 5\n",
       "6. 6\n",
       "\n",
       "\n"
      ],
      "text/plain": [
       "[1] 1 2 3 4 5 6"
      ]
     },
     "metadata": {},
     "output_type": "display_data"
    }
   ],
   "source": [
    "1:6"
   ]
  },
  {
   "cell_type": "code",
   "execution_count": 10,
   "id": "c42df4cd",
   "metadata": {},
   "outputs": [
    {
     "data": {
      "text/html": [
       "<style>\n",
       ".list-inline {list-style: none; margin:0; padding: 0}\n",
       ".list-inline>li {display: inline-block}\n",
       ".list-inline>li:not(:last-child)::after {content: \"\\00b7\"; padding: 0 .5ex}\n",
       "</style>\n",
       "<ol class=list-inline><li>6</li><li>5</li><li>4</li><li>3</li><li>2</li><li>1</li></ol>\n"
      ],
      "text/latex": [
       "\\begin{enumerate*}\n",
       "\\item 6\n",
       "\\item 5\n",
       "\\item 4\n",
       "\\item 3\n",
       "\\item 2\n",
       "\\item 1\n",
       "\\end{enumerate*}\n"
      ],
      "text/markdown": [
       "1. 6\n",
       "2. 5\n",
       "3. 4\n",
       "4. 3\n",
       "5. 2\n",
       "6. 1\n",
       "\n",
       "\n"
      ],
      "text/plain": [
       "[1] 6 5 4 3 2 1"
      ]
     },
     "metadata": {},
     "output_type": "display_data"
    }
   ],
   "source": [
    "6:1"
   ]
  },
  {
   "cell_type": "code",
   "execution_count": 11,
   "id": "fdfc76e0",
   "metadata": {},
   "outputs": [],
   "source": [
    "test_matrix = matrix(c(1,2,3,4,5,6,7,8,9,10,11,12), nrow = 3)"
   ]
  },
  {
   "cell_type": "code",
   "execution_count": 14,
   "id": "4c4f320c",
   "metadata": {},
   "outputs": [
    {
     "data": {
      "text/html": [
       "<table class=\"dataframe\">\n",
       "<caption>A matrix: 3 × 2 of type dbl</caption>\n",
       "<tbody>\n",
       "\t<tr><td>4</td><td>7</td></tr>\n",
       "\t<tr><td>5</td><td>8</td></tr>\n",
       "\t<tr><td>6</td><td>9</td></tr>\n",
       "</tbody>\n",
       "</table>\n"
      ],
      "text/latex": [
       "A matrix: 3 × 2 of type dbl\n",
       "\\begin{tabular}{ll}\n",
       "\t 4 & 7\\\\\n",
       "\t 5 & 8\\\\\n",
       "\t 6 & 9\\\\\n",
       "\\end{tabular}\n"
      ],
      "text/markdown": [
       "\n",
       "A matrix: 3 × 2 of type dbl\n",
       "\n",
       "| 4 | 7 |\n",
       "| 5 | 8 |\n",
       "| 6 | 9 |\n",
       "\n"
      ],
      "text/plain": [
       "     [,1] [,2]\n",
       "[1,] 4    7   \n",
       "[2,] 5    8   \n",
       "[3,] 6    9   "
      ]
     },
     "metadata": {},
     "output_type": "display_data"
    }
   ],
   "source": [
    "test_matrix[c(1,2,3), c(2,3)] "
   ]
  },
  {
   "cell_type": "code",
   "execution_count": 15,
   "id": "4000ea64",
   "metadata": {},
   "outputs": [
    {
     "data": {
      "text/html": [
       "<table class=\"dataframe\">\n",
       "<caption>A matrix: 3 × 2 of type dbl</caption>\n",
       "<tbody>\n",
       "\t<tr><td>4</td><td>7</td></tr>\n",
       "\t<tr><td>5</td><td>8</td></tr>\n",
       "\t<tr><td>6</td><td>9</td></tr>\n",
       "</tbody>\n",
       "</table>\n"
      ],
      "text/latex": [
       "A matrix: 3 × 2 of type dbl\n",
       "\\begin{tabular}{ll}\n",
       "\t 4 & 7\\\\\n",
       "\t 5 & 8\\\\\n",
       "\t 6 & 9\\\\\n",
       "\\end{tabular}\n"
      ],
      "text/markdown": [
       "\n",
       "A matrix: 3 × 2 of type dbl\n",
       "\n",
       "| 4 | 7 |\n",
       "| 5 | 8 |\n",
       "| 6 | 9 |\n",
       "\n"
      ],
      "text/plain": [
       "     [,1] [,2]\n",
       "[1,] 4    7   \n",
       "[2,] 5    8   \n",
       "[3,] 6    9   "
      ]
     },
     "metadata": {},
     "output_type": "display_data"
    }
   ],
   "source": [
    "test_matrix[c(1:3), c(2:3)] "
   ]
  },
  {
   "cell_type": "code",
   "execution_count": 16,
   "id": "7f8d870a",
   "metadata": {},
   "outputs": [],
   "source": [
    "test_matrix = matrix(1:6 , ncol = 3)"
   ]
  },
  {
   "cell_type": "code",
   "execution_count": 17,
   "id": "24d358b0",
   "metadata": {},
   "outputs": [
    {
     "data": {
      "text/html": [
       "<table class=\"dataframe\">\n",
       "<caption>A matrix: 2 × 3 of type int</caption>\n",
       "<tbody>\n",
       "\t<tr><td>1</td><td>3</td><td>5</td></tr>\n",
       "\t<tr><td>2</td><td>4</td><td>6</td></tr>\n",
       "</tbody>\n",
       "</table>\n"
      ],
      "text/latex": [
       "A matrix: 2 × 3 of type int\n",
       "\\begin{tabular}{lll}\n",
       "\t 1 & 3 & 5\\\\\n",
       "\t 2 & 4 & 6\\\\\n",
       "\\end{tabular}\n"
      ],
      "text/markdown": [
       "\n",
       "A matrix: 2 × 3 of type int\n",
       "\n",
       "| 1 | 3 | 5 |\n",
       "| 2 | 4 | 6 |\n",
       "\n"
      ],
      "text/plain": [
       "     [,1] [,2] [,3]\n",
       "[1,] 1    3    5   \n",
       "[2,] 2    4    6   "
      ]
     },
     "metadata": {},
     "output_type": "display_data"
    }
   ],
   "source": [
    "test_matrix"
   ]
  },
  {
   "cell_type": "code",
   "execution_count": 18,
   "id": "9f35afd5",
   "metadata": {},
   "outputs": [],
   "source": [
    "rownames(test_matrix) = c(\"HIMB\", \"Paiko\")"
   ]
  },
  {
   "cell_type": "code",
   "execution_count": 19,
   "id": "1417f714",
   "metadata": {},
   "outputs": [
    {
     "data": {
      "text/html": [
       "<table class=\"dataframe\">\n",
       "<caption>A matrix: 2 × 3 of type int</caption>\n",
       "<tbody>\n",
       "\t<tr><th scope=row>HIMB</th><td>1</td><td>3</td><td>5</td></tr>\n",
       "\t<tr><th scope=row>Paiko</th><td>2</td><td>4</td><td>6</td></tr>\n",
       "</tbody>\n",
       "</table>\n"
      ],
      "text/latex": [
       "A matrix: 2 × 3 of type int\n",
       "\\begin{tabular}{r|lll}\n",
       "\tHIMB & 1 & 3 & 5\\\\\n",
       "\tPaiko & 2 & 4 & 6\\\\\n",
       "\\end{tabular}\n"
      ],
      "text/markdown": [
       "\n",
       "A matrix: 2 × 3 of type int\n",
       "\n",
       "| HIMB | 1 | 3 | 5 |\n",
       "| Paiko | 2 | 4 | 6 |\n",
       "\n"
      ],
      "text/plain": [
       "      [,1] [,2] [,3]\n",
       "HIMB  1    3    5   \n",
       "Paiko 2    4    6   "
      ]
     },
     "metadata": {},
     "output_type": "display_data"
    }
   ],
   "source": [
    "test_matrix"
   ]
  },
  {
   "cell_type": "code",
   "execution_count": 20,
   "id": "80e93805",
   "metadata": {},
   "outputs": [
    {
     "data": {
      "text/html": [
       "<strong>HIMB:</strong> 3"
      ],
      "text/latex": [
       "\\textbf{HIMB:} 3"
      ],
      "text/markdown": [
       "**HIMB:** 3"
      ],
      "text/plain": [
       "HIMB \n",
       "   3 "
      ]
     },
     "metadata": {},
     "output_type": "display_data"
    }
   ],
   "source": [
    "test_matrix[\"HIMB\", 2] "
   ]
  },
  {
   "cell_type": "code",
   "execution_count": 22,
   "id": "449eefaf",
   "metadata": {},
   "outputs": [],
   "source": [
    "colnames(test_matrix) = c(\"Burk\", \"ecoli\", \"vibrio\")"
   ]
  },
  {
   "cell_type": "code",
   "execution_count": 23,
   "id": "80290059",
   "metadata": {},
   "outputs": [
    {
     "data": {
      "text/html": [
       "<table class=\"dataframe\">\n",
       "<caption>A matrix: 2 × 3 of type int</caption>\n",
       "<thead>\n",
       "\t<tr><th></th><th scope=col>Burk</th><th scope=col>ecoli</th><th scope=col>vibrio</th></tr>\n",
       "</thead>\n",
       "<tbody>\n",
       "\t<tr><th scope=row>HIMB</th><td>1</td><td>3</td><td>5</td></tr>\n",
       "\t<tr><th scope=row>Paiko</th><td>2</td><td>4</td><td>6</td></tr>\n",
       "</tbody>\n",
       "</table>\n"
      ],
      "text/latex": [
       "A matrix: 2 × 3 of type int\n",
       "\\begin{tabular}{r|lll}\n",
       "  & Burk & ecoli & vibrio\\\\\n",
       "\\hline\n",
       "\tHIMB & 1 & 3 & 5\\\\\n",
       "\tPaiko & 2 & 4 & 6\\\\\n",
       "\\end{tabular}\n"
      ],
      "text/markdown": [
       "\n",
       "A matrix: 2 × 3 of type int\n",
       "\n",
       "| <!--/--> | Burk | ecoli | vibrio |\n",
       "|---|---|---|---|\n",
       "| HIMB | 1 | 3 | 5 |\n",
       "| Paiko | 2 | 4 | 6 |\n",
       "\n"
      ],
      "text/plain": [
       "      Burk ecoli vibrio\n",
       "HIMB  1    3     5     \n",
       "Paiko 2    4     6     "
      ]
     },
     "metadata": {},
     "output_type": "display_data"
    }
   ],
   "source": [
    "test_matrix"
   ]
  },
  {
   "cell_type": "code",
   "execution_count": 24,
   "id": "f9de9b48",
   "metadata": {},
   "outputs": [
    {
     "data": {
      "text/html": [
       "3"
      ],
      "text/latex": [
       "3"
      ],
      "text/markdown": [
       "3"
      ],
      "text/plain": [
       "[1] 3"
      ]
     },
     "metadata": {},
     "output_type": "display_data"
    }
   ],
   "source": [
    "test_matrix[\"HIMB\", \"ecoli\"]"
   ]
  },
  {
   "cell_type": "code",
   "execution_count": 25,
   "id": "8859ca5d",
   "metadata": {},
   "outputs": [
    {
     "data": {
      "text/html": [
       "3"
      ],
      "text/latex": [
       "3"
      ],
      "text/markdown": [
       "3"
      ],
      "text/plain": [
       "[1] 3"
      ]
     },
     "metadata": {},
     "output_type": "display_data"
    }
   ],
   "source": [
    "test_matrix[1, 2]"
   ]
  },
  {
   "cell_type": "code",
   "execution_count": 26,
   "id": "efb13b86",
   "metadata": {},
   "outputs": [],
   "source": [
    "col_1 = c(1, 2)\n",
    "\n",
    "col_2 = c(3, 4)\n",
    "\n",
    "col_3 = c(3, 5)\n",
    "\n"
   ]
  },
  {
   "cell_type": "code",
   "execution_count": 27,
   "id": "d69ba715",
   "metadata": {},
   "outputs": [],
   "source": [
    "my_col_matrix <- cbind(col_1, col_2, col_3)"
   ]
  },
  {
   "cell_type": "code",
   "execution_count": 28,
   "id": "4b384355",
   "metadata": {},
   "outputs": [
    {
     "data": {
      "text/html": [
       "<table class=\"dataframe\">\n",
       "<caption>A matrix: 2 × 3 of type dbl</caption>\n",
       "<thead>\n",
       "\t<tr><th scope=col>col_1</th><th scope=col>col_2</th><th scope=col>col_3</th></tr>\n",
       "</thead>\n",
       "<tbody>\n",
       "\t<tr><td>1</td><td>3</td><td>3</td></tr>\n",
       "\t<tr><td>2</td><td>4</td><td>5</td></tr>\n",
       "</tbody>\n",
       "</table>\n"
      ],
      "text/latex": [
       "A matrix: 2 × 3 of type dbl\n",
       "\\begin{tabular}{lll}\n",
       " col\\_1 & col\\_2 & col\\_3\\\\\n",
       "\\hline\n",
       "\t 1 & 3 & 3\\\\\n",
       "\t 2 & 4 & 5\\\\\n",
       "\\end{tabular}\n"
      ],
      "text/markdown": [
       "\n",
       "A matrix: 2 × 3 of type dbl\n",
       "\n",
       "| col_1 | col_2 | col_3 |\n",
       "|---|---|---|\n",
       "| 1 | 3 | 3 |\n",
       "| 2 | 4 | 5 |\n",
       "\n"
      ],
      "text/plain": [
       "     col_1 col_2 col_3\n",
       "[1,] 1     3     3    \n",
       "[2,] 2     4     5    "
      ]
     },
     "metadata": {},
     "output_type": "display_data"
    }
   ],
   "source": [
    "my_col_matrix"
   ]
  },
  {
   "cell_type": "code",
   "execution_count": 29,
   "id": "a5d8ef0f",
   "metadata": {},
   "outputs": [],
   "source": [
    "row_1 = c(1, 2, 3)\n",
    "\n",
    "row_2 = c(4, 5, 6)"
   ]
  },
  {
   "cell_type": "code",
   "execution_count": 30,
   "id": "1cf9be8a",
   "metadata": {},
   "outputs": [],
   "source": [
    "my_row_matrix <- rbind(row_1, row_2)"
   ]
  },
  {
   "cell_type": "code",
   "execution_count": 31,
   "id": "c04f355e",
   "metadata": {},
   "outputs": [
    {
     "data": {
      "text/html": [
       "<table class=\"dataframe\">\n",
       "<caption>A matrix: 2 × 3 of type dbl</caption>\n",
       "<tbody>\n",
       "\t<tr><th scope=row>row_1</th><td>1</td><td>2</td><td>3</td></tr>\n",
       "\t<tr><th scope=row>row_2</th><td>4</td><td>5</td><td>6</td></tr>\n",
       "</tbody>\n",
       "</table>\n"
      ],
      "text/latex": [
       "A matrix: 2 × 3 of type dbl\n",
       "\\begin{tabular}{r|lll}\n",
       "\trow\\_1 & 1 & 2 & 3\\\\\n",
       "\trow\\_2 & 4 & 5 & 6\\\\\n",
       "\\end{tabular}\n"
      ],
      "text/markdown": [
       "\n",
       "A matrix: 2 × 3 of type dbl\n",
       "\n",
       "| row_1 | 1 | 2 | 3 |\n",
       "| row_2 | 4 | 5 | 6 |\n",
       "\n"
      ],
      "text/plain": [
       "      [,1] [,2] [,3]\n",
       "row_1 1    2    3   \n",
       "row_2 4    5    6   "
      ]
     },
     "metadata": {},
     "output_type": "display_data"
    }
   ],
   "source": [
    "my_row_matrix"
   ]
  },
  {
   "cell_type": "code",
   "execution_count": 34,
   "id": "0848ddc9",
   "metadata": {},
   "outputs": [],
   "source": [
    "some_matrix = matrix(1:6, nrow=3)"
   ]
  },
  {
   "cell_type": "code",
   "execution_count": 35,
   "id": "ed7c42c9",
   "metadata": {},
   "outputs": [
    {
     "data": {
      "text/html": [
       "<style>\n",
       ".list-inline {list-style: none; margin:0; padding: 0}\n",
       ".list-inline>li {display: inline-block}\n",
       ".list-inline>li:not(:last-child)::after {content: \"\\00b7\"; padding: 0 .5ex}\n",
       "</style>\n",
       "<ol class=list-inline><li>3</li><li>2</li></ol>\n"
      ],
      "text/latex": [
       "\\begin{enumerate*}\n",
       "\\item 3\n",
       "\\item 2\n",
       "\\end{enumerate*}\n"
      ],
      "text/markdown": [
       "1. 3\n",
       "2. 2\n",
       "\n",
       "\n"
      ],
      "text/plain": [
       "[1] 3 2"
      ]
     },
     "metadata": {},
     "output_type": "display_data"
    }
   ],
   "source": [
    "dim(some_matrix)"
   ]
  },
  {
   "cell_type": "code",
   "execution_count": 36,
   "id": "f8526bff",
   "metadata": {},
   "outputs": [
    {
     "data": {
      "text/html": [
       "<table class=\"dataframe\">\n",
       "<caption>A matrix: 3 × 3 of type dbl</caption>\n",
       "<tbody>\n",
       "\t<tr><td>1</td><td>4</td><td>7</td></tr>\n",
       "\t<tr><td>2</td><td>5</td><td>8</td></tr>\n",
       "\t<tr><td>3</td><td>6</td><td>9</td></tr>\n",
       "</tbody>\n",
       "</table>\n"
      ],
      "text/latex": [
       "A matrix: 3 × 3 of type dbl\n",
       "\\begin{tabular}{lll}\n",
       "\t 1 & 4 & 7\\\\\n",
       "\t 2 & 5 & 8\\\\\n",
       "\t 3 & 6 & 9\\\\\n",
       "\\end{tabular}\n"
      ],
      "text/markdown": [
       "\n",
       "A matrix: 3 × 3 of type dbl\n",
       "\n",
       "| 1 | 4 | 7 |\n",
       "| 2 | 5 | 8 |\n",
       "| 3 | 6 | 9 |\n",
       "\n"
      ],
      "text/plain": [
       "     [,1] [,2] [,3]\n",
       "[1,] 1    4    7   \n",
       "[2,] 2    5    8   \n",
       "[3,] 3    6    9   "
      ]
     },
     "metadata": {},
     "output_type": "display_data"
    }
   ],
   "source": [
    "cbind(some_matrix, c(7,8,9))"
   ]
  },
  {
   "cell_type": "code",
   "execution_count": 37,
   "id": "3873ee37",
   "metadata": {},
   "outputs": [
    {
     "data": {
      "text/html": [
       "<table class=\"dataframe\">\n",
       "<caption>A matrix: 3 × 2 of type int</caption>\n",
       "<tbody>\n",
       "\t<tr><td>1</td><td>4</td></tr>\n",
       "\t<tr><td>2</td><td>5</td></tr>\n",
       "\t<tr><td>3</td><td>6</td></tr>\n",
       "</tbody>\n",
       "</table>\n"
      ],
      "text/latex": [
       "A matrix: 3 × 2 of type int\n",
       "\\begin{tabular}{ll}\n",
       "\t 1 & 4\\\\\n",
       "\t 2 & 5\\\\\n",
       "\t 3 & 6\\\\\n",
       "\\end{tabular}\n"
      ],
      "text/markdown": [
       "\n",
       "A matrix: 3 × 2 of type int\n",
       "\n",
       "| 1 | 4 |\n",
       "| 2 | 5 |\n",
       "| 3 | 6 |\n",
       "\n"
      ],
      "text/plain": [
       "     [,1] [,2]\n",
       "[1,] 1    4   \n",
       "[2,] 2    5   \n",
       "[3,] 3    6   "
      ]
     },
     "metadata": {},
     "output_type": "display_data"
    }
   ],
   "source": [
    "some_matrix"
   ]
  },
  {
   "cell_type": "code",
   "execution_count": 38,
   "id": "078a2f19",
   "metadata": {},
   "outputs": [
    {
     "data": {
      "text/html": [
       "<table class=\"dataframe\">\n",
       "<caption>A matrix: 4 × 2 of type dbl</caption>\n",
       "<tbody>\n",
       "\t<tr><td> 1</td><td> 4</td></tr>\n",
       "\t<tr><td> 2</td><td> 5</td></tr>\n",
       "\t<tr><td> 3</td><td> 6</td></tr>\n",
       "\t<tr><td>10</td><td>10</td></tr>\n",
       "</tbody>\n",
       "</table>\n"
      ],
      "text/latex": [
       "A matrix: 4 × 2 of type dbl\n",
       "\\begin{tabular}{ll}\n",
       "\t  1 &  4\\\\\n",
       "\t  2 &  5\\\\\n",
       "\t  3 &  6\\\\\n",
       "\t 10 & 10\\\\\n",
       "\\end{tabular}\n"
      ],
      "text/markdown": [
       "\n",
       "A matrix: 4 × 2 of type dbl\n",
       "\n",
       "|  1 |  4 |\n",
       "|  2 |  5 |\n",
       "|  3 |  6 |\n",
       "| 10 | 10 |\n",
       "\n"
      ],
      "text/plain": [
       "     [,1] [,2]\n",
       "[1,]  1    4  \n",
       "[2,]  2    5  \n",
       "[3,]  3    6  \n",
       "[4,] 10   10  "
      ]
     },
     "metadata": {},
     "output_type": "display_data"
    }
   ],
   "source": [
    "rbind(some_matrix, c(10,10))\n",
    "\n"
   ]
  },
  {
   "cell_type": "code",
   "execution_count": 39,
   "id": "59ed5418",
   "metadata": {},
   "outputs": [
    {
     "data": {
      "text/html": [
       "<table class=\"dataframe\">\n",
       "<caption>A matrix: 6 × 2 of type int</caption>\n",
       "<tbody>\n",
       "\t<tr><td>1</td><td>4</td></tr>\n",
       "\t<tr><td>2</td><td>5</td></tr>\n",
       "\t<tr><td>3</td><td>6</td></tr>\n",
       "\t<tr><td>1</td><td>4</td></tr>\n",
       "\t<tr><td>2</td><td>5</td></tr>\n",
       "\t<tr><td>3</td><td>6</td></tr>\n",
       "</tbody>\n",
       "</table>\n"
      ],
      "text/latex": [
       "A matrix: 6 × 2 of type int\n",
       "\\begin{tabular}{ll}\n",
       "\t 1 & 4\\\\\n",
       "\t 2 & 5\\\\\n",
       "\t 3 & 6\\\\\n",
       "\t 1 & 4\\\\\n",
       "\t 2 & 5\\\\\n",
       "\t 3 & 6\\\\\n",
       "\\end{tabular}\n"
      ],
      "text/markdown": [
       "\n",
       "A matrix: 6 × 2 of type int\n",
       "\n",
       "| 1 | 4 |\n",
       "| 2 | 5 |\n",
       "| 3 | 6 |\n",
       "| 1 | 4 |\n",
       "| 2 | 5 |\n",
       "| 3 | 6 |\n",
       "\n"
      ],
      "text/plain": [
       "     [,1] [,2]\n",
       "[1,] 1    4   \n",
       "[2,] 2    5   \n",
       "[3,] 3    6   \n",
       "[4,] 1    4   \n",
       "[5,] 2    5   \n",
       "[6,] 3    6   "
      ]
     },
     "metadata": {},
     "output_type": "display_data"
    }
   ],
   "source": [
    "rbind(some_matrix, some_matrix)"
   ]
  },
  {
   "cell_type": "code",
   "execution_count": 41,
   "id": "cb1f2efe",
   "metadata": {},
   "outputs": [],
   "source": [
    "species <- c(\"Sp. A\",\"Sp. B\",\"Sp. C\",\"Sp. D\")"
   ]
  },
  {
   "cell_type": "code",
   "execution_count": 42,
   "id": "30da1e35",
   "metadata": {},
   "outputs": [],
   "source": [
    "genus <- c(\"Bacillus\",\"Bacillus\",\"Bacillus\",\"Mycobacterium\")"
   ]
  },
  {
   "cell_type": "code",
   "execution_count": 43,
   "id": "afb40397",
   "metadata": {},
   "outputs": [],
   "source": [
    "genome_length <- c(3.2, 4.1, 4.23, 4.6)"
   ]
  },
  {
   "cell_type": "code",
   "execution_count": 44,
   "id": "74818bf5",
   "metadata": {},
   "outputs": [],
   "source": [
    "nb_trna_genes <- c(20L, 20L, 15L, 11L)"
   ]
  },
  {
   "cell_type": "code",
   "execution_count": 45,
   "id": "b61ad604",
   "metadata": {},
   "outputs": [],
   "source": [
    "data <- data.frame(species, genus, genome_length, nb_trna_genes)"
   ]
  },
  {
   "cell_type": "code",
   "execution_count": 46,
   "id": "ca33c0a5",
   "metadata": {},
   "outputs": [
    {
     "data": {
      "text/html": [
       "<table class=\"dataframe\">\n",
       "<caption>A data.frame: 4 × 4</caption>\n",
       "<thead>\n",
       "\t<tr><th scope=col>species</th><th scope=col>genus</th><th scope=col>genome_length</th><th scope=col>nb_trna_genes</th></tr>\n",
       "\t<tr><th scope=col>&lt;chr&gt;</th><th scope=col>&lt;chr&gt;</th><th scope=col>&lt;dbl&gt;</th><th scope=col>&lt;int&gt;</th></tr>\n",
       "</thead>\n",
       "<tbody>\n",
       "\t<tr><td>Sp. A</td><td>Bacillus     </td><td>3.20</td><td>20</td></tr>\n",
       "\t<tr><td>Sp. B</td><td>Bacillus     </td><td>4.10</td><td>20</td></tr>\n",
       "\t<tr><td>Sp. C</td><td>Bacillus     </td><td>4.23</td><td>15</td></tr>\n",
       "\t<tr><td>Sp. D</td><td>Mycobacterium</td><td>4.60</td><td>11</td></tr>\n",
       "</tbody>\n",
       "</table>\n"
      ],
      "text/latex": [
       "A data.frame: 4 × 4\n",
       "\\begin{tabular}{llll}\n",
       " species & genus & genome\\_length & nb\\_trna\\_genes\\\\\n",
       " <chr> & <chr> & <dbl> & <int>\\\\\n",
       "\\hline\n",
       "\t Sp. A & Bacillus      & 3.20 & 20\\\\\n",
       "\t Sp. B & Bacillus      & 4.10 & 20\\\\\n",
       "\t Sp. C & Bacillus      & 4.23 & 15\\\\\n",
       "\t Sp. D & Mycobacterium & 4.60 & 11\\\\\n",
       "\\end{tabular}\n"
      ],
      "text/markdown": [
       "\n",
       "A data.frame: 4 × 4\n",
       "\n",
       "| species &lt;chr&gt; | genus &lt;chr&gt; | genome_length &lt;dbl&gt; | nb_trna_genes &lt;int&gt; |\n",
       "|---|---|---|---|\n",
       "| Sp. A | Bacillus      | 3.20 | 20 |\n",
       "| Sp. B | Bacillus      | 4.10 | 20 |\n",
       "| Sp. C | Bacillus      | 4.23 | 15 |\n",
       "| Sp. D | Mycobacterium | 4.60 | 11 |\n",
       "\n"
      ],
      "text/plain": [
       "  species genus         genome_length nb_trna_genes\n",
       "1 Sp. A   Bacillus      3.20          20           \n",
       "2 Sp. B   Bacillus      4.10          20           \n",
       "3 Sp. C   Bacillus      4.23          15           \n",
       "4 Sp. D   Mycobacterium 4.60          11           "
      ]
     },
     "metadata": {},
     "output_type": "display_data"
    }
   ],
   "source": [
    "data"
   ]
  },
  {
   "cell_type": "code",
   "execution_count": 47,
   "id": "32917045",
   "metadata": {},
   "outputs": [],
   "source": [
    "colnames(data) = c(\"Species Name\", \"Genus\", \"Genome Length\", \"Nb. tRNA Genes\")"
   ]
  },
  {
   "cell_type": "code",
   "execution_count": 48,
   "id": "b0b0b632",
   "metadata": {},
   "outputs": [
    {
     "data": {
      "text/html": [
       "<table class=\"dataframe\">\n",
       "<caption>A data.frame: 4 × 4</caption>\n",
       "<thead>\n",
       "\t<tr><th scope=col>Species Name</th><th scope=col>Genus</th><th scope=col>Genome Length</th><th scope=col>Nb. tRNA Genes</th></tr>\n",
       "\t<tr><th scope=col>&lt;chr&gt;</th><th scope=col>&lt;chr&gt;</th><th scope=col>&lt;dbl&gt;</th><th scope=col>&lt;int&gt;</th></tr>\n",
       "</thead>\n",
       "<tbody>\n",
       "\t<tr><td>Sp. A</td><td>Bacillus     </td><td>3.20</td><td>20</td></tr>\n",
       "\t<tr><td>Sp. B</td><td>Bacillus     </td><td>4.10</td><td>20</td></tr>\n",
       "\t<tr><td>Sp. C</td><td>Bacillus     </td><td>4.23</td><td>15</td></tr>\n",
       "\t<tr><td>Sp. D</td><td>Mycobacterium</td><td>4.60</td><td>11</td></tr>\n",
       "</tbody>\n",
       "</table>\n"
      ],
      "text/latex": [
       "A data.frame: 4 × 4\n",
       "\\begin{tabular}{llll}\n",
       " Species Name & Genus & Genome Length & Nb. tRNA Genes\\\\\n",
       " <chr> & <chr> & <dbl> & <int>\\\\\n",
       "\\hline\n",
       "\t Sp. A & Bacillus      & 3.20 & 20\\\\\n",
       "\t Sp. B & Bacillus      & 4.10 & 20\\\\\n",
       "\t Sp. C & Bacillus      & 4.23 & 15\\\\\n",
       "\t Sp. D & Mycobacterium & 4.60 & 11\\\\\n",
       "\\end{tabular}\n"
      ],
      "text/markdown": [
       "\n",
       "A data.frame: 4 × 4\n",
       "\n",
       "| Species Name &lt;chr&gt; | Genus &lt;chr&gt; | Genome Length &lt;dbl&gt; | Nb. tRNA Genes &lt;int&gt; |\n",
       "|---|---|---|---|\n",
       "| Sp. A | Bacillus      | 3.20 | 20 |\n",
       "| Sp. B | Bacillus      | 4.10 | 20 |\n",
       "| Sp. C | Bacillus      | 4.23 | 15 |\n",
       "| Sp. D | Mycobacterium | 4.60 | 11 |\n",
       "\n"
      ],
      "text/plain": [
       "  Species Name Genus         Genome Length Nb. tRNA Genes\n",
       "1 Sp. A        Bacillus      3.20          20            \n",
       "2 Sp. B        Bacillus      4.10          20            \n",
       "3 Sp. C        Bacillus      4.23          15            \n",
       "4 Sp. D        Mycobacterium 4.60          11            "
      ]
     },
     "metadata": {},
     "output_type": "display_data"
    }
   ],
   "source": [
    "data"
   ]
  },
  {
   "cell_type": "code",
   "execution_count": 49,
   "id": "55781585",
   "metadata": {},
   "outputs": [],
   "source": [
    "data()"
   ]
  },
  {
   "cell_type": "code",
   "execution_count": 50,
   "id": "5c81aee7",
   "metadata": {},
   "outputs": [],
   "source": [
    "data(\"airquality\")\n",
    "\n"
   ]
  },
  {
   "cell_type": "code",
   "execution_count": 108,
   "id": "4c52ecbf",
   "metadata": {},
   "outputs": [
    {
     "data": {
      "image/png": "[encoded data removed]",
      "text/plain": [
       "plot without title"
      ]
     },
     "metadata": {
      "image/png": {
       "height": 360,
       "width": 480
      }
     },
     "output_type": "display_data"
    }
   ],
   "source": [
    "ggplot(mpg) + geom_point(mapping = aes(x = displ, y = hwy, color=class))"
   ]
  },
  {
   "cell_type": "code",
   "execution_count": 112,
   "id": "930f6d70",
   "metadata": {},
   "outputs": [
    {
     "data": {
      "text/html": [
       "<table class=\"dataframe\">\n",
       "<caption>A tibble: 6 × 2</caption>\n",
       "<thead>\n",
       "\t<tr><th scope=col>displ</th><th scope=col>hwy</th></tr>\n",
       "\t<tr><th scope=col>&lt;dbl&gt;</th><th scope=col>&lt;int&gt;</th></tr>\n",
       "</thead>\n",
       "<tbody>\n",
       "\t<tr><td>1.8</td><td>29</td></tr>\n",
       "\t<tr><td>1.8</td><td>29</td></tr>\n",
       "\t<tr><td>2.0</td><td>31</td></tr>\n",
       "\t<tr><td>2.0</td><td>30</td></tr>\n",
       "\t<tr><td>2.8</td><td>26</td></tr>\n",
       "\t<tr><td>2.8</td><td>26</td></tr>\n",
       "</tbody>\n",
       "</table>\n"
      ],
      "text/latex": [
       "A tibble: 6 × 2\n",
       "\\begin{tabular}{ll}\n",
       " displ & hwy\\\\\n",
       " <dbl> & <int>\\\\\n",
       "\\hline\n",
       "\t 1.8 & 29\\\\\n",
       "\t 1.8 & 29\\\\\n",
       "\t 2.0 & 31\\\\\n",
       "\t 2.0 & 30\\\\\n",
       "\t 2.8 & 26\\\\\n",
       "\t 2.8 & 26\\\\\n",
       "\\end{tabular}\n"
      ],
      "text/markdown": [
       "\n",
       "A tibble: 6 × 2\n",
       "\n",
       "| displ &lt;dbl&gt; | hwy &lt;int&gt; |\n",
       "|---|---|\n",
       "| 1.8 | 29 |\n",
       "| 1.8 | 29 |\n",
       "| 2.0 | 31 |\n",
       "| 2.0 | 30 |\n",
       "| 2.8 | 26 |\n",
       "| 2.8 | 26 |\n",
       "\n"
      ],
      "text/plain": [
       "  displ hwy\n",
       "1 1.8   29 \n",
       "2 1.8   29 \n",
       "3 2.0   31 \n",
       "4 2.0   30 \n",
       "5 2.8   26 \n",
       "6 2.8   26 "
      ]
     },
     "metadata": {},
     "output_type": "display_data"
    }
   ],
   "source": [
    "head(mpg[ , c(\"displ\", \"hwy\")])\n"
   ]
  },
  {
   "cell_type": "code",
   "execution_count": 114,
   "id": "8ea284df",
   "metadata": {},
   "outputs": [
    {
     "data": {
      "text/html": [
       "<table class=\"dataframe\">\n",
       "<caption>A tibble: 6 × 3</caption>\n",
       "<thead>\n",
       "\t<tr><th scope=col>displ</th><th scope=col>hwy</th><th scope=col>class</th></tr>\n",
       "\t<tr><th scope=col>&lt;dbl&gt;</th><th scope=col>&lt;int&gt;</th><th scope=col>&lt;chr&gt;</th></tr>\n",
       "</thead>\n",
       "<tbody>\n",
       "\t<tr><td>1.8</td><td>29</td><td>compact</td></tr>\n",
       "\t<tr><td>1.8</td><td>29</td><td>compact</td></tr>\n",
       "\t<tr><td>2.0</td><td>31</td><td>compact</td></tr>\n",
       "\t<tr><td>2.0</td><td>30</td><td>compact</td></tr>\n",
       "\t<tr><td>2.8</td><td>26</td><td>compact</td></tr>\n",
       "\t<tr><td>2.8</td><td>26</td><td>compact</td></tr>\n",
       "</tbody>\n",
       "</table>\n"
      ],
      "text/latex": [
       "A tibble: 6 × 3\n",
       "\\begin{tabular}{lll}\n",
       " displ & hwy & class\\\\\n",
       " <dbl> & <int> & <chr>\\\\\n",
       "\\hline\n",
       "\t 1.8 & 29 & compact\\\\\n",
       "\t 1.8 & 29 & compact\\\\\n",
       "\t 2.0 & 31 & compact\\\\\n",
       "\t 2.0 & 30 & compact\\\\\n",
       "\t 2.8 & 26 & compact\\\\\n",
       "\t 2.8 & 26 & compact\\\\\n",
       "\\end{tabular}\n"
      ],
      "text/markdown": [
       "\n",
       "A tibble: 6 × 3\n",
       "\n",
       "| displ &lt;dbl&gt; | hwy &lt;int&gt; | class &lt;chr&gt; |\n",
       "|---|---|---|\n",
       "| 1.8 | 29 | compact |\n",
       "| 1.8 | 29 | compact |\n",
       "| 2.0 | 31 | compact |\n",
       "| 2.0 | 30 | compact |\n",
       "| 2.8 | 26 | compact |\n",
       "| 2.8 | 26 | compact |\n",
       "\n"
      ],
      "text/plain": [
       "  displ hwy class  \n",
       "1 1.8   29  compact\n",
       "2 1.8   29  compact\n",
       "3 2.0   31  compact\n",
       "4 2.0   30  compact\n",
       "5 2.8   26  compact\n",
       "6 2.8   26  compact"
      ]
     },
     "metadata": {},
     "output_type": "display_data"
    }
   ],
   "source": [
    "head(mpg[ , c(\"displ\", \"hwy\", \"class\")])"
   ]
  },
  {
   "cell_type": "code",
   "execution_count": 61,
   "id": "155ad01b",
   "metadata": {},
   "outputs": [
    {
     "data": {
      "text/html": [
       "<table class=\"dataframe\">\n",
       "<caption>A data.frame: 3 × 6</caption>\n",
       "<thead>\n",
       "\t<tr><th></th><th scope=col>Ozone</th><th scope=col>Solar.R</th><th scope=col>Wind</th><th scope=col>Temp</th><th scope=col>Month</th><th scope=col>Day</th></tr>\n",
       "\t<tr><th></th><th scope=col>&lt;int&gt;</th><th scope=col>&lt;int&gt;</th><th scope=col>&lt;dbl&gt;</th><th scope=col>&lt;int&gt;</th><th scope=col>&lt;int&gt;</th><th scope=col>&lt;int&gt;</th></tr>\n",
       "</thead>\n",
       "<tbody>\n",
       "\t<tr><th scope=row>1</th><td>41</td><td>190</td><td> 7.4</td><td>67</td><td>5</td><td>1</td></tr>\n",
       "\t<tr><th scope=row>2</th><td>36</td><td>118</td><td> 8.0</td><td>72</td><td>5</td><td>2</td></tr>\n",
       "\t<tr><th scope=row>3</th><td>12</td><td>149</td><td>12.6</td><td>74</td><td>5</td><td>3</td></tr>\n",
       "</tbody>\n",
       "</table>\n"
      ],
      "text/latex": [
       "A data.frame: 3 × 6\n",
       "\\begin{tabular}{r|llllll}\n",
       "  & Ozone & Solar.R & Wind & Temp & Month & Day\\\\\n",
       "  & <int> & <int> & <dbl> & <int> & <int> & <int>\\\\\n",
       "\\hline\n",
       "\t1 & 41 & 190 &  7.4 & 67 & 5 & 1\\\\\n",
       "\t2 & 36 & 118 &  8.0 & 72 & 5 & 2\\\\\n",
       "\t3 & 12 & 149 & 12.6 & 74 & 5 & 3\\\\\n",
       "\\end{tabular}\n"
      ],
      "text/markdown": [
       "\n",
       "A data.frame: 3 × 6\n",
       "\n",
       "| <!--/--> | Ozone &lt;int&gt; | Solar.R &lt;int&gt; | Wind &lt;dbl&gt; | Temp &lt;int&gt; | Month &lt;int&gt; | Day &lt;int&gt; |\n",
       "|---|---|---|---|---|---|---|\n",
       "| 1 | 41 | 190 |  7.4 | 67 | 5 | 1 |\n",
       "| 2 | 36 | 118 |  8.0 | 72 | 5 | 2 |\n",
       "| 3 | 12 | 149 | 12.6 | 74 | 5 | 3 |\n",
       "\n"
      ],
      "text/plain": [
       "  Ozone Solar.R Wind Temp Month Day\n",
       "1 41    190      7.4 67   5     1  \n",
       "2 36    118      8.0 72   5     2  \n",
       "3 12    149     12.6 74   5     3  "
      ]
     },
     "metadata": {},
     "output_type": "display_data"
    }
   ],
   "source": [
    "head(airquality, n = 3)"
   ]
  },
  {
   "cell_type": "code",
   "execution_count": 62,
   "id": "20e5887d",
   "metadata": {},
   "outputs": [
    {
     "data": {
      "text/html": [
       "<table class=\"dataframe\">\n",
       "<caption>A data.frame: 6 × 6</caption>\n",
       "<thead>\n",
       "\t<tr><th></th><th scope=col>Ozone</th><th scope=col>Solar.R</th><th scope=col>Wind</th><th scope=col>Temp</th><th scope=col>Month</th><th scope=col>Day</th></tr>\n",
       "\t<tr><th></th><th scope=col>&lt;int&gt;</th><th scope=col>&lt;int&gt;</th><th scope=col>&lt;dbl&gt;</th><th scope=col>&lt;int&gt;</th><th scope=col>&lt;int&gt;</th><th scope=col>&lt;int&gt;</th></tr>\n",
       "</thead>\n",
       "<tbody>\n",
       "\t<tr><th scope=row>148</th><td>14</td><td> 20</td><td>16.6</td><td>63</td><td>9</td><td>25</td></tr>\n",
       "\t<tr><th scope=row>149</th><td>30</td><td>193</td><td> 6.9</td><td>70</td><td>9</td><td>26</td></tr>\n",
       "\t<tr><th scope=row>150</th><td>NA</td><td>145</td><td>13.2</td><td>77</td><td>9</td><td>27</td></tr>\n",
       "\t<tr><th scope=row>151</th><td>14</td><td>191</td><td>14.3</td><td>75</td><td>9</td><td>28</td></tr>\n",
       "\t<tr><th scope=row>152</th><td>18</td><td>131</td><td> 8.0</td><td>76</td><td>9</td><td>29</td></tr>\n",
       "\t<tr><th scope=row>153</th><td>20</td><td>223</td><td>11.5</td><td>68</td><td>9</td><td>30</td></tr>\n",
       "</tbody>\n",
       "</table>\n"
      ],
      "text/latex": [
       "A data.frame: 6 × 6\n",
       "\\begin{tabular}{r|llllll}\n",
       "  & Ozone & Solar.R & Wind & Temp & Month & Day\\\\\n",
       "  & <int> & <int> & <dbl> & <int> & <int> & <int>\\\\\n",
       "\\hline\n",
       "\t148 & 14 &  20 & 16.6 & 63 & 9 & 25\\\\\n",
       "\t149 & 30 & 193 &  6.9 & 70 & 9 & 26\\\\\n",
       "\t150 & NA & 145 & 13.2 & 77 & 9 & 27\\\\\n",
       "\t151 & 14 & 191 & 14.3 & 75 & 9 & 28\\\\\n",
       "\t152 & 18 & 131 &  8.0 & 76 & 9 & 29\\\\\n",
       "\t153 & 20 & 223 & 11.5 & 68 & 9 & 30\\\\\n",
       "\\end{tabular}\n"
      ],
      "text/markdown": [
       "\n",
       "A data.frame: 6 × 6\n",
       "\n",
       "| <!--/--> | Ozone &lt;int&gt; | Solar.R &lt;int&gt; | Wind &lt;dbl&gt; | Temp &lt;int&gt; | Month &lt;int&gt; | Day &lt;int&gt; |\n",
       "|---|---|---|---|---|---|---|\n",
       "| 148 | 14 |  20 | 16.6 | 63 | 9 | 25 |\n",
       "| 149 | 30 | 193 |  6.9 | 70 | 9 | 26 |\n",
       "| 150 | NA | 145 | 13.2 | 77 | 9 | 27 |\n",
       "| 151 | 14 | 191 | 14.3 | 75 | 9 | 28 |\n",
       "| 152 | 18 | 131 |  8.0 | 76 | 9 | 29 |\n",
       "| 153 | 20 | 223 | 11.5 | 68 | 9 | 30 |\n",
       "\n"
      ],
      "text/plain": [
       "    Ozone Solar.R Wind Temp Month Day\n",
       "148 14     20     16.6 63   9     25 \n",
       "149 30    193      6.9 70   9     26 \n",
       "150 NA    145     13.2 77   9     27 \n",
       "151 14    191     14.3 75   9     28 \n",
       "152 18    131      8.0 76   9     29 \n",
       "153 20    223     11.5 68   9     30 "
      ]
     },
     "metadata": {},
     "output_type": "display_data"
    }
   ],
   "source": [
    "tail(airquality)"
   ]
  },
  {
   "cell_type": "code",
   "execution_count": 63,
   "id": "10c726f3",
   "metadata": {},
   "outputs": [
    {
     "data": {
      "text/html": [
       "<table class=\"dataframe\">\n",
       "<caption>A data.frame: 3 × 6</caption>\n",
       "<thead>\n",
       "\t<tr><th></th><th scope=col>Ozone</th><th scope=col>Solar.R</th><th scope=col>Wind</th><th scope=col>Temp</th><th scope=col>Month</th><th scope=col>Day</th></tr>\n",
       "\t<tr><th></th><th scope=col>&lt;int&gt;</th><th scope=col>&lt;int&gt;</th><th scope=col>&lt;dbl&gt;</th><th scope=col>&lt;int&gt;</th><th scope=col>&lt;int&gt;</th><th scope=col>&lt;int&gt;</th></tr>\n",
       "</thead>\n",
       "<tbody>\n",
       "\t<tr><th scope=row>151</th><td>14</td><td>191</td><td>14.3</td><td>75</td><td>9</td><td>28</td></tr>\n",
       "\t<tr><th scope=row>152</th><td>18</td><td>131</td><td> 8.0</td><td>76</td><td>9</td><td>29</td></tr>\n",
       "\t<tr><th scope=row>153</th><td>20</td><td>223</td><td>11.5</td><td>68</td><td>9</td><td>30</td></tr>\n",
       "</tbody>\n",
       "</table>\n"
      ],
      "text/latex": [
       "A data.frame: 3 × 6\n",
       "\\begin{tabular}{r|llllll}\n",
       "  & Ozone & Solar.R & Wind & Temp & Month & Day\\\\\n",
       "  & <int> & <int> & <dbl> & <int> & <int> & <int>\\\\\n",
       "\\hline\n",
       "\t151 & 14 & 191 & 14.3 & 75 & 9 & 28\\\\\n",
       "\t152 & 18 & 131 &  8.0 & 76 & 9 & 29\\\\\n",
       "\t153 & 20 & 223 & 11.5 & 68 & 9 & 30\\\\\n",
       "\\end{tabular}\n"
      ],
      "text/markdown": [
       "\n",
       "A data.frame: 3 × 6\n",
       "\n",
       "| <!--/--> | Ozone &lt;int&gt; | Solar.R &lt;int&gt; | Wind &lt;dbl&gt; | Temp &lt;int&gt; | Month &lt;int&gt; | Day &lt;int&gt; |\n",
       "|---|---|---|---|---|---|---|\n",
       "| 151 | 14 | 191 | 14.3 | 75 | 9 | 28 |\n",
       "| 152 | 18 | 131 |  8.0 | 76 | 9 | 29 |\n",
       "| 153 | 20 | 223 | 11.5 | 68 | 9 | 30 |\n",
       "\n"
      ],
      "text/plain": [
       "    Ozone Solar.R Wind Temp Month Day\n",
       "151 14    191     14.3 75   9     28 \n",
       "152 18    131      8.0 76   9     29 \n",
       "153 20    223     11.5 68   9     30 "
      ]
     },
     "metadata": {},
     "output_type": "display_data"
    }
   ],
   "source": [
    "tail(airquality, n=3)"
   ]
  },
  {
   "cell_type": "code",
   "execution_count": 64,
   "id": "7c61349d",
   "metadata": {},
   "outputs": [
    {
     "name": "stdout",
     "output_type": "stream",
     "text": [
      "'data.frame':\t153 obs. of  6 variables:\n",
      " $ Ozone  : int  41 36 12 18 NA 28 23 19 8 NA ...\n",
      " $ Solar.R: int  190 118 149 313 NA NA 299 99 19 194 ...\n",
      " $ Wind   : num  7.4 8 12.6 11.5 14.3 14.9 8.6 13.8 20.1 8.6 ...\n",
      " $ Temp   : int  67 72 74 62 56 66 65 59 61 69 ...\n",
      " $ Month  : int  5 5 5 5 5 5 5 5 5 5 ...\n",
      " $ Day    : int  1 2 3 4 5 6 7 8 9 10 ...\n"
     ]
    }
   ],
   "source": [
    "str(airquality)"
   ]
  },
  {
   "cell_type": "code",
   "execution_count": 66,
   "id": "5670c30c",
   "metadata": {},
   "outputs": [
    {
     "data": {
      "text/html": [
       "<table class=\"dataframe\">\n",
       "<caption>A data.frame: 6 × 6</caption>\n",
       "<thead>\n",
       "\t<tr><th></th><th scope=col>Ozone</th><th scope=col>Solar.R</th><th scope=col>Wind</th><th scope=col>Temp</th><th scope=col>Month</th><th scope=col>Day</th></tr>\n",
       "\t<tr><th></th><th scope=col>&lt;int&gt;</th><th scope=col>&lt;int&gt;</th><th scope=col>&lt;dbl&gt;</th><th scope=col>&lt;int&gt;</th><th scope=col>&lt;int&gt;</th><th scope=col>&lt;int&gt;</th></tr>\n",
       "</thead>\n",
       "<tbody>\n",
       "\t<tr><th scope=row>1</th><td>41</td><td>190</td><td> 7.4</td><td>67</td><td>5</td><td>1</td></tr>\n",
       "\t<tr><th scope=row>2</th><td>36</td><td>118</td><td> 8.0</td><td>72</td><td>5</td><td>2</td></tr>\n",
       "\t<tr><th scope=row>3</th><td>12</td><td>149</td><td>12.6</td><td>74</td><td>5</td><td>3</td></tr>\n",
       "\t<tr><th scope=row>4</th><td>18</td><td>313</td><td>11.5</td><td>62</td><td>5</td><td>4</td></tr>\n",
       "\t<tr><th scope=row>5</th><td>NA</td><td> NA</td><td>14.3</td><td>56</td><td>5</td><td>5</td></tr>\n",
       "\t<tr><th scope=row>6</th><td>28</td><td> NA</td><td>14.9</td><td>66</td><td>5</td><td>6</td></tr>\n",
       "</tbody>\n",
       "</table>\n"
      ],
      "text/latex": [
       "A data.frame: 6 × 6\n",
       "\\begin{tabular}{r|llllll}\n",
       "  & Ozone & Solar.R & Wind & Temp & Month & Day\\\\\n",
       "  & <int> & <int> & <dbl> & <int> & <int> & <int>\\\\\n",
       "\\hline\n",
       "\t1 & 41 & 190 &  7.4 & 67 & 5 & 1\\\\\n",
       "\t2 & 36 & 118 &  8.0 & 72 & 5 & 2\\\\\n",
       "\t3 & 12 & 149 & 12.6 & 74 & 5 & 3\\\\\n",
       "\t4 & 18 & 313 & 11.5 & 62 & 5 & 4\\\\\n",
       "\t5 & NA &  NA & 14.3 & 56 & 5 & 5\\\\\n",
       "\t6 & 28 &  NA & 14.9 & 66 & 5 & 6\\\\\n",
       "\\end{tabular}\n"
      ],
      "text/markdown": [
       "\n",
       "A data.frame: 6 × 6\n",
       "\n",
       "| <!--/--> | Ozone &lt;int&gt; | Solar.R &lt;int&gt; | Wind &lt;dbl&gt; | Temp &lt;int&gt; | Month &lt;int&gt; | Day &lt;int&gt; |\n",
       "|---|---|---|---|---|---|---|\n",
       "| 1 | 41 | 190 |  7.4 | 67 | 5 | 1 |\n",
       "| 2 | 36 | 118 |  8.0 | 72 | 5 | 2 |\n",
       "| 3 | 12 | 149 | 12.6 | 74 | 5 | 3 |\n",
       "| 4 | 18 | 313 | 11.5 | 62 | 5 | 4 |\n",
       "| 5 | NA |  NA | 14.3 | 56 | 5 | 5 |\n",
       "| 6 | 28 |  NA | 14.9 | 66 | 5 | 6 |\n",
       "\n"
      ],
      "text/plain": [
       "  Ozone Solar.R Wind Temp Month Day\n",
       "1 41    190      7.4 67   5     1  \n",
       "2 36    118      8.0 72   5     2  \n",
       "3 12    149     12.6 74   5     3  \n",
       "4 18    313     11.5 62   5     4  \n",
       "5 NA     NA     14.3 56   5     5  \n",
       "6 28     NA     14.9 66   5     6  "
      ]
     },
     "metadata": {},
     "output_type": "display_data"
    }
   ],
   "source": [
    "head(airquality)"
   ]
  },
  {
   "cell_type": "code",
   "execution_count": 67,
   "id": "fe805569",
   "metadata": {},
   "outputs": [
    {
     "data": {
      "text/html": [
       "<style>\n",
       ".list-inline {list-style: none; margin:0; padding: 0}\n",
       ".list-inline>li {display: inline-block}\n",
       ".list-inline>li:not(:last-child)::after {content: \"\\00b7\"; padding: 0 .5ex}\n",
       "</style>\n",
       "<ol class=list-inline><li>41</li><li>36</li><li>12</li><li>18</li><li>&lt;NA&gt;</li><li>28</li></ol>\n"
      ],
      "text/latex": [
       "\\begin{enumerate*}\n",
       "\\item 41\n",
       "\\item 36\n",
       "\\item 12\n",
       "\\item 18\n",
       "\\item <NA>\n",
       "\\item 28\n",
       "\\end{enumerate*}\n"
      ],
      "text/markdown": [
       "1. 41\n",
       "2. 36\n",
       "3. 12\n",
       "4. 18\n",
       "5. &lt;NA&gt;\n",
       "6. 28\n",
       "\n",
       "\n"
      ],
      "text/plain": [
       "[1] 41 36 12 18 NA 28"
      ]
     },
     "metadata": {},
     "output_type": "display_data"
    }
   ],
   "source": [
    "airquality[c(1,2,3,4,5,6), \"Ozone\"]"
   ]
  },
  {
   "cell_type": "code",
   "execution_count": 68,
   "id": "33c4ada7",
   "metadata": {},
   "outputs": [
    {
     "data": {
      "text/html": [
       "<style>\n",
       ".list-inline {list-style: none; margin:0; padding: 0}\n",
       ".list-inline>li {display: inline-block}\n",
       ".list-inline>li:not(:last-child)::after {content: \"\\00b7\"; padding: 0 .5ex}\n",
       "</style>\n",
       "<ol class=list-inline><li>41</li><li>36</li><li>12</li><li>18</li><li>&lt;NA&gt;</li></ol>\n"
      ],
      "text/latex": [
       "\\begin{enumerate*}\n",
       "\\item 41\n",
       "\\item 36\n",
       "\\item 12\n",
       "\\item 18\n",
       "\\item <NA>\n",
       "\\end{enumerate*}\n"
      ],
      "text/markdown": [
       "1. 41\n",
       "2. 36\n",
       "3. 12\n",
       "4. 18\n",
       "5. &lt;NA&gt;\n",
       "\n",
       "\n"
      ],
      "text/plain": [
       "[1] 41 36 12 18 NA"
      ]
     },
     "metadata": {},
     "output_type": "display_data"
    }
   ],
   "source": [
    "airquality[1:5, \"Ozone\"]"
   ]
  },
  {
   "cell_type": "code",
   "execution_count": 69,
   "id": "dcfa980b",
   "metadata": {},
   "outputs": [
    {
     "data": {
      "text/html": [
       "<table class=\"dataframe\">\n",
       "<caption>A data.frame: 153 × 2</caption>\n",
       "<thead>\n",
       "\t<tr><th scope=col>Ozone</th><th scope=col>Wind</th></tr>\n",
       "\t<tr><th scope=col>&lt;int&gt;</th><th scope=col>&lt;dbl&gt;</th></tr>\n",
       "</thead>\n",
       "<tbody>\n",
       "\t<tr><td> 41</td><td> 7.4</td></tr>\n",
       "\t<tr><td> 36</td><td> 8.0</td></tr>\n",
       "\t<tr><td> 12</td><td>12.6</td></tr>\n",
       "\t<tr><td> 18</td><td>11.5</td></tr>\n",
       "\t<tr><td> NA</td><td>14.3</td></tr>\n",
       "\t<tr><td> 28</td><td>14.9</td></tr>\n",
       "\t<tr><td> 23</td><td> 8.6</td></tr>\n",
       "\t<tr><td> 19</td><td>13.8</td></tr>\n",
       "\t<tr><td>  8</td><td>20.1</td></tr>\n",
       "\t<tr><td> NA</td><td> 8.6</td></tr>\n",
       "\t<tr><td>  7</td><td> 6.9</td></tr>\n",
       "\t<tr><td> 16</td><td> 9.7</td></tr>\n",
       "\t<tr><td> 11</td><td> 9.2</td></tr>\n",
       "\t<tr><td> 14</td><td>10.9</td></tr>\n",
       "\t<tr><td> 18</td><td>13.2</td></tr>\n",
       "\t<tr><td> 14</td><td>11.5</td></tr>\n",
       "\t<tr><td> 34</td><td>12.0</td></tr>\n",
       "\t<tr><td>  6</td><td>18.4</td></tr>\n",
       "\t<tr><td> 30</td><td>11.5</td></tr>\n",
       "\t<tr><td> 11</td><td> 9.7</td></tr>\n",
       "\t<tr><td>  1</td><td> 9.7</td></tr>\n",
       "\t<tr><td> 11</td><td>16.6</td></tr>\n",
       "\t<tr><td>  4</td><td> 9.7</td></tr>\n",
       "\t<tr><td> 32</td><td>12.0</td></tr>\n",
       "\t<tr><td> NA</td><td>16.6</td></tr>\n",
       "\t<tr><td> NA</td><td>14.9</td></tr>\n",
       "\t<tr><td> NA</td><td> 8.0</td></tr>\n",
       "\t<tr><td> 23</td><td>12.0</td></tr>\n",
       "\t<tr><td> 45</td><td>14.9</td></tr>\n",
       "\t<tr><td>115</td><td> 5.7</td></tr>\n",
       "\t<tr><td>⋮</td><td>⋮</td></tr>\n",
       "\t<tr><td>96</td><td> 6.9</td></tr>\n",
       "\t<tr><td>78</td><td> 5.1</td></tr>\n",
       "\t<tr><td>73</td><td> 2.8</td></tr>\n",
       "\t<tr><td>91</td><td> 4.6</td></tr>\n",
       "\t<tr><td>47</td><td> 7.4</td></tr>\n",
       "\t<tr><td>32</td><td>15.5</td></tr>\n",
       "\t<tr><td>20</td><td>10.9</td></tr>\n",
       "\t<tr><td>23</td><td>10.3</td></tr>\n",
       "\t<tr><td>21</td><td>10.9</td></tr>\n",
       "\t<tr><td>24</td><td> 9.7</td></tr>\n",
       "\t<tr><td>44</td><td>14.9</td></tr>\n",
       "\t<tr><td>21</td><td>15.5</td></tr>\n",
       "\t<tr><td>28</td><td> 6.3</td></tr>\n",
       "\t<tr><td> 9</td><td>10.9</td></tr>\n",
       "\t<tr><td>13</td><td>11.5</td></tr>\n",
       "\t<tr><td>46</td><td> 6.9</td></tr>\n",
       "\t<tr><td>18</td><td>13.8</td></tr>\n",
       "\t<tr><td>13</td><td>10.3</td></tr>\n",
       "\t<tr><td>24</td><td>10.3</td></tr>\n",
       "\t<tr><td>16</td><td> 8.0</td></tr>\n",
       "\t<tr><td>13</td><td>12.6</td></tr>\n",
       "\t<tr><td>23</td><td> 9.2</td></tr>\n",
       "\t<tr><td>36</td><td>10.3</td></tr>\n",
       "\t<tr><td> 7</td><td>10.3</td></tr>\n",
       "\t<tr><td>14</td><td>16.6</td></tr>\n",
       "\t<tr><td>30</td><td> 6.9</td></tr>\n",
       "\t<tr><td>NA</td><td>13.2</td></tr>\n",
       "\t<tr><td>14</td><td>14.3</td></tr>\n",
       "\t<tr><td>18</td><td> 8.0</td></tr>\n",
       "\t<tr><td>20</td><td>11.5</td></tr>\n",
       "</tbody>\n",
       "</table>\n"
      ],
      "text/latex": [
       "A data.frame: 153 × 2\n",
       "\\begin{tabular}{ll}\n",
       " Ozone & Wind\\\\\n",
       " <int> & <dbl>\\\\\n",
       "\\hline\n",
       "\t  41 &  7.4\\\\\n",
       "\t  36 &  8.0\\\\\n",
       "\t  12 & 12.6\\\\\n",
       "\t  18 & 11.5\\\\\n",
       "\t  NA & 14.3\\\\\n",
       "\t  28 & 14.9\\\\\n",
       "\t  23 &  8.6\\\\\n",
       "\t  19 & 13.8\\\\\n",
       "\t   8 & 20.1\\\\\n",
       "\t  NA &  8.6\\\\\n",
       "\t   7 &  6.9\\\\\n",
       "\t  16 &  9.7\\\\\n",
       "\t  11 &  9.2\\\\\n",
       "\t  14 & 10.9\\\\\n",
       "\t  18 & 13.2\\\\\n",
       "\t  14 & 11.5\\\\\n",
       "\t  34 & 12.0\\\\\n",
       "\t   6 & 18.4\\\\\n",
       "\t  30 & 11.5\\\\\n",
       "\t  11 &  9.7\\\\\n",
       "\t   1 &  9.7\\\\\n",
       "\t  11 & 16.6\\\\\n",
       "\t   4 &  9.7\\\\\n",
       "\t  32 & 12.0\\\\\n",
       "\t  NA & 16.6\\\\\n",
       "\t  NA & 14.9\\\\\n",
       "\t  NA &  8.0\\\\\n",
       "\t  23 & 12.0\\\\\n",
       "\t  45 & 14.9\\\\\n",
       "\t 115 &  5.7\\\\\n",
       "\t ⋮ & ⋮\\\\\n",
       "\t 96 &  6.9\\\\\n",
       "\t 78 &  5.1\\\\\n",
       "\t 73 &  2.8\\\\\n",
       "\t 91 &  4.6\\\\\n",
       "\t 47 &  7.4\\\\\n",
       "\t 32 & 15.5\\\\\n",
       "\t 20 & 10.9\\\\\n",
       "\t 23 & 10.3\\\\\n",
       "\t 21 & 10.9\\\\\n",
       "\t 24 &  9.7\\\\\n",
       "\t 44 & 14.9\\\\\n",
       "\t 21 & 15.5\\\\\n",
       "\t 28 &  6.3\\\\\n",
       "\t  9 & 10.9\\\\\n",
       "\t 13 & 11.5\\\\\n",
       "\t 46 &  6.9\\\\\n",
       "\t 18 & 13.8\\\\\n",
       "\t 13 & 10.3\\\\\n",
       "\t 24 & 10.3\\\\\n",
       "\t 16 &  8.0\\\\\n",
       "\t 13 & 12.6\\\\\n",
       "\t 23 &  9.2\\\\\n",
       "\t 36 & 10.3\\\\\n",
       "\t  7 & 10.3\\\\\n",
       "\t 14 & 16.6\\\\\n",
       "\t 30 &  6.9\\\\\n",
       "\t NA & 13.2\\\\\n",
       "\t 14 & 14.3\\\\\n",
       "\t 18 &  8.0\\\\\n",
       "\t 20 & 11.5\\\\\n",
       "\\end{tabular}\n"
      ],
      "text/markdown": [
       "\n",
       "A data.frame: 153 × 2\n",
       "\n",
       "| Ozone &lt;int&gt; | Wind &lt;dbl&gt; |\n",
       "|---|---|\n",
       "|  41 |  7.4 |\n",
       "|  36 |  8.0 |\n",
       "|  12 | 12.6 |\n",
       "|  18 | 11.5 |\n",
       "|  NA | 14.3 |\n",
       "|  28 | 14.9 |\n",
       "|  23 |  8.6 |\n",
       "|  19 | 13.8 |\n",
       "|   8 | 20.1 |\n",
       "|  NA |  8.6 |\n",
       "|   7 |  6.9 |\n",
       "|  16 |  9.7 |\n",
       "|  11 |  9.2 |\n",
       "|  14 | 10.9 |\n",
       "|  18 | 13.2 |\n",
       "|  14 | 11.5 |\n",
       "|  34 | 12.0 |\n",
       "|   6 | 18.4 |\n",
       "|  30 | 11.5 |\n",
       "|  11 |  9.7 |\n",
       "|   1 |  9.7 |\n",
       "|  11 | 16.6 |\n",
       "|   4 |  9.7 |\n",
       "|  32 | 12.0 |\n",
       "|  NA | 16.6 |\n",
       "|  NA | 14.9 |\n",
       "|  NA |  8.0 |\n",
       "|  23 | 12.0 |\n",
       "|  45 | 14.9 |\n",
       "| 115 |  5.7 |\n",
       "| ⋮ | ⋮ |\n",
       "| 96 |  6.9 |\n",
       "| 78 |  5.1 |\n",
       "| 73 |  2.8 |\n",
       "| 91 |  4.6 |\n",
       "| 47 |  7.4 |\n",
       "| 32 | 15.5 |\n",
       "| 20 | 10.9 |\n",
       "| 23 | 10.3 |\n",
       "| 21 | 10.9 |\n",
       "| 24 |  9.7 |\n",
       "| 44 | 14.9 |\n",
       "| 21 | 15.5 |\n",
       "| 28 |  6.3 |\n",
       "|  9 | 10.9 |\n",
       "| 13 | 11.5 |\n",
       "| 46 |  6.9 |\n",
       "| 18 | 13.8 |\n",
       "| 13 | 10.3 |\n",
       "| 24 | 10.3 |\n",
       "| 16 |  8.0 |\n",
       "| 13 | 12.6 |\n",
       "| 23 |  9.2 |\n",
       "| 36 | 10.3 |\n",
       "|  7 | 10.3 |\n",
       "| 14 | 16.6 |\n",
       "| 30 |  6.9 |\n",
       "| NA | 13.2 |\n",
       "| 14 | 14.3 |\n",
       "| 18 |  8.0 |\n",
       "| 20 | 11.5 |\n",
       "\n"
      ],
      "text/plain": [
       "    Ozone Wind\n",
       "1    41    7.4\n",
       "2    36    8.0\n",
       "3    12   12.6\n",
       "4    18   11.5\n",
       "5    NA   14.3\n",
       "6    28   14.9\n",
       "7    23    8.6\n",
       "8    19   13.8\n",
       "9     8   20.1\n",
       "10   NA    8.6\n",
       "11    7    6.9\n",
       "12   16    9.7\n",
       "13   11    9.2\n",
       "14   14   10.9\n",
       "15   18   13.2\n",
       "16   14   11.5\n",
       "17   34   12.0\n",
       "18    6   18.4\n",
       "19   30   11.5\n",
       "20   11    9.7\n",
       "21    1    9.7\n",
       "22   11   16.6\n",
       "23    4    9.7\n",
       "24   32   12.0\n",
       "25   NA   16.6\n",
       "26   NA   14.9\n",
       "27   NA    8.0\n",
       "28   23   12.0\n",
       "29   45   14.9\n",
       "30  115    5.7\n",
       "⋮   ⋮     ⋮   \n",
       "124 96     6.9\n",
       "125 78     5.1\n",
       "126 73     2.8\n",
       "127 91     4.6\n",
       "128 47     7.4\n",
       "129 32    15.5\n",
       "130 20    10.9\n",
       "131 23    10.3\n",
       "132 21    10.9\n",
       "133 24     9.7\n",
       "134 44    14.9\n",
       "135 21    15.5\n",
       "136 28     6.3\n",
       "137  9    10.9\n",
       "138 13    11.5\n",
       "139 46     6.9\n",
       "140 18    13.8\n",
       "141 13    10.3\n",
       "142 24    10.3\n",
       "143 16     8.0\n",
       "144 13    12.6\n",
       "145 23     9.2\n",
       "146 36    10.3\n",
       "147  7    10.3\n",
       "148 14    16.6\n",
       "149 30     6.9\n",
       "150 NA    13.2\n",
       "151 14    14.3\n",
       "152 18     8.0\n",
       "153 20    11.5"
      ]
     },
     "metadata": {},
     "output_type": "display_data"
    }
   ],
   "source": [
    "airquality[ , c(\"Ozone\", \"Wind\")]"
   ]
  },
  {
   "cell_type": "code",
   "execution_count": 70,
   "id": "5e1660b2",
   "metadata": {},
   "outputs": [
    {
     "data": {
      "text/html": [
       "<style>\n",
       ".list-inline {list-style: none; margin:0; padding: 0}\n",
       ".list-inline>li {display: inline-block}\n",
       ".list-inline>li:not(:last-child)::after {content: \"\\00b7\"; padding: 0 .5ex}\n",
       "</style>\n",
       "<ol class=list-inline><li>41</li><li>36</li><li>12</li><li>18</li><li>&lt;NA&gt;</li><li>28</li><li>23</li><li>19</li><li>8</li><li>&lt;NA&gt;</li><li>7</li><li>16</li><li>11</li><li>14</li><li>18</li><li>14</li><li>34</li><li>6</li><li>30</li><li>11</li><li>1</li><li>11</li><li>4</li><li>32</li><li>&lt;NA&gt;</li><li>&lt;NA&gt;</li><li>&lt;NA&gt;</li><li>23</li><li>45</li><li>115</li><li>37</li><li>&lt;NA&gt;</li><li>&lt;NA&gt;</li><li>&lt;NA&gt;</li><li>&lt;NA&gt;</li><li>&lt;NA&gt;</li><li>&lt;NA&gt;</li><li>29</li><li>&lt;NA&gt;</li><li>71</li><li>39</li><li>&lt;NA&gt;</li><li>&lt;NA&gt;</li><li>23</li><li>&lt;NA&gt;</li><li>&lt;NA&gt;</li><li>21</li><li>37</li><li>20</li><li>12</li><li>13</li><li>&lt;NA&gt;</li><li>&lt;NA&gt;</li><li>&lt;NA&gt;</li><li>&lt;NA&gt;</li><li>&lt;NA&gt;</li><li>&lt;NA&gt;</li><li>&lt;NA&gt;</li><li>&lt;NA&gt;</li><li>&lt;NA&gt;</li><li>&lt;NA&gt;</li><li>135</li><li>49</li><li>32</li><li>&lt;NA&gt;</li><li>64</li><li>40</li><li>77</li><li>97</li><li>97</li><li>85</li><li>&lt;NA&gt;</li><li>10</li><li>27</li><li>&lt;NA&gt;</li><li>7</li><li>48</li><li>35</li><li>61</li><li>79</li><li>63</li><li>16</li><li>&lt;NA&gt;</li><li>&lt;NA&gt;</li><li>80</li><li>108</li><li>20</li><li>52</li><li>82</li><li>50</li><li>64</li><li>59</li><li>39</li><li>9</li><li>16</li><li>78</li><li>35</li><li>66</li><li>122</li><li>89</li><li>110</li><li>&lt;NA&gt;</li><li>&lt;NA&gt;</li><li>44</li><li>28</li><li>65</li><li>&lt;NA&gt;</li><li>22</li><li>59</li><li>23</li><li>31</li><li>44</li><li>21</li><li>9</li><li>&lt;NA&gt;</li><li>45</li><li>168</li><li>73</li><li>&lt;NA&gt;</li><li>76</li><li>118</li><li>84</li><li>85</li><li>96</li><li>78</li><li>73</li><li>91</li><li>47</li><li>32</li><li>20</li><li>23</li><li>21</li><li>24</li><li>44</li><li>21</li><li>28</li><li>9</li><li>13</li><li>46</li><li>18</li><li>13</li><li>24</li><li>16</li><li>13</li><li>23</li><li>36</li><li>7</li><li>14</li><li>30</li><li>&lt;NA&gt;</li><li>14</li><li>18</li><li>20</li></ol>\n"
      ],
      "text/latex": [
       "\\begin{enumerate*}\n",
       "\\item 41\n",
       "\\item 36\n",
       "\\item 12\n",
       "\\item 18\n",
       "\\item <NA>\n",
       "\\item 28\n",
       "\\item 23\n",
       "\\item 19\n",
       "\\item 8\n",
       "\\item <NA>\n",
       "\\item 7\n",
       "\\item 16\n",
       "\\item 11\n",
       "\\item 14\n",
       "\\item 18\n",
       "\\item 14\n",
       "\\item 34\n",
       "\\item 6\n",
       "\\item 30\n",
       "\\item 11\n",
       "\\item 1\n",
       "\\item 11\n",
       "\\item 4\n",
       "\\item 32\n",
       "\\item <NA>\n",
       "\\item <NA>\n",
       "\\item <NA>\n",
       "\\item 23\n",
       "\\item 45\n",
       "\\item 115\n",
       "\\item 37\n",
       "\\item <NA>\n",
       "\\item <NA>\n",
       "\\item <NA>\n",
       "\\item <NA>\n",
       "\\item <NA>\n",
       "\\item <NA>\n",
       "\\item 29\n",
       "\\item <NA>\n",
       "\\item 71\n",
       "\\item 39\n",
       "\\item <NA>\n",
       "\\item <NA>\n",
       "\\item 23\n",
       "\\item <NA>\n",
       "\\item <NA>\n",
       "\\item 21\n",
       "\\item 37\n",
       "\\item 20\n",
       "\\item 12\n",
       "\\item 13\n",
       "\\item <NA>\n",
       "\\item <NA>\n",
       "\\item <NA>\n",
       "\\item <NA>\n",
       "\\item <NA>\n",
       "\\item <NA>\n",
       "\\item <NA>\n",
       "\\item <NA>\n",
       "\\item <NA>\n",
       "\\item <NA>\n",
       "\\item 135\n",
       "\\item 49\n",
       "\\item 32\n",
       "\\item <NA>\n",
       "\\item 64\n",
       "\\item 40\n",
       "\\item 77\n",
       "\\item 97\n",
       "\\item 97\n",
       "\\item 85\n",
       "\\item <NA>\n",
       "\\item 10\n",
       "\\item 27\n",
       "\\item <NA>\n",
       "\\item 7\n",
       "\\item 48\n",
       "\\item 35\n",
       "\\item 61\n",
       "\\item 79\n",
       "\\item 63\n",
       "\\item 16\n",
       "\\item <NA>\n",
       "\\item <NA>\n",
       "\\item 80\n",
       "\\item 108\n",
       "\\item 20\n",
       "\\item 52\n",
       "\\item 82\n",
       "\\item 50\n",
       "\\item 64\n",
       "\\item 59\n",
       "\\item 39\n",
       "\\item 9\n",
       "\\item 16\n",
       "\\item 78\n",
       "\\item 35\n",
       "\\item 66\n",
       "\\item 122\n",
       "\\item 89\n",
       "\\item 110\n",
       "\\item <NA>\n",
       "\\item <NA>\n",
       "\\item 44\n",
       "\\item 28\n",
       "\\item 65\n",
       "\\item <NA>\n",
       "\\item 22\n",
       "\\item 59\n",
       "\\item 23\n",
       "\\item 31\n",
       "\\item 44\n",
       "\\item 21\n",
       "\\item 9\n",
       "\\item <NA>\n",
       "\\item 45\n",
       "\\item 168\n",
       "\\item 73\n",
       "\\item <NA>\n",
       "\\item 76\n",
       "\\item 118\n",
       "\\item 84\n",
       "\\item 85\n",
       "\\item 96\n",
       "\\item 78\n",
       "\\item 73\n",
       "\\item 91\n",
       "\\item 47\n",
       "\\item 32\n",
       "\\item 20\n",
       "\\item 23\n",
       "\\item 21\n",
       "\\item 24\n",
       "\\item 44\n",
       "\\item 21\n",
       "\\item 28\n",
       "\\item 9\n",
       "\\item 13\n",
       "\\item 46\n",
       "\\item 18\n",
       "\\item 13\n",
       "\\item 24\n",
       "\\item 16\n",
       "\\item 13\n",
       "\\item 23\n",
       "\\item 36\n",
       "\\item 7\n",
       "\\item 14\n",
       "\\item 30\n",
       "\\item <NA>\n",
       "\\item 14\n",
       "\\item 18\n",
       "\\item 20\n",
       "\\end{enumerate*}\n"
      ],
      "text/markdown": [
       "1. 41\n",
       "2. 36\n",
       "3. 12\n",
       "4. 18\n",
       "5. &lt;NA&gt;\n",
       "6. 28\n",
       "7. 23\n",
       "8. 19\n",
       "9. 8\n",
       "10. &lt;NA&gt;\n",
       "11. 7\n",
       "12. 16\n",
       "13. 11\n",
       "14. 14\n",
       "15. 18\n",
       "16. 14\n",
       "17. 34\n",
       "18. 6\n",
       "19. 30\n",
       "20. 11\n",
       "21. 1\n",
       "22. 11\n",
       "23. 4\n",
       "24. 32\n",
       "25. &lt;NA&gt;\n",
       "26. &lt;NA&gt;\n",
       "27. &lt;NA&gt;\n",
       "28. 23\n",
       "29. 45\n",
       "30. 115\n",
       "31. 37\n",
       "32. &lt;NA&gt;\n",
       "33. &lt;NA&gt;\n",
       "34. &lt;NA&gt;\n",
       "35. &lt;NA&gt;\n",
       "36. &lt;NA&gt;\n",
       "37. &lt;NA&gt;\n",
       "38. 29\n",
       "39. &lt;NA&gt;\n",
       "40. 71\n",
       "41. 39\n",
       "42. &lt;NA&gt;\n",
       "43. &lt;NA&gt;\n",
       "44. 23\n",
       "45. &lt;NA&gt;\n",
       "46. &lt;NA&gt;\n",
       "47. 21\n",
       "48. 37\n",
       "49. 20\n",
       "50. 12\n",
       "51. 13\n",
       "52. &lt;NA&gt;\n",
       "53. &lt;NA&gt;\n",
       "54. &lt;NA&gt;\n",
       "55. &lt;NA&gt;\n",
       "56. &lt;NA&gt;\n",
       "57. &lt;NA&gt;\n",
       "58. &lt;NA&gt;\n",
       "59. &lt;NA&gt;\n",
       "60. &lt;NA&gt;\n",
       "61. &lt;NA&gt;\n",
       "62. 135\n",
       "63. 49\n",
       "64. 32\n",
       "65. &lt;NA&gt;\n",
       "66. 64\n",
       "67. 40\n",
       "68. 77\n",
       "69. 97\n",
       "70. 97\n",
       "71. 85\n",
       "72. &lt;NA&gt;\n",
       "73. 10\n",
       "74. 27\n",
       "75. &lt;NA&gt;\n",
       "76. 7\n",
       "77. 48\n",
       "78. 35\n",
       "79. 61\n",
       "80. 79\n",
       "81. 63\n",
       "82. 16\n",
       "83. &lt;NA&gt;\n",
       "84. &lt;NA&gt;\n",
       "85. 80\n",
       "86. 108\n",
       "87. 20\n",
       "88. 52\n",
       "89. 82\n",
       "90. 50\n",
       "91. 64\n",
       "92. 59\n",
       "93. 39\n",
       "94. 9\n",
       "95. 16\n",
       "96. 78\n",
       "97. 35\n",
       "98. 66\n",
       "99. 122\n",
       "100. 89\n",
       "101. 110\n",
       "102. &lt;NA&gt;\n",
       "103. &lt;NA&gt;\n",
       "104. 44\n",
       "105. 28\n",
       "106. 65\n",
       "107. &lt;NA&gt;\n",
       "108. 22\n",
       "109. 59\n",
       "110. 23\n",
       "111. 31\n",
       "112. 44\n",
       "113. 21\n",
       "114. 9\n",
       "115. &lt;NA&gt;\n",
       "116. 45\n",
       "117. 168\n",
       "118. 73\n",
       "119. &lt;NA&gt;\n",
       "120. 76\n",
       "121. 118\n",
       "122. 84\n",
       "123. 85\n",
       "124. 96\n",
       "125. 78\n",
       "126. 73\n",
       "127. 91\n",
       "128. 47\n",
       "129. 32\n",
       "130. 20\n",
       "131. 23\n",
       "132. 21\n",
       "133. 24\n",
       "134. 44\n",
       "135. 21\n",
       "136. 28\n",
       "137. 9\n",
       "138. 13\n",
       "139. 46\n",
       "140. 18\n",
       "141. 13\n",
       "142. 24\n",
       "143. 16\n",
       "144. 13\n",
       "145. 23\n",
       "146. 36\n",
       "147. 7\n",
       "148. 14\n",
       "149. 30\n",
       "150. &lt;NA&gt;\n",
       "151. 14\n",
       "152. 18\n",
       "153. 20\n",
       "\n",
       "\n"
      ],
      "text/plain": [
       "  [1]  41  36  12  18  NA  28  23  19   8  NA   7  16  11  14  18  14  34   6\n",
       " [19]  30  11   1  11   4  32  NA  NA  NA  23  45 115  37  NA  NA  NA  NA  NA\n",
       " [37]  NA  29  NA  71  39  NA  NA  23  NA  NA  21  37  20  12  13  NA  NA  NA\n",
       " [55]  NA  NA  NA  NA  NA  NA  NA 135  49  32  NA  64  40  77  97  97  85  NA\n",
       " [73]  10  27  NA   7  48  35  61  79  63  16  NA  NA  80 108  20  52  82  50\n",
       " [91]  64  59  39   9  16  78  35  66 122  89 110  NA  NA  44  28  65  NA  22\n",
       "[109]  59  23  31  44  21   9  NA  45 168  73  NA  76 118  84  85  96  78  73\n",
       "[127]  91  47  32  20  23  21  24  44  21  28   9  13  46  18  13  24  16  13\n",
       "[145]  23  36   7  14  30  NA  14  18  20"
      ]
     },
     "metadata": {},
     "output_type": "display_data"
    }
   ],
   "source": [
    "airquality$Ozone"
   ]
  },
  {
   "cell_type": "code",
   "execution_count": 71,
   "id": "eab6ffda",
   "metadata": {},
   "outputs": [
    {
     "data": {
      "text/html": [
       "<style>\n",
       ".list-inline {list-style: none; margin:0; padding: 0}\n",
       ".list-inline>li {display: inline-block}\n",
       ".list-inline>li:not(:last-child)::after {content: \"\\00b7\"; padding: 0 .5ex}\n",
       "</style>\n",
       "<ol class=list-inline><li>41</li><li>36</li><li>12</li><li>18</li><li>&lt;NA&gt;</li></ol>\n"
      ],
      "text/latex": [
       "\\begin{enumerate*}\n",
       "\\item 41\n",
       "\\item 36\n",
       "\\item 12\n",
       "\\item 18\n",
       "\\item <NA>\n",
       "\\end{enumerate*}\n"
      ],
      "text/markdown": [
       "1. 41\n",
       "2. 36\n",
       "3. 12\n",
       "4. 18\n",
       "5. &lt;NA&gt;\n",
       "\n",
       "\n"
      ],
      "text/plain": [
       "[1] 41 36 12 18 NA"
      ]
     },
     "metadata": {},
     "output_type": "display_data"
    }
   ],
   "source": [
    "airquality$Ozone[1:5]"
   ]
  },
  {
   "cell_type": "code",
   "execution_count": 73,
   "id": "c499c9e3",
   "metadata": {},
   "outputs": [
    {
     "data": {
      "text/html": [
       "TRUE"
      ],
      "text/latex": [
       "TRUE"
      ],
      "text/markdown": [
       "TRUE"
      ],
      "text/plain": [
       "[1] TRUE"
      ]
     },
     "metadata": {},
     "output_type": "display_data"
    }
   ],
   "source": [
    "3 < 4"
   ]
  },
  {
   "cell_type": "code",
   "execution_count": 74,
   "id": "884a650a",
   "metadata": {},
   "outputs": [
    {
     "data": {
      "text/html": [
       "TRUE"
      ],
      "text/latex": [
       "TRUE"
      ],
      "text/markdown": [
       "TRUE"
      ],
      "text/plain": [
       "[1] TRUE"
      ]
     },
     "metadata": {},
     "output_type": "display_data"
    }
   ],
   "source": [
    "1 + 3 == 12 / 3\n"
   ]
  },
  {
   "cell_type": "code",
   "execution_count": 76,
   "id": "153b40d3",
   "metadata": {},
   "outputs": [
    {
     "data": {
      "text/html": [
       "<style>\n",
       ".list-inline {list-style: none; margin:0; padding: 0}\n",
       ".list-inline>li {display: inline-block}\n",
       ".list-inline>li:not(:last-child)::after {content: \"\\00b7\"; padding: 0 .5ex}\n",
       "</style>\n",
       "<ol class=list-inline><li>FALSE</li><li>FALSE</li><li>FALSE</li><li>FALSE</li><li>FALSE</li><li>FALSE</li><li>FALSE</li><li>FALSE</li><li>FALSE</li><li>FALSE</li><li>FALSE</li><li>FALSE</li><li>FALSE</li><li>FALSE</li><li>FALSE</li><li>FALSE</li><li>FALSE</li><li>FALSE</li><li>FALSE</li><li>FALSE</li><li>FALSE</li><li>FALSE</li><li>FALSE</li><li>FALSE</li><li>FALSE</li><li>FALSE</li><li>FALSE</li><li>FALSE</li><li>FALSE</li><li>FALSE</li><li>FALSE</li><li>FALSE</li><li>FALSE</li><li>FALSE</li><li>FALSE</li><li>FALSE</li><li>FALSE</li><li>FALSE</li><li>FALSE</li><li>FALSE</li><li>FALSE</li><li>FALSE</li><li>FALSE</li><li>FALSE</li><li>FALSE</li><li>FALSE</li><li>FALSE</li><li>FALSE</li><li>FALSE</li><li>FALSE</li><li>FALSE</li><li>FALSE</li><li>FALSE</li><li>FALSE</li><li>FALSE</li><li>FALSE</li><li>FALSE</li><li>FALSE</li><li>FALSE</li><li>FALSE</li><li>FALSE</li><li>TRUE</li><li>TRUE</li><li>TRUE</li><li>TRUE</li><li>TRUE</li><li>TRUE</li><li>TRUE</li><li>TRUE</li><li>TRUE</li><li>TRUE</li><li>TRUE</li><li>TRUE</li><li>TRUE</li><li>TRUE</li><li>TRUE</li><li>TRUE</li><li>TRUE</li><li>TRUE</li><li>TRUE</li><li>TRUE</li><li>TRUE</li><li>TRUE</li><li>TRUE</li><li>TRUE</li><li>TRUE</li><li>TRUE</li><li>TRUE</li><li>TRUE</li><li>TRUE</li><li>TRUE</li><li>TRUE</li><li>FALSE</li><li>FALSE</li><li>FALSE</li><li>FALSE</li><li>FALSE</li><li>FALSE</li><li>FALSE</li><li>FALSE</li><li>FALSE</li><li>FALSE</li><li>FALSE</li><li>FALSE</li><li>FALSE</li><li>FALSE</li><li>FALSE</li><li>FALSE</li><li>FALSE</li><li>FALSE</li><li>FALSE</li><li>FALSE</li><li>FALSE</li><li>FALSE</li><li>FALSE</li><li>FALSE</li><li>FALSE</li><li>FALSE</li><li>FALSE</li><li>FALSE</li><li>FALSE</li><li>FALSE</li><li>FALSE</li><li>FALSE</li><li>FALSE</li><li>FALSE</li><li>FALSE</li><li>FALSE</li><li>FALSE</li><li>FALSE</li><li>FALSE</li><li>FALSE</li><li>FALSE</li><li>FALSE</li><li>FALSE</li><li>FALSE</li><li>FALSE</li><li>FALSE</li><li>FALSE</li><li>FALSE</li><li>FALSE</li><li>FALSE</li><li>FALSE</li><li>FALSE</li><li>FALSE</li><li>FALSE</li><li>FALSE</li><li>FALSE</li><li>FALSE</li><li>FALSE</li><li>FALSE</li><li>FALSE</li><li>FALSE</li></ol>\n"
      ],
      "text/latex": [
       "\\begin{enumerate*}\n",
       "\\item FALSE\n",
       "\\item FALSE\n",
       "\\item FALSE\n",
       "\\item FALSE\n",
       "\\item FALSE\n",
       "\\item FALSE\n",
       "\\item FALSE\n",
       "\\item FALSE\n",
       "\\item FALSE\n",
       "\\item FALSE\n",
       "\\item FALSE\n",
       "\\item FALSE\n",
       "\\item FALSE\n",
       "\\item FALSE\n",
       "\\item FALSE\n",
       "\\item FALSE\n",
       "\\item FALSE\n",
       "\\item FALSE\n",
       "\\item FALSE\n",
       "\\item FALSE\n",
       "\\item FALSE\n",
       "\\item FALSE\n",
       "\\item FALSE\n",
       "\\item FALSE\n",
       "\\item FALSE\n",
       "\\item FALSE\n",
       "\\item FALSE\n",
       "\\item FALSE\n",
       "\\item FALSE\n",
       "\\item FALSE\n",
       "\\item FALSE\n",
       "\\item FALSE\n",
       "\\item FALSE\n",
       "\\item FALSE\n",
       "\\item FALSE\n",
       "\\item FALSE\n",
       "\\item FALSE\n",
       "\\item FALSE\n",
       "\\item FALSE\n",
       "\\item FALSE\n",
       "\\item FALSE\n",
       "\\item FALSE\n",
       "\\item FALSE\n",
       "\\item FALSE\n",
       "\\item FALSE\n",
       "\\item FALSE\n",
       "\\item FALSE\n",
       "\\item FALSE\n",
       "\\item FALSE\n",
       "\\item FALSE\n",
       "\\item FALSE\n",
       "\\item FALSE\n",
       "\\item FALSE\n",
       "\\item FALSE\n",
       "\\item FALSE\n",
       "\\item FALSE\n",
       "\\item FALSE\n",
       "\\item FALSE\n",
       "\\item FALSE\n",
       "\\item FALSE\n",
       "\\item FALSE\n",
       "\\item TRUE\n",
       "\\item TRUE\n",
       "\\item TRUE\n",
       "\\item TRUE\n",
       "\\item TRUE\n",
       "\\item TRUE\n",
       "\\item TRUE\n",
       "\\item TRUE\n",
       "\\item TRUE\n",
       "\\item TRUE\n",
       "\\item TRUE\n",
       "\\item TRUE\n",
       "\\item TRUE\n",
       "\\item TRUE\n",
       "\\item TRUE\n",
       "\\item TRUE\n",
       "\\item TRUE\n",
       "\\item TRUE\n",
       "\\item TRUE\n",
       "\\item TRUE\n",
       "\\item TRUE\n",
       "\\item TRUE\n",
       "\\item TRUE\n",
       "\\item TRUE\n",
       "\\item TRUE\n",
       "\\item TRUE\n",
       "\\item TRUE\n",
       "\\item TRUE\n",
       "\\item TRUE\n",
       "\\item TRUE\n",
       "\\item TRUE\n",
       "\\item FALSE\n",
       "\\item FALSE\n",
       "\\item FALSE\n",
       "\\item FALSE\n",
       "\\item FALSE\n",
       "\\item FALSE\n",
       "\\item FALSE\n",
       "\\item FALSE\n",
       "\\item FALSE\n",
       "\\item FALSE\n",
       "\\item FALSE\n",
       "\\item FALSE\n",
       "\\item FALSE\n",
       "\\item FALSE\n",
       "\\item FALSE\n",
       "\\item FALSE\n",
       "\\item FALSE\n",
       "\\item FALSE\n",
       "\\item FALSE\n",
       "\\item FALSE\n",
       "\\item FALSE\n",
       "\\item FALSE\n",
       "\\item FALSE\n",
       "\\item FALSE\n",
       "\\item FALSE\n",
       "\\item FALSE\n",
       "\\item FALSE\n",
       "\\item FALSE\n",
       "\\item FALSE\n",
       "\\item FALSE\n",
       "\\item FALSE\n",
       "\\item FALSE\n",
       "\\item FALSE\n",
       "\\item FALSE\n",
       "\\item FALSE\n",
       "\\item FALSE\n",
       "\\item FALSE\n",
       "\\item FALSE\n",
       "\\item FALSE\n",
       "\\item FALSE\n",
       "\\item FALSE\n",
       "\\item FALSE\n",
       "\\item FALSE\n",
       "\\item FALSE\n",
       "\\item FALSE\n",
       "\\item FALSE\n",
       "\\item FALSE\n",
       "\\item FALSE\n",
       "\\item FALSE\n",
       "\\item FALSE\n",
       "\\item FALSE\n",
       "\\item FALSE\n",
       "\\item FALSE\n",
       "\\item FALSE\n",
       "\\item FALSE\n",
       "\\item FALSE\n",
       "\\item FALSE\n",
       "\\item FALSE\n",
       "\\item FALSE\n",
       "\\item FALSE\n",
       "\\item FALSE\n",
       "\\end{enumerate*}\n"
      ],
      "text/markdown": [
       "1. FALSE\n",
       "2. FALSE\n",
       "3. FALSE\n",
       "4. FALSE\n",
       "5. FALSE\n",
       "6. FALSE\n",
       "7. FALSE\n",
       "8. FALSE\n",
       "9. FALSE\n",
       "10. FALSE\n",
       "11. FALSE\n",
       "12. FALSE\n",
       "13. FALSE\n",
       "14. FALSE\n",
       "15. FALSE\n",
       "16. FALSE\n",
       "17. FALSE\n",
       "18. FALSE\n",
       "19. FALSE\n",
       "20. FALSE\n",
       "21. FALSE\n",
       "22. FALSE\n",
       "23. FALSE\n",
       "24. FALSE\n",
       "25. FALSE\n",
       "26. FALSE\n",
       "27. FALSE\n",
       "28. FALSE\n",
       "29. FALSE\n",
       "30. FALSE\n",
       "31. FALSE\n",
       "32. FALSE\n",
       "33. FALSE\n",
       "34. FALSE\n",
       "35. FALSE\n",
       "36. FALSE\n",
       "37. FALSE\n",
       "38. FALSE\n",
       "39. FALSE\n",
       "40. FALSE\n",
       "41. FALSE\n",
       "42. FALSE\n",
       "43. FALSE\n",
       "44. FALSE\n",
       "45. FALSE\n",
       "46. FALSE\n",
       "47. FALSE\n",
       "48. FALSE\n",
       "49. FALSE\n",
       "50. FALSE\n",
       "51. FALSE\n",
       "52. FALSE\n",
       "53. FALSE\n",
       "54. FALSE\n",
       "55. FALSE\n",
       "56. FALSE\n",
       "57. FALSE\n",
       "58. FALSE\n",
       "59. FALSE\n",
       "60. FALSE\n",
       "61. FALSE\n",
       "62. TRUE\n",
       "63. TRUE\n",
       "64. TRUE\n",
       "65. TRUE\n",
       "66. TRUE\n",
       "67. TRUE\n",
       "68. TRUE\n",
       "69. TRUE\n",
       "70. TRUE\n",
       "71. TRUE\n",
       "72. TRUE\n",
       "73. TRUE\n",
       "74. TRUE\n",
       "75. TRUE\n",
       "76. TRUE\n",
       "77. TRUE\n",
       "78. TRUE\n",
       "79. TRUE\n",
       "80. TRUE\n",
       "81. TRUE\n",
       "82. TRUE\n",
       "83. TRUE\n",
       "84. TRUE\n",
       "85. TRUE\n",
       "86. TRUE\n",
       "87. TRUE\n",
       "88. TRUE\n",
       "89. TRUE\n",
       "90. TRUE\n",
       "91. TRUE\n",
       "92. TRUE\n",
       "93. FALSE\n",
       "94. FALSE\n",
       "95. FALSE\n",
       "96. FALSE\n",
       "97. FALSE\n",
       "98. FALSE\n",
       "99. FALSE\n",
       "100. FALSE\n",
       "101. FALSE\n",
       "102. FALSE\n",
       "103. FALSE\n",
       "104. FALSE\n",
       "105. FALSE\n",
       "106. FALSE\n",
       "107. FALSE\n",
       "108. FALSE\n",
       "109. FALSE\n",
       "110. FALSE\n",
       "111. FALSE\n",
       "112. FALSE\n",
       "113. FALSE\n",
       "114. FALSE\n",
       "115. FALSE\n",
       "116. FALSE\n",
       "117. FALSE\n",
       "118. FALSE\n",
       "119. FALSE\n",
       "120. FALSE\n",
       "121. FALSE\n",
       "122. FALSE\n",
       "123. FALSE\n",
       "124. FALSE\n",
       "125. FALSE\n",
       "126. FALSE\n",
       "127. FALSE\n",
       "128. FALSE\n",
       "129. FALSE\n",
       "130. FALSE\n",
       "131. FALSE\n",
       "132. FALSE\n",
       "133. FALSE\n",
       "134. FALSE\n",
       "135. FALSE\n",
       "136. FALSE\n",
       "137. FALSE\n",
       "138. FALSE\n",
       "139. FALSE\n",
       "140. FALSE\n",
       "141. FALSE\n",
       "142. FALSE\n",
       "143. FALSE\n",
       "144. FALSE\n",
       "145. FALSE\n",
       "146. FALSE\n",
       "147. FALSE\n",
       "148. FALSE\n",
       "149. FALSE\n",
       "150. FALSE\n",
       "151. FALSE\n",
       "152. FALSE\n",
       "153. FALSE\n",
       "\n",
       "\n"
      ],
      "text/plain": [
       "  [1] FALSE FALSE FALSE FALSE FALSE FALSE FALSE FALSE FALSE FALSE FALSE FALSE\n",
       " [13] FALSE FALSE FALSE FALSE FALSE FALSE FALSE FALSE FALSE FALSE FALSE FALSE\n",
       " [25] FALSE FALSE FALSE FALSE FALSE FALSE FALSE FALSE FALSE FALSE FALSE FALSE\n",
       " [37] FALSE FALSE FALSE FALSE FALSE FALSE FALSE FALSE FALSE FALSE FALSE FALSE\n",
       " [49] FALSE FALSE FALSE FALSE FALSE FALSE FALSE FALSE FALSE FALSE FALSE FALSE\n",
       " [61] FALSE  TRUE  TRUE  TRUE  TRUE  TRUE  TRUE  TRUE  TRUE  TRUE  TRUE  TRUE\n",
       " [73]  TRUE  TRUE  TRUE  TRUE  TRUE  TRUE  TRUE  TRUE  TRUE  TRUE  TRUE  TRUE\n",
       " [85]  TRUE  TRUE  TRUE  TRUE  TRUE  TRUE  TRUE  TRUE FALSE FALSE FALSE FALSE\n",
       " [97] FALSE FALSE FALSE FALSE FALSE FALSE FALSE FALSE FALSE FALSE FALSE FALSE\n",
       "[109] FALSE FALSE FALSE FALSE FALSE FALSE FALSE FALSE FALSE FALSE FALSE FALSE\n",
       "[121] FALSE FALSE FALSE FALSE FALSE FALSE FALSE FALSE FALSE FALSE FALSE FALSE\n",
       "[133] FALSE FALSE FALSE FALSE FALSE FALSE FALSE FALSE FALSE FALSE FALSE FALSE\n",
       "[145] FALSE FALSE FALSE FALSE FALSE FALSE FALSE FALSE FALSE"
      ]
     },
     "metadata": {},
     "output_type": "display_data"
    }
   ],
   "source": [
    "airquality$Month == 7"
   ]
  },
  {
   "cell_type": "code",
   "execution_count": 77,
   "id": "f82e2394",
   "metadata": {},
   "outputs": [],
   "source": [
    " \n",
    "july_obs <- airquality$Month  == 7 \n"
   ]
  },
  {
   "cell_type": "code",
   "execution_count": 79,
   "id": "2a9fb10f",
   "metadata": {},
   "outputs": [
    {
     "data": {
      "text/html": [
       "<style>\n",
       ".list-inline {list-style: none; margin:0; padding: 0}\n",
       ".list-inline>li {display: inline-block}\n",
       ".list-inline>li:not(:last-child)::after {content: \"\\00b7\"; padding: 0 .5ex}\n",
       "</style>\n",
       "<ol class=list-inline><li>FALSE</li><li>FALSE</li><li>FALSE</li><li>FALSE</li><li>FALSE</li><li>FALSE</li><li>FALSE</li><li>FALSE</li><li>FALSE</li><li>FALSE</li><li>FALSE</li><li>FALSE</li><li>FALSE</li><li>FALSE</li><li>FALSE</li><li>FALSE</li><li>FALSE</li><li>FALSE</li><li>FALSE</li><li>FALSE</li><li>FALSE</li><li>FALSE</li><li>FALSE</li><li>FALSE</li><li>FALSE</li><li>FALSE</li><li>FALSE</li><li>FALSE</li><li>FALSE</li><li>FALSE</li><li>FALSE</li><li>FALSE</li><li>FALSE</li><li>FALSE</li><li>FALSE</li><li>FALSE</li><li>FALSE</li><li>FALSE</li><li>FALSE</li><li>FALSE</li><li>FALSE</li><li>FALSE</li><li>FALSE</li><li>FALSE</li><li>FALSE</li><li>FALSE</li><li>FALSE</li><li>FALSE</li><li>FALSE</li><li>FALSE</li><li>FALSE</li><li>FALSE</li><li>FALSE</li><li>FALSE</li><li>FALSE</li><li>FALSE</li><li>FALSE</li><li>FALSE</li><li>FALSE</li><li>FALSE</li><li>FALSE</li><li>TRUE</li><li>TRUE</li><li>TRUE</li><li>TRUE</li><li>TRUE</li><li>TRUE</li><li>TRUE</li><li>TRUE</li><li>TRUE</li><li>TRUE</li><li>TRUE</li><li>TRUE</li><li>TRUE</li><li>TRUE</li><li>TRUE</li><li>TRUE</li><li>TRUE</li><li>TRUE</li><li>TRUE</li><li>TRUE</li><li>TRUE</li><li>TRUE</li><li>TRUE</li><li>TRUE</li><li>TRUE</li><li>TRUE</li><li>TRUE</li><li>TRUE</li><li>TRUE</li><li>TRUE</li><li>TRUE</li><li>FALSE</li><li>FALSE</li><li>FALSE</li><li>FALSE</li><li>FALSE</li><li>FALSE</li><li>FALSE</li><li>FALSE</li><li>FALSE</li><li>FALSE</li><li>FALSE</li><li>FALSE</li><li>FALSE</li><li>FALSE</li><li>FALSE</li><li>FALSE</li><li>FALSE</li><li>FALSE</li><li>FALSE</li><li>FALSE</li><li>FALSE</li><li>FALSE</li><li>FALSE</li><li>FALSE</li><li>FALSE</li><li>FALSE</li><li>FALSE</li><li>FALSE</li><li>FALSE</li><li>FALSE</li><li>FALSE</li><li>FALSE</li><li>FALSE</li><li>FALSE</li><li>FALSE</li><li>FALSE</li><li>FALSE</li><li>FALSE</li><li>FALSE</li><li>FALSE</li><li>FALSE</li><li>FALSE</li><li>FALSE</li><li>FALSE</li><li>FALSE</li><li>FALSE</li><li>FALSE</li><li>FALSE</li><li>FALSE</li><li>FALSE</li><li>FALSE</li><li>FALSE</li><li>FALSE</li><li>FALSE</li><li>FALSE</li><li>FALSE</li><li>FALSE</li><li>FALSE</li><li>FALSE</li><li>FALSE</li><li>FALSE</li></ol>\n"
      ],
      "text/latex": [
       "\\begin{enumerate*}\n",
       "\\item FALSE\n",
       "\\item FALSE\n",
       "\\item FALSE\n",
       "\\item FALSE\n",
       "\\item FALSE\n",
       "\\item FALSE\n",
       "\\item FALSE\n",
       "\\item FALSE\n",
       "\\item FALSE\n",
       "\\item FALSE\n",
       "\\item FALSE\n",
       "\\item FALSE\n",
       "\\item FALSE\n",
       "\\item FALSE\n",
       "\\item FALSE\n",
       "\\item FALSE\n",
       "\\item FALSE\n",
       "\\item FALSE\n",
       "\\item FALSE\n",
       "\\item FALSE\n",
       "\\item FALSE\n",
       "\\item FALSE\n",
       "\\item FALSE\n",
       "\\item FALSE\n",
       "\\item FALSE\n",
       "\\item FALSE\n",
       "\\item FALSE\n",
       "\\item FALSE\n",
       "\\item FALSE\n",
       "\\item FALSE\n",
       "\\item FALSE\n",
       "\\item FALSE\n",
       "\\item FALSE\n",
       "\\item FALSE\n",
       "\\item FALSE\n",
       "\\item FALSE\n",
       "\\item FALSE\n",
       "\\item FALSE\n",
       "\\item FALSE\n",
       "\\item FALSE\n",
       "\\item FALSE\n",
       "\\item FALSE\n",
       "\\item FALSE\n",
       "\\item FALSE\n",
       "\\item FALSE\n",
       "\\item FALSE\n",
       "\\item FALSE\n",
       "\\item FALSE\n",
       "\\item FALSE\n",
       "\\item FALSE\n",
       "\\item FALSE\n",
       "\\item FALSE\n",
       "\\item FALSE\n",
       "\\item FALSE\n",
       "\\item FALSE\n",
       "\\item FALSE\n",
       "\\item FALSE\n",
       "\\item FALSE\n",
       "\\item FALSE\n",
       "\\item FALSE\n",
       "\\item FALSE\n",
       "\\item TRUE\n",
       "\\item TRUE\n",
       "\\item TRUE\n",
       "\\item TRUE\n",
       "\\item TRUE\n",
       "\\item TRUE\n",
       "\\item TRUE\n",
       "\\item TRUE\n",
       "\\item TRUE\n",
       "\\item TRUE\n",
       "\\item TRUE\n",
       "\\item TRUE\n",
       "\\item TRUE\n",
       "\\item TRUE\n",
       "\\item TRUE\n",
       "\\item TRUE\n",
       "\\item TRUE\n",
       "\\item TRUE\n",
       "\\item TRUE\n",
       "\\item TRUE\n",
       "\\item TRUE\n",
       "\\item TRUE\n",
       "\\item TRUE\n",
       "\\item TRUE\n",
       "\\item TRUE\n",
       "\\item TRUE\n",
       "\\item TRUE\n",
       "\\item TRUE\n",
       "\\item TRUE\n",
       "\\item TRUE\n",
       "\\item TRUE\n",
       "\\item FALSE\n",
       "\\item FALSE\n",
       "\\item FALSE\n",
       "\\item FALSE\n",
       "\\item FALSE\n",
       "\\item FALSE\n",
       "\\item FALSE\n",
       "\\item FALSE\n",
       "\\item FALSE\n",
       "\\item FALSE\n",
       "\\item FALSE\n",
       "\\item FALSE\n",
       "\\item FALSE\n",
       "\\item FALSE\n",
       "\\item FALSE\n",
       "\\item FALSE\n",
       "\\item FALSE\n",
       "\\item FALSE\n",
       "\\item FALSE\n",
       "\\item FALSE\n",
       "\\item FALSE\n",
       "\\item FALSE\n",
       "\\item FALSE\n",
       "\\item FALSE\n",
       "\\item FALSE\n",
       "\\item FALSE\n",
       "\\item FALSE\n",
       "\\item FALSE\n",
       "\\item FALSE\n",
       "\\item FALSE\n",
       "\\item FALSE\n",
       "\\item FALSE\n",
       "\\item FALSE\n",
       "\\item FALSE\n",
       "\\item FALSE\n",
       "\\item FALSE\n",
       "\\item FALSE\n",
       "\\item FALSE\n",
       "\\item FALSE\n",
       "\\item FALSE\n",
       "\\item FALSE\n",
       "\\item FALSE\n",
       "\\item FALSE\n",
       "\\item FALSE\n",
       "\\item FALSE\n",
       "\\item FALSE\n",
       "\\item FALSE\n",
       "\\item FALSE\n",
       "\\item FALSE\n",
       "\\item FALSE\n",
       "\\item FALSE\n",
       "\\item FALSE\n",
       "\\item FALSE\n",
       "\\item FALSE\n",
       "\\item FALSE\n",
       "\\item FALSE\n",
       "\\item FALSE\n",
       "\\item FALSE\n",
       "\\item FALSE\n",
       "\\item FALSE\n",
       "\\item FALSE\n",
       "\\end{enumerate*}\n"
      ],
      "text/markdown": [
       "1. FALSE\n",
       "2. FALSE\n",
       "3. FALSE\n",
       "4. FALSE\n",
       "5. FALSE\n",
       "6. FALSE\n",
       "7. FALSE\n",
       "8. FALSE\n",
       "9. FALSE\n",
       "10. FALSE\n",
       "11. FALSE\n",
       "12. FALSE\n",
       "13. FALSE\n",
       "14. FALSE\n",
       "15. FALSE\n",
       "16. FALSE\n",
       "17. FALSE\n",
       "18. FALSE\n",
       "19. FALSE\n",
       "20. FALSE\n",
       "21. FALSE\n",
       "22. FALSE\n",
       "23. FALSE\n",
       "24. FALSE\n",
       "25. FALSE\n",
       "26. FALSE\n",
       "27. FALSE\n",
       "28. FALSE\n",
       "29. FALSE\n",
       "30. FALSE\n",
       "31. FALSE\n",
       "32. FALSE\n",
       "33. FALSE\n",
       "34. FALSE\n",
       "35. FALSE\n",
       "36. FALSE\n",
       "37. FALSE\n",
       "38. FALSE\n",
       "39. FALSE\n",
       "40. FALSE\n",
       "41. FALSE\n",
       "42. FALSE\n",
       "43. FALSE\n",
       "44. FALSE\n",
       "45. FALSE\n",
       "46. FALSE\n",
       "47. FALSE\n",
       "48. FALSE\n",
       "49. FALSE\n",
       "50. FALSE\n",
       "51. FALSE\n",
       "52. FALSE\n",
       "53. FALSE\n",
       "54. FALSE\n",
       "55. FALSE\n",
       "56. FALSE\n",
       "57. FALSE\n",
       "58. FALSE\n",
       "59. FALSE\n",
       "60. FALSE\n",
       "61. FALSE\n",
       "62. TRUE\n",
       "63. TRUE\n",
       "64. TRUE\n",
       "65. TRUE\n",
       "66. TRUE\n",
       "67. TRUE\n",
       "68. TRUE\n",
       "69. TRUE\n",
       "70. TRUE\n",
       "71. TRUE\n",
       "72. TRUE\n",
       "73. TRUE\n",
       "74. TRUE\n",
       "75. TRUE\n",
       "76. TRUE\n",
       "77. TRUE\n",
       "78. TRUE\n",
       "79. TRUE\n",
       "80. TRUE\n",
       "81. TRUE\n",
       "82. TRUE\n",
       "83. TRUE\n",
       "84. TRUE\n",
       "85. TRUE\n",
       "86. TRUE\n",
       "87. TRUE\n",
       "88. TRUE\n",
       "89. TRUE\n",
       "90. TRUE\n",
       "91. TRUE\n",
       "92. TRUE\n",
       "93. FALSE\n",
       "94. FALSE\n",
       "95. FALSE\n",
       "96. FALSE\n",
       "97. FALSE\n",
       "98. FALSE\n",
       "99. FALSE\n",
       "100. FALSE\n",
       "101. FALSE\n",
       "102. FALSE\n",
       "103. FALSE\n",
       "104. FALSE\n",
       "105. FALSE\n",
       "106. FALSE\n",
       "107. FALSE\n",
       "108. FALSE\n",
       "109. FALSE\n",
       "110. FALSE\n",
       "111. FALSE\n",
       "112. FALSE\n",
       "113. FALSE\n",
       "114. FALSE\n",
       "115. FALSE\n",
       "116. FALSE\n",
       "117. FALSE\n",
       "118. FALSE\n",
       "119. FALSE\n",
       "120. FALSE\n",
       "121. FALSE\n",
       "122. FALSE\n",
       "123. FALSE\n",
       "124. FALSE\n",
       "125. FALSE\n",
       "126. FALSE\n",
       "127. FALSE\n",
       "128. FALSE\n",
       "129. FALSE\n",
       "130. FALSE\n",
       "131. FALSE\n",
       "132. FALSE\n",
       "133. FALSE\n",
       "134. FALSE\n",
       "135. FALSE\n",
       "136. FALSE\n",
       "137. FALSE\n",
       "138. FALSE\n",
       "139. FALSE\n",
       "140. FALSE\n",
       "141. FALSE\n",
       "142. FALSE\n",
       "143. FALSE\n",
       "144. FALSE\n",
       "145. FALSE\n",
       "146. FALSE\n",
       "147. FALSE\n",
       "148. FALSE\n",
       "149. FALSE\n",
       "150. FALSE\n",
       "151. FALSE\n",
       "152. FALSE\n",
       "153. FALSE\n",
       "\n",
       "\n"
      ],
      "text/plain": [
       "  [1] FALSE FALSE FALSE FALSE FALSE FALSE FALSE FALSE FALSE FALSE FALSE FALSE\n",
       " [13] FALSE FALSE FALSE FALSE FALSE FALSE FALSE FALSE FALSE FALSE FALSE FALSE\n",
       " [25] FALSE FALSE FALSE FALSE FALSE FALSE FALSE FALSE FALSE FALSE FALSE FALSE\n",
       " [37] FALSE FALSE FALSE FALSE FALSE FALSE FALSE FALSE FALSE FALSE FALSE FALSE\n",
       " [49] FALSE FALSE FALSE FALSE FALSE FALSE FALSE FALSE FALSE FALSE FALSE FALSE\n",
       " [61] FALSE  TRUE  TRUE  TRUE  TRUE  TRUE  TRUE  TRUE  TRUE  TRUE  TRUE  TRUE\n",
       " [73]  TRUE  TRUE  TRUE  TRUE  TRUE  TRUE  TRUE  TRUE  TRUE  TRUE  TRUE  TRUE\n",
       " [85]  TRUE  TRUE  TRUE  TRUE  TRUE  TRUE  TRUE  TRUE FALSE FALSE FALSE FALSE\n",
       " [97] FALSE FALSE FALSE FALSE FALSE FALSE FALSE FALSE FALSE FALSE FALSE FALSE\n",
       "[109] FALSE FALSE FALSE FALSE FALSE FALSE FALSE FALSE FALSE FALSE FALSE FALSE\n",
       "[121] FALSE FALSE FALSE FALSE FALSE FALSE FALSE FALSE FALSE FALSE FALSE FALSE\n",
       "[133] FALSE FALSE FALSE FALSE FALSE FALSE FALSE FALSE FALSE FALSE FALSE FALSE\n",
       "[145] FALSE FALSE FALSE FALSE FALSE FALSE FALSE FALSE FALSE"
      ]
     },
     "metadata": {},
     "output_type": "display_data"
    }
   ],
   "source": [
    "july_obs"
   ]
  },
  {
   "cell_type": "code",
   "execution_count": 80,
   "id": "f00f50e7",
   "metadata": {},
   "outputs": [
    {
     "data": {
      "text/html": [
       "<table class=\"dataframe\">\n",
       "<caption>A data.frame: 31 × 6</caption>\n",
       "<thead>\n",
       "\t<tr><th></th><th scope=col>Ozone</th><th scope=col>Solar.R</th><th scope=col>Wind</th><th scope=col>Temp</th><th scope=col>Month</th><th scope=col>Day</th></tr>\n",
       "\t<tr><th></th><th scope=col>&lt;int&gt;</th><th scope=col>&lt;int&gt;</th><th scope=col>&lt;dbl&gt;</th><th scope=col>&lt;int&gt;</th><th scope=col>&lt;int&gt;</th><th scope=col>&lt;int&gt;</th></tr>\n",
       "</thead>\n",
       "<tbody>\n",
       "\t<tr><th scope=row>62</th><td>135</td><td>269</td><td> 4.1</td><td>84</td><td>7</td><td> 1</td></tr>\n",
       "\t<tr><th scope=row>63</th><td> 49</td><td>248</td><td> 9.2</td><td>85</td><td>7</td><td> 2</td></tr>\n",
       "\t<tr><th scope=row>64</th><td> 32</td><td>236</td><td> 9.2</td><td>81</td><td>7</td><td> 3</td></tr>\n",
       "\t<tr><th scope=row>65</th><td> NA</td><td>101</td><td>10.9</td><td>84</td><td>7</td><td> 4</td></tr>\n",
       "\t<tr><th scope=row>66</th><td> 64</td><td>175</td><td> 4.6</td><td>83</td><td>7</td><td> 5</td></tr>\n",
       "\t<tr><th scope=row>67</th><td> 40</td><td>314</td><td>10.9</td><td>83</td><td>7</td><td> 6</td></tr>\n",
       "\t<tr><th scope=row>68</th><td> 77</td><td>276</td><td> 5.1</td><td>88</td><td>7</td><td> 7</td></tr>\n",
       "\t<tr><th scope=row>69</th><td> 97</td><td>267</td><td> 6.3</td><td>92</td><td>7</td><td> 8</td></tr>\n",
       "\t<tr><th scope=row>70</th><td> 97</td><td>272</td><td> 5.7</td><td>92</td><td>7</td><td> 9</td></tr>\n",
       "\t<tr><th scope=row>71</th><td> 85</td><td>175</td><td> 7.4</td><td>89</td><td>7</td><td>10</td></tr>\n",
       "\t<tr><th scope=row>72</th><td> NA</td><td>139</td><td> 8.6</td><td>82</td><td>7</td><td>11</td></tr>\n",
       "\t<tr><th scope=row>73</th><td> 10</td><td>264</td><td>14.3</td><td>73</td><td>7</td><td>12</td></tr>\n",
       "\t<tr><th scope=row>74</th><td> 27</td><td>175</td><td>14.9</td><td>81</td><td>7</td><td>13</td></tr>\n",
       "\t<tr><th scope=row>75</th><td> NA</td><td>291</td><td>14.9</td><td>91</td><td>7</td><td>14</td></tr>\n",
       "\t<tr><th scope=row>76</th><td>  7</td><td> 48</td><td>14.3</td><td>80</td><td>7</td><td>15</td></tr>\n",
       "\t<tr><th scope=row>77</th><td> 48</td><td>260</td><td> 6.9</td><td>81</td><td>7</td><td>16</td></tr>\n",
       "\t<tr><th scope=row>78</th><td> 35</td><td>274</td><td>10.3</td><td>82</td><td>7</td><td>17</td></tr>\n",
       "\t<tr><th scope=row>79</th><td> 61</td><td>285</td><td> 6.3</td><td>84</td><td>7</td><td>18</td></tr>\n",
       "\t<tr><th scope=row>80</th><td> 79</td><td>187</td><td> 5.1</td><td>87</td><td>7</td><td>19</td></tr>\n",
       "\t<tr><th scope=row>81</th><td> 63</td><td>220</td><td>11.5</td><td>85</td><td>7</td><td>20</td></tr>\n",
       "\t<tr><th scope=row>82</th><td> 16</td><td>  7</td><td> 6.9</td><td>74</td><td>7</td><td>21</td></tr>\n",
       "\t<tr><th scope=row>83</th><td> NA</td><td>258</td><td> 9.7</td><td>81</td><td>7</td><td>22</td></tr>\n",
       "\t<tr><th scope=row>84</th><td> NA</td><td>295</td><td>11.5</td><td>82</td><td>7</td><td>23</td></tr>\n",
       "\t<tr><th scope=row>85</th><td> 80</td><td>294</td><td> 8.6</td><td>86</td><td>7</td><td>24</td></tr>\n",
       "\t<tr><th scope=row>86</th><td>108</td><td>223</td><td> 8.0</td><td>85</td><td>7</td><td>25</td></tr>\n",
       "\t<tr><th scope=row>87</th><td> 20</td><td> 81</td><td> 8.6</td><td>82</td><td>7</td><td>26</td></tr>\n",
       "\t<tr><th scope=row>88</th><td> 52</td><td> 82</td><td>12.0</td><td>86</td><td>7</td><td>27</td></tr>\n",
       "\t<tr><th scope=row>89</th><td> 82</td><td>213</td><td> 7.4</td><td>88</td><td>7</td><td>28</td></tr>\n",
       "\t<tr><th scope=row>90</th><td> 50</td><td>275</td><td> 7.4</td><td>86</td><td>7</td><td>29</td></tr>\n",
       "\t<tr><th scope=row>91</th><td> 64</td><td>253</td><td> 7.4</td><td>83</td><td>7</td><td>30</td></tr>\n",
       "\t<tr><th scope=row>92</th><td> 59</td><td>254</td><td> 9.2</td><td>81</td><td>7</td><td>31</td></tr>\n",
       "</tbody>\n",
       "</table>\n"
      ],
      "text/latex": [
       "A data.frame: 31 × 6\n",
       "\\begin{tabular}{r|llllll}\n",
       "  & Ozone & Solar.R & Wind & Temp & Month & Day\\\\\n",
       "  & <int> & <int> & <dbl> & <int> & <int> & <int>\\\\\n",
       "\\hline\n",
       "\t62 & 135 & 269 &  4.1 & 84 & 7 &  1\\\\\n",
       "\t63 &  49 & 248 &  9.2 & 85 & 7 &  2\\\\\n",
       "\t64 &  32 & 236 &  9.2 & 81 & 7 &  3\\\\\n",
       "\t65 &  NA & 101 & 10.9 & 84 & 7 &  4\\\\\n",
       "\t66 &  64 & 175 &  4.6 & 83 & 7 &  5\\\\\n",
       "\t67 &  40 & 314 & 10.9 & 83 & 7 &  6\\\\\n",
       "\t68 &  77 & 276 &  5.1 & 88 & 7 &  7\\\\\n",
       "\t69 &  97 & 267 &  6.3 & 92 & 7 &  8\\\\\n",
       "\t70 &  97 & 272 &  5.7 & 92 & 7 &  9\\\\\n",
       "\t71 &  85 & 175 &  7.4 & 89 & 7 & 10\\\\\n",
       "\t72 &  NA & 139 &  8.6 & 82 & 7 & 11\\\\\n",
       "\t73 &  10 & 264 & 14.3 & 73 & 7 & 12\\\\\n",
       "\t74 &  27 & 175 & 14.9 & 81 & 7 & 13\\\\\n",
       "\t75 &  NA & 291 & 14.9 & 91 & 7 & 14\\\\\n",
       "\t76 &   7 &  48 & 14.3 & 80 & 7 & 15\\\\\n",
       "\t77 &  48 & 260 &  6.9 & 81 & 7 & 16\\\\\n",
       "\t78 &  35 & 274 & 10.3 & 82 & 7 & 17\\\\\n",
       "\t79 &  61 & 285 &  6.3 & 84 & 7 & 18\\\\\n",
       "\t80 &  79 & 187 &  5.1 & 87 & 7 & 19\\\\\n",
       "\t81 &  63 & 220 & 11.5 & 85 & 7 & 20\\\\\n",
       "\t82 &  16 &   7 &  6.9 & 74 & 7 & 21\\\\\n",
       "\t83 &  NA & 258 &  9.7 & 81 & 7 & 22\\\\\n",
       "\t84 &  NA & 295 & 11.5 & 82 & 7 & 23\\\\\n",
       "\t85 &  80 & 294 &  8.6 & 86 & 7 & 24\\\\\n",
       "\t86 & 108 & 223 &  8.0 & 85 & 7 & 25\\\\\n",
       "\t87 &  20 &  81 &  8.6 & 82 & 7 & 26\\\\\n",
       "\t88 &  52 &  82 & 12.0 & 86 & 7 & 27\\\\\n",
       "\t89 &  82 & 213 &  7.4 & 88 & 7 & 28\\\\\n",
       "\t90 &  50 & 275 &  7.4 & 86 & 7 & 29\\\\\n",
       "\t91 &  64 & 253 &  7.4 & 83 & 7 & 30\\\\\n",
       "\t92 &  59 & 254 &  9.2 & 81 & 7 & 31\\\\\n",
       "\\end{tabular}\n"
      ],
      "text/markdown": [
       "\n",
       "A data.frame: 31 × 6\n",
       "\n",
       "| <!--/--> | Ozone &lt;int&gt; | Solar.R &lt;int&gt; | Wind &lt;dbl&gt; | Temp &lt;int&gt; | Month &lt;int&gt; | Day &lt;int&gt; |\n",
       "|---|---|---|---|---|---|---|\n",
       "| 62 | 135 | 269 |  4.1 | 84 | 7 |  1 |\n",
       "| 63 |  49 | 248 |  9.2 | 85 | 7 |  2 |\n",
       "| 64 |  32 | 236 |  9.2 | 81 | 7 |  3 |\n",
       "| 65 |  NA | 101 | 10.9 | 84 | 7 |  4 |\n",
       "| 66 |  64 | 175 |  4.6 | 83 | 7 |  5 |\n",
       "| 67 |  40 | 314 | 10.9 | 83 | 7 |  6 |\n",
       "| 68 |  77 | 276 |  5.1 | 88 | 7 |  7 |\n",
       "| 69 |  97 | 267 |  6.3 | 92 | 7 |  8 |\n",
       "| 70 |  97 | 272 |  5.7 | 92 | 7 |  9 |\n",
       "| 71 |  85 | 175 |  7.4 | 89 | 7 | 10 |\n",
       "| 72 |  NA | 139 |  8.6 | 82 | 7 | 11 |\n",
       "| 73 |  10 | 264 | 14.3 | 73 | 7 | 12 |\n",
       "| 74 |  27 | 175 | 14.9 | 81 | 7 | 13 |\n",
       "| 75 |  NA | 291 | 14.9 | 91 | 7 | 14 |\n",
       "| 76 |   7 |  48 | 14.3 | 80 | 7 | 15 |\n",
       "| 77 |  48 | 260 |  6.9 | 81 | 7 | 16 |\n",
       "| 78 |  35 | 274 | 10.3 | 82 | 7 | 17 |\n",
       "| 79 |  61 | 285 |  6.3 | 84 | 7 | 18 |\n",
       "| 80 |  79 | 187 |  5.1 | 87 | 7 | 19 |\n",
       "| 81 |  63 | 220 | 11.5 | 85 | 7 | 20 |\n",
       "| 82 |  16 |   7 |  6.9 | 74 | 7 | 21 |\n",
       "| 83 |  NA | 258 |  9.7 | 81 | 7 | 22 |\n",
       "| 84 |  NA | 295 | 11.5 | 82 | 7 | 23 |\n",
       "| 85 |  80 | 294 |  8.6 | 86 | 7 | 24 |\n",
       "| 86 | 108 | 223 |  8.0 | 85 | 7 | 25 |\n",
       "| 87 |  20 |  81 |  8.6 | 82 | 7 | 26 |\n",
       "| 88 |  52 |  82 | 12.0 | 86 | 7 | 27 |\n",
       "| 89 |  82 | 213 |  7.4 | 88 | 7 | 28 |\n",
       "| 90 |  50 | 275 |  7.4 | 86 | 7 | 29 |\n",
       "| 91 |  64 | 253 |  7.4 | 83 | 7 | 30 |\n",
       "| 92 |  59 | 254 |  9.2 | 81 | 7 | 31 |\n",
       "\n"
      ],
      "text/plain": [
       "   Ozone Solar.R Wind Temp Month Day\n",
       "62 135   269      4.1 84   7      1 \n",
       "63  49   248      9.2 85   7      2 \n",
       "64  32   236      9.2 81   7      3 \n",
       "65  NA   101     10.9 84   7      4 \n",
       "66  64   175      4.6 83   7      5 \n",
       "67  40   314     10.9 83   7      6 \n",
       "68  77   276      5.1 88   7      7 \n",
       "69  97   267      6.3 92   7      8 \n",
       "70  97   272      5.7 92   7      9 \n",
       "71  85   175      7.4 89   7     10 \n",
       "72  NA   139      8.6 82   7     11 \n",
       "73  10   264     14.3 73   7     12 \n",
       "74  27   175     14.9 81   7     13 \n",
       "75  NA   291     14.9 91   7     14 \n",
       "76   7    48     14.3 80   7     15 \n",
       "77  48   260      6.9 81   7     16 \n",
       "78  35   274     10.3 82   7     17 \n",
       "79  61   285      6.3 84   7     18 \n",
       "80  79   187      5.1 87   7     19 \n",
       "81  63   220     11.5 85   7     20 \n",
       "82  16     7      6.9 74   7     21 \n",
       "83  NA   258      9.7 81   7     22 \n",
       "84  NA   295     11.5 82   7     23 \n",
       "85  80   294      8.6 86   7     24 \n",
       "86 108   223      8.0 85   7     25 \n",
       "87  20    81      8.6 82   7     26 \n",
       "88  52    82     12.0 86   7     27 \n",
       "89  82   213      7.4 88   7     28 \n",
       "90  50   275      7.4 86   7     29 \n",
       "91  64   253      7.4 83   7     30 \n",
       "92  59   254      9.2 81   7     31 "
      ]
     },
     "metadata": {},
     "output_type": "display_data"
    }
   ],
   "source": [
    "airquality[july_obs, ]"
   ]
  },
  {
   "cell_type": "code",
   "execution_count": 81,
   "id": "a6714058",
   "metadata": {},
   "outputs": [
    {
     "data": {
      "text/html": [
       "<table class=\"dataframe\">\n",
       "<caption>A data.frame: 31 × 6</caption>\n",
       "<thead>\n",
       "\t<tr><th></th><th scope=col>Ozone</th><th scope=col>Solar.R</th><th scope=col>Wind</th><th scope=col>Temp</th><th scope=col>Month</th><th scope=col>Day</th></tr>\n",
       "\t<tr><th></th><th scope=col>&lt;int&gt;</th><th scope=col>&lt;int&gt;</th><th scope=col>&lt;dbl&gt;</th><th scope=col>&lt;int&gt;</th><th scope=col>&lt;int&gt;</th><th scope=col>&lt;int&gt;</th></tr>\n",
       "</thead>\n",
       "<tbody>\n",
       "\t<tr><th scope=row>62</th><td>135</td><td>269</td><td> 4.1</td><td>84</td><td>7</td><td> 1</td></tr>\n",
       "\t<tr><th scope=row>63</th><td> 49</td><td>248</td><td> 9.2</td><td>85</td><td>7</td><td> 2</td></tr>\n",
       "\t<tr><th scope=row>64</th><td> 32</td><td>236</td><td> 9.2</td><td>81</td><td>7</td><td> 3</td></tr>\n",
       "\t<tr><th scope=row>65</th><td> NA</td><td>101</td><td>10.9</td><td>84</td><td>7</td><td> 4</td></tr>\n",
       "\t<tr><th scope=row>66</th><td> 64</td><td>175</td><td> 4.6</td><td>83</td><td>7</td><td> 5</td></tr>\n",
       "\t<tr><th scope=row>67</th><td> 40</td><td>314</td><td>10.9</td><td>83</td><td>7</td><td> 6</td></tr>\n",
       "\t<tr><th scope=row>68</th><td> 77</td><td>276</td><td> 5.1</td><td>88</td><td>7</td><td> 7</td></tr>\n",
       "\t<tr><th scope=row>69</th><td> 97</td><td>267</td><td> 6.3</td><td>92</td><td>7</td><td> 8</td></tr>\n",
       "\t<tr><th scope=row>70</th><td> 97</td><td>272</td><td> 5.7</td><td>92</td><td>7</td><td> 9</td></tr>\n",
       "\t<tr><th scope=row>71</th><td> 85</td><td>175</td><td> 7.4</td><td>89</td><td>7</td><td>10</td></tr>\n",
       "\t<tr><th scope=row>72</th><td> NA</td><td>139</td><td> 8.6</td><td>82</td><td>7</td><td>11</td></tr>\n",
       "\t<tr><th scope=row>73</th><td> 10</td><td>264</td><td>14.3</td><td>73</td><td>7</td><td>12</td></tr>\n",
       "\t<tr><th scope=row>74</th><td> 27</td><td>175</td><td>14.9</td><td>81</td><td>7</td><td>13</td></tr>\n",
       "\t<tr><th scope=row>75</th><td> NA</td><td>291</td><td>14.9</td><td>91</td><td>7</td><td>14</td></tr>\n",
       "\t<tr><th scope=row>76</th><td>  7</td><td> 48</td><td>14.3</td><td>80</td><td>7</td><td>15</td></tr>\n",
       "\t<tr><th scope=row>77</th><td> 48</td><td>260</td><td> 6.9</td><td>81</td><td>7</td><td>16</td></tr>\n",
       "\t<tr><th scope=row>78</th><td> 35</td><td>274</td><td>10.3</td><td>82</td><td>7</td><td>17</td></tr>\n",
       "\t<tr><th scope=row>79</th><td> 61</td><td>285</td><td> 6.3</td><td>84</td><td>7</td><td>18</td></tr>\n",
       "\t<tr><th scope=row>80</th><td> 79</td><td>187</td><td> 5.1</td><td>87</td><td>7</td><td>19</td></tr>\n",
       "\t<tr><th scope=row>81</th><td> 63</td><td>220</td><td>11.5</td><td>85</td><td>7</td><td>20</td></tr>\n",
       "\t<tr><th scope=row>82</th><td> 16</td><td>  7</td><td> 6.9</td><td>74</td><td>7</td><td>21</td></tr>\n",
       "\t<tr><th scope=row>83</th><td> NA</td><td>258</td><td> 9.7</td><td>81</td><td>7</td><td>22</td></tr>\n",
       "\t<tr><th scope=row>84</th><td> NA</td><td>295</td><td>11.5</td><td>82</td><td>7</td><td>23</td></tr>\n",
       "\t<tr><th scope=row>85</th><td> 80</td><td>294</td><td> 8.6</td><td>86</td><td>7</td><td>24</td></tr>\n",
       "\t<tr><th scope=row>86</th><td>108</td><td>223</td><td> 8.0</td><td>85</td><td>7</td><td>25</td></tr>\n",
       "\t<tr><th scope=row>87</th><td> 20</td><td> 81</td><td> 8.6</td><td>82</td><td>7</td><td>26</td></tr>\n",
       "\t<tr><th scope=row>88</th><td> 52</td><td> 82</td><td>12.0</td><td>86</td><td>7</td><td>27</td></tr>\n",
       "\t<tr><th scope=row>89</th><td> 82</td><td>213</td><td> 7.4</td><td>88</td><td>7</td><td>28</td></tr>\n",
       "\t<tr><th scope=row>90</th><td> 50</td><td>275</td><td> 7.4</td><td>86</td><td>7</td><td>29</td></tr>\n",
       "\t<tr><th scope=row>91</th><td> 64</td><td>253</td><td> 7.4</td><td>83</td><td>7</td><td>30</td></tr>\n",
       "\t<tr><th scope=row>92</th><td> 59</td><td>254</td><td> 9.2</td><td>81</td><td>7</td><td>31</td></tr>\n",
       "</tbody>\n",
       "</table>\n"
      ],
      "text/latex": [
       "A data.frame: 31 × 6\n",
       "\\begin{tabular}{r|llllll}\n",
       "  & Ozone & Solar.R & Wind & Temp & Month & Day\\\\\n",
       "  & <int> & <int> & <dbl> & <int> & <int> & <int>\\\\\n",
       "\\hline\n",
       "\t62 & 135 & 269 &  4.1 & 84 & 7 &  1\\\\\n",
       "\t63 &  49 & 248 &  9.2 & 85 & 7 &  2\\\\\n",
       "\t64 &  32 & 236 &  9.2 & 81 & 7 &  3\\\\\n",
       "\t65 &  NA & 101 & 10.9 & 84 & 7 &  4\\\\\n",
       "\t66 &  64 & 175 &  4.6 & 83 & 7 &  5\\\\\n",
       "\t67 &  40 & 314 & 10.9 & 83 & 7 &  6\\\\\n",
       "\t68 &  77 & 276 &  5.1 & 88 & 7 &  7\\\\\n",
       "\t69 &  97 & 267 &  6.3 & 92 & 7 &  8\\\\\n",
       "\t70 &  97 & 272 &  5.7 & 92 & 7 &  9\\\\\n",
       "\t71 &  85 & 175 &  7.4 & 89 & 7 & 10\\\\\n",
       "\t72 &  NA & 139 &  8.6 & 82 & 7 & 11\\\\\n",
       "\t73 &  10 & 264 & 14.3 & 73 & 7 & 12\\\\\n",
       "\t74 &  27 & 175 & 14.9 & 81 & 7 & 13\\\\\n",
       "\t75 &  NA & 291 & 14.9 & 91 & 7 & 14\\\\\n",
       "\t76 &   7 &  48 & 14.3 & 80 & 7 & 15\\\\\n",
       "\t77 &  48 & 260 &  6.9 & 81 & 7 & 16\\\\\n",
       "\t78 &  35 & 274 & 10.3 & 82 & 7 & 17\\\\\n",
       "\t79 &  61 & 285 &  6.3 & 84 & 7 & 18\\\\\n",
       "\t80 &  79 & 187 &  5.1 & 87 & 7 & 19\\\\\n",
       "\t81 &  63 & 220 & 11.5 & 85 & 7 & 20\\\\\n",
       "\t82 &  16 &   7 &  6.9 & 74 & 7 & 21\\\\\n",
       "\t83 &  NA & 258 &  9.7 & 81 & 7 & 22\\\\\n",
       "\t84 &  NA & 295 & 11.5 & 82 & 7 & 23\\\\\n",
       "\t85 &  80 & 294 &  8.6 & 86 & 7 & 24\\\\\n",
       "\t86 & 108 & 223 &  8.0 & 85 & 7 & 25\\\\\n",
       "\t87 &  20 &  81 &  8.6 & 82 & 7 & 26\\\\\n",
       "\t88 &  52 &  82 & 12.0 & 86 & 7 & 27\\\\\n",
       "\t89 &  82 & 213 &  7.4 & 88 & 7 & 28\\\\\n",
       "\t90 &  50 & 275 &  7.4 & 86 & 7 & 29\\\\\n",
       "\t91 &  64 & 253 &  7.4 & 83 & 7 & 30\\\\\n",
       "\t92 &  59 & 254 &  9.2 & 81 & 7 & 31\\\\\n",
       "\\end{tabular}\n"
      ],
      "text/markdown": [
       "\n",
       "A data.frame: 31 × 6\n",
       "\n",
       "| <!--/--> | Ozone &lt;int&gt; | Solar.R &lt;int&gt; | Wind &lt;dbl&gt; | Temp &lt;int&gt; | Month &lt;int&gt; | Day &lt;int&gt; |\n",
       "|---|---|---|---|---|---|---|\n",
       "| 62 | 135 | 269 |  4.1 | 84 | 7 |  1 |\n",
       "| 63 |  49 | 248 |  9.2 | 85 | 7 |  2 |\n",
       "| 64 |  32 | 236 |  9.2 | 81 | 7 |  3 |\n",
       "| 65 |  NA | 101 | 10.9 | 84 | 7 |  4 |\n",
       "| 66 |  64 | 175 |  4.6 | 83 | 7 |  5 |\n",
       "| 67 |  40 | 314 | 10.9 | 83 | 7 |  6 |\n",
       "| 68 |  77 | 276 |  5.1 | 88 | 7 |  7 |\n",
       "| 69 |  97 | 267 |  6.3 | 92 | 7 |  8 |\n",
       "| 70 |  97 | 272 |  5.7 | 92 | 7 |  9 |\n",
       "| 71 |  85 | 175 |  7.4 | 89 | 7 | 10 |\n",
       "| 72 |  NA | 139 |  8.6 | 82 | 7 | 11 |\n",
       "| 73 |  10 | 264 | 14.3 | 73 | 7 | 12 |\n",
       "| 74 |  27 | 175 | 14.9 | 81 | 7 | 13 |\n",
       "| 75 |  NA | 291 | 14.9 | 91 | 7 | 14 |\n",
       "| 76 |   7 |  48 | 14.3 | 80 | 7 | 15 |\n",
       "| 77 |  48 | 260 |  6.9 | 81 | 7 | 16 |\n",
       "| 78 |  35 | 274 | 10.3 | 82 | 7 | 17 |\n",
       "| 79 |  61 | 285 |  6.3 | 84 | 7 | 18 |\n",
       "| 80 |  79 | 187 |  5.1 | 87 | 7 | 19 |\n",
       "| 81 |  63 | 220 | 11.5 | 85 | 7 | 20 |\n",
       "| 82 |  16 |   7 |  6.9 | 74 | 7 | 21 |\n",
       "| 83 |  NA | 258 |  9.7 | 81 | 7 | 22 |\n",
       "| 84 |  NA | 295 | 11.5 | 82 | 7 | 23 |\n",
       "| 85 |  80 | 294 |  8.6 | 86 | 7 | 24 |\n",
       "| 86 | 108 | 223 |  8.0 | 85 | 7 | 25 |\n",
       "| 87 |  20 |  81 |  8.6 | 82 | 7 | 26 |\n",
       "| 88 |  52 |  82 | 12.0 | 86 | 7 | 27 |\n",
       "| 89 |  82 | 213 |  7.4 | 88 | 7 | 28 |\n",
       "| 90 |  50 | 275 |  7.4 | 86 | 7 | 29 |\n",
       "| 91 |  64 | 253 |  7.4 | 83 | 7 | 30 |\n",
       "| 92 |  59 | 254 |  9.2 | 81 | 7 | 31 |\n",
       "\n"
      ],
      "text/plain": [
       "   Ozone Solar.R Wind Temp Month Day\n",
       "62 135   269      4.1 84   7      1 \n",
       "63  49   248      9.2 85   7      2 \n",
       "64  32   236      9.2 81   7      3 \n",
       "65  NA   101     10.9 84   7      4 \n",
       "66  64   175      4.6 83   7      5 \n",
       "67  40   314     10.9 83   7      6 \n",
       "68  77   276      5.1 88   7      7 \n",
       "69  97   267      6.3 92   7      8 \n",
       "70  97   272      5.7 92   7      9 \n",
       "71  85   175      7.4 89   7     10 \n",
       "72  NA   139      8.6 82   7     11 \n",
       "73  10   264     14.3 73   7     12 \n",
       "74  27   175     14.9 81   7     13 \n",
       "75  NA   291     14.9 91   7     14 \n",
       "76   7    48     14.3 80   7     15 \n",
       "77  48   260      6.9 81   7     16 \n",
       "78  35   274     10.3 82   7     17 \n",
       "79  61   285      6.3 84   7     18 \n",
       "80  79   187      5.1 87   7     19 \n",
       "81  63   220     11.5 85   7     20 \n",
       "82  16     7      6.9 74   7     21 \n",
       "83  NA   258      9.7 81   7     22 \n",
       "84  NA   295     11.5 82   7     23 \n",
       "85  80   294      8.6 86   7     24 \n",
       "86 108   223      8.0 85   7     25 \n",
       "87  20    81      8.6 82   7     26 \n",
       "88  52    82     12.0 86   7     27 \n",
       "89  82   213      7.4 88   7     28 \n",
       "90  50   275      7.4 86   7     29 \n",
       "91  64   253      7.4 83   7     30 \n",
       "92  59   254      9.2 81   7     31 "
      ]
     },
     "metadata": {},
     "output_type": "display_data"
    }
   ],
   "source": [
    "subset(airquality, Month == 7)"
   ]
  },
  {
   "cell_type": "code",
   "execution_count": 82,
   "id": "fd6431d6",
   "metadata": {},
   "outputs": [
    {
     "data": {
      "text/html": [
       "<table class=\"dataframe\">\n",
       "<caption>A data.frame: 16 × 6</caption>\n",
       "<thead>\n",
       "\t<tr><th></th><th scope=col>Ozone</th><th scope=col>Solar.R</th><th scope=col>Wind</th><th scope=col>Temp</th><th scope=col>Month</th><th scope=col>Day</th></tr>\n",
       "\t<tr><th></th><th scope=col>&lt;int&gt;</th><th scope=col>&lt;int&gt;</th><th scope=col>&lt;dbl&gt;</th><th scope=col>&lt;int&gt;</th><th scope=col>&lt;int&gt;</th><th scope=col>&lt;int&gt;</th></tr>\n",
       "</thead>\n",
       "<tbody>\n",
       "\t<tr><th scope=row>77</th><td> 48</td><td>260</td><td> 6.9</td><td>81</td><td>7</td><td>16</td></tr>\n",
       "\t<tr><th scope=row>78</th><td> 35</td><td>274</td><td>10.3</td><td>82</td><td>7</td><td>17</td></tr>\n",
       "\t<tr><th scope=row>79</th><td> 61</td><td>285</td><td> 6.3</td><td>84</td><td>7</td><td>18</td></tr>\n",
       "\t<tr><th scope=row>80</th><td> 79</td><td>187</td><td> 5.1</td><td>87</td><td>7</td><td>19</td></tr>\n",
       "\t<tr><th scope=row>81</th><td> 63</td><td>220</td><td>11.5</td><td>85</td><td>7</td><td>20</td></tr>\n",
       "\t<tr><th scope=row>82</th><td> 16</td><td>  7</td><td> 6.9</td><td>74</td><td>7</td><td>21</td></tr>\n",
       "\t<tr><th scope=row>83</th><td> NA</td><td>258</td><td> 9.7</td><td>81</td><td>7</td><td>22</td></tr>\n",
       "\t<tr><th scope=row>84</th><td> NA</td><td>295</td><td>11.5</td><td>82</td><td>7</td><td>23</td></tr>\n",
       "\t<tr><th scope=row>85</th><td> 80</td><td>294</td><td> 8.6</td><td>86</td><td>7</td><td>24</td></tr>\n",
       "\t<tr><th scope=row>86</th><td>108</td><td>223</td><td> 8.0</td><td>85</td><td>7</td><td>25</td></tr>\n",
       "\t<tr><th scope=row>87</th><td> 20</td><td> 81</td><td> 8.6</td><td>82</td><td>7</td><td>26</td></tr>\n",
       "\t<tr><th scope=row>88</th><td> 52</td><td> 82</td><td>12.0</td><td>86</td><td>7</td><td>27</td></tr>\n",
       "\t<tr><th scope=row>89</th><td> 82</td><td>213</td><td> 7.4</td><td>88</td><td>7</td><td>28</td></tr>\n",
       "\t<tr><th scope=row>90</th><td> 50</td><td>275</td><td> 7.4</td><td>86</td><td>7</td><td>29</td></tr>\n",
       "\t<tr><th scope=row>91</th><td> 64</td><td>253</td><td> 7.4</td><td>83</td><td>7</td><td>30</td></tr>\n",
       "\t<tr><th scope=row>92</th><td> 59</td><td>254</td><td> 9.2</td><td>81</td><td>7</td><td>31</td></tr>\n",
       "</tbody>\n",
       "</table>\n"
      ],
      "text/latex": [
       "A data.frame: 16 × 6\n",
       "\\begin{tabular}{r|llllll}\n",
       "  & Ozone & Solar.R & Wind & Temp & Month & Day\\\\\n",
       "  & <int> & <int> & <dbl> & <int> & <int> & <int>\\\\\n",
       "\\hline\n",
       "\t77 &  48 & 260 &  6.9 & 81 & 7 & 16\\\\\n",
       "\t78 &  35 & 274 & 10.3 & 82 & 7 & 17\\\\\n",
       "\t79 &  61 & 285 &  6.3 & 84 & 7 & 18\\\\\n",
       "\t80 &  79 & 187 &  5.1 & 87 & 7 & 19\\\\\n",
       "\t81 &  63 & 220 & 11.5 & 85 & 7 & 20\\\\\n",
       "\t82 &  16 &   7 &  6.9 & 74 & 7 & 21\\\\\n",
       "\t83 &  NA & 258 &  9.7 & 81 & 7 & 22\\\\\n",
       "\t84 &  NA & 295 & 11.5 & 82 & 7 & 23\\\\\n",
       "\t85 &  80 & 294 &  8.6 & 86 & 7 & 24\\\\\n",
       "\t86 & 108 & 223 &  8.0 & 85 & 7 & 25\\\\\n",
       "\t87 &  20 &  81 &  8.6 & 82 & 7 & 26\\\\\n",
       "\t88 &  52 &  82 & 12.0 & 86 & 7 & 27\\\\\n",
       "\t89 &  82 & 213 &  7.4 & 88 & 7 & 28\\\\\n",
       "\t90 &  50 & 275 &  7.4 & 86 & 7 & 29\\\\\n",
       "\t91 &  64 & 253 &  7.4 & 83 & 7 & 30\\\\\n",
       "\t92 &  59 & 254 &  9.2 & 81 & 7 & 31\\\\\n",
       "\\end{tabular}\n"
      ],
      "text/markdown": [
       "\n",
       "A data.frame: 16 × 6\n",
       "\n",
       "| <!--/--> | Ozone &lt;int&gt; | Solar.R &lt;int&gt; | Wind &lt;dbl&gt; | Temp &lt;int&gt; | Month &lt;int&gt; | Day &lt;int&gt; |\n",
       "|---|---|---|---|---|---|---|\n",
       "| 77 |  48 | 260 |  6.9 | 81 | 7 | 16 |\n",
       "| 78 |  35 | 274 | 10.3 | 82 | 7 | 17 |\n",
       "| 79 |  61 | 285 |  6.3 | 84 | 7 | 18 |\n",
       "| 80 |  79 | 187 |  5.1 | 87 | 7 | 19 |\n",
       "| 81 |  63 | 220 | 11.5 | 85 | 7 | 20 |\n",
       "| 82 |  16 |   7 |  6.9 | 74 | 7 | 21 |\n",
       "| 83 |  NA | 258 |  9.7 | 81 | 7 | 22 |\n",
       "| 84 |  NA | 295 | 11.5 | 82 | 7 | 23 |\n",
       "| 85 |  80 | 294 |  8.6 | 86 | 7 | 24 |\n",
       "| 86 | 108 | 223 |  8.0 | 85 | 7 | 25 |\n",
       "| 87 |  20 |  81 |  8.6 | 82 | 7 | 26 |\n",
       "| 88 |  52 |  82 | 12.0 | 86 | 7 | 27 |\n",
       "| 89 |  82 | 213 |  7.4 | 88 | 7 | 28 |\n",
       "| 90 |  50 | 275 |  7.4 | 86 | 7 | 29 |\n",
       "| 91 |  64 | 253 |  7.4 | 83 | 7 | 30 |\n",
       "| 92 |  59 | 254 |  9.2 | 81 | 7 | 31 |\n",
       "\n"
      ],
      "text/plain": [
       "   Ozone Solar.R Wind Temp Month Day\n",
       "77  48   260      6.9 81   7     16 \n",
       "78  35   274     10.3 82   7     17 \n",
       "79  61   285      6.3 84   7     18 \n",
       "80  79   187      5.1 87   7     19 \n",
       "81  63   220     11.5 85   7     20 \n",
       "82  16     7      6.9 74   7     21 \n",
       "83  NA   258      9.7 81   7     22 \n",
       "84  NA   295     11.5 82   7     23 \n",
       "85  80   294      8.6 86   7     24 \n",
       "86 108   223      8.0 85   7     25 \n",
       "87  20    81      8.6 82   7     26 \n",
       "88  52    82     12.0 86   7     27 \n",
       "89  82   213      7.4 88   7     28 \n",
       "90  50   275      7.4 86   7     29 \n",
       "91  64   253      7.4 83   7     30 \n",
       "92  59   254      9.2 81   7     31 "
      ]
     },
     "metadata": {},
     "output_type": "display_data"
    }
   ],
   "source": [
    "subset(airquality, (Month  == 7) & (Day > 15) )"
   ]
  },
  {
   "cell_type": "code",
   "execution_count": null,
   "id": "f3876bca",
   "metadata": {},
   "outputs": [],
   "source": [
    "a_vector <- c(1, 2, 3, 4, 5, 6)\n",
    " \n",
    "a_matrix <- matrix(1:9, nrow=3)\n",
    " \n",
    "first_names <- c(\"John\", \"Jane\")\n",
    "last_names <- c(\"Smith\", \"Doe\")\n",
    "a_df <- data.frame(first_names, last_names)\n"
   ]
  },
  {
   "cell_type": "code",
   "execution_count": 88,
   "id": "d88d3acc",
   "metadata": {},
   "outputs": [],
   "source": [
    "my_list <- list(a_vector, a_matrix, a_df)"
   ]
  },
  {
   "cell_type": "code",
   "execution_count": 89,
   "id": "872a93c8",
   "metadata": {},
   "outputs": [
    {
     "name": "stdout",
     "output_type": "stream",
     "text": [
      "[[1]]\n",
      "[1] 1 2 3 4 5 6\n",
      "\n",
      "[[2]]\n",
      "     [,1] [,2] [,3]\n",
      "[1,]    1    4    7\n",
      "[2,]    2    5    8\n",
      "[3,]    3    6    9\n",
      "\n",
      "[[3]]\n",
      "  first_names last_names\n",
      "1        John      Smith\n",
      "2        Jane        Doe\n",
      "\n"
     ]
    }
   ],
   "source": [
    "print(my_list)"
   ]
  },
  {
   "cell_type": "code",
   "execution_count": 90,
   "id": "4485a84f",
   "metadata": {},
   "outputs": [
    {
     "name": "stdout",
     "output_type": "stream",
     "text": [
      "  first_names last_names\n",
      "1        John      Smith\n",
      "2        Jane        Doe\n"
     ]
    }
   ],
   "source": [
    "print(my_list[[3]])"
   ]
  },
  {
   "cell_type": "code",
   "execution_count": 91,
   "id": "24b416b1",
   "metadata": {},
   "outputs": [],
   "source": [
    "my_named_list  <- list(my_vector = a_vector, my_matrix = a_matrix, my_df = a_df)"
   ]
  },
  {
   "cell_type": "code",
   "execution_count": 92,
   "id": "f704fa0b",
   "metadata": {},
   "outputs": [
    {
     "data": {
      "text/html": [
       "<dl>\n",
       "\t<dt>$my_vector</dt>\n",
       "\t\t<dd><style>\n",
       ".list-inline {list-style: none; margin:0; padding: 0}\n",
       ".list-inline>li {display: inline-block}\n",
       ".list-inline>li:not(:last-child)::after {content: \"\\00b7\"; padding: 0 .5ex}\n",
       "</style>\n",
       "<ol class=list-inline><li>1</li><li>2</li><li>3</li><li>4</li><li>5</li><li>6</li></ol>\n",
       "</dd>\n",
       "\t<dt>$my_matrix</dt>\n",
       "\t\t<dd><table class=\"dataframe\">\n",
       "<caption>A matrix: 3 × 3 of type int</caption>\n",
       "<tbody>\n",
       "\t<tr><td>1</td><td>4</td><td>7</td></tr>\n",
       "\t<tr><td>2</td><td>5</td><td>8</td></tr>\n",
       "\t<tr><td>3</td><td>6</td><td>9</td></tr>\n",
       "</tbody>\n",
       "</table>\n",
       "</dd>\n",
       "\t<dt>$my_df</dt>\n",
       "\t\t<dd><table class=\"dataframe\">\n",
       "<caption>A data.frame: 2 × 2</caption>\n",
       "<thead>\n",
       "\t<tr><th scope=col>first_names</th><th scope=col>last_names</th></tr>\n",
       "\t<tr><th scope=col>&lt;chr&gt;</th><th scope=col>&lt;chr&gt;</th></tr>\n",
       "</thead>\n",
       "<tbody>\n",
       "\t<tr><td>John</td><td>Smith</td></tr>\n",
       "\t<tr><td>Jane</td><td>Doe  </td></tr>\n",
       "</tbody>\n",
       "</table>\n",
       "</dd>\n",
       "</dl>\n"
      ],
      "text/latex": [
       "\\begin{description}\n",
       "\\item[\\$my\\_vector] \\begin{enumerate*}\n",
       "\\item 1\n",
       "\\item 2\n",
       "\\item 3\n",
       "\\item 4\n",
       "\\item 5\n",
       "\\item 6\n",
       "\\end{enumerate*}\n",
       "\n",
       "\\item[\\$my\\_matrix] A matrix: 3 × 3 of type int\n",
       "\\begin{tabular}{lll}\n",
       "\t 1 & 4 & 7\\\\\n",
       "\t 2 & 5 & 8\\\\\n",
       "\t 3 & 6 & 9\\\\\n",
       "\\end{tabular}\n",
       "\n",
       "\\item[\\$my\\_df] A data.frame: 2 × 2\n",
       "\\begin{tabular}{ll}\n",
       " first\\_names & last\\_names\\\\\n",
       " <chr> & <chr>\\\\\n",
       "\\hline\n",
       "\t John & Smith\\\\\n",
       "\t Jane & Doe  \\\\\n",
       "\\end{tabular}\n",
       "\n",
       "\\end{description}\n"
      ],
      "text/markdown": [
       "$my_vector\n",
       ":   1. 1\n",
       "2. 2\n",
       "3. 3\n",
       "4. 4\n",
       "5. 5\n",
       "6. 6\n",
       "\n",
       "\n",
       "\n",
       "$my_matrix\n",
       ":   \n",
       "A matrix: 3 × 3 of type int\n",
       "\n",
       "| 1 | 4 | 7 |\n",
       "| 2 | 5 | 8 |\n",
       "| 3 | 6 | 9 |\n",
       "\n",
       "\n",
       "$my_df\n",
       ":   \n",
       "A data.frame: 2 × 2\n",
       "\n",
       "| first_names &lt;chr&gt; | last_names &lt;chr&gt; |\n",
       "|---|---|\n",
       "| John | Smith |\n",
       "| Jane | Doe   |\n",
       "\n",
       "\n",
       "\n",
       "\n"
      ],
      "text/plain": [
       "$my_vector\n",
       "[1] 1 2 3 4 5 6\n",
       "\n",
       "$my_matrix\n",
       "     [,1] [,2] [,3]\n",
       "[1,]    1    4    7\n",
       "[2,]    2    5    8\n",
       "[3,]    3    6    9\n",
       "\n",
       "$my_df\n",
       "  first_names last_names\n",
       "1        John      Smith\n",
       "2        Jane        Doe\n"
      ]
     },
     "metadata": {},
     "output_type": "display_data"
    }
   ],
   "source": [
    "my_named_list"
   ]
  },
  {
   "cell_type": "code",
   "execution_count": 95,
   "id": "c4cc87e2",
   "metadata": {},
   "outputs": [
    {
     "name": "stdout",
     "output_type": "stream",
     "text": [
      "$a\n",
      "[1] 1 2 3 4 5 6\n",
      "\n",
      "$B\n",
      "     [,1] [,2] [,3]\n",
      "[1,]    1    4    7\n",
      "[2,]    2    5    8\n",
      "[3,]    3    6    9\n",
      "\n",
      "$C\n",
      "  first_names last_names\n",
      "1        John      Smith\n",
      "2        Jane        Doe\n",
      "\n"
     ]
    }
   ],
   "source": [
    "names(my_list) <- c(\"a\", \"B\", \"C\")\n",
    "print(my_list)"
   ]
  },
  {
   "cell_type": "code",
   "execution_count": 99,
   "id": "27cb6730",
   "metadata": {},
   "outputs": [
    {
     "name": "stdout",
     "output_type": "stream",
     "text": [
      " chr [1:234] \"compact\" \"compact\" \"compact\" \"compact\" \"compact\" \"compact\" ...\n"
     ]
    }
   ],
   "source": [
    "str(mpg$class)"
   ]
  },
  {
   "cell_type": "code",
   "execution_count": 107,
   "id": "762eaad8",
   "metadata": {},
   "outputs": [
    {
     "name": "stderr",
     "output_type": "stream",
     "text": [
      "Warning message:\n",
      "“Using size for a discrete variable is not advised.”\n"
     ]
    },
    {
     "data": {
      "image/png": "[encoded data removed]",
      "text/plain": [
       "plot without title"
      ]
     },
     "metadata": {
      "image/png": {
       "height": 360,
       "width": 480
      }
     },
     "output_type": "display_data"
    }
   ],
   "source": [
    "\n",
    "ggplot(mpg) + geom_point(mapping = aes(x = class, y = drv, size= class))\n",
    "\n"
   ]
  },
  {
   "cell_type": "code",
   "execution_count": 136,
   "id": "9c8a2027",
   "metadata": {},
   "outputs": [
    {
     "data": {
      "text/html": [
       "<style>\n",
       ".list-inline {list-style: none; margin:0; padding: 0}\n",
       ".list-inline>li {display: inline-block}\n",
       ".list-inline>li:not(:last-child)::after {content: \"\\00b7\"; padding: 0 .5ex}\n",
       "</style>\n",
       "<ol class=list-inline><li>'D'</li><li>'A'</li><li>'A'</li><li>'E'</li><li>'C'</li><li>'A'</li><li>'B'</li><li>'D'</li></ol>\n"
      ],
      "text/latex": [
       "\\begin{enumerate*}\n",
       "\\item 'D'\n",
       "\\item 'A'\n",
       "\\item 'A'\n",
       "\\item 'E'\n",
       "\\item 'C'\n",
       "\\item 'A'\n",
       "\\item 'B'\n",
       "\\item 'D'\n",
       "\\end{enumerate*}\n"
      ],
      "text/markdown": [
       "1. 'D'\n",
       "2. 'A'\n",
       "3. 'A'\n",
       "4. 'E'\n",
       "5. 'C'\n",
       "6. 'A'\n",
       "7. 'B'\n",
       "8. 'D'\n",
       "\n",
       "\n"
      ],
      "text/plain": [
       "[1] \"D\" \"A\" \"A\" \"E\" \"C\" \"A\" \"B\" \"D\""
      ]
     },
     "metadata": {},
     "output_type": "display_data"
    }
   ],
   "source": [
    "data <- c(\"D\", \"A\", \"A\", \"E\", \"C\", \"A\", \"B\", \"D\")\n",
    "data"
   ]
  },
  {
   "cell_type": "code",
   "execution_count": 137,
   "id": "9a483ccb",
   "metadata": {},
   "outputs": [
    {
     "data": {
      "text/html": [
       "<style>\n",
       ".list-inline {list-style: none; margin:0; padding: 0}\n",
       ".list-inline>li {display: inline-block}\n",
       ".list-inline>li:not(:last-child)::after {content: \"\\00b7\"; padding: 0 .5ex}\n",
       "</style>\n",
       "<ol class=list-inline><li>D</li><li>A</li><li>A</li><li>E</li><li>C</li><li>A</li><li>B</li><li>D</li></ol>\n",
       "\n",
       "<details>\n",
       "\t<summary style=display:list-item;cursor:pointer>\n",
       "\t\t<strong>Levels</strong>:\n",
       "\t</summary>\n",
       "\t<style>\n",
       "\t.list-inline {list-style: none; margin:0; padding: 0}\n",
       "\t.list-inline>li {display: inline-block}\n",
       "\t.list-inline>li:not(:last-child)::after {content: \"\\00b7\"; padding: 0 .5ex}\n",
       "\t</style>\n",
       "\t<ol class=list-inline><li>'A'</li><li>'B'</li><li>'C'</li><li>'D'</li><li>'E'</li></ol>\n",
       "</details>"
      ],
      "text/latex": [
       "\\begin{enumerate*}\n",
       "\\item D\n",
       "\\item A\n",
       "\\item A\n",
       "\\item E\n",
       "\\item C\n",
       "\\item A\n",
       "\\item B\n",
       "\\item D\n",
       "\\end{enumerate*}\n",
       "\n",
       "\\emph{Levels}: \\begin{enumerate*}\n",
       "\\item 'A'\n",
       "\\item 'B'\n",
       "\\item 'C'\n",
       "\\item 'D'\n",
       "\\item 'E'\n",
       "\\end{enumerate*}\n"
      ],
      "text/markdown": [
       "1. D\n",
       "2. A\n",
       "3. A\n",
       "4. E\n",
       "5. C\n",
       "6. A\n",
       "7. B\n",
       "8. D\n",
       "\n",
       "\n",
       "\n",
       "**Levels**: 1. 'A'\n",
       "2. 'B'\n",
       "3. 'C'\n",
       "4. 'D'\n",
       "5. 'E'\n",
       "\n",
       "\n"
      ],
      "text/plain": [
       "[1] D A A E C A B D\n",
       "Levels: A B C D E"
      ]
     },
     "metadata": {},
     "output_type": "display_data"
    }
   ],
   "source": [
    "factor(data)"
   ]
  },
  {
   "cell_type": "code",
   "execution_count": 146,
   "id": "f377366f",
   "metadata": {},
   "outputs": [
    {
     "data": {
      "text/html": [
       "<style>\n",
       ".list-inline {list-style: none; margin:0; padding: 0}\n",
       ".list-inline>li {display: inline-block}\n",
       ".list-inline>li:not(:last-child)::after {content: \"\\00b7\"; padding: 0 .5ex}\n",
       "</style>\n",
       "<ol class=list-inline><li>D</li><li>A</li><li>A</li><li>E</li><li>C</li><li>A</li><li>B</li><li>D</li></ol>\n",
       "\n",
       "<details>\n",
       "\t<summary style=display:list-item;cursor:pointer>\n",
       "\t\t<strong>Levels</strong>:\n",
       "\t</summary>\n",
       "\t<style>\n",
       "\t.list-inline {list-style: none; margin:0; padding: 0}\n",
       "\t.list-inline>li {display: inline-block}\n",
       "\t.list-inline>li:not(:last-child)::after {content: \"\\00b7\"; padding: 0 .5ex}\n",
       "\t</style>\n",
       "\t<ol class=list-inline><li>'A'</li><li>'B'</li><li>'C'</li><li>'D'</li><li>'E'</li></ol>\n",
       "</details>"
      ],
      "text/latex": [
       "\\begin{enumerate*}\n",
       "\\item D\n",
       "\\item A\n",
       "\\item A\n",
       "\\item E\n",
       "\\item C\n",
       "\\item A\n",
       "\\item B\n",
       "\\item D\n",
       "\\end{enumerate*}\n",
       "\n",
       "\\emph{Levels}: \\begin{enumerate*}\n",
       "\\item 'A'\n",
       "\\item 'B'\n",
       "\\item 'C'\n",
       "\\item 'D'\n",
       "\\item 'E'\n",
       "\\end{enumerate*}\n"
      ],
      "text/markdown": [
       "1. D\n",
       "2. A\n",
       "3. A\n",
       "4. E\n",
       "5. C\n",
       "6. A\n",
       "7. B\n",
       "8. D\n",
       "\n",
       "\n",
       "\n",
       "**Levels**: 1. 'A'\n",
       "2. 'B'\n",
       "3. 'C'\n",
       "4. 'D'\n",
       "5. 'E'\n",
       "\n",
       "\n"
      ],
      "text/plain": [
       "[1] D A A E C A B D\n",
       "Levels: A B C D E"
      ]
     },
     "metadata": {},
     "output_type": "display_data"
    }
   ],
   "source": [
    "data_f <- factor(data)\n",
    "data_f"
   ]
  },
  {
   "cell_type": "code",
   "execution_count": 139,
   "id": "6661b666",
   "metadata": {},
   "outputs": [
    {
     "ename": "ERROR",
     "evalue": "Error in numeric(data_f): invalid 'length' argument\n",
     "output_type": "error",
     "traceback": [
      "Error in numeric(data_f): invalid 'length' argument\nTraceback:\n",
      "1. numeric(data_f)"
     ]
    }
   ],
   "source": [
    "numeric(data_f)"
   ]
  },
  {
   "cell_type": "code",
   "execution_count": 127,
   "id": "8f6138ca",
   "metadata": {},
   "outputs": [
    {
     "name": "stderr",
     "output_type": "stream",
     "text": [
      "Warning message:\n",
      "“Using size for a discrete variable is not advised.”\n"
     ]
    },
    {
     "data": {
      "image/png": "[encoded data removed]",
      "text/plain": [
       "plot without title"
      ]
     },
     "metadata": {
      "image/png": {
       "height": 360,
       "width": 480
      }
     },
     "output_type": "display_data"
    }
   ],
   "source": [
    "ggplot(mpg) + geom_point(mapping = aes(x = class, y = drv, size= factor(class)))\n"
   ]
  },
  {
   "cell_type": "code",
   "execution_count": 140,
   "id": "f8dc9be3",
   "metadata": {},
   "outputs": [
    {
     "name": "stdout",
     "output_type": "stream",
     "text": [
      " Factor w/ 5 levels \"A\",\"B\",\"C\",\"D\",..: 4 1 1 5 3 1 2 4\n"
     ]
    }
   ],
   "source": [
    "str(data_f)"
   ]
  },
  {
   "cell_type": "code",
   "execution_count": 131,
   "id": "ebdddbd0",
   "metadata": {},
   "outputs": [
    {
     "data": {
      "text/html": [
       "A\n",
       "<details>\n",
       "\t<summary style=display:list-item;cursor:pointer>\n",
       "\t\t<strong>Levels</strong>:\n",
       "\t</summary>\n",
       "\t<style>\n",
       "\t.list-inline {list-style: none; margin:0; padding: 0}\n",
       "\t.list-inline>li {display: inline-block}\n",
       "\t.list-inline>li:not(:last-child)::after {content: \"\\00b7\"; padding: 0 .5ex}\n",
       "\t</style>\n",
       "\t<ol class=list-inline><li>'A'</li><li>'B'</li><li>'C'</li><li>'E'</li></ol>\n",
       "</details>"
      ],
      "text/latex": [
       "A\n",
       "\\emph{Levels}: \\begin{enumerate*}\n",
       "\\item 'A'\n",
       "\\item 'B'\n",
       "\\item 'C'\n",
       "\\item 'E'\n",
       "\\end{enumerate*}\n"
      ],
      "text/markdown": [
       "A\n",
       "**Levels**: 1. 'A'\n",
       "2. 'B'\n",
       "3. 'C'\n",
       "4. 'E'\n",
       "\n",
       "\n"
      ],
      "text/plain": [
       "[1] A\n",
       "Levels: A B C E"
      ]
     },
     "metadata": {},
     "output_type": "display_data"
    }
   ],
   "source": [
    "data_f[2]"
   ]
  },
  {
   "cell_type": "code",
   "execution_count": 141,
   "id": "93a52d94",
   "metadata": {},
   "outputs": [
    {
     "data": {
      "text/html": [
       "E\n",
       "<details>\n",
       "\t<summary style=display:list-item;cursor:pointer>\n",
       "\t\t<strong>Levels</strong>:\n",
       "\t</summary>\n",
       "\t<style>\n",
       "\t.list-inline {list-style: none; margin:0; padding: 0}\n",
       "\t.list-inline>li {display: inline-block}\n",
       "\t.list-inline>li:not(:last-child)::after {content: \"\\00b7\"; padding: 0 .5ex}\n",
       "\t</style>\n",
       "\t<ol class=list-inline><li>'A'</li><li>'B'</li><li>'C'</li><li>'D'</li><li>'E'</li></ol>\n",
       "</details>"
      ],
      "text/latex": [
       "E\n",
       "\\emph{Levels}: \\begin{enumerate*}\n",
       "\\item 'A'\n",
       "\\item 'B'\n",
       "\\item 'C'\n",
       "\\item 'D'\n",
       "\\item 'E'\n",
       "\\end{enumerate*}\n"
      ],
      "text/markdown": [
       "E\n",
       "**Levels**: 1. 'A'\n",
       "2. 'B'\n",
       "3. 'C'\n",
       "4. 'D'\n",
       "5. 'E'\n",
       "\n",
       "\n"
      ],
      "text/plain": [
       "[1] E\n",
       "Levels: A B C D E"
      ]
     },
     "metadata": {},
     "output_type": "display_data"
    }
   ],
   "source": [
    "data_f[4]"
   ]
  },
  {
   "cell_type": "code",
   "execution_count": 142,
   "id": "2252a9b8",
   "metadata": {},
   "outputs": [
    {
     "name": "stderr",
     "output_type": "stream",
     "text": [
      "Warning message in Ops.factor(data_f[2], data_f[4]):\n",
      "“‘<’ not meaningful for factors”\n"
     ]
    },
    {
     "data": {
      "text/html": [
       "&lt;NA&gt;"
      ],
      "text/latex": [
       "<NA>"
      ],
      "text/markdown": [
       "&lt;NA&gt;"
      ],
      "text/plain": [
       "[1] NA"
      ]
     },
     "metadata": {},
     "output_type": "display_data"
    }
   ],
   "source": [
    "data_f[2] < data_f[4]"
   ]
  },
  {
   "cell_type": "code",
   "execution_count": 143,
   "id": "a2a7267a",
   "metadata": {},
   "outputs": [
    {
     "data": {
      "text/html": [
       "<style>\n",
       ".list-inline {list-style: none; margin:0; padding: 0}\n",
       ".list-inline>li {display: inline-block}\n",
       ".list-inline>li:not(:last-child)::after {content: \"\\00b7\"; padding: 0 .5ex}\n",
       "</style>\n",
       "<ol class=list-inline><li>D</li><li>A</li><li>A</li><li>E</li><li>C</li><li>A</li><li>B</li><li>D</li></ol>\n",
       "\n",
       "<details>\n",
       "\t<summary style=display:list-item;cursor:pointer>\n",
       "\t\t<strong>Levels</strong>:\n",
       "\t</summary>\n",
       "\t<style>\n",
       "\t.list-inline {list-style: none; margin:0; padding: 0}\n",
       "\t.list-inline>li {display: inline-block}\n",
       "\t.list-inline>li:not(:last-child)::after {content: \"\\00b7\"; padding: 0 .5ex}\n",
       "\t</style>\n",
       "\t<ol class=list-inline><li>'A'</li><li>'B'</li><li>'C'</li><li>'D'</li><li>'E'</li></ol>\n",
       "</details>"
      ],
      "text/latex": [
       "\\begin{enumerate*}\n",
       "\\item D\n",
       "\\item A\n",
       "\\item A\n",
       "\\item E\n",
       "\\item C\n",
       "\\item A\n",
       "\\item B\n",
       "\\item D\n",
       "\\end{enumerate*}\n",
       "\n",
       "\\emph{Levels}: \\begin{enumerate*}\n",
       "\\item 'A'\n",
       "\\item 'B'\n",
       "\\item 'C'\n",
       "\\item 'D'\n",
       "\\item 'E'\n",
       "\\end{enumerate*}\n"
      ],
      "text/markdown": [
       "1. D\n",
       "2. A\n",
       "3. A\n",
       "4. E\n",
       "5. C\n",
       "6. A\n",
       "7. B\n",
       "8. D\n",
       "\n",
       "\n",
       "\n",
       "**Levels**: 1. 'A'\n",
       "2. 'B'\n",
       "3. 'C'\n",
       "4. 'D'\n",
       "5. 'E'\n",
       "\n",
       "\n"
      ],
      "text/plain": [
       "[1] D A A E C A B D\n",
       "Levels: A B C D E"
      ]
     },
     "metadata": {},
     "output_type": "display_data"
    }
   ],
   "source": [
    "data_f"
   ]
  },
  {
   "cell_type": "code",
   "execution_count": 160,
   "id": "3e44c756",
   "metadata": {},
   "outputs": [
    {
     "data": {
      "text/html": [
       "<style>\n",
       ".list-inline {list-style: none; margin:0; padding: 0}\n",
       ".list-inline>li {display: inline-block}\n",
       ".list-inline>li:not(:last-child)::after {content: \"\\00b7\"; padding: 0 .5ex}\n",
       "</style>\n",
       "<ol class=list-inline><li>D</li><li>A</li><li>A</li><li>E</li><li>C</li><li>A</li><li>B</li><li>D</li></ol>\n",
       "\n",
       "<details>\n",
       "\t<summary style=display:list-item;cursor:pointer>\n",
       "\t\t<strong>Levels</strong>:\n",
       "\t</summary>\n",
       "\t<style>\n",
       "\t.list-inline {list-style: none; margin:0; padding: 0}\n",
       "\t.list-inline>li {display: inline-block}\n",
       "\t.list-inline>li:not(:last-child)::after {content: \"\\00b7\"; padding: 0 .5ex}\n",
       "\t</style>\n",
       "\t<ol class=list-inline><li>'A'</li><li>'B'</li><li>'C'</li><li>'D'</li><li>'E'</li></ol>\n",
       "</details>"
      ],
      "text/latex": [
       "\\begin{enumerate*}\n",
       "\\item D\n",
       "\\item A\n",
       "\\item A\n",
       "\\item E\n",
       "\\item C\n",
       "\\item A\n",
       "\\item B\n",
       "\\item D\n",
       "\\end{enumerate*}\n",
       "\n",
       "\\emph{Levels}: \\begin{enumerate*}\n",
       "\\item 'A'\n",
       "\\item 'B'\n",
       "\\item 'C'\n",
       "\\item 'D'\n",
       "\\item 'E'\n",
       "\\end{enumerate*}\n"
      ],
      "text/markdown": [
       "1. D\n",
       "2. A\n",
       "3. A\n",
       "4. E\n",
       "5. C\n",
       "6. A\n",
       "7. B\n",
       "8. D\n",
       "\n",
       "\n",
       "\n",
       "**Levels**: 1. 'A'\n",
       "2. 'B'\n",
       "3. 'C'\n",
       "4. 'D'\n",
       "5. 'E'\n",
       "\n",
       "\n"
      ],
      "text/plain": [
       "[1] D A A E C A B D\n",
       "Levels: A B C D E"
      ]
     },
     "metadata": {},
     "output_type": "display_data"
    }
   ],
   "source": [
    "data_f_oredered <- factor(data, ordered = TRUE, levels = c(\"E\", \"D\", \"C\", \"B\", \"A\"))\n",
    "data_f"
   ]
  },
  {
   "cell_type": "code",
   "execution_count": 161,
   "id": "4711a69b",
   "metadata": {},
   "outputs": [
    {
     "name": "stdout",
     "output_type": "stream",
     "text": [
      " Factor w/ 5 levels \"A\",\"B\",\"C\",\"D\",..: 4 1 1 5 3 1 2 4\n"
     ]
    }
   ],
   "source": [
    "str(data_f)"
   ]
  },
  {
   "cell_type": "code",
   "execution_count": 162,
   "id": "76e6d411",
   "metadata": {},
   "outputs": [
    {
     "name": "stdout",
     "output_type": "stream",
     "text": [
      " Ord.factor w/ 5 levels \"E\"<\"D\"<\"C\"<\"B\"<..: 2 5 5 1 3 5 4 2\n"
     ]
    }
   ],
   "source": [
    "str(data_f_oredered)"
   ]
  },
  {
   "cell_type": "code",
   "execution_count": 166,
   "id": "2d05d2eb",
   "metadata": {},
   "outputs": [
    {
     "data": {
      "text/html": [
       "FALSE"
      ],
      "text/latex": [
       "FALSE"
      ],
      "text/markdown": [
       "FALSE"
      ],
      "text/plain": [
       "[1] FALSE"
      ]
     },
     "metadata": {},
     "output_type": "display_data"
    }
   ],
   "source": [
    "data_f_oredered[2] < data_f_oredered[4]"
   ]
  },
  {
   "cell_type": "code",
   "execution_count": 169,
   "id": "d75f99a7",
   "metadata": {},
   "outputs": [
    {
     "data": {
      "text/html": [
       "1"
      ],
      "text/latex": [
       "1"
      ],
      "text/markdown": [
       "1"
      ],
      "text/plain": [
       "[1] 1"
      ]
     },
     "metadata": {},
     "output_type": "display_data"
    }
   ],
   "source": [
    "as.integer(data_f_oredered[4])"
   ]
  },
  {
   "cell_type": "code",
   "execution_count": 190,
   "id": "220d625b",
   "metadata": {},
   "outputs": [],
   "source": [
    "class_nom <-  factor(mpg$class, \n",
    "                     levels = c(\"2seater\", \"subcompact\", \"compact\", \"midsize\", \"minivan\", \"suv\", \"pickup\"),\n",
    "                    ordered=TRUE)\n",
    "mpg$class_nominal <-  class_nom"
   ]
  },
  {
   "cell_type": "code",
   "execution_count": 191,
   "id": "38338cd8",
   "metadata": {},
   "outputs": [
    {
     "data": {
      "image/png": "[encoded data removed]",
      "text/plain": [
       "plot without title"
      ]
     },
     "metadata": {
      "image/png": {
       "height": 360,
       "width": 480
      }
     },
     "output_type": "display_data"
    }
   ],
   "source": [
    "ggplot(mpg) + geom_point(mapping = aes(x = class, y = drv, size=class_nominal))\n"
   ]
  },
  {
   "cell_type": "code",
   "execution_count": 192,
   "id": "9b220e17",
   "metadata": {},
   "outputs": [
    {
     "data": {
      "text/html": [
       "<table class=\"dataframe\">\n",
       "<caption>A tibble: 6 × 13</caption>\n",
       "<thead>\n",
       "\t<tr><th scope=col>manufacturer</th><th scope=col>model</th><th scope=col>displ</th><th scope=col>year</th><th scope=col>cyl</th><th scope=col>trans</th><th scope=col>drv</th><th scope=col>cty</th><th scope=col>hwy</th><th scope=col>fl</th><th scope=col>class</th><th scope=col>class_nom</th><th scope=col>class_nominal</th></tr>\n",
       "\t<tr><th scope=col>&lt;chr&gt;</th><th scope=col>&lt;chr&gt;</th><th scope=col>&lt;dbl&gt;</th><th scope=col>&lt;int&gt;</th><th scope=col>&lt;int&gt;</th><th scope=col>&lt;chr&gt;</th><th scope=col>&lt;chr&gt;</th><th scope=col>&lt;int&gt;</th><th scope=col>&lt;int&gt;</th><th scope=col>&lt;chr&gt;</th><th scope=col>&lt;chr&gt;</th><th scope=col>&lt;ord&gt;</th><th scope=col>&lt;ord&gt;</th></tr>\n",
       "</thead>\n",
       "<tbody>\n",
       "\t<tr><td>audi</td><td>a4</td><td>1.8</td><td>1999</td><td>4</td><td>auto(l5)  </td><td>f</td><td>18</td><td>29</td><td>p</td><td>compact</td><td>compact</td><td>compact</td></tr>\n",
       "\t<tr><td>audi</td><td>a4</td><td>1.8</td><td>1999</td><td>4</td><td>manual(m5)</td><td>f</td><td>21</td><td>29</td><td>p</td><td>compact</td><td>compact</td><td>compact</td></tr>\n",
       "\t<tr><td>audi</td><td>a4</td><td>2.0</td><td>2008</td><td>4</td><td>manual(m6)</td><td>f</td><td>20</td><td>31</td><td>p</td><td>compact</td><td>compact</td><td>compact</td></tr>\n",
       "\t<tr><td>audi</td><td>a4</td><td>2.0</td><td>2008</td><td>4</td><td>auto(av)  </td><td>f</td><td>21</td><td>30</td><td>p</td><td>compact</td><td>compact</td><td>compact</td></tr>\n",
       "\t<tr><td>audi</td><td>a4</td><td>2.8</td><td>1999</td><td>6</td><td>auto(l5)  </td><td>f</td><td>16</td><td>26</td><td>p</td><td>compact</td><td>compact</td><td>compact</td></tr>\n",
       "\t<tr><td>audi</td><td>a4</td><td>2.8</td><td>1999</td><td>6</td><td>manual(m5)</td><td>f</td><td>18</td><td>26</td><td>p</td><td>compact</td><td>compact</td><td>compact</td></tr>\n",
       "</tbody>\n",
       "</table>\n"
      ],
      "text/latex": [
       "A tibble: 6 × 13\n",
       "\\begin{tabular}{lllllllllllll}\n",
       " manufacturer & model & displ & year & cyl & trans & drv & cty & hwy & fl & class & class\\_nom & class\\_nominal\\\\\n",
       " <chr> & <chr> & <dbl> & <int> & <int> & <chr> & <chr> & <int> & <int> & <chr> & <chr> & <ord> & <ord>\\\\\n",
       "\\hline\n",
       "\t audi & a4 & 1.8 & 1999 & 4 & auto(l5)   & f & 18 & 29 & p & compact & compact & compact\\\\\n",
       "\t audi & a4 & 1.8 & 1999 & 4 & manual(m5) & f & 21 & 29 & p & compact & compact & compact\\\\\n",
       "\t audi & a4 & 2.0 & 2008 & 4 & manual(m6) & f & 20 & 31 & p & compact & compact & compact\\\\\n",
       "\t audi & a4 & 2.0 & 2008 & 4 & auto(av)   & f & 21 & 30 & p & compact & compact & compact\\\\\n",
       "\t audi & a4 & 2.8 & 1999 & 6 & auto(l5)   & f & 16 & 26 & p & compact & compact & compact\\\\\n",
       "\t audi & a4 & 2.8 & 1999 & 6 & manual(m5) & f & 18 & 26 & p & compact & compact & compact\\\\\n",
       "\\end{tabular}\n"
      ],
      "text/markdown": [
       "\n",
       "A tibble: 6 × 13\n",
       "\n",
       "| manufacturer &lt;chr&gt; | model &lt;chr&gt; | displ &lt;dbl&gt; | year &lt;int&gt; | cyl &lt;int&gt; | trans &lt;chr&gt; | drv &lt;chr&gt; | cty &lt;int&gt; | hwy &lt;int&gt; | fl &lt;chr&gt; | class &lt;chr&gt; | class_nom &lt;ord&gt; | class_nominal &lt;ord&gt; |\n",
       "|---|---|---|---|---|---|---|---|---|---|---|---|---|\n",
       "| audi | a4 | 1.8 | 1999 | 4 | auto(l5)   | f | 18 | 29 | p | compact | compact | compact |\n",
       "| audi | a4 | 1.8 | 1999 | 4 | manual(m5) | f | 21 | 29 | p | compact | compact | compact |\n",
       "| audi | a4 | 2.0 | 2008 | 4 | manual(m6) | f | 20 | 31 | p | compact | compact | compact |\n",
       "| audi | a4 | 2.0 | 2008 | 4 | auto(av)   | f | 21 | 30 | p | compact | compact | compact |\n",
       "| audi | a4 | 2.8 | 1999 | 6 | auto(l5)   | f | 16 | 26 | p | compact | compact | compact |\n",
       "| audi | a4 | 2.8 | 1999 | 6 | manual(m5) | f | 18 | 26 | p | compact | compact | compact |\n",
       "\n"
      ],
      "text/plain": [
       "  manufacturer model displ year cyl trans      drv cty hwy fl class   class_nom\n",
       "1 audi         a4    1.8   1999 4   auto(l5)   f   18  29  p  compact compact  \n",
       "2 audi         a4    1.8   1999 4   manual(m5) f   21  29  p  compact compact  \n",
       "3 audi         a4    2.0   2008 4   manual(m6) f   20  31  p  compact compact  \n",
       "4 audi         a4    2.0   2008 4   auto(av)   f   21  30  p  compact compact  \n",
       "5 audi         a4    2.8   1999 6   auto(l5)   f   16  26  p  compact compact  \n",
       "6 audi         a4    2.8   1999 6   manual(m5) f   18  26  p  compact compact  \n",
       "  class_nominal\n",
       "1 compact      \n",
       "2 compact      \n",
       "3 compact      \n",
       "4 compact      \n",
       "5 compact      \n",
       "6 compact      "
      ]
     },
     "metadata": {},
     "output_type": "display_data"
    }
   ],
   "source": [
    "head(mpg)\n"
   ]
  },
  {
   "cell_type": "code",
   "execution_count": 195,
   "id": "1ede3a50",
   "metadata": {},
   "outputs": [
    {
     "data": {
      "image/png": "[encoded data removed]",
      "text/plain": [
       "plot without title"
      ]
     },
     "metadata": {
      "image/png": {
       "height": 360,
       "width": 480
      }
     },
     "output_type": "display_data"
    }
   ],
   "source": [
    "ggplot(mpg) + geom_point(mapping = aes(x = class, y = drv,  size=10))\n"
   ]
  },
  {
   "cell_type": "code",
   "execution_count": 198,
   "id": "46d072ee",
   "metadata": {},
   "outputs": [
    {
     "data": {
      "image/png": "[encoded data removed]",
      "text/plain": [
       "plot without title"
      ]
     },
     "metadata": {
      "image/png": {
       "height": 360,
       "width": 480
      }
     },
     "output_type": "display_data"
    }
   ],
   "source": [
    "ggplot(data = mpg) +\n",
    " geom_point(mapping = aes(x = displ, y = hwy, size = class_nominal), size=5)\n"
   ]
  },
  {
   "cell_type": "code",
   "execution_count": 199,
   "id": "9c1875d8",
   "metadata": {},
   "outputs": [
    {
     "data": {
      "image/png": "[encoded data removed]",
      "text/plain": [
       "plot without title"
      ]
     },
     "metadata": {
      "image/png": {
       "height": 360,
       "width": 480
      }
     },
     "output_type": "display_data"
    }
   ],
   "source": [
    "ggplot(data = mpg) +\n",
    " geom_point(mapping = aes(x = displ, y = hwy, size=class_nominal, color=class))\t\n",
    "  \n"
   ]
  },
  {
   "cell_type": "code",
   "execution_count": null,
   "id": "7ce0a9fb",
   "metadata": {},
   "outputs": [],
   "source": []
  }
 ],
 "metadata": {
  "kernelspec": {
   "display_name": "R",
   "language": "R",
   "name": "ir"
  },
  "language_info": {
   "codemirror_mode": "r",
   "file_extension": ".r",
   "mimetype": "text/x-r-source",
   "name": "R",
   "pygments_lexer": "r",
   "version": "4.2.1"
  }
 },
 "nbformat": 4,
 "nbformat_minor": 5
}
