{
 "cells": [
  {
   "cell_type": "markdown",
   "id": "449f7aab",
   "metadata": {},
   "source": [
    "### Popular Big Data Fromats\n",
    "\n",
    "* Data format is an important aspect of working with big data\n",
    "\n",
    "* The recurring topic is \"There ain't such a thing as free lunch\"\n",
    "\n",
    "```\"There ain't no such thing as a free lunch\" (TANSTAAFL), also known as \"there is no such thing as a free lunch\" (TINSTAAFL), is an expression that describes the cost of decision-making and consumption. The expression conveys the idea that things appearing free always have some cost paid by somebody, or that nothing in life is truly free. ``` **https://www.investopedia.com/terms/t/tanstaafl.asp**\n"
   ]
  },
  {
   "cell_type": "markdown",
   "id": "4fce05a6",
   "metadata": {},
   "source": [
    "### Popular Big Data Formats\n",
    "\n",
    "* Some of the issues that arise when working with data formats are:\n",
    "\n",
    "1. Compression\n",
    "  * Not all file formats are equally compressible with the same algorithm.\n",
    "2. Splittability\n",
    "  * How splittable is a file format?\n",
    "  * as we saw in split apply combine, being able to split a file and run across multiple machines can be critical in some instances\n",
    "3. Columnar and row-wise data formats\n",
    "  * Not all the columns (variables) in a dataset are equally valuable analytically.\n",
    "  * Being able to compute column-based stats can force the adoption of a format that makes it easier to extract column data\n",
    "4. Data Types and Schema Evolution\n",
    "  * Do we need to enforce data types?\n",
    "  * Will my data format change over time?\n",
    "  * With petabytes of data, it is not reasonable to think that we can just regenerate the files every time there is a change to the schema"
   ]
  },
  {
   "cell_type": "markdown",
   "id": "ed420e46",
   "metadata": {},
   "source": [
    "### File Format: a Quick intuition\n",
    "\n",
    "* In big data, the right storage format is paramount for achieving performance, saving space, and making certain operations possible.\n",
    "\n",
    "* Can save time, minimize complexity and decrease cost.\n",
    "\n",
    "* We're accustomed to row-based formats\n",
    "\n",
    "  * MS Excel file-like where each row is a table entry\n",
    "\n",
    "| Transaction Date     | Nb Items     | Total       |\n",
    "|------------------    |----------    |---------    |\n",
    "| 01/01/2001           | 4            | 1852.14     |\n",
    "| 01/01/2001           | 3            | 968.00      |\n",
    "| `...`             | `...`     | `...`     |"
   ]
  },
  {
   "cell_type": "markdown",
   "id": "c8017d4a",
   "metadata": {},
   "source": [
    "### File Format: a Quick intuition - Cont'd\n",
    "    \n",
    "* This format may be inappropriate for certain types of data or operations\n",
    "\n",
    "* Imagine that the sales info above contains a very large number of transactions with hundreds of thousands of transactions each day\n",
    "    * The same transaction dates will be unnecessarily duplicated hundreds of thousands of times.\n",
    "    * Perhaps a dictionary-like format where the key is the date would help save on storage\n",
    " \n",
    "```python\n",
    "{\"01/01/2001\": ((4, 1852.14), (3,  968.00), ...), \"01/02/2001\":(...), ... }\n",
    "```\n",
    "* This will also be more efficient for computing operations on days\n",
    "   * E.g. count number of transactions or total sales per day\n",
    "   * What about computing the running sales total?"
   ]
  },
  {
   "cell_type": "markdown",
   "id": "68a4e83b",
   "metadata": {},
   "source": [
    "### File Format: a Quick intuition - Cont'd\n",
    "\n",
    "* If the objective were to calculate the total sales, we would need to read millions of lines to compute a single value.\n",
    "* Perhaps we can store the data as row data. Reading a single line is sufficient to compute the average.\n",
    "\n",
    "|              |      |  |   |\n",
    "| :---              |    :----:  | :--------: |:---:|\n",
    "| **Totals**             | 1852.14    | 968.00     | `...` |\n",
    "| **Transaction Dates** | 01/01/2001 | 01/01/2001 | `...` |\n",
    "| **Nb Items**               | 4             | 3          | `...` |"
   ]
  },
  {
   "cell_type": "markdown",
   "id": "d14cc7fe",
   "metadata": {},
   "source": [
    "### File Formats Decisions\n",
    "\n",
    "* There are four considerations when selecting file formats:\n",
    "    1. Row vs Column\n",
    "      * What kind of analytics are important?\n",
    "    2. Schema Management\n",
    "      * Will my data schemas evolve?\n",
    "    3. Spilitability\n",
    "      * Can I store data across multiple files and potentially servers?\n",
    "    4. Compression\n",
    "      * How compressible is the format?"
   ]
  },
  {
   "cell_type": "markdown",
   "id": "c9dfd1dc",
   "metadata": {},
   "source": [
    "### 1. Row- and Column-Based Formats\n",
    "\n",
    "* An important consideration when selecting a big data format\n",
    "\n",
    "![](https://www.dropbox.com/s/an5fg7xl2uvnfb8/row_col_format.png?dl=1)"
   ]
  },
  {
   "cell_type": "markdown",
   "id": "17d2bb0e",
   "metadata": {},
   "source": [
    "### 1. Row- and Column-Based Formats\n",
    "\n",
    "* Row-based: Ideal when using all the data\n",
    "  * Example, building a machine learning model that requires all the features and all the instances\n",
    "    * Avoid reading all the dataset in RAM by loading chunks at a time\n",
    "    * Required frequent conditional access to multiple colums \n",
    "\n",
    "* Column-based storage: useful when performing operations on a subset of columns\n",
    "  * Computing total sales, or computing a total aggregated by aggregated by date, etc.\n"
   ]
  },
  {
   "cell_type": "markdown",
   "id": "366b5853",
   "metadata": {},
   "source": [
    "### Row-Based Formats\n",
    "\n",
    "* Used in most mainstream applications, from web log files to highly-structured database systems like MySQL and Oracle.\n",
    "\n",
    "* Processing all the data would require reading all inputs line by line\n",
    "\n",
    "* This is commonly used for Online Transactional Processing (OLTP).\n",
    "\n",
    "  * OLTP systems usually process CRUD queries (Create, Read, Update and Delete) at a record level.\n",
    "\n",
    "  * The main emphasis for OLTP systems is maintaining data integrity in multi-access environments\n",
    "\n",
    "* Effectiveness measured by the number of transactions per second\n",
    "\n",
    "   * More on this when we discuss big data platforms"
   ]
  },
  {
   "cell_type": "markdown",
   "id": "1d7e001a",
   "metadata": {},
   "source": [
    "### Column-Based Formats\n",
    "\n",
    "\n",
    "* The data is grouped by columns\n",
    "* Easy to focus computation on specific columns of data\n",
    "  * E.g.: compute the mean or standard deviation of a column, search for the largest\n",
    "    * What do you think this last operation is less computationally intensive on a column-based format?  \n",
    "\n",
    "* Ideal for compression\n",
    "  * Compression codecs (e.g., GZIP, pkzip, etc..) have a higher compression ratio when compressing sequences of similar data types. \n",
    "\n",
    "  \n",
    "\n",
    "```python\n",
    "[[1,2,3,..], [\"John\", \"Janet\", \"Michael\", ...], ...]\n",
    "```\n",
    "\n",
    "\n",
    "\n",
    "* If much more efficient than compressing:\n",
    "\n",
    "```python\n",
    "[[1, \"John\", \"Doe\", \"125,000\"], [2, \"Janet\", \"Smith\", \"195,129\"], ...]\n",
    "```\n",
    "\n",
    "* Typically, the slowest components in large distributed systems are the disk and network\n",
    "    * Using compression reduces read IO and transfers, thus speeding up the analysis.\n",
    "\n",
    "\n",
    "* This way of processing data is usually called OLAP (Online Analytical Processing)   \n",
    "\n",
    " * OLAP is an approach designed to quickly answer analytics queries involving multiple features (variables), typically across database systems."
   ]
  },
  {
   "cell_type": "markdown",
   "id": "4cf15a2b",
   "metadata": {},
   "source": [
    "### Compression of Row vs. Columnar Data\n",
    "\n",
    "  * Let's perform a quick exrperiment \n",
    "    \n"
   ]
  },
  {
   "cell_type": "code",
   "execution_count": 5,
   "id": "b956e59c",
   "metadata": {},
   "outputs": [
    {
     "data": {
      "text/plain": [
       "[3, 3, 4, 1, 2, 3]"
      ]
     },
     "execution_count": 5,
     "metadata": {},
     "output_type": "execute_result"
    }
   ],
   "source": [
    "import random\n",
    "random.choices([1,2,3,4], k=6)"
   ]
  },
  {
   "cell_type": "code",
   "execution_count": 6,
   "id": "0a583d68",
   "metadata": {},
   "outputs": [
    {
     "data": {
      "text/plain": [
       "['T', 'T', 'G', 'C', 'C', 'T']"
      ]
     },
     "execution_count": 6,
     "metadata": {},
     "output_type": "execute_result"
    }
   ],
   "source": [
    "import random\n",
    "random.choices(\"ACGT\", k=6)"
   ]
  },
  {
   "cell_type": "code",
   "execution_count": 7,
   "id": "85e5d052",
   "metadata": {},
   "outputs": [
    {
     "name": "stdout",
     "output_type": "stream",
     "text": [
      "0123456789abcdefghijklmnopqrstuvwxyzABCDEFGHIJKLMNOPQRSTUVWXYZ!\"#$%&'()*+,-./:;<=>?@[\\]^_`{|}~ \t\n",
      "\r",
      "\u000b",
      "\f",
      "\n",
      "0123456789\n"
     ]
    }
   ],
   "source": [
    "import string \n",
    "\n",
    "print(string.printable)\n",
    "print(string.digits)"
   ]
  },
  {
   "cell_type": "code",
   "execution_count": 11,
   "id": "b0b23c8e",
   "metadata": {},
   "outputs": [
    {
     "name": "stdout",
     "output_type": "stream",
     "text": [
      "8414\n",
      "5081\n"
     ]
    }
   ],
   "source": [
    "import zlib \n",
    "import string\n",
    "\n",
    "# let's randomly generate two string of 1000, an ASCII and an INT\n",
    "\n",
    "random_ASCII = random.choices(string.printable, k=10_000)\n",
    "random_numbers = random.choices(string.digits, k=10_000)\n",
    "print(len(zlib.compress( str.encode(\"\".join(random_ASCII)))))\n",
    "print(len(zlib.compress( str.encode(\"\".join(random_numbers)))))"
   ]
  },
  {
   "cell_type": "code",
   "execution_count": 28,
   "id": "fc0f4f5a",
   "metadata": {},
   "outputs": [
    {
     "data": {
      "text/plain": [
       "1.6547445239154617"
      ]
     },
     "execution_count": 28,
     "metadata": {},
     "output_type": "execute_result"
    }
   ],
   "source": [
    "import numpy\n",
    "ratios = []\n",
    "for i in range(10):\n",
    "    random_ASCII = random.choices(string.printable, k=10_000)\n",
    "    random_numbers = random.choices(string.digits, k=10_000)\n",
    "    len_ascii = len(zlib.compress( str.encode(\"\".join(random_ASCII)))) \n",
    "    len_numbers = len(zlib.compress( str.encode(\"\".join(random_numbers))))\n",
    "    ratios.append(len_ascii/len_numbers)\n",
    "    \n",
    "numpy.mean(ratios)"
   ]
  },
  {
   "cell_type": "code",
   "execution_count": 19,
   "id": "ad2327eb",
   "metadata": {},
   "outputs": [
    {
     "data": {
      "text/plain": [
       "'ABCDEFGHIJKLMNOPQRSTUVWXYZ'"
      ]
     },
     "execution_count": 19,
     "metadata": {},
     "output_type": "execute_result"
    }
   ],
   "source": [
    "string.ascii_uppercase"
   ]
  },
  {
   "cell_type": "code",
   "execution_count": 29,
   "id": "f565ea35",
   "metadata": {},
   "outputs": [
    {
     "data": {
      "text/plain": [
       "1.3462144408226877"
      ]
     },
     "execution_count": 29,
     "metadata": {},
     "output_type": "execute_result"
    }
   ],
   "source": [
    "ratios = []\n",
    "for i in range(10):\n",
    "    random_ASCII = random.choices(string.printable, k=10_000)\n",
    "    random_uppercase = random.choices(string.ascii_uppercase, k=10_000)\n",
    "    len_ascii = len(zlib.compress( str.encode(\"\".join(random_ASCII)))) \n",
    "    len_uppercase = len(zlib.compress( str.encode(\"\".join(random_uppercase))))\n",
    "    ratios.append(len_ascii/len_uppercase)    \n",
    "numpy.mean(ratios)"
   ]
  },
  {
   "cell_type": "markdown",
   "id": "6a083d77",
   "metadata": {},
   "source": [
    "### Examples of OLAP versus OLTP in Amazon\n",
    "\n",
    "![](https://www.dropbox.com/s/cxhwtc5s582tnp2/amazon_olap_oltp.png?dl=1)"
   ]
  },
  {
   "cell_type": "markdown",
   "id": "2279abc9",
   "metadata": {},
   "source": [
    "### Column-based formats: Advantages and Disadvantages\n",
    "\n",
    "<u>Advantages</u>:\n",
    "* Columnar storage of data can sometimes yield 100x-1000x performance improvements, particularly for wide datasets\n",
    "\n",
    "\n",
    "<u>Disadvantages</u>:\n",
    "  *  Not efficient with CRUD operations\n",
    "  * Difficult to access all features of a single instance\n",
    "    * Need to parse all columns to position $i$\n",
    "  * Hard to read by a human\n",
    "  * Can be more CPU intensive to write for very large data.\n",
    "\n"
   ]
  },
  {
   "cell_type": "markdown",
   "id": "b31a4a3e",
   "metadata": {},
   "source": [
    "### 2- Datatype and Schema Enforcement and Evolution\n",
    "\n",
    "* \"Schema\" in a database context, means the structure and organization of the data  \n",
    "    * Structure: datatypes, missing values, primary keys, etc, indices, etc.\n",
    "    * Organization: relationships across tables.\n",
    "\n",
    "* Here, we mainly refer to the data type\n",
    "* In text format, (e.g.: table with values separated by space), datatype cannot be declared or enforced\n",
    "\n",
    "* Declaring the type of a value provides some advantages.\n",
    "  * Storage requirements: String categories will require more storage than boolean (2 bytes)\n",
    "  * Data validity: Verifies the dataset is valid and prevents entry errors (e.g., age = Johnn)\n",
    "  * Compression: there are good strategies for compressing different data types "
   ]
  },
  {
   "cell_type": "markdown",
   "id": "ba2c5229",
   "metadata": {},
   "source": [
    "### 2- Datatype & Schema Enforcement and Evolution - Cont'd\n",
    "\n",
    "\n",
    "* In the event that there is no guarantee that data won't change in the future, you may need to consider schema evolution.\n",
    "\n",
    "\n",
    "* When evaluating schema evolution, there are a few key questions to ask of any data format:\n",
    "  * How easy is it to update a schema (such as adding a field, removing or renaming a field)?\n",
    "  * How will different versions of the schema impact applications?\n",
    "  * How fast can the schema be processed?\n"
   ]
  },
  {
   "cell_type": "markdown",
   "id": "c5de7933",
   "metadata": {},
   "source": [
    "### 3- Splitability\n",
    "\n",
    "* Big data such as monthly logs, yearly transactions, daily airplane sensors recordings, can often comprise many millions of records.\n",
    "\n",
    "* Often useful to split the data across multiple machines and execute each computation separately\n",
    "\n",
    "* Some file formats are more amenable to splitting than others."
   ]
  },
  {
   "cell_type": "markdown",
   "id": "71ebb546",
   "metadata": {},
   "source": [
    "### 3- Splitability - Row-based\n",
    "\n",
    "Row-based formats can be split along row boundaries\n",
    "\n",
    "```\n",
    "# file 1 with n lines\n",
    "01/01/2001           4            1852.14\n",
    "01/01/2001           3            968.00\n",
    "...\n",
    "```\n",
    "\n",
    "* Splitting can be done\n",
    "  * Randomly plitting `file 1` with `n` observations across `m` total machines is easy.\n",
    "\n",
    "    * Each machine gets `ceiling(n/m)` unique lines, last machine gets remaining lines\n",
    "\n",
    " * Splitting based on one or more fields: \n",
    "    * Partitioning a rown-based file over particular column values can be difficult if data is stored in a random order.\n",
    "    * May require sorting the data first"
   ]
  },
  {
   "cell_type": "markdown",
   "id": "380f3d5a",
   "metadata": {},
   "source": [
    "### 3- Splitability row-based, nested \n",
    "\n",
    "* Larg column-based data can be more difficult to split\n",
    "\n",
    "``` \n",
    "file 2\n",
    "{\"01/01/20014\": [(4, 1852.14), (3, 968.00)], ....}\n",
    "```\n",
    "\n",
    "* You cannot easily split this file this file format without parsing the file first.\n",
    "  * Need to read the compelte file to split it into chunks.\n",
    "    * Data may need to ne loaded in RAM first.\n"
   ]
  },
  {
   "cell_type": "markdown",
   "id": "46aad4d4",
   "metadata": {},
   "source": [
    "### 3- Splitability: Column-based, nested\n",
    "\n",
    "\n",
    "* A column-based format can be split if the comutation is column-specific.\n",
    "\n",
    "```\n",
    "# file 3\n",
    "date: 01/01/2001, 01/01/2001\n",
    "nb_items: 4, 3\n",
    "totals: 1852.14, 968.00\n",
    "```\n",
    "\n",
    "Splitting can only e done column-wise:\n",
    "* In the example above, each machine is concerned with a computation on a specific variable. For example:\n",
    "  * Machine 1 takes `date` data and computes the number of sales per month\n",
    "  * Machine 2 takes the `nb_items` data and computes the total number of sales\n",
    "  * Machine 3 takes the `totals` data and computes the total sales values\n",
    " \n",
    "* Machines don't have any knowledge of variables that are not given.\n",
    "  * E.g., if machine three is not given date info and cannot compute, for example, the monthly or weekly sales average.\n"
   ]
  },
  {
   "cell_type": "markdown",
   "id": "e3e3a8c1",
   "metadata": {},
   "source": [
    "### 4- Compression\n",
    "\n",
    "\n",
    "* When working on a distributed system, data transfer can be a serious bottleneck\n",
    "* Compression can substantially improve runtime and storage requirements\n",
    "\n",
    "* We illustrated \"naively\" that columnar data can achieve better compression rates than row-based data\n",
    "  * Simple way to think about it: column will have a lot more duplicate values:\n",
    "      * Ex. Age Column: 21, 22, 21, 24, 25, 21, 22, 21, 19, 21, 21, 22, ....\n",
    "      \n",
    "* Note that complex compression algorithms on very large files can save on space but substantially increase compute time.\n",
    "    * Uncompression/re-compression needs to occur every time you need to access the data.\n"
   ]
  },
  {
   "cell_type": "markdown",
   "id": "8be6279c",
   "metadata": {},
   "source": [
    "### Standardization and File Formats\n",
    "\n",
    "* One can always choose their own format for the file\n",
    "  * Many companies may choose to do so internally for many reasons.\n",
    "  * E.g.:\n",
    "\n",
    "```\n",
    "FIRST_NAME_1\\sLAST_NAME_1\\tFIRST_NAME_2\\sLAST_NAME_2\\tFIRST_NAME_3\\sLAST_NAME_3...\n",
    "JOBTITLE_1\\sSALARY_1\\tJOBTITLE_2\\sSALARY_2\\tJOBTITLE_3\\sSALARY_3\n",
    "```\n",
    "\n",
    "* However, there are many benefits to using a standard file format. E.g.:\n",
    "  * Clarity and productivity: eliminating the need for guesswork or extra searching for answer. Plus there is no need to maintain internal documentation, which makes it easier to get answers online when issues arise.\n",
    "\n",
    "  * Quality: standard formats are designed by large teams and used extensively, which provides opportunities to optimize them\n",
    "\n",
    "  * Interoperability: your data is no longer locked to your company (or compartmentalized) and can be used across platforms.\n",
    "\n",
    "* Some of the most used formats are CSV, JSON, Parquet, AVRO, HDF5\n",
    "  * All very well supported in Python\n"
   ]
  },
  {
   "cell_type": "markdown",
   "id": "96f0ff77",
   "metadata": {},
   "source": [
    "### CSV File Format\n",
    "\n",
    "* Files in the CSV (Comma-separated values) format are usually used to exchange tabular data\n",
    "  * Plain-text file (readable characters)\n",
    " \n",
    "* CSV is a row-based file format: each row of the file is a separate data instance\n",
    "  * May or may not contain a header\n",
    "* Structure is conveyed through explicit commas\n",
    "  * Text commas are encapsulated in double quotes\n",
    "\n",
    "```\n",
    "Title,Author,Genre,Height,Publisher\n",
    "\"Computer Vision, A Modern Approach\",\"Forsyth, David\",data_science,255,Pearson\n",
    "Data Mining Handbook,\"Nisbet, Robert\",data_science,242,Apress\n",
    "Making Software,\"Oram, Andy\",computer_science,232,O'Reilly\n",
    "...\n",
    "```"
   ]
  },
  {
   "cell_type": "markdown",
   "id": "c9ae2028",
   "metadata": {},
   "source": [
    "### CSV File Format\n",
    "\n",
    "* CSV format is not fully standardized\n",
    "  * Other characters can be used to separate files, such as tabs (tsv) or spaces (ssv)\n",
    " \n",
    "* Data relationships across multiple CSV files are not expressed in the file format\n",
    "  * Use same column names to indicate \"foreign key\" relationship\n",
    " \n",
    "\n",
    "* Native support in Python\n",
    "```python\n",
    "import csv\n",
    "csv.reader(csvfile, delimiter=',', quotechar='\"')\n",
    "# use csv ...\n",
    "```"
   ]
  },
  {
   "cell_type": "code",
   "execution_count": 36,
   "id": "9e31127d",
   "metadata": {},
   "outputs": [
    {
     "name": "stdout",
     "output_type": "stream",
     "text": [
      "Line 0: ['Rank', 'Year', 'Movie', 'WorldwideBox Office', 'DomesticBox Office', 'InternationalBox Office']\n",
      "Line 1: ['1', '2009', 'Avatar', '$2,845,899,541', '$760,507,625', '$2,085,391,916']\n",
      "Line 2: ['2', '2019', 'Avengers: Endgame', '$2,797,800,564', '$858,373,000', '$1,939,427,564']\n",
      "Line 3: ['3', '1997', 'Titanic', '$2,207,986,545', '$659,363,944', '$1,548,622,601']\n",
      "Line 4: ['4', '2015', 'Star Wars Ep. VII: The Force Awakens', '$2,064,615,817', '$936,662,225', '$1,127,953,592']\n",
      "Line 5: ['5', '2018', 'Avengers: Infinity War', '$2,044,540,523', '$678,815,482', '$1,365,725,041']\n",
      "Line 6: ['6', '2015', 'Jurassic World', '$1,669,979,967', '$652,306,625', '$1,017,673,342']\n",
      "Line 7: ['7', '2019', 'The Lion King', '$1,654,367,425', '$543,638,043', '$1,110,729,382']\n",
      "Line 8: ['8', '2015', 'Furious 7', '$1,516,881,526', '$353,007,020', '$1,163,874,506']\n",
      "Line 9: ['9', '2012', 'The Avengers', '$1,515,100,211', '$623,357,910', '$891,742,301']\n"
     ]
    }
   ],
   "source": [
    "# All_Time_Worldwide_Box_Office_partial.csv\n",
    "import csv\n",
    "with open('All_Time_Worldwide_Box_Office.csv')  as csvfile:\n",
    "    movies_file = csv.reader(csvfile, delimiter=',', quotechar='\"')\n",
    "    i = 0 \n",
    "    for line in movies_file:\n",
    "        print(f\"Line {i}: {line}\")\n",
    "        i+=1\n",
    "        if i ==10:\n",
    "            break\n"
   ]
  },
  {
   "cell_type": "code",
   "execution_count": 39,
   "id": "70a5b2c2",
   "metadata": {},
   "outputs": [
    {
     "name": "stdout",
     "output_type": "stream",
     "text": [
      "Line 0: {'Rank': '1', 'Year': '2009', 'Movie': 'Avatar', 'WorldwideBox Office': '$2,845,899,541', 'DomesticBox Office': '$760,507,625', 'InternationalBox Office': '$2,085,391,916'}\n",
      "Line 1: {'Rank': '2', 'Year': '2019', 'Movie': 'Avengers: Endgame', 'WorldwideBox Office': '$2,797,800,564', 'DomesticBox Office': '$858,373,000', 'InternationalBox Office': '$1,939,427,564'}\n",
      "Line 2: {'Rank': '3', 'Year': '1997', 'Movie': 'Titanic', 'WorldwideBox Office': '$2,207,986,545', 'DomesticBox Office': '$659,363,944', 'InternationalBox Office': '$1,548,622,601'}\n",
      "Line 3: {'Rank': '4', 'Year': '2015', 'Movie': 'Star Wars Ep. VII: The Force Awakens', 'WorldwideBox Office': '$2,064,615,817', 'DomesticBox Office': '$936,662,225', 'InternationalBox Office': '$1,127,953,592'}\n",
      "Line 4: {'Rank': '5', 'Year': '2018', 'Movie': 'Avengers: Infinity War', 'WorldwideBox Office': '$2,044,540,523', 'DomesticBox Office': '$678,815,482', 'InternationalBox Office': '$1,365,725,041'}\n",
      "Line 5: {'Rank': '6', 'Year': '2015', 'Movie': 'Jurassic World', 'WorldwideBox Office': '$1,669,979,967', 'DomesticBox Office': '$652,306,625', 'InternationalBox Office': '$1,017,673,342'}\n",
      "Line 6: {'Rank': '7', 'Year': '2019', 'Movie': 'The Lion King', 'WorldwideBox Office': '$1,654,367,425', 'DomesticBox Office': '$543,638,043', 'InternationalBox Office': '$1,110,729,382'}\n",
      "Line 7: {'Rank': '8', 'Year': '2015', 'Movie': 'Furious 7', 'WorldwideBox Office': '$1,516,881,526', 'DomesticBox Office': '$353,007,020', 'InternationalBox Office': '$1,163,874,506'}\n",
      "Line 8: {'Rank': '9', 'Year': '2012', 'Movie': 'The Avengers', 'WorldwideBox Office': '$1,515,100,211', 'DomesticBox Office': '$623,357,910', 'InternationalBox Office': '$891,742,301'}\n",
      "Line 9: {'Rank': '10', 'Year': '2019', 'Movie': 'Frozen II', 'WorldwideBox Office': '$1,446,925,396', 'DomesticBox Office': '$477,373,578', 'InternationalBox Office': '$969,551,818'}\n"
     ]
    }
   ],
   "source": [
    "# All_Time_Worldwide_Box_Office_partial.csv\n",
    "import csv\n",
    "with open('All_Time_Worldwide_Box_Office.csv')  as csvfile:\n",
    "    movies_file = csv.DictReader(csvfile, delimiter=',', quotechar='\"')\n",
    "    i = 0 \n",
    "    for line in movies_file:\n",
    "        print(f\"Line {i}: {line}\")\n",
    "        i+=1\n",
    "        if i ==10:\n",
    "            break"
   ]
  },
  {
   "cell_type": "markdown",
   "id": "9a748ae3",
   "metadata": {},
   "source": [
    "### CSV Pros and Cons\n",
    "<u>Pros:</u>\n",
    "* Human-readable and easy to edit manually\n",
    "* Provides a simple scheme\n",
    "* Can be processed by almost all existing applications\n",
    "* Easy to implement and parse;\n",
    "* Compact (compared to, for instance JSON or MXL)\n",
    "* Column headers are written only once\n",
    "\n",
    "<u>Cons:</u>\n",
    "* No guarantees about data integrity, i.e., data won't be missing or won't be in a different type than expected.\n",
    "* Adding complex structures to a data structure is not possible\n",
    "  * May need to reference other files to implement nesting\n",
    "* There is no standard way to present binary data\n",
    "* Lack of a universal standard can cause "
   ]
  },
  {
   "cell_type": "markdown",
   "id": "bdb872ea",
   "metadata": {},
   "source": [
    "### JSON File Format\n",
    "\n",
    "* JSON (JavaScript Object Notation)\n",
    "\n",
    "* Open standard file format that uses human-readable text\n",
    "  * FIle typically stored using `.json` extension\n",
    "  \n",
    "* Became popular as a space-saving alternative to Extensible Markup Language (XML)\n",
    "\n",
    "* Inspired by JavaScript objects but is a language-independent data format\n",
    "\n",
    "* Very similar to the combination of Python's lists and dicts\n",
    "\n",
    "* Also supported natively in Python\n",
    "  ```python\n",
    "  import json\n",
    "json.load(...)\n",
    "  ```\n",
    "* The defacto language of the web\n",
    "  * Supported in all modern languages and particularly web languages."
   ]
  },
  {
   "cell_type": "markdown",
   "id": "ec11c99f",
   "metadata": {},
   "source": [
    "### JSON File Structure\n",
    "\n",
    "* JSON supports the following types.\n",
    "\n",
    "* Scalar values\n",
    "    * `Numbers`: e.g. 3\n",
    "    * `String`: Sequence of Unicode characters surrounded by double quotation marks.\n",
    "    * `Boolean`: `true` or `false`.\n",
    "\n",
    "* Collections:\n",
    "    * `Array`: A list of values surrounded by square brackets `[]`\n",
    "    * `Dictionaries`: key\" value pairs separated by a comma(,) and enclosed in `{}`\n",
    "      * Keys are strings and values can be any valid scalar or collection\n",
    "\n",
    "* See the following for more details: https://docs.fileformat.com/web/json/\n",
    "* See the following very good (useful) validator for validating JSON files or records: https://jsonformatter.curiousconcept.com/#"
   ]
  },
  {
   "cell_type": "code",
   "execution_count": 40,
   "id": "16187bc2",
   "metadata": {},
   "outputs": [
    {
     "data": {
      "text/plain": [
       "[{'First Name': 'John',\n",
       "  'Occupation': 'Student',\n",
       "  'Salary': 120000,\n",
       "  'volunteer': False},\n",
       " {'First Name': 'John',\n",
       "  'Occupation': 'Student',\n",
       "  'salary': None,\n",
       "  'volunteer': True}]"
      ]
     },
     "execution_count": 40,
     "metadata": {},
     "output_type": "execute_result"
    }
   ],
   "source": [
    "my_data = [ \n",
    "    {'First Name': \"John\", \"Occupation\": \"Student\", \"Salary\": 120_000, \"volunteer\": False}, \n",
    "    {'First Name': \"John\", \"Occupation\": \"Student\", \"salary\": None, \"volunteer\": True}\n",
    "]\n",
    "my_data\n"
   ]
  },
  {
   "cell_type": "markdown",
   "id": "10c69d70",
   "metadata": {},
   "source": [
    "```python\n",
    "json.load\n",
    "json.loads\n",
    "json.dump\n",
    "json.dumps\n",
    "```"
   ]
  },
  {
   "cell_type": "code",
   "execution_count": 49,
   "id": "9cd4c7b6",
   "metadata": {},
   "outputs": [
    {
     "name": "stdout",
     "output_type": "stream",
     "text": [
      "[{\"First Name\": \"John\", \"Occupation\": \"Student\", \"Salary\": 120000, \"volunteer\": false}, {\"First Name\": \"John\", \"Occupation\": \"Student\", \"salary\": null, \"volunteer\": true}]\n"
     ]
    }
   ],
   "source": [
    "import json\n",
    "json_representation = json.dumps(my_data)\n",
    "print(json_representation)\n",
    "# Note the changes between the Python dict and the JSON string"
   ]
  },
  {
   "cell_type": "markdown",
   "id": "5d42c6ca",
   "metadata": {},
   "source": [
    "### Working with the Python `json` library\n",
    "\n",
    "\n",
    "* `All_Time_Worldwide_Box_Office_partial.json`  structure\n",
    "```json\n",
    "[\n",
    " {\n",
    "  \"Rank\": \"1\",\n",
    "  \"Year\": \"2009\",\n",
    "  \"Movie\": \"Avatar\",\n",
    "  \"WorldwideBox Office\": \"$2,845,899,541\",\n",
    "  \"DomesticBox Office\": \"$760,507,625\",\n",
    "  \"InternationalBox Office\": \"$2,085,391,916\"\n",
    " },\n",
    " {\n",
    "  \"Rank\": \"2\",\n",
    "  \"Year\": \"2019\",\n",
    "  \"Movie\": \"Avengers: Endgame\",\n",
    "  \"WorldwideBox Office\": \"$2,797,800,564\",\n",
    "  \"DomesticBox Office\": \"$858,373,000\",\n",
    "  \"InternationalBox Office\": \"$1,939,427,564\"\n",
    " },\n",
    " ...\n",
    "]\n",
    "```"
   ]
  },
  {
   "cell_type": "code",
   "execution_count": 53,
   "id": "b546b462",
   "metadata": {},
   "outputs": [
    {
     "data": {
      "text/plain": [
       "[{'Rank': '1',\n",
       "  'Year': '2009',\n",
       "  'Movie': 'Avatar',\n",
       "  'WorldwideBox Office': '$2,845,899,541',\n",
       "  'DomesticBox Office': '$760,507,625',\n",
       "  'InternationalBox Office': '$2,085,391,916'},\n",
       " {'Rank': '2',\n",
       "  'Year': '2019',\n",
       "  'Movie': 'Avengers: Endgame',\n",
       "  'WorldwideBox Office': '$2,797,800,564',\n",
       "  'DomesticBox Office': '$858,373,000',\n",
       "  'InternationalBox Office': '$1,939,427,564'},\n",
       " {'Rank': '3',\n",
       "  'Year': '1997',\n",
       "  'Movie': 'Titanic',\n",
       "  'WorldwideBox Office': '$2,207,986,545',\n",
       "  'DomesticBox Office': '$659,363,944',\n",
       "  'InternationalBox Office': '$1,548,622,601'}]"
      ]
     },
     "execution_count": 53,
     "metadata": {},
     "output_type": "execute_result"
    }
   ],
   "source": [
    "import json\n",
    "json_file = open('data/All_Time_Worldwide_Box_Office_partial.json') \n",
    "movies_data = json.load(json_file)\n",
    "movies_data[0:3]\n"
   ]
  },
  {
   "cell_type": "code",
   "execution_count": 54,
   "id": "7341ee4b",
   "metadata": {},
   "outputs": [
    {
     "data": {
      "text/plain": [
       "list"
      ]
     },
     "execution_count": 54,
     "metadata": {},
     "output_type": "execute_result"
    }
   ],
   "source": [
    "type(movies_data)"
   ]
  },
  {
   "cell_type": "code",
   "execution_count": 55,
   "id": "0d5c94f2",
   "metadata": {},
   "outputs": [
    {
     "data": {
      "text/plain": [
       "dict"
      ]
     },
     "execution_count": 55,
     "metadata": {},
     "output_type": "execute_result"
    }
   ],
   "source": [
    "type(movies_data[0])"
   ]
  },
  {
   "cell_type": "code",
   "execution_count": 57,
   "id": "eac5ab41",
   "metadata": {},
   "outputs": [
    {
     "name": "stdout",
     "output_type": "stream",
     "text": [
      "The movie Avatar, grossed $2,845,899,541 in 2009\n",
      "The movie Avengers: Endgame, grossed $2,797,800,564 in 2019\n",
      "The movie Titanic, grossed $2,207,986,545 in 1997\n",
      "The movie Star Wars Ep. VII: The Force Awakens, grossed $2,064,615,817 in 2015\n",
      "The movie Avengers: Infinity War, grossed $2,044,540,523 in 2018\n",
      "The movie Jurassic World, grossed $1,669,979,967 in 2015\n",
      "The movie The Lion King, grossed $1,654,367,425 in 2019\n",
      "The movie Furious 7, grossed $1,516,881,526 in 2015\n",
      "The movie The Avengers, grossed $1,515,100,211 in 2012\n",
      "The movie Frozen II, grossed $1,446,925,396 in 2019\n"
     ]
    }
   ],
   "source": [
    "for record in movies_data:\n",
    "    print(f\"The movie {record['Movie']}, grossed {record['WorldwideBox Office']} in {record['Year']}\")"
   ]
  },
  {
   "cell_type": "markdown",
   "id": "c2091ef8",
   "metadata": {},
   "source": [
    "### JSON Pros and Cons\n",
    "\n",
    "* Pros:\n",
    "    * Very well supported in modern languages, technologies and infrastructures\n",
    "    * Can be used as the basis for more performance-optimized formats Parquet or Avro (discussed next)\n",
    "    * Supports hierarchical structures abstracting the need for complex relationships\n",
    "    * The *defacto* standard in NoSQL databases\n",
    "* Cons:\n",
    "    * Much smaller footprint than XML but still fairly large due to repeated field names\n",
    "    * Not easy to index\n",
    "    * Some tentatives to add a schema but not commonly used"
   ]
  },
  {
   "cell_type": "markdown",
   "id": "174d7204",
   "metadata": {},
   "source": [
    "### AVRO File Format\n",
    "\n",
    "* AVRO is an advanced form of the JSON format\n",
    "    * Leverages some of the advantages of JSON while mitigating some of its disadvantages\n",
    "* Uses a file definition (a schema itself written in JSON) and stores data without the repeated field names.\n",
    "  * Said to be self-descriptive because you can include the schema and documentation in the header of the file containing the data\n",
    "\n",
    "* Released by the Hadoop working group in 2009 to use with Hadoop Systems\n",
    "* It is a row-based format that has a high degree of splitting\n",
    "* Provides mechanism to manage schema evolution\n",
    "* support for most modern languages, including Python via the `avro` library"
   ]
  },
  {
   "cell_type": "markdown",
   "id": "b1779595",
   "metadata": {},
   "source": [
    "### Pros and Cons\n",
    "\n",
    "* Pros:\n",
    "    * Binary data minimizes file size and maximizes efficiency\n",
    "    * A reliable support for schema evolution\n",
    "      * Supports new, missing, or changed fields.\n",
    "      * This allows old software to read new data, and new software to read old data\n",
    "      * It is a critical feature if your data can change.\n",
    "* Cons:\n",
    "    * Data is not human readable\n",
    "    * all the cons of a row-based format"
   ]
  },
  {
   "cell_type": "markdown",
   "id": "1be0ce0c",
   "metadata": {},
   "source": [
    "### PARQUET Format\n",
    "\n",
    "\n",
    "* Parquet was developed by Twitter and Cloudera as a columnar data store\n",
    "* Parquet is especially useful with wide datasets (datasets with many columns)\n",
    "\n",
    "* Optimized for reading and is therefore ideal for read-intensive workloads\n",
    "* Parquet was also designed to support columnar partitions\n",
    "    * Splitting the data based on value similarity, whcih results in a folder hierarchy\n",
    "      * E.g.: split on the similar values of the MONTH  or department\n",
    "    * Splits can be nested by splitting on a second attribute.\n",
    "      * Will result in a nested folder hierarchy\n",
    "     \n",
    "```      \n",
    "    MONTH=JANUARY\n",
    "        CITY=HONOLULU\n",
    "           data..\n",
    "        CITY=MONTREAL\n",
    "            data..\n",
    "        CITY=NY\n",
    "            data..\n",
    "        \n",
    "    MONTH=FEBRUARY\n",
    "        CITY=HONOLULU\n",
    "           data..\n",
    "        CITY=MONTREAL\n",
    "            data..\n",
    "        CITY=NY\n",
    "            data..\n",
    "\n",
    "    ...\n",
    "      \n",
    "```  \n",
    "https://blog.datasyndrome.com/python-and-parquet-performance-e71da65269ce\n",
    " "
   ]
  },
  {
   "cell_type": "markdown",
   "id": "d498e882",
   "metadata": {},
   "source": [
    "### PARQUET PROS and CONS\n",
    "\n",
    "* Pros: \n",
    " * Highly compressible since data is stored column-wise (compression rates up to 75%)\n",
    "   * Can use different compression algorithms with different datatypes\n",
    " * Seamless splittability across columns.\n",
    " * Optimized for reading data and ideal for read-intensive tasks\n",
    "   * Can use parallelization to read different columns.\n",
    "\n",
    "\n",
    "\n",
    "* Cons:\n",
    " * Very slow at writing data and not good with write-intensive applications\n",
    " * Does not support updates on the data as Parquet files are immutable.\n"
   ]
  },
  {
   "cell_type": "markdown",
   "id": "3512a4f2",
   "metadata": {},
   "source": [
    "### PARQUET  at the NYC.GOV site.\n",
    "\n",
    "https://www1.nyc.gov/site/tlc/about/tlc-trip-record-data.page"
   ]
  },
  {
   "cell_type": "markdown",
   "id": "c7031cd0",
   "metadata": {},
   "source": [
    "### Memory Mapping for working with Large Files\n",
    "\n",
    "* Memory Mapping is a powerful concept to map a portion or the complete file located on the disk to some virtual memory.\n",
    "\n",
    "* You can \"load\" a file that’s larger than your physical memory. \n",
    "  * The Kernel  lazily load the data as it’s requested\n",
    "  * Kernel schedules reads and writes of physical pages\n",
    "  * Allows you to use memory access rather than read and write\n",
    "\n",
    "* Ideal for approach on large file for  streaming-like processes instead of indexing\n",
    "  * Think for instance of map-like operations.\n"
   ]
  },
  {
   "cell_type": "markdown",
   "id": "ca9bcfdd",
   "metadata": {},
   "source": [
    "### READ FILE\n",
    "\n",
    "![](https://www.dropbox.com/s/0uaxprebndgw1sn/read_file.png?dl=1)"
   ]
  },
  {
   "cell_type": "markdown",
   "id": "2b67ee70",
   "metadata": {},
   "source": [
    "### MMAP\n",
    "![](https://www.dropbox.com/s/eezmaerp24s45s8/mmap.png?dl=1)"
   ]
  },
  {
   "cell_type": "markdown",
   "id": "26777846",
   "metadata": {},
   "source": [
    "### Better Memory Managment\n",
    "\n",
    "* Page table stores address of pages on disk that were not loaded yet\n",
    "  * Loads data as needed.\n",
    "* Thus column and memory mapping allows you to only read the data you need, even if the data fits in RAM\n",
    "  * If data is stored in column oriented fashion and contains hundreds of rows, then operating on a single row is \"probably not\" trigger read of other rows\n",
    "   * How much data is dependent on Physical RAM, OS, operating system, data size"
   ]
  },
  {
   "cell_type": "code",
   "execution_count": 5,
   "id": "9a2304c8",
   "metadata": {},
   "outputs": [
    {
     "name": "stdout",
     "output_type": "stream",
     "text": [
      "1.0G\t/Users/mahdi/Downloads/test.csv\r\n",
      "1.0G\ttotal\r\n"
     ]
    }
   ],
   "source": [
    "!du -sch ~/Downloads/test.csv"
   ]
  },
  {
   "cell_type": "code",
   "execution_count": 8,
   "id": "6d69af33",
   "metadata": {},
   "outputs": [
    {
     "name": "stdout",
     "output_type": "stream",
     "text": [
      "<class 'pandas.core.frame.DataFrame'>\n",
      "RangeIndex: 999999 entries, 0 to 999998\n",
      "Columns: 708 entries, location_key to cumulative_vaccine_doses_administered_janssen\n",
      "dtypes: float64(683), int64(1), object(24)\n",
      "memory usage: 6.3 GB\n",
      "CPU times: user 34.5 s, sys: 4.15 s, total: 38.6 s\n",
      "Wall time: 38.7 s\n"
     ]
    }
   ],
   "source": [
    "%%time\n",
    "import pandas as pd\n",
    "data = pd.read_csv(\"~/Downloads/test.csv\", low_memory=False)\n",
    "data.info(memory_usage='deep')"
   ]
  },
  {
   "cell_type": "code",
   "execution_count": 10,
   "id": "318b5437",
   "metadata": {},
   "outputs": [],
   "source": [
    "import mmap\n",
    "import os"
   ]
  },
  {
   "cell_type": "code",
   "execution_count": 31,
   "id": "b91c328e",
   "metadata": {},
   "outputs": [
    {
     "name": "stdout",
     "output_type": "stream",
     "text": [
      "CPU times: user 579 µs, sys: 826 µs, total: 1.41 ms\n",
      "Wall time: 23.9 ms\n"
     ]
    }
   ],
   "source": [
    "%%time\n",
    "file_handle = open(\"/Users/mahdi/Downloads/test.csv\", 'r+b') \n",
    "mmap_file = mmap.mmap(file_handle.fileno(), 0)\n"
   ]
  },
  {
   "cell_type": "code",
   "execution_count": 32,
   "id": "87b60c18",
   "metadata": {},
   "outputs": [
    {
     "name": "stdout",
     "output_type": "stream",
     "text": [
      "Line 0:\tb'location_key,date,place_id,wikidata_id,datacommons_id,country_code,country_name,iso_3166_1_alpha_2,iso_3166_1_alpha_3,aggregation_level,new_confirmed,new_deceased,cumulative_confirmed,cumulative_deceased,cumulative_tested,new_persons_vaccinated,cumulative_persons_vaccinated,new_persons_fully_vaccinated,cumulative_persons_fully_vaccinated,new_vaccine_doses_administered,cumulative_vaccine_doses_administered,population,population_male,population_female,population_rural,population_urban,population_density,human_development_index,population_age_00_09,population_age_10_19,population_age_20_29,population_age_30_39,population_age_40_49,population_age_50_59,population_age_60_69,population_age_70_79,population_age_80_and_older,gdp_usd,gdp_per_capita_usd,openstreetmap_id,latitude,longitude,area_sq_km,smoking_prevalence,diabetes_prevalence,infant_mortality_rate,nurses_per_1000,physicians_per_1000,health_expenditure_usd,out_of_pocket_health_expenditure_usd,school_closing,workplace_closing,cancel_public_events,restrictions_on_gatherings,public_transport_closing,stay_at_home_requirements,restrictions_on_internal_movement,international_travel_controls,income_support,debt_relief,fiscal_measures,international_support,public_information_campaigns,testing_policy,contact_tracing,emergency_investment_in_healthcare,investment_in_vaccines,facial_coverings,vaccination_policy,stringency_index,average_temperature_celsius,minimum_temperature_celsius,maximum_temperature_celsius,rainfall_mm,snowfall_mm,dew_point,relative_humidity,new_tested,population_largest_city,population_clustered,human_capital_index,area_rural_sq_km,area_urban_sq_km,life_expectancy,adult_male_mortality_rate,adult_female_mortality_rate,pollution_mortality_rate,comorbidity_mortality_rate,mobility_retail_and_recreation,mobility_grocery_and_pharmacy,mobility_parks,mobility_transit_stations,mobility_workplaces,mobility_residential,hospital_beds_per_1000,subregion1_code,subregion1_name,new_recovered,cumulative_recovered,elevation_m,new_hospitalized_patients,cumulative_hospitalized_patients,new_intensive_care_patients,cumulative_intensive_care_patients,new_confirmed_age_0,new_confirmed_age_1,new_confirmed_age_2,new_confirmed_age_3,new_confirmed_age_4,new_confirmed_age_5,new_confirmed_age_6,new_confirmed_age_7,new_confirmed_age_8,new_confirmed_age_9,cumulative_confirmed_age_0,cumulative_confirmed_age_1,cumulative_confirmed_age_2,cumulative_confirmed_age_3,cumulative_confirmed_age_4,cumulative_confirmed_age_5,cumulative_confirmed_age_6,cumulative_confirmed_age_7,cumulative_confirmed_age_8,cumulative_confirmed_age_9,new_deceased_age_0,new_deceased_age_1,new_deceased_age_2,new_deceased_age_3,new_deceased_age_4,new_deceased_age_5,new_deceased_age_6,new_deceased_age_7,new_deceased_age_8,new_deceased_age_9,cumulative_deceased_age_0,cumulative_deceased_age_1,cumulative_deceased_age_2,cumulative_deceased_age_3,cumulative_deceased_age_4,cumulative_deceased_age_5,cumulative_deceased_age_6,cumulative_deceased_age_7,cumulative_deceased_age_8,cumulative_deceased_age_9,new_tested_age_0,new_tested_age_1,new_tested_age_2,new_tested_age_3,new_tested_age_4,new_tested_age_5,new_tested_age_6,new_tested_age_7,new_tested_age_8,new_tested_age_9,cumulative_tested_age_0,cumulative_tested_age_1,cumulative_tested_age_2,cumulative_tested_age_3,cumulative_tested_age_4,cumulative_tested_age_5,cumulative_tested_age_6,cumulative_tested_age_7,cumulative_tested_age_8,cumulative_tested_age_9,new_hospitalized_patients_age_0,new_hospitalized_patients_age_1,new_hospitalized_patients_age_2,new_hospitalized_patients_age_3,new_hospitalized_patients_age_4,new_hospitalized_patients_age_5,new_hospitalized_patients_age_6,new_hospitalized_patients_age_7,new_hospitalized_patients_age_8,new_hospitalized_patients_age_9,cumulative_hospitalized_patients_age_0,cumulative_hospitalized_patients_age_1,cumulative_hospitalized_patients_age_2,cumulative_hospitalized_patients_age_3,cumulative_hospitalized_patients_age_4,cumulative_hospitalized_patients_age_5,cumulative_hospitalized_patients_age_6,cumulative_hospitalized_patients_age_7,cumulative_hospitalized_patients_age_8,cumulative_hospitalized_patients_age_9,new_intensive_care_patients_age_0,new_intensive_care_patients_age_1,new_intensive_care_patients_age_2,new_intensive_care_patients_age_3,new_intensive_care_patients_age_4,new_intensive_care_patients_age_5,new_intensive_care_patients_age_6,new_intensive_care_patients_age_7,new_intensive_care_patients_age_8,new_intensive_care_patients_age_9,cumulative_intensive_care_patients_age_0,cumulative_intensive_care_patients_age_1,cumulative_intensive_care_patients_age_2,cumulative_intensive_care_patients_age_3,cumulative_intensive_care_patients_age_4,cumulative_intensive_care_patients_age_5,cumulative_intensive_care_patients_age_6,cumulative_intensive_care_patients_age_7,cumulative_intensive_care_patients_age_8,cumulative_intensive_care_patients_age_9,age_bin_0,age_bin_1,age_bin_2,age_bin_3,age_bin_4,age_bin_5,age_bin_6,age_bin_7,age_bin_8,age_bin_9,new_confirmed_male,new_confirmed_female,cumulative_confirmed_male,cumulative_confirmed_female,new_deceased_male,new_deceased_female,cumulative_deceased_male,cumulative_deceased_female,new_tested_male,new_tested_female,cumulative_tested_male,cumulative_tested_female,new_hospitalized_patients_male,new_hospitalized_patients_female,cumulative_hospitalized_patients_male,cumulative_hospitalized_patients_female,new_intensive_care_patients_male,new_intensive_care_patients_female,cumulative_intensive_care_patients_male,cumulative_intensive_care_patients_female,subregion2_code,subregion2_name,current_hospitalized_patients,current_intensive_care_patients,current_ventilator_patients,search_trends_abdominal_obesity,search_trends_abdominal_pain,search_trends_acne,search_trends_actinic_keratosis,search_trends_acute_bronchitis,search_trends_adrenal_crisis,search_trends_ageusia,search_trends_alcoholism,search_trends_allergic_conjunctivitis,search_trends_allergy,search_trends_amblyopia,search_trends_amenorrhea,search_trends_amnesia,search_trends_anal_fissure,search_trends_anaphylaxis,search_trends_anemia,search_trends_angina_pectoris,search_trends_angioedema,search_trends_angular_cheilitis,search_trends_anosmia,search_trends_anxiety,search_trends_aphasia,search_trends_aphonia,search_trends_apnea,search_trends_arthralgia,search_trends_arthritis,search_trends_ascites,search_trends_asperger_syndrome,search_trends_asphyxia,search_trends_asthma,search_trends_astigmatism,search_trends_ataxia,search_trends_atheroma,search_trends_attention_deficit_hyperactivity_disorder,search_trends_auditory_hallucination,search_trends_autoimmune_disease,search_trends_avoidant_personality_disorder,search_trends_back_pain,search_trends_bacterial_vaginosis,search_trends_balance_disorder,search_trends_beaus_lines,search_trends_bells_palsy,search_trends_biliary_colic,search_trends_binge_eating,search_trends_bleeding,search_trends_bleeding_on_probing,search_trends_blepharospasm,search_trends_bloating,search_trends_blood_in_stool,search_trends_blurred_vision,search_trends_blushing,search_trends_boil,search_trends_bone_fracture,search_trends_bone_tumor,search_trends_bowel_obstruction,search_trends_bradycardia,search_trends_braxton_hicks_contractions,search_trends_breakthrough_bleeding,search_trends_breast_pain,search_trends_bronchitis,search_trends_bruise,search_trends_bruxism,search_trends_bunion,search_trends_burn,search_trends_burning_chest_pain,search_trends_burning_mouth_syndrome,search_trends_candidiasis,search_trends_canker_sore,search_trends_cardiac_arrest,search_trends_carpal_tunnel_syndrome,search_trends_cataplexy,search_trends_cataract,search_trends_chancre,search_trends_cheilitis,search_trends_chest_pain,search_trends_chills,search_trends_chorea,search_trends_chronic_pain,search_trends_cirrhosis,search_trends_cleft_lip_and_cleft_palate,search_trends_clouding_of_consciousness,search_trends_cluster_headache,search_trends_colitis,search_trends_coma,search_trends_common_cold,search_trends_compulsive_behavior,search_trends_compulsive_hoarding,search_trends_confusion,search_trends_congenital_heart_defect,search_trends_conjunctivitis,search_trends_constipation,search_trends_convulsion,search_trends_cough,search_trends_crackles,search_trends_cramp,search_trends_crepitus,search_trends_croup,search_trends_cyanosis,search_trends_dandruff,search_trends_delayed_onset_muscle_soreness,search_trends_dementia,search_trends_dentin_hypersensitivity,search_trends_depersonalization,search_trends_depression,search_trends_dermatitis,search_trends_desquamation,search_trends_developmental_disability,search_trends_diabetes,search_trends_diabetic_ketoacidosis,search_trends_diarrhea,search_trends_dizziness,search_trends_dry_eye_syndrome,search_trends_dysautonomia,search_trends_dysgeusia,search_trends_dysmenorrhea,search_trends_dyspareunia,search_trends_dysphagia,search_trends_dysphoria,search_trends_dystonia,search_trends_dysuria,search_trends_ear_pain,search_trends_eczema,search_trends_edema,search_trends_encephalitis,search_trends_encephalopathy,search_trends_epidermoid_cyst,search_trends_epilepsy,search_trends_epiphora,search_trends_erectile_dysfunction,search_trends_erythema,search_trends_erythema_chronicum_migrans,search_trends_esophagitis,search_trends_excessive_daytime_sleepiness,search_trends_eye_pain,search_trends_eye_strain,search_trends_facial_nerve_paralysis,search_trends_facial_swelling,search_trends_fasciculation,search_trends_fatigue,search_trends_fatty_liver_disease,search_trends_fecal_incontinence,search_trends_fever,search_trends_fibrillation,search_trends_fibrocystic_breast_changes,search_trends_fibromyalgia,search_trends_flatulence,search_trends_floater,search_trends_focal_seizure,search_trends_folate_deficiency,search_trends_food_craving,search_trends_food_intolerance,search_trends_frequent_urination,search_trends_gastroesophageal_reflux_disease,search_trends_gastroparesis,search_trends_generalized_anxiety_disorder,search_trends_genital_wart,search_trends_gingival_recession,search_trends_gingivitis,search_trends_globus_pharyngis,search_trends_goitre,search_trends_gout,search_trends_grandiosity,search_trends_granuloma,search_trends_guilt,search_trends_hair_loss,search_trends_halitosis,search_trends_hay_fever,search_trends_headache,search_trends_heart_arrhythmia,search_trends_heart_murmur,search_trends_heartburn,search_trends_hematochezia,search_trends_hematoma,search_trends_hematuria,search_trends_hemolysis,search_trends_hemoptysis,search_trends_hemorrhoids,search_trends_hepatic_encephalopathy,search_trends_hepatitis,search_trends_hepatotoxicity,search_trends_hiccup,search_trends_hip_pain,search_trends_hives,search_trends_hot_flash,search_trends_hydrocephalus,search_trends_hypercalcaemia,search_trends_hypercapnia,search_trends_hypercholesterolemia,search_trends_hyperemesis_gravidarum,search_trends_hyperglycemia,search_trends_hyperhidrosis,search_trends_hyperkalemia,search_trends_hyperlipidemia,search_trends_hypermobility,search_trends_hyperpigmentation,search_trends_hypersomnia,search_trends_hypertension,search_trends_hyperthermia,search_trends_hyperthyroidism,search_trends_hypertriglyceridemia,search_trends_hypertrophy,search_trends_hyperventilation,search_trends_hypocalcaemia,search_trends_hypochondriasis,search_trends_hypoglycemia,search_trends_hypogonadism,search_trends_hypokalemia,search_trends_hypomania,search_trends_hyponatremia,search_trends_hypotension,search_trends_hypothyroidism,search_trends_hypoxemia,search_trends_hypoxia,search_trends_impetigo,search_trends_implantation_bleeding,search_trends_impulsivity,search_trends_indigestion,search_trends_infection,search_trends_inflammation,search_trends_inflammatory_bowel_disease,search_trends_ingrown_hair,search_trends_insomnia,search_trends_insulin_resistance,search_trends_intermenstrual_bleeding,search_trends_intracranial_pressure,search_trends_iron_deficiency,search_trends_irregular_menstruation,search_trends_itch,search_trends_jaundice,search_trends_kidney_failure,search_trends_kidney_stone,search_trends_knee_pain,search_trends_kyphosis,search_trends_lactose_intolerance,search_trends_laryngitis,search_trends_leg_cramps,search_trends_lesion,search_trends_leukorrhea,search_trends_lightheadedness,search_trends_low_back_pain,search_trends_low_grade_fever,search_trends_lymphedema,search_trends_major_depressive_disorder,search_trends_malabsorption,search_trends_male_infertility,search_trends_manic_disorder,search_trends_melasma,search_trends_melena,search_trends_meningitis,search_trends_menorrhagia,search_trends_middle_back_pain,search_trends_migraine,search_trends_milium,search_trends_mitral_insufficiency,search_trends_mood_disorder,search_trends_mood_swing,search_trends_morning_sickness,search_trends_motion_sickness,search_trends_mouth_ulcer,search_trends_muscle_atrophy,search_trends_muscle_weakness,search_trends_myalgia,search_trends_mydriasis,search_trends_myocardial_infarction,search_trends_myoclonus,search_trends_nasal_congestion,search_trends_nasal_polyp,search_trends_nausea,search_trends_neck_mass,search_trends_neck_pain,search_trends_neonatal_jaundice,search_trends_nerve_injury,search_trends_neuralgia,search_trends_neutropenia,search_trends_night_sweats,search_trends_night_terror,search_trends_nocturnal_enuresis,search_trends_nodule,search_trends_nosebleed,search_trends_nystagmus,search_trends_obesity,search_trends_onychorrhexis,search_trends_oral_candidiasis,search_trends_orthostatic_hypotension,search_trends_osteopenia,search_trends_osteophyte,search_trends_osteoporosis,search_trends_otitis,search_trends_otitis_externa,search_trends_otitis_media,search_trends_pain,search_trends_palpitations,search_trends_pancreatitis,search_trends_panic_attack,search_trends_papule,search_trends_paranoia,search_trends_paresthesia,search_trends_pelvic_inflammatory_disease,search_trends_pericarditis,search_trends_periodontal_disease,search_trends_periorbital_puffiness,search_trends_peripheral_neuropathy,search_trends_perspiration,search_trends_petechia,search_trends_phlegm,search_trends_photodermatitis,search_trends_photophobia,search_trends_photopsia,search_trends_pleural_effusion,search_trends_pleurisy,search_trends_pneumonia,search_trends_podalgia,search_trends_polycythemia,search_trends_polydipsia,search_trends_polyneuropathy,search_trends_polyuria,search_trends_poor_posture,search_trends_post_nasal_drip,search_trends_postural_orthostatic_tachycardia_syndrome,search_trends_prediabetes,search_trends_proteinuria,search_trends_pruritus_ani,search_trends_psychosis,search_trends_ptosis,search_trends_pulmonary_edema,search_trends_pulmonary_hypertension,search_trends_purpura,search_trends_pus,search_trends_pyelonephritis,search_trends_radiculopathy,search_trends_rectal_pain,search_trends_rectal_prolapse,search_trends_red_eye,search_trends_renal_colic,search_trends_restless_legs_syndrome,search_trends_rheum,search_trends_rhinitis,search_trends_rhinorrhea,search_trends_rosacea,search_trends_round_ligament_pain,search_trends_rumination,search_trends_scar,search_trends_sciatica,search_trends_scoliosis,search_trends_seborrheic_dermatitis,search_trends_self_harm,search_trends_sensitivity_to_sound,search_trends_sexual_dysfunction,search_trends_shallow_breathing,search_trends_sharp_pain,search_trends_shivering,search_trends_shortness_of_breath,search_trends_shyness,search_trends_sinusitis,search_trends_skin_condition,search_trends_skin_rash,search_trends_skin_tag,search_trends_skin_ulcer,search_trends_sleep_apnea,search_trends_sleep_deprivation,search_trends_sleep_disorder,search_trends_snoring,search_trends_sore_throat,search_trends_spasticity,search_trends_splenomegaly,search_trends_sputum,search_trends_stomach_rumble,search_trends_strabismus,search_trends_stretch_marks,search_trends_stridor,search_trends_stroke,search_trends_stuttering,search_trends_subdural_hematoma,search_trends_suicidal_ideation,search_trends_swelling,search_trends_swollen_feet,search_trends_swollen_lymph_nodes,search_trends_syncope,search_trends_tachycardia,search_trends_tachypnea,search_trends_telangiectasia,search_trends_tenderness,search_trends_testicular_pain,search_trends_throat_irritation,search_trends_thrombocytopenia,search_trends_thyroid_nodule,search_trends_tic,search_trends_tinnitus,search_trends_tonsillitis,search_trends_toothache,search_trends_tremor,search_trends_trichoptilosis,search_trends_tumor,search_trends_type_2_diabetes,search_trends_unconsciousness,search_trends_underweight,search_trends_upper_respiratory_tract_infection,search_trends_urethritis,search_trends_urinary_incontinence,search_trends_urinary_tract_infection,search_trends_urinary_urgency,search_trends_uterine_contraction,search_trends_vaginal_bleeding,search_trends_vaginal_discharge,search_trends_vaginitis,search_trends_varicose_veins,search_trends_vasculitis,search_trends_ventricular_fibrillation,search_trends_ventricular_tachycardia,search_trends_vertigo,search_trends_viral_pneumonia,search_trends_visual_acuity,search_trends_vomiting,search_trends_wart,search_trends_water_retention,search_trends_weakness,search_trends_weight_gain,search_trends_wheeze,search_trends_xeroderma,search_trends_xerostomia,search_trends_yawn,new_recovered_age_0,new_recovered_age_1,new_recovered_age_2,new_recovered_age_3,new_recovered_age_4,new_recovered_age_5,new_recovered_age_6,new_recovered_age_7,new_recovered_age_8,new_recovered_age_9,cumulative_recovered_age_0,cumulative_recovered_age_1,cumulative_recovered_age_2,cumulative_recovered_age_3,cumulative_recovered_age_4,cumulative_recovered_age_5,cumulative_recovered_age_6,cumulative_recovered_age_7,cumulative_recovered_age_8,cumulative_recovered_age_9,new_recovered_male,new_recovered_female,cumulative_recovered_male,cumulative_recovered_female,locality_code,locality_name,new_ventilator_patients,cumulative_ventilator_patients,new_persons_vaccinated_pfizer,cumulative_persons_vaccinated_pfizer,new_persons_fully_vaccinated_pfizer,cumulative_persons_fully_vaccinated_pfizer,new_persons_vaccinated_moderna,cumulative_persons_vaccinated_moderna,new_persons_fully_vaccinated_moderna,cumulative_persons_fully_vaccinated_moderna,new_persons_vaccinated_janssen,cumulative_persons_vaccinated_janssen,new_persons_fully_vaccinated_janssen,cumulative_persons_fully_vaccinated_janssen,new_persons_vaccinated_sinovac,total_persons_vaccinated_sinovac,new_vaccine_doses_administered_pfizer,cumulative_vaccine_doses_administered_pfizer,new_vaccine_doses_administered_moderna,cumulative_vaccine_doses_administered_moderna,new_vaccine_doses_administered_janssen,cumulative_vaccine_doses_administered_janssen\\r\\n'\n"
     ]
    }
   ],
   "source": [
    "line = mmap_file.readline()\n",
    "print(f\"Line 0:\\t{line}\")\n"
   ]
  },
  {
   "cell_type": "code",
   "execution_count": 33,
   "id": "025ed195",
   "metadata": {},
   "outputs": [
    {
     "name": "stdout",
     "output_type": "stream",
     "text": [
      "Line 1:\tb'AD,2020-01-01,ChIJlfCemC71pRIRkn_qeNc-yQc,Q228,country/AND,AD,Andorra,AD,AND,0,0,0,0,0,,,,,,,,77265,58625,55581,9269,67873,164.394,0.858,9370,12022,10727,12394,21001,20720,14433,8657,4881,3154057987,40886,9407,42.558333,1.555278,470,33.5,7.7,2.7,4.0128,3.3333,4040.786621,1688.12146,0,0,0,0,0,0,0,0,0,0,0,0,0,0,0,0,0,0,0,0.0,4.236111,0.138889,8.208333,3.302,,-0.972222,72.773049,,,,,,,,,,,,,,,,,,,,,,,,,,,,,,,,,,,,,,,,,,,,,,,,,,,,,,,,,,,,,,,,,,,,,,,,,,,,,,,,,,,,,,,,,,,,,,,,,,,,,,,,,,,,,,,,,,,,,,,,,,,,,,,,,,,,,,,,,,,,,,,,,,,,,,,,,,,,,,,,,,,,,,,,,,,,,,,,,,,,,,,,,,,,,,,,,,,,,,,,,,,,,,,,,,,,,,,,,,,,,,,,,,,,,,,,,,,,,,,,,,,,,,,,,,,,,,,,,,,,,,,,,,,,,,,,,,,,,,,,,,,,,,,,,,,,,,,,,,,,,,,,,,,,,,,,,,,,,,,,,,,,,,,,,,,,,,,,,,,,,,,,,,,,,,,,,,,,,,,,,,,,,,,,,,,,,,,,,,,,,,,,,,,,,,,,,,,,,,,,,,,,,,,,,,,,,,,,,,,,,,,,,,,,,,,,,,,,,,,,,,,,,,,,,,,,,,,,,,,,,,,,,,,,,,,,,,,,,,,,,,,,,,,,,,,,,,,,,,,,,,,,,,,,,,,,,,,,,,,,,,,,,,,,,,,,,,,,,,,,,,,,,,,,,,,,,,,,,,,,,,,,,,,,,,,,,,,,,,,,,,,,,,,,,,,,,,,,,,,,,,,,,,,,,,,,,,,,,,,,,,,,,,,,,,,\\r\\n'\n"
     ]
    }
   ],
   "source": [
    "line = mmap_file.readline()\n",
    "print(f\"Line 1:\\t{line}\")"
   ]
  },
  {
   "cell_type": "code",
   "execution_count": 34,
   "id": "79058cd6",
   "metadata": {},
   "outputs": [
    {
     "name": "stdout",
     "output_type": "stream",
     "text": [
      "Line 2:\tb'AD,2020-01-02,ChIJlfCemC71pRIRkn_qeNc-yQc,Q228,country/AND,AD,Andorra,AD,AND,0,0,0,0,0,,,,,,,,77265,58625,55581,9269,67873,164.394,0.858,9370,12022,10727,12394,21001,20720,14433,8657,4881,3154057987,40886,9407,42.558333,1.555278,470,33.5,7.7,2.7,4.0128,3.3333,4040.786621,1688.12146,0,0,0,0,0,0,0,0,0,0,0,0,0,0,0,0,0,0,0,0.0,3.875,-0.722222,10.055556,6.688667,,-1.625,70.841314,,,,,,,,,,,,,,,,,,,,,,,,,,,,,,,,,,,,,,,,,,,,,,,,,,,,,,,,,,,,,,,,,,,,,,,,,,,,,,,,,,,,,,,,,,,,,,,,,,,,,,,,,,,,,,,,,,,,,,,,,,,,,,,,,,,,,,,,,,,,,,,,,,,,,,,,,,,,,,,,,,,,,,,,,,,,,,,,,,,,,,,,,,,,,,,,,,,,,,,,,,,,,,,,,,,,,,,,,,,,,,,,,,,,,,,,,,,,,,,,,,,,,,,,,,,,,,,,,,,,,,,,,,,,,,,,,,,,,,,,,,,,,,,,,,,,,,,,,,,,,,,,,,,,,,,,,,,,,,,,,,,,,,,,,,,,,,,,,,,,,,,,,,,,,,,,,,,,,,,,,,,,,,,,,,,,,,,,,,,,,,,,,,,,,,,,,,,,,,,,,,,,,,,,,,,,,,,,,,,,,,,,,,,,,,,,,,,,,,,,,,,,,,,,,,,,,,,,,,,,,,,,,,,,,,,,,,,,,,,,,,,,,,,,,,,,,,,,,,,,,,,,,,,,,,,,,,,,,,,,,,,,,,,,,,,,,,,,,,,,,,,,,,,,,,,,,,,,,,,,,,,,,,,,,,,,,,,,,,,,,,,,,,,,,,,,,,,,,,,,,,,,,,,,,,,,,,,,,,,,,,,,,,,,,,,\\r\\n'\n"
     ]
    }
   ],
   "source": [
    "line = mmap_file.readline()\n",
    "print(f\"Line 2:\\t{line}\")"
   ]
  },
  {
   "cell_type": "code",
   "execution_count": 35,
   "id": "29e648e1",
   "metadata": {},
   "outputs": [
    {
     "name": "stdout",
     "output_type": "stream",
     "text": [
      "Line:\tb'location_key,date,place_id,wikidata_id,datacommons_id,country_code,country_name,iso_3166_1_alpha_2,iso_3166_1_alpha_3,aggregation_level,new_confirmed,new_deceased,cumulative_confirmed,cumulative_deceased,cumulative_tested,new_persons_vaccinated,cumulative_persons_vaccinated,new_persons_fully_vaccinated,cumulative_persons_fully_vaccinated,new_vaccine_doses_administered,cumulative_vaccine_doses_administered,population,population_male,population_female,population_rural,population_urban,population_density,human_development_index,population_age_00_09,population_age_10_19,population_age_20_29,population_age_30_39,population_age_40_49,population_age_50_59,population_age_60_69,population_age_70_79,population_age_80_and_older,gdp_usd,gdp_per_capita_usd,openstreetmap_id,latitude,longitude,area_sq_km,smoking_prevalence,diabetes_prevalence,infant_mortality_rate,nurses_per_1000,physicians_per_1000,health_expenditure_usd,out_of_pocket_health_expenditure_usd,school_closing,workplace_closing,cancel_public_events,restrictions_on_gatherings,public_transport_closing,stay_at_home_requirements,restrictions_on_internal_movement,international_travel_controls,income_support,debt_relief,fiscal_measures,international_support,public_information_campaigns,testing_policy,contact_tracing,emergency_investment_in_healthcare,investment_in_vaccines,facial_coverings,vaccination_policy,stringency_index,average_temperature_celsius,minimum_temperature_celsius,maximum_temperature_celsius,rainfall_mm,snowfall_mm,dew_point,relative_humidity,new_tested,population_largest_city,population_clustered,human_capital_index,area_rural_sq_km,area_urban_sq_km,life_expectancy,adult_male_mortality_rate,adult_female_mortality_rate,pollution_mortality_rate,comorbidity_mortality_rate,mobility_retail_and_recreation,mobility_grocery_and_pharmacy,mobility_parks,mobility_transit_stations,mobility_workplaces,mobility_residential,hospital_beds_per_1000,subregion1_code,subregion1_name,new_recovered,cumulative_recovered,elevation_m,new_hospitalized_patients,cumulative_hospitalized_patients,new_intensive_care_patients,cumulative_intensive_care_patients,new_confirmed_age_0,new_confirmed_age_1,new_confirmed_age_2,new_confirmed_age_3,new_confirmed_age_4,new_confirmed_age_5,new_confirmed_age_6,new_confirmed_age_7,new_confirmed_age_8,new_confirmed_age_9,cumulative_confirmed_age_0,cumulative_confirmed_age_1,cumulative_confirmed_age_2,cumulative_confirmed_age_3,cumulative_confirmed_age_4,cumulative_confirmed_age_5,cumulative_confirmed_age_6,cumulative_confirmed_age_7,cumulative_confirmed_age_8,cumulative_confirmed_age_9,new_deceased_age_0,new_deceased_age_1,new_deceased_age_2,new_deceased_age_3,new_deceased_age_4,new_deceased_age_5,new_deceased_age_6,new_deceased_age_7,new_deceased_age_8,new_deceased_age_9,cumulative_deceased_age_0,cumulative_deceased_age_1,cumulative_deceased_age_2,cumulative_deceased_age_3,cumulative_deceased_age_4,cumulative_deceased_age_5,cumulative_deceased_age_6,cumulative_deceased_age_7,cumulative_deceased_age_8,cumulative_deceased_age_9,new_tested_age_0,new_tested_age_1,new_tested_age_2,new_tested_age_3,new_tested_age_4,new_tested_age_5,new_tested_age_6,new_tested_age_7,new_tested_age_8,new_tested_age_9,cumulative_tested_age_0,cumulative_tested_age_1,cumulative_tested_age_2,cumulative_tested_age_3,cumulative_tested_age_4,cumulative_tested_age_5,cumulative_tested_age_6,cumulative_tested_age_7,cumulative_tested_age_8,cumulative_tested_age_9,new_hospitalized_patients_age_0,new_hospitalized_patients_age_1,new_hospitalized_patients_age_2,new_hospitalized_patients_age_3,new_hospitalized_patients_age_4,new_hospitalized_patients_age_5,new_hospitalized_patients_age_6,new_hospitalized_patients_age_7,new_hospitalized_patients_age_8,new_hospitalized_patients_age_9,cumulative_hospitalized_patients_age_0,cumulative_hospitalized_patients_age_1,cumulative_hospitalized_patients_age_2,cumulative_hospitalized_patients_age_3,cumulative_hospitalized_patients_age_4,cumulative_hospitalized_patients_age_5,cumulative_hospitalized_patients_age_6,cumulative_hospitalized_patients_age_7,cumulative_hospitalized_patients_age_8,cumulative_hospitalized_patients_age_9,new_intensive_care_patients_age_0,new_intensive_care_patients_age_1,new_intensive_care_patients_age_2,new_intensive_care_patients_age_3,new_intensive_care_patients_age_4,new_intensive_care_patients_age_5,new_intensive_care_patients_age_6,new_intensive_care_patients_age_7,new_intensive_care_patients_age_8,new_intensive_care_patients_age_9,cumulative_intensive_care_patients_age_0,cumulative_intensive_care_patients_age_1,cumulative_intensive_care_patients_age_2,cumulative_intensive_care_patients_age_3,cumulative_intensive_care_patients_age_4,cumulative_intensive_care_patients_age_5,cumulative_intensive_care_patients_age_6,cumulative_intensive_care_patients_age_7,cumulative_intensive_care_patients_age_8,cumulative_intensive_care_patients_age_9,age_bin_0,age_bin_1,age_bin_2,age_bin_3,age_bin_4,age_bin_5,age_bin_6,age_bin_7,age_bin_8,age_bin_9,new_confirmed_male,new_confirmed_female,cumulative_confirmed_male,cumulative_confirmed_female,new_deceased_male,new_deceased_female,cumulative_deceased_male,cumulative_deceased_female,new_tested_male,new_tested_female,cumulative_tested_male,cumulative_tested_female,new_hospitalized_patients_male,new_hospitalized_patients_female,cumulative_hospitalized_patients_male,cumulative_hospitalized_patients_female,new_intensive_care_patients_male,new_intensive_care_patients_female,cumulative_intensive_care_patients_male,cumulative_intensive_care_patients_female,subregion2_code,subregion2_name,current_hospitalized_patients,current_intensive_care_patients,current_ventilator_patients,search_trends_abdominal_obesity,search_trends_abdominal_pain,search_trends_acne,search_trends_actinic_keratosis,search_trends_acute_bronchitis,search_trends_adrenal_crisis,search_trends_ageusia,search_trends_alcoholism,search_trends_allergic_conjunctivitis,search_trends_allergy,search_trends_amblyopia,search_trends_amenorrhea,search_trends_amnesia,search_trends_anal_fissure,search_trends_anaphylaxis,search_trends_anemia,search_trends_angina_pectoris,search_trends_angioedema,search_trends_angular_cheilitis,search_trends_anosmia,search_trends_anxiety,search_trends_aphasia,search_trends_aphonia,search_trends_apnea,search_trends_arthralgia,search_trends_arthritis,search_trends_ascites,search_trends_asperger_syndrome,search_trends_asphyxia,search_trends_asthma,search_trends_astigmatism,search_trends_ataxia,search_trends_atheroma,search_trends_attention_deficit_hyperactivity_disorder,search_trends_auditory_hallucination,search_trends_autoimmune_disease,search_trends_avoidant_personality_disorder,search_trends_back_pain,search_trends_bacterial_vaginosis,search_trends_balance_disorder,search_trends_beaus_lines,search_trends_bells_palsy,search_trends_biliary_colic,search_trends_binge_eating,search_trends_bleeding,search_trends_bleeding_on_probing,search_trends_blepharospasm,search_trends_bloating,search_trends_blood_in_stool,search_trends_blurred_vision,search_trends_blushing,search_trends_boil,search_trends_bone_fracture,search_trends_bone_tumor,search_trends_bowel_obstruction,search_trends_bradycardia,search_trends_braxton_hicks_contractions,search_trends_breakthrough_bleeding,search_trends_breast_pain,search_trends_bronchitis,search_trends_bruise,search_trends_bruxism,search_trends_bunion,search_trends_burn,search_trends_burning_chest_pain,search_trends_burning_mouth_syndrome,search_trends_candidiasis,search_trends_canker_sore,search_trends_cardiac_arrest,search_trends_carpal_tunnel_syndrome,search_trends_cataplexy,search_trends_cataract,search_trends_chancre,search_trends_cheilitis,search_trends_chest_pain,search_trends_chills,search_trends_chorea,search_trends_chronic_pain,search_trends_cirrhosis,search_trends_cleft_lip_and_cleft_palate,search_trends_clouding_of_consciousness,search_trends_cluster_headache,search_trends_colitis,search_trends_coma,search_trends_common_cold,search_trends_compulsive_behavior,search_trends_compulsive_hoarding,search_trends_confusion,search_trends_congenital_heart_defect,search_trends_conjunctivitis,search_trends_constipation,search_trends_convulsion,search_trends_cough,search_trends_crackles,search_trends_cramp,search_trends_crepitus,search_trends_croup,search_trends_cyanosis,search_trends_dandruff,search_trends_delayed_onset_muscle_soreness,search_trends_dementia,search_trends_dentin_hypersensitivity,search_trends_depersonalization,search_trends_depression,search_trends_dermatitis,search_trends_desquamation,search_trends_developmental_disability,search_trends_diabetes,search_trends_diabetic_ketoacidosis,search_trends_diarrhea,search_trends_dizziness,search_trends_dry_eye_syndrome,search_trends_dysautonomia,search_trends_dysgeusia,search_trends_dysmenorrhea,search_trends_dyspareunia,search_trends_dysphagia,search_trends_dysphoria,search_trends_dystonia,search_trends_dysuria,search_trends_ear_pain,search_trends_eczema,search_trends_edema,search_trends_encephalitis,search_trends_encephalopathy,search_trends_epidermoid_cyst,search_trends_epilepsy,search_trends_epiphora,search_trends_erectile_dysfunction,search_trends_erythema,search_trends_erythema_chronicum_migrans,search_trends_esophagitis,search_trends_excessive_daytime_sleepiness,search_trends_eye_pain,search_trends_eye_strain,search_trends_facial_nerve_paralysis,search_trends_facial_swelling,search_trends_fasciculation,search_trends_fatigue,search_trends_fatty_liver_disease,search_trends_fecal_incontinence,search_trends_fever,search_trends_fibrillation,search_trends_fibrocystic_breast_changes,search_trends_fibromyalgia,search_trends_flatulence,search_trends_floater,search_trends_focal_seizure,search_trends_folate_deficiency,search_trends_food_craving,search_trends_food_intolerance,search_trends_frequent_urination,search_trends_gastroesophageal_reflux_disease,search_trends_gastroparesis,search_trends_generalized_anxiety_disorder,search_trends_genital_wart,search_trends_gingival_recession,search_trends_gingivitis,search_trends_globus_pharyngis,search_trends_goitre,search_trends_gout,search_trends_grandiosity,search_trends_granuloma,search_trends_guilt,search_trends_hair_loss,search_trends_halitosis,search_trends_hay_fever,search_trends_headache,search_trends_heart_arrhythmia,search_trends_heart_murmur,search_trends_heartburn,search_trends_hematochezia,search_trends_hematoma,search_trends_hematuria,search_trends_hemolysis,search_trends_hemoptysis,search_trends_hemorrhoids,search_trends_hepatic_encephalopathy,search_trends_hepatitis,search_trends_hepatotoxicity,search_trends_hiccup,search_trends_hip_pain,search_trends_hives,search_trends_hot_flash,search_trends_hydrocephalus,search_trends_hypercalcaemia,search_trends_hypercapnia,search_trends_hypercholesterolemia,search_trends_hyperemesis_gravidarum,search_trends_hyperglycemia,search_trends_hyperhidrosis,search_trends_hyperkalemia,search_trends_hyperlipidemia,search_trends_hypermobility,search_trends_hyperpigmentation,search_trends_hypersomnia,search_trends_hypertension,search_trends_hyperthermia,search_trends_hyperthyroidism,search_trends_hypertriglyceridemia,search_trends_hypertrophy,search_trends_hyperventilation,search_trends_hypocalcaemia,search_trends_hypochondriasis,search_trends_hypoglycemia,search_trends_hypogonadism,search_trends_hypokalemia,search_trends_hypomania,search_trends_hyponatremia,search_trends_hypotension,search_trends_hypothyroidism,search_trends_hypoxemia,search_trends_hypoxia,search_trends_impetigo,search_trends_implantation_bleeding,search_trends_impulsivity,search_trends_indigestion,search_trends_infection,search_trends_inflammation,search_trends_inflammatory_bowel_disease,search_trends_ingrown_hair,search_trends_insomnia,search_trends_insulin_resistance,search_trends_intermenstrual_bleeding,search_trends_intracranial_pressure,search_trends_iron_deficiency,search_trends_irregular_menstruation,search_trends_itch,search_trends_jaundice,search_trends_kidney_failure,search_trends_kidney_stone,search_trends_knee_pain,search_trends_kyphosis,search_trends_lactose_intolerance,search_trends_laryngitis,search_trends_leg_cramps,search_trends_lesion,search_trends_leukorrhea,search_trends_lightheadedness,search_trends_low_back_pain,search_trends_low_grade_fever,search_trends_lymphedema,search_trends_major_depressive_disorder,search_trends_malabsorption,search_trends_male_infertility,search_trends_manic_disorder,search_trends_melasma,search_trends_melena,search_trends_meningitis,search_trends_menorrhagia,search_trends_middle_back_pain,search_trends_migraine,search_trends_milium,search_trends_mitral_insufficiency,search_trends_mood_disorder,search_trends_mood_swing,search_trends_morning_sickness,search_trends_motion_sickness,search_trends_mouth_ulcer,search_trends_muscle_atrophy,search_trends_muscle_weakness,search_trends_myalgia,search_trends_mydriasis,search_trends_myocardial_infarction,search_trends_myoclonus,search_trends_nasal_congestion,search_trends_nasal_polyp,search_trends_nausea,search_trends_neck_mass,search_trends_neck_pain,search_trends_neonatal_jaundice,search_trends_nerve_injury,search_trends_neuralgia,search_trends_neutropenia,search_trends_night_sweats,search_trends_night_terror,search_trends_nocturnal_enuresis,search_trends_nodule,search_trends_nosebleed,search_trends_nystagmus,search_trends_obesity,search_trends_onychorrhexis,search_trends_oral_candidiasis,search_trends_orthostatic_hypotension,search_trends_osteopenia,search_trends_osteophyte,search_trends_osteoporosis,search_trends_otitis,search_trends_otitis_externa,search_trends_otitis_media,search_trends_pain,search_trends_palpitations,search_trends_pancreatitis,search_trends_panic_attack,search_trends_papule,search_trends_paranoia,search_trends_paresthesia,search_trends_pelvic_inflammatory_disease,search_trends_pericarditis,search_trends_periodontal_disease,search_trends_periorbital_puffiness,search_trends_peripheral_neuropathy,search_trends_perspiration,search_trends_petechia,search_trends_phlegm,search_trends_photodermatitis,search_trends_photophobia,search_trends_photopsia,search_trends_pleural_effusion,search_trends_pleurisy,search_trends_pneumonia,search_trends_podalgia,search_trends_polycythemia,search_trends_polydipsia,search_trends_polyneuropathy,search_trends_polyuria,search_trends_poor_posture,search_trends_post_nasal_drip,search_trends_postural_orthostatic_tachycardia_syndrome,search_trends_prediabetes,search_trends_proteinuria,search_trends_pruritus_ani,search_trends_psychosis,search_trends_ptosis,search_trends_pulmonary_edema,search_trends_pulmonary_hypertension,search_trends_purpura,search_trends_pus,search_trends_pyelonephritis,search_trends_radiculopathy,search_trends_rectal_pain,search_trends_rectal_prolapse,search_trends_red_eye,search_trends_renal_colic,search_trends_restless_legs_syndrome,search_trends_rheum,search_trends_rhinitis,search_trends_rhinorrhea,search_trends_rosacea,search_trends_round_ligament_pain,search_trends_rumination,search_trends_scar,search_trends_sciatica,search_trends_scoliosis,search_trends_seborrheic_dermatitis,search_trends_self_harm,search_trends_sensitivity_to_sound,search_trends_sexual_dysfunction,search_trends_shallow_breathing,search_trends_sharp_pain,search_trends_shivering,search_trends_shortness_of_breath,search_trends_shyness,search_trends_sinusitis,search_trends_skin_condition,search_trends_skin_rash,search_trends_skin_tag,search_trends_skin_ulcer,search_trends_sleep_apnea,search_trends_sleep_deprivation,search_trends_sleep_disorder,search_trends_snoring,search_trends_sore_throat,search_trends_spasticity,search_trends_splenomegaly,search_trends_sputum,search_trends_stomach_rumble,search_trends_strabismus,search_trends_stretch_marks,search_trends_stridor,search_trends_stroke,search_trends_stuttering,search_trends_subdural_hematoma,search_trends_suicidal_ideation,search_trends_swelling,search_trends_swollen_feet,search_trends_swollen_lymph_nodes,search_trends_syncope,search_trends_tachycardia,search_trends_tachypnea,search_trends_telangiectasia,search_trends_tenderness,search_trends_testicular_pain,search_trends_throat_irritation,search_trends_thrombocytopenia,search_trends_thyroid_nodule,search_trends_tic,search_trends_tinnitus,search_trends_tonsillitis,search_trends_toothache,search_trends_tremor,search_trends_trichoptilosis,search_trends_tumor,search_trends_type_2_diabetes,search_trends_unconsciousness,search_trends_underweight,search_trends_upper_respiratory_tract_infection,search_trends_urethritis,search_trends_urinary_incontinence,search_trends_urinary_tract_infection,search_trends_urinary_urgency,search_trends_uterine_contraction,search_trends_vaginal_bleeding,search_trends_vaginal_discharge,search_trends_vaginitis,search_trends_varicose_veins,search_trends_vasculitis,search_trends_ventricular_fibrillation,search_trends_ventricular_tachycardia,search_trends_vertigo,search_trends_viral_pneumonia,search_trends_visual_acuity,search_trends_vomiting,search_trends_wart,search_trends_water_retention,search_trends_weakness,search_trends_weight_gain,search_trends_wheeze,search_trends_xeroderma,search_trends_xerostomia,search_trends_yawn,new_recovered_age_0,new_recovered_age_1,new_recovered_age_2,new_recovered_age_3,new_recovered_age_4,new_recovered_age_5,new_recovered_age_6,new_recovered_age_7,new_recovered_age_8,new_recovered_age_9,cumulative_recovered_age_0,cumulative_recovered_age_1,cumulative_recovered_age_2,cumulative_recovered_age_3,cumulative_recovered_age_4,cumulative_recovered_age_5,cumulative_recovered_age_6,cumulative_recovered_age_7,cumulative_recovered_age_8,cumulative_recovered_age_9,new_recovered_male,new_recovered_female,cumulative_recovered_male,cumulative_recovered_female,locality_code,locality_name,new_ventilator_patients,cumulative_ventilator_patients,new_persons_vaccinated_pfizer,cumulative_persons_vaccinated_pfizer,new_persons_fully_vaccinated_pfizer,cumulative_persons_fully_vaccinated_pfizer,new_persons_vaccinated_moderna,cumulative_persons_vaccinated_moderna,new_persons_fully_vaccinated_moderna,cumulative_persons_fully_vaccinated_moderna,new_persons_vaccinated_janssen,cumulative_persons_vaccinated_janssen,new_persons_fully_vaccinated_janssen,cumulative_persons_fully_vaccinated_janssen,new_persons_vaccinated_sinovac,total_persons_vaccinated_sinovac,new_vaccine_doses_administered_pfizer,cumulative_vaccine_doses_administered_pfizer,new_vaccine_doses_administered_moderna,cumulative_vaccine_doses_administered_moderna,new_vaccine_doses_administered_janssen,cumulative_vaccine_doses_administered_janssen\\r\\n'\n"
     ]
    }
   ],
   "source": [
    "mmap_file.seek(0)\n",
    "line = mmap_file.readline()\n",
    "print(f\"Line:\\t{line}\")"
   ]
  },
  {
   "cell_type": "code",
   "execution_count": 36,
   "id": "02dd78c0",
   "metadata": {},
   "outputs": [
    {
     "data": {
      "text/plain": [
       "18622"
      ]
     },
     "execution_count": 36,
     "metadata": {},
     "output_type": "execute_result"
    }
   ],
   "source": [
    "mmap_file.seek(0)\n",
    "mmap_file.find(b'\\n')"
   ]
  },
  {
   "cell_type": "code",
   "execution_count": 40,
   "id": "2dca0a81",
   "metadata": {},
   "outputs": [
    {
     "data": {
      "text/plain": [
       "19633"
      ]
     },
     "execution_count": 40,
     "metadata": {},
     "output_type": "execute_result"
    }
   ],
   "source": [
    "mmap_file.seek(18623)\n",
    "mmap_file.find(b'\\n')"
   ]
  },
  {
   "cell_type": "code",
   "execution_count": 41,
   "id": "23a263a5",
   "metadata": {},
   "outputs": [
    {
     "data": {
      "text/plain": [
       "b'AD,2020-01-01,ChIJlfCemC71pRIRkn_qeNc-yQc,Q228,country/AND,AD,Andorra,AD,AND,0,0,0,0,0,,,,,,,,77265,58625,55581,9269,67873,164.394,0.858,9370,12022,10727,12394,21001,20720,14433,8657,4881,3154057987,40886,9407,42.558333,1.555278,470,33.5,7.7,2.7,4.0128,3.3333,4040.786621,1688.12146,0,0,0,0,0,0,0,0,0,0,0,0,0,0,0,0,0,0,0,0.0,4.236111,0.138889,8.208333,3.302,,-0.972222,72.773049,,,,,,,,,,,,,,,,,,,,,,,,,,,,,,,,,,,,,,,,,,,,,,,,,,,,,,,,,,,,,,,,,,,,,,,,,,,,,,,,,,,,,,,,,,,,,,,,,,,,,,,,,,,,,,,,,,,,,,,,,,,,,,,,,,,,,,,,,,,,,,,,,,,,,,,,,,,,,,,,,,,,,,,,,,,,,,,,,,,,,,,,,,,,,,,,,,,,,,,,,,,,,,,,,,,,,,,,,,,,,,,,,,,,,,,,,,,,,,,,,,,,,,,,,,,,,,,,,,,,,,,,,,,,,,,,,,,,,,,,,,,,,,,,,,,,,,,,,,,,,,,,,,,,,,,,,,,,,,,,,,,,,,,,,,,,,,,,,,,,,,,,,,,,,,,,,,,,,,,,,,,,,,,,,,,,,,,,,,,,,,,,,,,,,,,,,,,,,,,,,,,,,,,,,,,,,,,,,,,,,,,,,,,,,,,,,,,,,,,,,,,,,,,,,,,,,,,,,,,,,,,,,,,,,,,,,,,,,,,,,,,,,,,,,,,,,,,,,,,,,,,,,,,,,,,,,,,,,,,,,,,,,,,,,,,,,,,,,,,,,,,,,,,,,,,,,,,,,,,,,,,,,,,,,,,,,,,,,,,,,,,,,,,,,,,,,,,,,,,,,,,,,,,,,,,,,,,,,,,,,,,,,,,,,,,\\r\\n'"
      ]
     },
     "execution_count": 41,
     "metadata": {},
     "output_type": "execute_result"
    }
   ],
   "source": [
    "mmap_file.readline()"
   ]
  },
  {
   "cell_type": "code",
   "execution_count": 42,
   "id": "b6f258b0",
   "metadata": {},
   "outputs": [
    {
     "data": {
      "text/plain": [
       "19634"
      ]
     },
     "execution_count": 42,
     "metadata": {},
     "output_type": "execute_result"
    }
   ],
   "source": [
    "mmap_file.tell()"
   ]
  },
  {
   "cell_type": "code",
   "execution_count": 45,
   "id": "a74ff00b",
   "metadata": {},
   "outputs": [
    {
     "name": "stdout",
     "output_type": "stream",
     "text": [
      "CPU times: user 466 ms, sys: 454 ms, total: 920 ms\n",
      "Wall time: 921 ms\n"
     ]
    },
    {
     "data": {
      "text/plain": [
       "1037303564"
      ]
     },
     "execution_count": 45,
     "metadata": {},
     "output_type": "execute_result"
    }
   ],
   "source": [
    "%%time\n",
    "data = open(\"/Users/mahdi/Downloads/test.csv\", 'r').read()\n",
    "len(data)"
   ]
  },
  {
   "cell_type": "code",
   "execution_count": 46,
   "id": "0bf840f2",
   "metadata": {},
   "outputs": [
    {
     "data": {
      "text/plain": [
       "int"
      ]
     },
     "execution_count": 46,
     "metadata": {},
     "output_type": "execute_result"
    }
   ],
   "source": [
    "type(mmap_file[0])"
   ]
  },
  {
   "cell_type": "code",
   "execution_count": 47,
   "id": "00441bf2",
   "metadata": {},
   "outputs": [
    {
     "data": {
      "text/plain": [
       "'l'"
      ]
     },
     "execution_count": 47,
     "metadata": {},
     "output_type": "execute_result"
    }
   ],
   "source": [
    "chr(mmap_file[0])"
   ]
  },
  {
   "cell_type": "code",
   "execution_count": 48,
   "id": "d6784ec1",
   "metadata": {},
   "outputs": [
    {
     "data": {
      "text/plain": [
       "'o'"
      ]
     },
     "execution_count": 48,
     "metadata": {},
     "output_type": "execute_result"
    }
   ],
   "source": [
    "chr(mmap_file[1])"
   ]
  },
  {
   "cell_type": "code",
   "execution_count": 52,
   "id": "3aac3e2d",
   "metadata": {},
   "outputs": [
    {
     "data": {
      "text/plain": [
       "b'location_key'"
      ]
     },
     "execution_count": 52,
     "metadata": {},
     "output_type": "execute_result"
    }
   ],
   "source": [
    "mmap_file[0:12]\n"
   ]
  },
  {
   "cell_type": "code",
   "execution_count": 54,
   "id": "77d9c950",
   "metadata": {},
   "outputs": [
    {
     "data": {
      "text/plain": [
       "[b'l', b'o', b'c', b'a', b't', b'i', b'o', b'n', b'_', b'k', b'e', b'y']"
      ]
     },
     "execution_count": 54,
     "metadata": {},
     "output_type": "execute_result"
    }
   ],
   "source": [
    "# almost equivalent to \n",
    "[x.to_bytes(1, 'big') for x in mmap_file[0:12]]\n"
   ]
  },
  {
   "cell_type": "code",
   "execution_count": 56,
   "id": "7e84a169",
   "metadata": {},
   "outputs": [
    {
     "data": {
      "text/plain": [
       "b'location_key'"
      ]
     },
     "execution_count": 56,
     "metadata": {},
     "output_type": "execute_result"
    }
   ],
   "source": [
    "# equivalent to \n",
    "b''.join([x.to_bytes(1, 'big') for x in mmap_file[0:12]])"
   ]
  },
  {
   "cell_type": "code",
   "execution_count": 57,
   "id": "8caa67d6",
   "metadata": {},
   "outputs": [
    {
     "data": {
      "text/plain": [
       "'location_key'"
      ]
     },
     "execution_count": 57,
     "metadata": {},
     "output_type": "execute_result"
    }
   ],
   "source": [
    "# almsot equivalent to \n",
    "\"\".join([chr(x) for x in mmap_file[0:12]])"
   ]
  },
  {
   "cell_type": "code",
   "execution_count": 69,
   "id": "410c2b99",
   "metadata": {},
   "outputs": [
    {
     "name": "stdout",
     "output_type": "stream",
     "text": [
      "CPU times: user 204 ms, sys: 66.4 ms, total: 271 ms\n",
      "Wall time: 303 ms\n"
     ]
    },
    {
     "data": {
      "text/plain": [
       "1000000"
      ]
     },
     "execution_count": 69,
     "metadata": {},
     "output_type": "execute_result"
    }
   ],
   "source": [
    "%%time\n",
    "file_handle = open(\"/Users/mahdi/Downloads/test.csv\", 'r+b') \n",
    "total_lines = 0 \n",
    "mmap_file = mmap.mmap(file_handle.fileno(), 0)\n",
    "while mmap_file.readline():\n",
    "    total_lines += 1\n",
    "total_lines        "
   ]
  },
  {
   "cell_type": "code",
   "execution_count": 72,
   "id": "4e983986",
   "metadata": {},
   "outputs": [
    {
     "name": "stdout",
     "output_type": "stream",
     "text": [
      "CPU times: user 840 ms, sys: 261 ms, total: 1.1 s\n",
      "Wall time: 1.1 s\n"
     ]
    },
    {
     "data": {
      "text/plain": [
       "1000000"
      ]
     },
     "execution_count": 72,
     "metadata": {},
     "output_type": "execute_result"
    }
   ],
   "source": [
    "%%time\n",
    "len(open(\"/Users/mahdi/Downloads/test.csv\").readlines())"
   ]
  },
  {
   "cell_type": "code",
   "execution_count": 73,
   "id": "55505ea8",
   "metadata": {},
   "outputs": [
    {
     "name": "stdout",
     "output_type": "stream",
     "text": [
      "CPU times: user 772 ms, sys: 116 ms, total: 888 ms\n",
      "Wall time: 895 ms\n"
     ]
    },
    {
     "data": {
      "text/plain": [
       "1000000"
      ]
     },
     "execution_count": 73,
     "metadata": {},
     "output_type": "execute_result"
    }
   ],
   "source": [
    "%%time\n",
    "total_lines = 0 \n",
    "for line in open(\"/Users/mahdi/Downloads/test.csv\"):\n",
    "    total_lines += 1\n",
    "total_lines    "
   ]
  },
  {
   "cell_type": "code",
   "execution_count": 77,
   "id": "172f94cd",
   "metadata": {},
   "outputs": [
    {
     "name": "stdout",
     "output_type": "stream",
     "text": [
      "101G\t/Users/mahdi/Downloads/aggregated_100.csv\r\n",
      "101G\ttotal\r\n"
     ]
    }
   ],
   "source": [
    "!du -sch ~/Downloads/aggregated_100.csv"
   ]
  },
  {
   "cell_type": "code",
   "execution_count": 78,
   "id": "8a3488ec",
   "metadata": {},
   "outputs": [
    {
     "name": "stdout",
     "output_type": "stream",
     "text": [
      "CPU times: user 232 µs, sys: 986 µs, total: 1.22 ms\n",
      "Wall time: 781 µs\n"
     ]
    }
   ],
   "source": [
    "%%time\n",
    "file_handle = open(\"/Users/mahdi/Downloads/aggregated_100.csv\", 'r+b') \n"
   ]
  },
  {
   "cell_type": "code",
   "execution_count": 80,
   "id": "95ba3dcf",
   "metadata": {},
   "outputs": [
    {
     "name": "stdout",
     "output_type": "stream",
     "text": [
      "CPU times: user 18.3 s, sys: 30.7 s, total: 49 s\n",
      "Wall time: 5min\n"
     ]
    },
    {
     "data": {
      "text/plain": [
       "110911294"
      ]
     },
     "execution_count": 80,
     "metadata": {},
     "output_type": "execute_result"
    }
   ],
   "source": [
    "%%time\n",
    "file_handle = open(\"/Users/mahdi/Downloads/aggregated_100.csv\", 'r+b') \n",
    "while mmap_file.readline():\n",
    "    total_lines += 1\n",
    "total_lines        "
   ]
  }
 ],
 "metadata": {
  "kernelspec": {
   "display_name": "Python 3 (ipykernel)",
   "language": "python",
   "name": "python3"
  },
  "language_info": {
   "codemirror_mode": {
    "name": "ipython",
    "version": 3
   },
   "file_extension": ".py",
   "mimetype": "text/x-python",
   "name": "python",
   "nbconvert_exporter": "python",
   "pygments_lexer": "ipython3",
   "version": "3.8.13"
  }
 },
 "nbformat": 4,
 "nbformat_minor": 5
}
