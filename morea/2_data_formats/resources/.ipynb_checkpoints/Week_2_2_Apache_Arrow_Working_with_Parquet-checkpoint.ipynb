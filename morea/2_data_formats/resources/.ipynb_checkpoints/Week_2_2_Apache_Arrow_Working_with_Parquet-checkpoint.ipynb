{
 "cells": [
  {
   "cell_type": "code",
   "execution_count": null,
   "id": "f29c05ee-8504-4617-a5f5-2f65a9ffeb70",
   "metadata": {},
   "outputs": [],
   "source": [
    "### Introduction to PyArrow\n",
    "\n",
    "* PyArrow is a cross-language development platform for in-memory data.\n",
    "* It serves as a foundation for building high-performance analytics applications.\n",
    "* Developed as a part of the Apache Arrow project, it aims to improve data interoperability.\n",
    "* In-memory Columnar Data Representation: Efficiently represents complex data structures in a memory-optimized way.\n",
    "* Zero-Copy Reads: Enables rapid data sharing between Python and other languages without serialization overhead.\n",
    "* Schema and Metadata Support: Enables rich, self-describing data structures.\n",
    "\n"
   ]
  },
  {
   "cell_type": "code",
   "execution_count": null,
   "id": "6b39a54c-896a-48f3-9929-a9d71ecb232d",
   "metadata": {},
   "outputs": [],
   "source": [
    "### PyArrow and Parquet\n",
    "* PyArrow can read and write Parquet files efficiently and seamlessly/\n",
    "* Column Pruning: Reads only the necessary columns from a Parquet file, reducing I/O.\n",
    "```python\n",
    "import pyarrow.parquet as pq\n",
    "table = pq.read_table('your_file.parquet', columns=['column1', 'column2'])\n",
    "df = table.to_pandas()\n",
    "```\n",
    "* Row Group Filtering: Allows selective reading of row groups based on conditions, optimizing data retrieval.\n",
    "  * Only read the groups in parquet file for which date is in range\n"
   ]
  },
  {
   "cell_type": "code",
   "execution_count": null,
   "id": "cde07db7-0ac8-449b-9926-c424d54e006a",
   "metadata": {},
   "outputs": [],
   "source": []
  },
  {
   "cell_type": "code",
   "execution_count": null,
   "id": "90282bf5-2709-4e4a-bc99-79e5a4028ebb",
   "metadata": {},
   "outputs": [],
   "source": []
  },
  {
   "cell_type": "markdown",
   "id": "65a3ff4d",
   "metadata": {},
   "source": [
    "### Apache Arrow\n",
    "\n",
    "```A critical component of Apache Arrow is its in-memory columnar format, a standardized, language-agnostic specification for representing structured, table-like datasets in-memory. This data format has a rich data type system (including nested and user-defined data types) designed to support the needs of analytic database systems, data frame libraries, and more.```\n",
    "\n",
    "\n",
    "                  Apache arrow Project"
   ]
  },
  {
   "cell_type": "markdown",
   "id": "7bce9250",
   "metadata": {},
   "source": [
    "![](https://blog.djnavarro.net/posts/2021-11-19_starting-apache-arrow-in-r/img/with_arrow.jpg)\n",
    "\n",
    "[picture form](https://blog.djnavarro.net/posts/2021-11-19_starting-apache-arrow-in-r/)"
   ]
  },
  {
   "cell_type": "code",
   "execution_count": 4,
   "id": "e83d462e",
   "metadata": {},
   "outputs": [
    {
     "name": "stdout",
     "output_type": "stream",
     "text": [
      "Collecting pyarrow\n",
      "  Downloading pyarrow-9.0.0-cp38-cp38-macosx_11_0_arm64.whl (21.6 MB)\n",
      "\u001b[K     |████████████████████████████████| 21.6 MB 3.3 MB/s eta 0:00:01\n",
      "\u001b[?25hRequirement already satisfied: numpy>=1.16.6 in /Users/mahdi/miniconda3/envs/s3-next/lib/python3.8/site-packages (from pyarrow) (1.23.0)\n",
      "Installing collected packages: pyarrow\n",
      "Successfully installed pyarrow-9.0.0\n",
      "Note: you may need to restart the kernel to use updated packages.\n"
     ]
    }
   ],
   "source": [
    "# !pip install pyarrow"
   ]
  }
 ],
 "metadata": {
  "kernelspec": {
   "display_name": "Python 3 (ipykernel)",
   "language": "python",
   "name": "python3"
  },
  "language_info": {
   "codemirror_mode": {
    "name": "ipython",
    "version": 3
   },
   "file_extension": ".py",
   "mimetype": "text/x-python",
   "name": "python",
   "nbconvert_exporter": "python",
   "pygments_lexer": "ipython3",
   "version": "3.8.11"
  }
 },
 "nbformat": 4,
 "nbformat_minor": 5
}
