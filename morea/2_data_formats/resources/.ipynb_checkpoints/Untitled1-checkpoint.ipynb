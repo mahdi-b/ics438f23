{
 "cells": [
  {
   "cell_type": "code",
   "execution_count": 9,
   "id": "7a460eee",
   "metadata": {},
   "outputs": [
    {
     "data": {
      "text/html": [
       "<style>\n",
       ".list-inline {list-style: none; margin:0; padding: 0}\n",
       ".list-inline>li {display: inline-block}\n",
       ".list-inline>li:not(:last-child)::after {content: \"\\00b7\"; padding: 0 .5ex}\n",
       "</style>\n",
       "<ol class=list-inline><li>1</li><li>2</li><li>3</li><li>4</li><li>5</li><li>6</li></ol>\n"
      ],
      "text/latex": [
       "\\begin{enumerate*}\n",
       "\\item 1\n",
       "\\item 2\n",
       "\\item 3\n",
       "\\item 4\n",
       "\\item 5\n",
       "\\item 6\n",
       "\\end{enumerate*}\n"
      ],
      "text/markdown": [
       "1. 1\n",
       "2. 2\n",
       "3. 3\n",
       "4. 4\n",
       "5. 5\n",
       "6. 6\n",
       "\n",
       "\n"
      ],
      "text/plain": [
       "[1] 1 2 3 4 5 6"
      ]
     },
     "metadata": {},
     "output_type": "display_data"
    }
   ],
   "source": [
    "1:6"
   ]
  },
  {
   "cell_type": "code",
   "execution_count": 10,
   "id": "f70223e8",
   "metadata": {},
   "outputs": [
    {
     "data": {
      "text/html": [
       "<style>\n",
       ".list-inline {list-style: none; margin:0; padding: 0}\n",
       ".list-inline>li {display: inline-block}\n",
       ".list-inline>li:not(:last-child)::after {content: \"\\00b7\"; padding: 0 .5ex}\n",
       "</style>\n",
       "<ol class=list-inline><li>6</li><li>5</li><li>4</li><li>3</li><li>2</li><li>1</li></ol>\n"
      ],
      "text/latex": [
       "\\begin{enumerate*}\n",
       "\\item 6\n",
       "\\item 5\n",
       "\\item 4\n",
       "\\item 3\n",
       "\\item 2\n",
       "\\item 1\n",
       "\\end{enumerate*}\n"
      ],
      "text/markdown": [
       "1. 6\n",
       "2. 5\n",
       "3. 4\n",
       "4. 3\n",
       "5. 2\n",
       "6. 1\n",
       "\n",
       "\n"
      ],
      "text/plain": [
       "[1] 6 5 4 3 2 1"
      ]
     },
     "metadata": {},
     "output_type": "display_data"
    }
   ],
   "source": [
    "6:1"
   ]
  },
  {
   "cell_type": "code",
   "execution_count": 11,
   "id": "debbdb41",
   "metadata": {},
   "outputs": [],
   "source": [
    "test_matrix = matrix(c(1,2,3,4,5,6,7,8,9,10,11,12), nrow = 3)"
   ]
  },
  {
   "cell_type": "code",
   "execution_count": 14,
   "id": "14a92b6f",
   "metadata": {},
   "outputs": [
    {
     "data": {
      "text/html": [
       "<table class=\"dataframe\">\n",
       "<caption>A matrix: 3 × 2 of type dbl</caption>\n",
       "<tbody>\n",
       "\t<tr><td>4</td><td>7</td></tr>\n",
       "\t<tr><td>5</td><td>8</td></tr>\n",
       "\t<tr><td>6</td><td>9</td></tr>\n",
       "</tbody>\n",
       "</table>\n"
      ],
      "text/latex": [
       "A matrix: 3 × 2 of type dbl\n",
       "\\begin{tabular}{ll}\n",
       "\t 4 & 7\\\\\n",
       "\t 5 & 8\\\\\n",
       "\t 6 & 9\\\\\n",
       "\\end{tabular}\n"
      ],
      "text/markdown": [
       "\n",
       "A matrix: 3 × 2 of type dbl\n",
       "\n",
       "| 4 | 7 |\n",
       "| 5 | 8 |\n",
       "| 6 | 9 |\n",
       "\n"
      ],
      "text/plain": [
       "     [,1] [,2]\n",
       "[1,] 4    7   \n",
       "[2,] 5    8   \n",
       "[3,] 6    9   "
      ]
     },
     "metadata": {},
     "output_type": "display_data"
    }
   ],
   "source": [
    "test_matrix[c(1,2,3), c(2,3)] "
   ]
  },
  {
   "cell_type": "code",
   "execution_count": 15,
   "id": "936d40a0",
   "metadata": {},
   "outputs": [
    {
     "data": {
      "text/html": [
       "<table class=\"dataframe\">\n",
       "<caption>A matrix: 3 × 2 of type dbl</caption>\n",
       "<tbody>\n",
       "\t<tr><td>4</td><td>7</td></tr>\n",
       "\t<tr><td>5</td><td>8</td></tr>\n",
       "\t<tr><td>6</td><td>9</td></tr>\n",
       "</tbody>\n",
       "</table>\n"
      ],
      "text/latex": [
       "A matrix: 3 × 2 of type dbl\n",
       "\\begin{tabular}{ll}\n",
       "\t 4 & 7\\\\\n",
       "\t 5 & 8\\\\\n",
       "\t 6 & 9\\\\\n",
       "\\end{tabular}\n"
      ],
      "text/markdown": [
       "\n",
       "A matrix: 3 × 2 of type dbl\n",
       "\n",
       "| 4 | 7 |\n",
       "| 5 | 8 |\n",
       "| 6 | 9 |\n",
       "\n"
      ],
      "text/plain": [
       "     [,1] [,2]\n",
       "[1,] 4    7   \n",
       "[2,] 5    8   \n",
       "[3,] 6    9   "
      ]
     },
     "metadata": {},
     "output_type": "display_data"
    }
   ],
   "source": [
    "test_matrix[c(1:3), c(2:3)] "
   ]
  },
  {
   "cell_type": "code",
   "execution_count": 16,
   "id": "896651ac",
   "metadata": {},
   "outputs": [],
   "source": [
    "test_matrix = matrix(1:6 , ncol = 3)"
   ]
  },
  {
   "cell_type": "code",
   "execution_count": 17,
   "id": "5b31d11c",
   "metadata": {},
   "outputs": [
    {
     "data": {
      "text/html": [
       "<table class=\"dataframe\">\n",
       "<caption>A matrix: 2 × 3 of type int</caption>\n",
       "<tbody>\n",
       "\t<tr><td>1</td><td>3</td><td>5</td></tr>\n",
       "\t<tr><td>2</td><td>4</td><td>6</td></tr>\n",
       "</tbody>\n",
       "</table>\n"
      ],
      "text/latex": [
       "A matrix: 2 × 3 of type int\n",
       "\\begin{tabular}{lll}\n",
       "\t 1 & 3 & 5\\\\\n",
       "\t 2 & 4 & 6\\\\\n",
       "\\end{tabular}\n"
      ],
      "text/markdown": [
       "\n",
       "A matrix: 2 × 3 of type int\n",
       "\n",
       "| 1 | 3 | 5 |\n",
       "| 2 | 4 | 6 |\n",
       "\n"
      ],
      "text/plain": [
       "     [,1] [,2] [,3]\n",
       "[1,] 1    3    5   \n",
       "[2,] 2    4    6   "
      ]
     },
     "metadata": {},
     "output_type": "display_data"
    }
   ],
   "source": [
    "test_matrix"
   ]
  },
  {
   "cell_type": "code",
   "execution_count": 18,
   "id": "9b5f59cb",
   "metadata": {},
   "outputs": [],
   "source": [
    "rownames(test_matrix) = c(\"HIMB\", \"Paiko\")"
   ]
  },
  {
   "cell_type": "code",
   "execution_count": 19,
   "id": "446a5a7e",
   "metadata": {},
   "outputs": [
    {
     "data": {
      "text/html": [
       "<table class=\"dataframe\">\n",
       "<caption>A matrix: 2 × 3 of type int</caption>\n",
       "<tbody>\n",
       "\t<tr><th scope=row>HIMB</th><td>1</td><td>3</td><td>5</td></tr>\n",
       "\t<tr><th scope=row>Paiko</th><td>2</td><td>4</td><td>6</td></tr>\n",
       "</tbody>\n",
       "</table>\n"
      ],
      "text/latex": [
       "A matrix: 2 × 3 of type int\n",
       "\\begin{tabular}{r|lll}\n",
       "\tHIMB & 1 & 3 & 5\\\\\n",
       "\tPaiko & 2 & 4 & 6\\\\\n",
       "\\end{tabular}\n"
      ],
      "text/markdown": [
       "\n",
       "A matrix: 2 × 3 of type int\n",
       "\n",
       "| HIMB | 1 | 3 | 5 |\n",
       "| Paiko | 2 | 4 | 6 |\n",
       "\n"
      ],
      "text/plain": [
       "      [,1] [,2] [,3]\n",
       "HIMB  1    3    5   \n",
       "Paiko 2    4    6   "
      ]
     },
     "metadata": {},
     "output_type": "display_data"
    }
   ],
   "source": [
    "test_matrix"
   ]
  },
  {
   "cell_type": "code",
   "execution_count": 20,
   "id": "36872f90",
   "metadata": {},
   "outputs": [
    {
     "data": {
      "text/html": [
       "<strong>HIMB:</strong> 3"
      ],
      "text/latex": [
       "\\textbf{HIMB:} 3"
      ],
      "text/markdown": [
       "**HIMB:** 3"
      ],
      "text/plain": [
       "HIMB \n",
       "   3 "
      ]
     },
     "metadata": {},
     "output_type": "display_data"
    }
   ],
   "source": [
    "test_matrix[\"HIMB\", 2] "
   ]
  },
  {
   "cell_type": "code",
   "execution_count": 22,
   "id": "bb7707fe",
   "metadata": {},
   "outputs": [],
   "source": [
    "colnames(test_matrix) = c(\"Burk\", \"ecoli\", \"vibrio\")"
   ]
  },
  {
   "cell_type": "code",
   "execution_count": 23,
   "id": "9283d387",
   "metadata": {},
   "outputs": [
    {
     "data": {
      "text/html": [
       "<table class=\"dataframe\">\n",
       "<caption>A matrix: 2 × 3 of type int</caption>\n",
       "<thead>\n",
       "\t<tr><th></th><th scope=col>Burk</th><th scope=col>ecoli</th><th scope=col>vibrio</th></tr>\n",
       "</thead>\n",
       "<tbody>\n",
       "\t<tr><th scope=row>HIMB</th><td>1</td><td>3</td><td>5</td></tr>\n",
       "\t<tr><th scope=row>Paiko</th><td>2</td><td>4</td><td>6</td></tr>\n",
       "</tbody>\n",
       "</table>\n"
      ],
      "text/latex": [
       "A matrix: 2 × 3 of type int\n",
       "\\begin{tabular}{r|lll}\n",
       "  & Burk & ecoli & vibrio\\\\\n",
       "\\hline\n",
       "\tHIMB & 1 & 3 & 5\\\\\n",
       "\tPaiko & 2 & 4 & 6\\\\\n",
       "\\end{tabular}\n"
      ],
      "text/markdown": [
       "\n",
       "A matrix: 2 × 3 of type int\n",
       "\n",
       "| <!--/--> | Burk | ecoli | vibrio |\n",
       "|---|---|---|---|\n",
       "| HIMB | 1 | 3 | 5 |\n",
       "| Paiko | 2 | 4 | 6 |\n",
       "\n"
      ],
      "text/plain": [
       "      Burk ecoli vibrio\n",
       "HIMB  1    3     5     \n",
       "Paiko 2    4     6     "
      ]
     },
     "metadata": {},
     "output_type": "display_data"
    }
   ],
   "source": [
    "test_matrix"
   ]
  },
  {
   "cell_type": "code",
   "execution_count": 24,
   "id": "64ef6191",
   "metadata": {},
   "outputs": [
    {
     "data": {
      "text/html": [
       "3"
      ],
      "text/latex": [
       "3"
      ],
      "text/markdown": [
       "3"
      ],
      "text/plain": [
       "[1] 3"
      ]
     },
     "metadata": {},
     "output_type": "display_data"
    }
   ],
   "source": [
    "test_matrix[\"HIMB\", \"ecoli\"]"
   ]
  },
  {
   "cell_type": "code",
   "execution_count": 25,
   "id": "5c43225d",
   "metadata": {},
   "outputs": [
    {
     "data": {
      "text/html": [
       "3"
      ],
      "text/latex": [
       "3"
      ],
      "text/markdown": [
       "3"
      ],
      "text/plain": [
       "[1] 3"
      ]
     },
     "metadata": {},
     "output_type": "display_data"
    }
   ],
   "source": [
    "test_matrix[1, 2]"
   ]
  },
  {
   "cell_type": "code",
   "execution_count": 26,
   "id": "e3f871aa",
   "metadata": {},
   "outputs": [],
   "source": [
    "col_1 = c(1, 2)\n",
    "\n",
    "col_2 = c(3, 4)\n",
    "\n",
    "col_3 = c(3, 5)\n",
    "\n"
   ]
  },
  {
   "cell_type": "code",
   "execution_count": 27,
   "id": "1c1a6ee8",
   "metadata": {},
   "outputs": [],
   "source": [
    "my_col_matrix <- cbind(col_1, col_2, col_3)"
   ]
  },
  {
   "cell_type": "code",
   "execution_count": 28,
   "id": "05ae22a9",
   "metadata": {},
   "outputs": [
    {
     "data": {
      "text/html": [
       "<table class=\"dataframe\">\n",
       "<caption>A matrix: 2 × 3 of type dbl</caption>\n",
       "<thead>\n",
       "\t<tr><th scope=col>col_1</th><th scope=col>col_2</th><th scope=col>col_3</th></tr>\n",
       "</thead>\n",
       "<tbody>\n",
       "\t<tr><td>1</td><td>3</td><td>3</td></tr>\n",
       "\t<tr><td>2</td><td>4</td><td>5</td></tr>\n",
       "</tbody>\n",
       "</table>\n"
      ],
      "text/latex": [
       "A matrix: 2 × 3 of type dbl\n",
       "\\begin{tabular}{lll}\n",
       " col\\_1 & col\\_2 & col\\_3\\\\\n",
       "\\hline\n",
       "\t 1 & 3 & 3\\\\\n",
       "\t 2 & 4 & 5\\\\\n",
       "\\end{tabular}\n"
      ],
      "text/markdown": [
       "\n",
       "A matrix: 2 × 3 of type dbl\n",
       "\n",
       "| col_1 | col_2 | col_3 |\n",
       "|---|---|---|\n",
       "| 1 | 3 | 3 |\n",
       "| 2 | 4 | 5 |\n",
       "\n"
      ],
      "text/plain": [
       "     col_1 col_2 col_3\n",
       "[1,] 1     3     3    \n",
       "[2,] 2     4     5    "
      ]
     },
     "metadata": {},
     "output_type": "display_data"
    }
   ],
   "source": [
    "my_col_matrix"
   ]
  },
  {
   "cell_type": "code",
   "execution_count": 29,
   "id": "871a4fb3",
   "metadata": {},
   "outputs": [],
   "source": [
    "row_1 = c(1, 2, 3)\n",
    "\n",
    "row_2 = c(4, 5, 6)"
   ]
  },
  {
   "cell_type": "code",
   "execution_count": 30,
   "id": "554612a4",
   "metadata": {},
   "outputs": [],
   "source": [
    "my_row_matrix <- rbind(row_1, row_2)"
   ]
  },
  {
   "cell_type": "code",
   "execution_count": 31,
   "id": "975c7019",
   "metadata": {},
   "outputs": [
    {
     "data": {
      "text/html": [
       "<table class=\"dataframe\">\n",
       "<caption>A matrix: 2 × 3 of type dbl</caption>\n",
       "<tbody>\n",
       "\t<tr><th scope=row>row_1</th><td>1</td><td>2</td><td>3</td></tr>\n",
       "\t<tr><th scope=row>row_2</th><td>4</td><td>5</td><td>6</td></tr>\n",
       "</tbody>\n",
       "</table>\n"
      ],
      "text/latex": [
       "A matrix: 2 × 3 of type dbl\n",
       "\\begin{tabular}{r|lll}\n",
       "\trow\\_1 & 1 & 2 & 3\\\\\n",
       "\trow\\_2 & 4 & 5 & 6\\\\\n",
       "\\end{tabular}\n"
      ],
      "text/markdown": [
       "\n",
       "A matrix: 2 × 3 of type dbl\n",
       "\n",
       "| row_1 | 1 | 2 | 3 |\n",
       "| row_2 | 4 | 5 | 6 |\n",
       "\n"
      ],
      "text/plain": [
       "      [,1] [,2] [,3]\n",
       "row_1 1    2    3   \n",
       "row_2 4    5    6   "
      ]
     },
     "metadata": {},
     "output_type": "display_data"
    }
   ],
   "source": [
    "my_row_matrix"
   ]
  },
  {
   "cell_type": "code",
   "execution_count": 33,
   "id": "edced373",
   "metadata": {},
   "outputs": [
    {
     "data": {
      "text/html": [
       "<table class=\"dataframe\">\n",
       "<caption>A matrix: 3 × 2 of type int</caption>\n",
       "<tbody>\n",
       "\t<tr><td>1</td><td>4</td></tr>\n",
       "\t<tr><td>2</td><td>5</td></tr>\n",
       "\t<tr><td>3</td><td>6</td></tr>\n",
       "</tbody>\n",
       "</table>\n"
      ],
      "text/latex": [
       "A matrix: 3 × 2 of type int\n",
       "\\begin{tabular}{ll}\n",
       "\t 1 & 4\\\\\n",
       "\t 2 & 5\\\\\n",
       "\t 3 & 6\\\\\n",
       "\\end{tabular}\n"
      ],
      "text/markdown": [
       "\n",
       "A matrix: 3 × 2 of type int\n",
       "\n",
       "| 1 | 4 |\n",
       "| 2 | 5 |\n",
       "| 3 | 6 |\n",
       "\n"
      ],
      "text/plain": [
       "     [,1] [,2]\n",
       "[1,] 1    4   \n",
       "[2,] 2    5   \n",
       "[3,] 3    6   "
      ]
     },
     "metadata": {},
     "output_type": "display_data"
    }
   ],
   "source": [
    "some_matrix"
   ]
  },
  {
   "cell_type": "code",
   "execution_count": null,
   "id": "3e1f3e7f",
   "metadata": {},
   "outputs": [],
   "source": []
  },
  {
   "cell_type": "code",
   "execution_count": null,
   "id": "2ad6117c",
   "metadata": {},
   "outputs": [],
   "source": []
  },
  {
   "cell_type": "code",
   "execution_count": null,
   "id": "2c1551f0",
   "metadata": {},
   "outputs": [],
   "source": []
  }
 ],
 "metadata": {
  "kernelspec": {
   "display_name": "R",
   "language": "R",
   "name": "ir"
  },
  "language_info": {
   "codemirror_mode": "r",
   "file_extension": ".r",
   "mimetype": "text/x-r-source",
   "name": "R",
   "pygments_lexer": "r",
   "version": "4.2.1"
  }
 },
 "nbformat": 4,
 "nbformat_minor": 5
}
